{
 "cells": [
  {
   "cell_type": "code",
   "execution_count": 1,
   "metadata": {
    "id": "43pIOZEmyr_y"
   },
   "outputs": [],
   "source": [
    "from numpy import*"
   ]
  },
  {
   "cell_type": "code",
   "execution_count": 2,
   "metadata": {
    "colab": {
     "base_uri": "https://localhost:8080/"
    },
    "id": "jCQggTzXzBzg",
    "outputId": "24aa2e37-9cf6-46ca-9d61-3aa8bc7fe38c"
   },
   "outputs": [
    {
     "name": "stdout",
     "output_type": "stream",
     "text": [
      "Enter the Size of Array:12\n",
      "Enter The Element :1\n",
      "Enter The Element :1\n",
      "Enter The Element :12\n",
      "Enter The Element :1\n",
      "Enter The Element :1\n",
      "Enter The Element :1\n",
      "Enter The Element :1\n",
      "Enter The Element :11\n",
      "Enter The Element :1\n",
      "Enter The Element :11\n",
      "Enter The Element :1\n",
      "Enter The Element :1\n"
     ]
    }
   ],
   "source": [
    "n = int(input(\"Enter the Size of Array:\"))\n",
    "ar = zeros(n,dtype=int)\n",
    "for i in range(len(ar)):\n",
    "  x = int(input(\"Enter The Element :\"))\n",
    "  ar[i] = x\n"
   ]
  },
  {
   "cell_type": "code",
   "execution_count": 3,
   "metadata": {
    "colab": {
     "base_uri": "https://localhost:8080/"
    },
    "id": "P8g5O3IL1dAp",
    "outputId": "fed73bbd-82ce-4e09-a2d7-0f84d24c5e76"
   },
   "outputs": [
    {
     "name": "stdout",
     "output_type": "stream",
     "text": [
      "[ 1  1 12  1  1  1  1 11  1 11  1  1]\n"
     ]
    }
   ],
   "source": [
    "print(ar)"
   ]
  },
  {
   "cell_type": "markdown",
   "metadata": {
    "id": "LDTuVJHD14G5"
   },
   "source": [
    "# One By One Access the Eleemnt\n"
   ]
  },
  {
   "cell_type": "code",
   "execution_count": 5,
   "metadata": {
    "colab": {
     "base_uri": "https://localhost:8080/"
    },
    "id": "uYE8YRqu3iGI",
    "outputId": "fec8f0e7-74a3-44f8-bb04-61b3ecefd7e8"
   },
   "outputs": [
    {
     "name": "stdout",
     "output_type": "stream",
     "text": [
      "1\n",
      "1\n",
      "12\n",
      "1\n",
      "1\n",
      "1\n",
      "1\n",
      "11\n",
      "1\n",
      "11\n",
      "1\n",
      "1\n"
     ]
    }
   ],
   "source": [
    "for i in range(len(ar)):\n",
    "  print(ar[i])"
   ]
  },
  {
   "cell_type": "code",
   "execution_count": 6,
   "metadata": {
    "id": "_mFSF80N3qzJ"
   },
   "outputs": [
    {
     "name": "stdout",
     "output_type": "stream",
     "text": [
      "1\n",
      "2\n",
      "3\n",
      "4\n",
      "5\n",
      "6\n",
      "7\n",
      "8\n",
      "9\n"
     ]
    }
   ],
   "source": [
    "for i in range(1,10):\n",
    "    print(i)"
   ]
  },
  {
   "cell_type": "code",
   "execution_count": null,
   "metadata": {},
   "outputs": [],
   "source": []
  },
  {
   "cell_type": "code",
   "execution_count": null,
   "metadata": {},
   "outputs": [],
   "source": []
  }
 ],
 "metadata": {
  "colab": {
   "provenance": []
  },
  "kernelspec": {
   "display_name": "Python 3 (ipykernel)",
   "language": "python",
   "name": "python3"
  },
  "language_info": {
   "codemirror_mode": {
    "name": "ipython",
    "version": 3
   },
   "file_extension": ".py",
   "mimetype": "text/x-python",
   "name": "python",
   "nbconvert_exporter": "python",
   "pygments_lexer": "ipython3",
   "version": "3.9.13"
  },
  "vscode": {
   "interpreter": {
    "hash": "31f2aee4e71d21fbe5cf8b01ff0e069b9275f58929596ceb00d14d90e3e16cd6"
   }
  }
 },
 "nbformat": 4,
 "nbformat_minor": 1
}
