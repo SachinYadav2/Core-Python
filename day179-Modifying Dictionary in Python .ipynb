{
 "cells": [
  {
   "cell_type": "markdown",
   "id": "82652e7a",
   "metadata": {},
   "source": [
    "# hm key ke throw value ko modify kr skte h"
   ]
  },
  {
   "cell_type": "code",
   "execution_count": 7,
   "id": "0f8ced92",
   "metadata": {},
   "outputs": [
    {
     "name": "stdout",
     "output_type": "stream",
     "text": [
      "4394317440\n"
     ]
    }
   ],
   "source": [
    "d = {101: \"Sachin\" ,\"Roll\":146}\n",
    "print(id(d))"
   ]
  },
  {
   "cell_type": "code",
   "execution_count": 8,
   "id": "ebc1602c",
   "metadata": {},
   "outputs": [],
   "source": [
    "#Modify using the sqare bracket\n",
    "d[101] = \"Mohan\""
   ]
  },
  {
   "cell_type": "code",
   "execution_count": 9,
   "id": "dbc1902f",
   "metadata": {},
   "outputs": [
    {
     "data": {
      "text/plain": [
       "{101: 'Mohan', 'Roll': 146}"
      ]
     },
     "execution_count": 9,
     "metadata": {},
     "output_type": "execute_result"
    }
   ],
   "source": [
    "d"
   ]
  },
  {
   "cell_type": "code",
   "execution_count": 10,
   "id": "a0154501",
   "metadata": {},
   "outputs": [
    {
     "name": "stdout",
     "output_type": "stream",
     "text": [
      "4394317440\n"
     ]
    }
   ],
   "source": [
    "print(id(d))"
   ]
  },
  {
   "cell_type": "code",
   "execution_count": null,
   "id": "959817d7",
   "metadata": {},
   "outputs": [],
   "source": []
  }
 ],
 "metadata": {
  "kernelspec": {
   "display_name": "Python 3 (ipykernel)",
   "language": "python",
   "name": "python3"
  },
  "language_info": {
   "codemirror_mode": {
    "name": "ipython",
    "version": 3
   },
   "file_extension": ".py",
   "mimetype": "text/x-python",
   "name": "python",
   "nbconvert_exporter": "python",
   "pygments_lexer": "ipython3",
   "version": "3.10.8"
  }
 },
 "nbformat": 4,
 "nbformat_minor": 5
}
