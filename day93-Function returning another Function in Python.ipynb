{
 "cells": [
  {
   "cell_type": "code",
   "execution_count": 2,
   "id": "037d23dc",
   "metadata": {},
   "outputs": [
    {
     "name": "stdout",
     "output_type": "stream",
     "text": [
      "This is Disp Fun:\n",
      "This is show function \n"
     ]
    }
   ],
   "source": [
    "def disp():\n",
    "    def show():\n",
    "        return \"This is show function \"\n",
    "    print(\"This is Disp Fun:\")\n",
    "    return show\n",
    "r_sh = disp()\n",
    "print(r_sh())"
   ]
  },
  {
   "cell_type": "code",
   "execution_count": 4,
   "id": "b15cf82b",
   "metadata": {},
   "outputs": [
    {
     "name": "stdout",
     "output_type": "stream",
     "text": [
      "This is Disp Fun:\n",
      "This is show function \n"
     ]
    }
   ],
   "source": [
    "def disp(sh):\n",
    "    print(\"This is Disp Fun:\")\n",
    "    return sh\n",
    "    \n",
    "def show():\n",
    "        return \"This is show function \"\n",
    "r_sh = disp(show)\n",
    "print(r_sh())"
   ]
  },
  {
   "cell_type": "code",
   "execution_count": null,
   "id": "676d943a",
   "metadata": {},
   "outputs": [],
   "source": []
  }
 ],
 "metadata": {
  "kernelspec": {
   "display_name": "Python 3 (ipykernel)",
   "language": "python",
   "name": "python3"
  },
  "language_info": {
   "codemirror_mode": {
    "name": "ipython",
    "version": 3
   },
   "file_extension": ".py",
   "mimetype": "text/x-python",
   "name": "python",
   "nbconvert_exporter": "python",
   "pygments_lexer": "ipython3",
   "version": "3.9.13"
  }
 },
 "nbformat": 4,
 "nbformat_minor": 5
}
