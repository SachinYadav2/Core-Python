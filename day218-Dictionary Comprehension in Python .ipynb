{
 "cells": [
  {
   "cell_type": "markdown",
   "id": "fd203fe7",
   "metadata": {},
   "source": [
    "# Esme all list comprehenstion and set comprehenstion ke trh concept use hota"
   ]
  },
  {
   "cell_type": "code",
   "execution_count": 5,
   "id": "db9f643c",
   "metadata": {},
   "outputs": [
    {
     "name": "stdout",
     "output_type": "stream",
     "text": [
      "{0: 0, 1: 2, 2: 4, 3: 6, 4: 8, 5: 10, 6: 12, 7: 14, 8: 16, 9: 18}\n"
     ]
    }
   ],
   "source": [
    "dic = {}\n",
    "\n",
    "for i in range(10):\n",
    "    dic[i] = i*2\n",
    "print(dic)\n",
    "    \n",
    "    \n"
   ]
  },
  {
   "cell_type": "code",
   "execution_count": 6,
   "id": "2902ba90",
   "metadata": {},
   "outputs": [
    {
     "data": {
      "text/plain": [
       "{0: 0, 1: 2, 2: 4, 3: 6, 4: 8, 5: 10, 6: 12, 7: 14, 8: 16, 9: 18}"
      ]
     },
     "execution_count": 6,
     "metadata": {},
     "output_type": "execute_result"
    }
   ],
   "source": [
    "dict = {n:n*2 for n in range(10)}\n",
    "dict"
   ]
  },
  {
   "cell_type": "markdown",
   "id": "b42a919e",
   "metadata": {},
   "source": [
    "# If else condition ke sath"
   ]
  },
  {
   "cell_type": "code",
   "execution_count": 7,
   "id": "b33d1b21",
   "metadata": {},
   "outputs": [
    {
     "name": "stdout",
     "output_type": "stream",
     "text": [
      "{0: 0, 2: 4, 4: 8, 6: 12, 8: 16}\n"
     ]
    }
   ],
   "source": [
    "dic = {}\n",
    "\n",
    "for i in range(10):\n",
    "    if i % 2 == 0:\n",
    "        dic[i] = i*2\n",
    "print(dic)\n",
    "    \n",
    "    \n"
   ]
  },
  {
   "cell_type": "code",
   "execution_count": 8,
   "id": "91efc7b6",
   "metadata": {},
   "outputs": [],
   "source": [
    "dict = {n:n*2 for n in range(10) if n%2==0  }\n"
   ]
  },
  {
   "cell_type": "code",
   "execution_count": 9,
   "id": "a5351c01",
   "metadata": {},
   "outputs": [
    {
     "data": {
      "text/plain": [
       "{0: 0, 2: 4, 4: 8, 6: 12, 8: 16}"
      ]
     },
     "execution_count": 9,
     "metadata": {},
     "output_type": "execute_result"
    }
   ],
   "source": [
    "dict"
   ]
  },
  {
   "cell_type": "markdown",
   "id": "1cd0d409",
   "metadata": {},
   "source": [
    "# imp"
   ]
  },
  {
   "cell_type": "code",
   "execution_count": 10,
   "id": "d518c6f4",
   "metadata": {},
   "outputs": [
    {
     "name": "stdout",
     "output_type": "stream",
     "text": [
      "{101: 'Sachin', 102: 'Mohan'}\n"
     ]
    }
   ],
   "source": [
    "lst = [(101,\"Sachin\"), (102,\"Mohan\")]\n",
    "\n",
    "nes = {k:v for k ,v in lst}\n",
    "print(nes)"
   ]
  },
  {
   "cell_type": "code",
   "execution_count": null,
   "id": "400f9e6c",
   "metadata": {},
   "outputs": [],
   "source": []
  }
 ],
 "metadata": {
  "kernelspec": {
   "display_name": "Python 3 (ipykernel)",
   "language": "python",
   "name": "python3"
  },
  "language_info": {
   "codemirror_mode": {
    "name": "ipython",
    "version": 3
   },
   "file_extension": ".py",
   "mimetype": "text/x-python",
   "name": "python",
   "nbconvert_exporter": "python",
   "pygments_lexer": "ipython3",
   "version": "3.10.8"
  }
 },
 "nbformat": 4,
 "nbformat_minor": 5
}
