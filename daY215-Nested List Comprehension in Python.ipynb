{
 "cells": [
  {
   "cell_type": "markdown",
   "id": "ef7157bb",
   "metadata": {},
   "source": [
    "# ESME outere loop and inner loop hota h basically\n",
    "- phle bala loop is inner loop and second loop is called the outer loop\n",
    "- alway outer loop phle run hota then inner"
   ]
  },
  {
   "cell_type": "code",
   "execution_count": 4,
   "id": "1f82747b",
   "metadata": {},
   "outputs": [
    {
     "data": {
      "text/plain": [
       "[[24, 30, 36], [28, 35, 42], [32, 40, 48]]"
      ]
     },
     "execution_count": 4,
     "metadata": {},
     "output_type": "execute_result"
    }
   ],
   "source": [
    "new = [[i*j for i in range(4,7)] for j in range(6,9)]\n",
    "\n",
    "\n",
    "\n",
    "new\n"
   ]
  },
  {
   "cell_type": "code",
   "execution_count": null,
   "id": "4c7aaff0",
   "metadata": {},
   "outputs": [],
   "source": []
  }
 ],
 "metadata": {
  "kernelspec": {
   "display_name": "Python 3 (ipykernel)",
   "language": "python",
   "name": "python3"
  },
  "language_info": {
   "codemirror_mode": {
    "name": "ipython",
    "version": 3
   },
   "file_extension": ".py",
   "mimetype": "text/x-python",
   "name": "python",
   "nbconvert_exporter": "python",
   "pygments_lexer": "ipython3",
   "version": "3.10.8"
  }
 },
 "nbformat": 4,
 "nbformat_minor": 5
}
