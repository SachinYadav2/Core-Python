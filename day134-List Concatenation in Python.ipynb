{
 "cells": [
  {
   "cell_type": "markdown",
   "id": "1e319e82",
   "metadata": {},
   "source": [
    "# We use concationation ke liye + oprator\n",
    "- list1+list2-----"
   ]
  },
  {
   "cell_type": "code",
   "execution_count": 1,
   "id": "b1a842e3",
   "metadata": {},
   "outputs": [],
   "source": [
    "a = [12,13,14,15]\n",
    "b = [\"a\",22,212,\"dsd\"]"
   ]
  },
  {
   "cell_type": "code",
   "execution_count": 2,
   "id": "462b36cc",
   "metadata": {},
   "outputs": [
    {
     "data": {
      "text/plain": [
       "[12, 13, 14, 15, 'a', 22, 212, 'dsd']"
      ]
     },
     "execution_count": 2,
     "metadata": {},
     "output_type": "execute_result"
    }
   ],
   "source": [
    "a+b"
   ]
  },
  {
   "cell_type": "code",
   "execution_count": null,
   "id": "da4b8f11",
   "metadata": {},
   "outputs": [],
   "source": []
  }
 ],
 "metadata": {
  "kernelspec": {
   "display_name": "Python 3 (ipykernel)",
   "language": "python",
   "name": "python3"
  },
  "language_info": {
   "codemirror_mode": {
    "name": "ipython",
    "version": 3
   },
   "file_extension": ".py",
   "mimetype": "text/x-python",
   "name": "python",
   "nbconvert_exporter": "python",
   "pygments_lexer": "ipython3",
   "version": "3.9.13"
  }
 },
 "nbformat": 4,
 "nbformat_minor": 5
}
