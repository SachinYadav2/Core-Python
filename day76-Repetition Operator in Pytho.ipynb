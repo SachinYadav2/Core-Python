{
 "cells": [
  {
   "cell_type": "markdown",
   "id": "8a64f934",
   "metadata": {},
   "source": [
    "# Python Me ham String ho repeat krwa skte by using this *"
   ]
  },
  {
   "cell_type": "code",
   "execution_count": 1,
   "id": "fb67426b",
   "metadata": {},
   "outputs": [
    {
     "name": "stdout",
     "output_type": "stream",
     "text": [
      "HHHHH\n"
     ]
    }
   ],
   "source": [
    "str1 = \"H\"\n",
    "print(str1 * 5)"
   ]
  },
  {
   "cell_type": "code",
   "execution_count": 2,
   "id": "953f85ec",
   "metadata": {},
   "outputs": [
    {
     "data": {
      "text/plain": [
       "'HHHH'"
      ]
     },
     "execution_count": 2,
     "metadata": {},
     "output_type": "execute_result"
    }
   ],
   "source": [
    "\"H\"*4"
   ]
  },
  {
   "cell_type": "code",
   "execution_count": 3,
   "id": "3eb6d270",
   "metadata": {},
   "outputs": [
    {
     "name": "stdout",
     "output_type": "stream",
     "text": [
      "WelWelWelWel\n"
     ]
    }
   ],
   "source": [
    "s = \"Welcome\"\n",
    "print(s[0:3] *4)"
   ]
  },
  {
   "cell_type": "code",
   "execution_count": null,
   "id": "24c4d1a7",
   "metadata": {},
   "outputs": [],
   "source": []
  }
 ],
 "metadata": {
  "kernelspec": {
   "display_name": "Python 3 (ipykernel)",
   "language": "python",
   "name": "python3"
  },
  "language_info": {
   "codemirror_mode": {
    "name": "ipython",
    "version": 3
   },
   "file_extension": ".py",
   "mimetype": "text/x-python",
   "name": "python",
   "nbconvert_exporter": "python",
   "pygments_lexer": "ipython3",
   "version": "3.9.13"
  }
 },
 "nbformat": 4,
 "nbformat_minor": 5
}
