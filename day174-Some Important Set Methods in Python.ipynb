{
 "cells": [
  {
   "cell_type": "markdown",
   "id": "2133a019",
   "metadata": {},
   "source": [
    "# Clear()\n",
    "- es method ka use krke aap kise set ke all element ko remove kr skte ho "
   ]
  },
  {
   "cell_type": "code",
   "execution_count": 1,
   "id": "afb05bc8",
   "metadata": {},
   "outputs": [],
   "source": [
    "a = {12 , 13, 14, 15, 17, 18}\n",
    "a.clear()"
   ]
  },
  {
   "cell_type": "code",
   "execution_count": 2,
   "id": "f3ecc066",
   "metadata": {},
   "outputs": [
    {
     "data": {
      "text/plain": [
       "set()"
      ]
     },
     "execution_count": 2,
     "metadata": {},
     "output_type": "execute_result"
    }
   ],
   "source": [
    "a"
   ]
  },
  {
   "cell_type": "code",
   "execution_count": null,
   "id": "e9c89df1",
   "metadata": {},
   "outputs": [],
   "source": []
  }
 ],
 "metadata": {
  "kernelspec": {
   "display_name": "Python 3 (ipykernel)",
   "language": "python",
   "name": "python3"
  },
  "language_info": {
   "codemirror_mode": {
    "name": "ipython",
    "version": 3
   },
   "file_extension": ".py",
   "mimetype": "text/x-python",
   "name": "python",
   "nbconvert_exporter": "python",
   "pygments_lexer": "ipython3",
   "version": "3.10.8"
  }
 },
 "nbformat": 4,
 "nbformat_minor": 5
}
