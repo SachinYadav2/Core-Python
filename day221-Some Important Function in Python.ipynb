{
 "cells": [
  {
   "cell_type": "markdown",
   "id": "1554d461",
   "metadata": {},
   "source": [
    "# int()\n",
    "# set()\n",
    "# float()\n",
    "# tuple()\n",
    "# str()\n",
    "# dict()"
   ]
  },
  {
   "cell_type": "code",
   "execution_count": 1,
   "id": "8fb9603f",
   "metadata": {},
   "outputs": [
    {
     "name": "stdout",
     "output_type": "stream",
     "text": [
      "12\n"
     ]
    }
   ],
   "source": [
    "a = 12.323\n",
    "print(int(a))"
   ]
  },
  {
   "cell_type": "code",
   "execution_count": 2,
   "id": "9592cf65",
   "metadata": {},
   "outputs": [
    {
     "name": "stdout",
     "output_type": "stream",
     "text": [
      "12.0\n"
     ]
    }
   ],
   "source": [
    "a = 12\n",
    "print(float(a))"
   ]
  },
  {
   "cell_type": "code",
   "execution_count": 3,
   "id": "e345606a",
   "metadata": {},
   "outputs": [
    {
     "name": "stdout",
     "output_type": "stream",
     "text": [
      "sdsd\n"
     ]
    }
   ],
   "source": [
    "a = \"sdsd\"\n",
    "print(str(a))"
   ]
  },
  {
   "cell_type": "code",
   "execution_count": null,
   "id": "faa9b96e",
   "metadata": {},
   "outputs": [],
   "source": []
  }
 ],
 "metadata": {
  "kernelspec": {
   "display_name": "Python 3 (ipykernel)",
   "language": "python",
   "name": "python3"
  },
  "language_info": {
   "codemirror_mode": {
    "name": "ipython",
    "version": 3
   },
   "file_extension": ".py",
   "mimetype": "text/x-python",
   "name": "python",
   "nbconvert_exporter": "python",
   "pygments_lexer": "ipython3",
   "version": "3.10.8"
  }
 },
 "nbformat": 4,
 "nbformat_minor": 5
}
