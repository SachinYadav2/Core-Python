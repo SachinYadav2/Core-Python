{
 "cells": [
  {
   "cell_type": "markdown",
   "metadata": {},
   "source": [
    "# index()\n",
    "- This method is return the index no given element ka\n",
    "- syn-: array_name.index(element)"
   ]
  },
  {
   "cell_type": "code",
   "execution_count": 4,
   "metadata": {},
   "outputs": [
    {
     "name": "stdout",
     "output_type": "stream",
     "text": [
      "Before\n",
      "10\n",
      "12\n",
      "12\n",
      "14\n",
      "15\n",
      "After:\n",
      "10\n",
      "12\n",
      "12\n",
      "14\n",
      "15\n",
      "Jo tumane element upper diya the uskaindex NO: 1\n"
     ]
    }
   ],
   "source": [
    "from array import*\n",
    "\n",
    "stu_roll = array('i',[10 ,12, 12,14,15])\n",
    "print(\"Before\")\n",
    "for item in stu_roll:\n",
    "    print(item)\n",
    "print(\"After:\")\n",
    "#First Occurence ka return krta h\n",
    "re = stu_roll.index(12)\n",
    "\n",
    "for item in stu_roll:\n",
    "    print(item)\n",
    "print('Jo tumane element upper diya the uskaindex NO:',re)\n"
   ]
  },
  {
   "cell_type": "code",
   "execution_count": null,
   "metadata": {},
   "outputs": [],
   "source": []
  },
  {
   "cell_type": "code",
   "execution_count": null,
   "metadata": {},
   "outputs": [],
   "source": []
  }
 ],
 "metadata": {
  "kernelspec": {
   "display_name": "Python 3",
   "language": "python",
   "name": "python3"
  },
  "language_info": {
   "codemirror_mode": {
    "name": "ipython",
    "version": 3
   },
   "file_extension": ".py",
   "mimetype": "text/x-python",
   "name": "python",
   "nbconvert_exporter": "python",
   "pygments_lexer": "ipython3",
   "version": "3.8.5"
  }
 },
 "nbformat": 4,
 "nbformat_minor": 4
}
