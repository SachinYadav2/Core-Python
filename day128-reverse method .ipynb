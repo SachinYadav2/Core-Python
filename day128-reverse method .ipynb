{
 "cells": [
  {
   "cell_type": "markdown",
   "id": "cd4de386",
   "metadata": {},
   "source": [
    "# reverse() \n",
    "- yah method list ke element ko reverse krta h basically "
   ]
  },
  {
   "cell_type": "code",
   "execution_count": 1,
   "id": "76daffb1",
   "metadata": {},
   "outputs": [],
   "source": [
    "a = [10 ,20,30,40]\n",
    "a.reverse()"
   ]
  },
  {
   "cell_type": "code",
   "execution_count": 2,
   "id": "3ff4e695",
   "metadata": {},
   "outputs": [
    {
     "data": {
      "text/plain": [
       "[40, 30, 20, 10]"
      ]
     },
     "execution_count": 2,
     "metadata": {},
     "output_type": "execute_result"
    }
   ],
   "source": [
    "a"
   ]
  },
  {
   "cell_type": "code",
   "execution_count": null,
   "id": "57fe2c0d",
   "metadata": {},
   "outputs": [],
   "source": []
  }
 ],
 "metadata": {
  "kernelspec": {
   "display_name": "Python 3 (ipykernel)",
   "language": "python",
   "name": "python3"
  },
  "language_info": {
   "codemirror_mode": {
    "name": "ipython",
    "version": 3
   },
   "file_extension": ".py",
   "mimetype": "text/x-python",
   "name": "python",
   "nbconvert_exporter": "python",
   "pygments_lexer": "ipython3",
   "version": "3.9.13"
  }
 },
 "nbformat": 4,
 "nbformat_minor": 5
}
