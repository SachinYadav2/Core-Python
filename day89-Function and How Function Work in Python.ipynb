{
 "cells": [
  {
   "cell_type": "markdown",
   "id": "18d44d87",
   "metadata": {},
   "source": [
    "## Write one use many time\n",
    "- 1 Way"
   ]
  },
  {
   "cell_type": "code",
   "execution_count": 2,
   "id": "a05d6b29",
   "metadata": {},
   "outputs": [],
   "source": [
    "def disp():\n",
    "    st = \"Hello Word\"\n",
    "    print(st)\n",
    "    \n",
    "# code run Ho gya  but no response"
   ]
  },
  {
   "cell_type": "markdown",
   "id": "43e59569",
   "metadata": {},
   "source": [
    "# call the function\n",
    "- Only call timing fun run"
   ]
  },
  {
   "cell_type": "code",
   "execution_count": 6,
   "id": "11a23a64",
   "metadata": {},
   "outputs": [
    {
     "name": "stdout",
     "output_type": "stream",
     "text": [
      "Hello Word\n",
      "Hello Word\n",
      "Hello Word\n"
     ]
    }
   ],
   "source": [
    "disp() # calling format\n",
    "\n",
    "# many time use\n",
    "disp()\n",
    "disp()"
   ]
  },
  {
   "cell_type": "markdown",
   "id": "7929ad23",
   "metadata": {},
   "source": [
    "## Divide Big Task to smalll task\n",
    "- Calculator Example"
   ]
  },
  {
   "cell_type": "code",
   "execution_count": 10,
   "id": "6fcfed05",
   "metadata": {},
   "outputs": [],
   "source": [
    "def add():\n",
    "    x = 10\n",
    "    y = 30\n",
    "    c = x+y\n",
    "    print(c)\n",
    "def subtract():\n",
    "    x = 10\n",
    "    y = 5\n",
    "    c = x-y\n",
    "    print(c)"
   ]
  },
  {
   "cell_type": "code",
   "execution_count": 11,
   "id": "0b837f99",
   "metadata": {},
   "outputs": [
    {
     "name": "stdout",
     "output_type": "stream",
     "text": [
      "40\n",
      "5\n"
     ]
    }
   ],
   "source": [
    "#easy to debuging\n",
    "add()\n",
    "subtract()"
   ]
  },
  {
   "cell_type": "markdown",
   "id": "366be35d",
   "metadata": {},
   "source": [
    "# Feature add"
   ]
  },
  {
   "cell_type": "code",
   "execution_count": 12,
   "id": "9b1aafc0",
   "metadata": {},
   "outputs": [],
   "source": [
    "def add():\n",
    "    x = 10\n",
    "    y = 30\n",
    "    # new feature add\n",
    "    z = 10 \n",
    "    c = x+y+z\n",
    "    print(c)\n",
    "def subtract():\n",
    "    x = 10\n",
    "    y = 5\n",
    "    c = x-y\n",
    "    print(c)"
   ]
  },
  {
   "cell_type": "code",
   "execution_count": 13,
   "id": "9af2df57",
   "metadata": {},
   "outputs": [
    {
     "name": "stdout",
     "output_type": "stream",
     "text": [
      "50\n",
      "5\n"
     ]
    }
   ],
   "source": [
    "#easy to debuging\n",
    "add()\n",
    "subtract()"
   ]
  },
  {
   "cell_type": "markdown",
   "id": "71987f07",
   "metadata": {},
   "source": [
    "# second Method define fun"
   ]
  },
  {
   "cell_type": "code",
   "execution_count": 17,
   "id": "4fe2f901",
   "metadata": {},
   "outputs": [],
   "source": [
    "def add(y): # y yha hamra parametaer khlata h\n",
    "    x = 10\n",
    "    c = x+y\n",
    "    print(c)"
   ]
  },
  {
   "cell_type": "code",
   "execution_count": 18,
   "id": "fe4f156c",
   "metadata": {},
   "outputs": [
    {
     "name": "stdout",
     "output_type": "stream",
     "text": [
      "40\n"
     ]
    }
   ],
   "source": [
    "y = 30\n",
    "\n",
    "add(y) # y is argumnet "
   ]
  },
  {
   "cell_type": "code",
   "execution_count": 19,
   "id": "99d2bf97",
   "metadata": {},
   "outputs": [
    {
     "name": "stdout",
     "output_type": "stream",
     "text": [
      "40\n"
     ]
    }
   ],
   "source": [
    "def add(y): # y yha hamra parametaer khlata h\n",
    "    x = 10\n",
    "    c = x+y\n",
    "    print(c)\n",
    "z = 30\n",
    "\n",
    "add(z)"
   ]
  },
  {
   "cell_type": "code",
   "execution_count": 23,
   "id": "88355388",
   "metadata": {},
   "outputs": [
    {
     "name": "stdout",
     "output_type": "stream",
     "text": [
      "sachin  Any type ke data dal skte ho \n"
     ]
    }
   ],
   "source": [
    "def add(y): # y yha hamra parametaer khlata h\n",
    "    x = \"sachin  \"\n",
    "    c = x+y\n",
    "    print(c)\n",
    "z = \"Any type ke data dal skte ho \"\n",
    "\n",
    "add(z)"
   ]
  },
  {
   "cell_type": "code",
   "execution_count": 27,
   "id": "eff67b3e",
   "metadata": {},
   "outputs": [
    {
     "name": "stdout",
     "output_type": "stream",
     "text": [
      "sachin  Any type ke data dal skte ho \n"
     ]
    }
   ],
   "source": [
    "def add(y): # y yha hamra parametaer khlata h\n",
    "    x = \"sachin  \"\n",
    "    c = x+y\n",
    "    print(\"%s\"%c) # Formating bhi kar skte ho\n",
    "z = \"Any type ke data dal skte ho \"\n",
    "\n",
    "add(z)"
   ]
  },
  {
   "cell_type": "markdown",
   "id": "f18ce356",
   "metadata": {},
   "source": [
    "## user input fun"
   ]
  },
  {
   "cell_type": "code",
   "execution_count": 28,
   "id": "0cd1103a",
   "metadata": {},
   "outputs": [],
   "source": [
    "def add(a,b):\n",
    "    total = a + b\n",
    "    return total\n"
   ]
  },
  {
   "cell_type": "code",
   "execution_count": 29,
   "id": "0dfc988f",
   "metadata": {},
   "outputs": [
    {
     "name": "stdout",
     "output_type": "stream",
     "text": [
      "Enter the number : 21\n",
      "Enter the second Number :21\n",
      "42\n"
     ]
    }
   ],
   "source": [
    "x = int(input(\"Enter the number : \"))\n",
    "y = int(input(\"Enter the second Number :\"))\n",
    "\n",
    "result = add(x,y)\n",
    "print(result)"
   ]
  },
  {
   "cell_type": "code",
   "execution_count": null,
   "id": "a29152f7",
   "metadata": {},
   "outputs": [],
   "source": []
  }
 ],
 "metadata": {
  "kernelspec": {
   "display_name": "Python 3 (ipykernel)",
   "language": "python",
   "name": "python3"
  },
  "language_info": {
   "codemirror_mode": {
    "name": "ipython",
    "version": 3
   },
   "file_extension": ".py",
   "mimetype": "text/x-python",
   "name": "python",
   "nbconvert_exporter": "python",
   "pygments_lexer": "ipython3",
   "version": "3.9.13"
  }
 },
 "nbformat": 4,
 "nbformat_minor": 5
}
