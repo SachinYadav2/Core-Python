{
 "cells": [
  {
   "cell_type": "code",
   "execution_count": 1,
   "id": "f47ae20d",
   "metadata": {},
   "outputs": [
    {
     "name": "stdout",
     "output_type": "stream",
     "text": [
      "Enter the number user:3\n",
      "Enter the element user:12\n",
      "Enter the element user:123\n",
      "Enter the element user:1123\n",
      "12\n",
      "123\n",
      "1123\n"
     ]
    }
   ],
   "source": [
    "a = []\n",
    "n = int(input(\"Enter the number user:\"))\n",
    "for ele in range(n):\n",
    "    a.append(input(\"Enter the element user:\"))\n",
    "for i in a:\n",
    "    print(i)"
   ]
  },
  {
   "cell_type": "code",
   "execution_count": 2,
   "id": "68d4d235",
   "metadata": {},
   "outputs": [
    {
     "data": {
      "text/plain": [
       "['12', '123', '1123']"
      ]
     },
     "execution_count": 2,
     "metadata": {},
     "output_type": "execute_result"
    }
   ],
   "source": [
    "a"
   ]
  },
  {
   "cell_type": "code",
   "execution_count": null,
   "id": "db5dc435",
   "metadata": {},
   "outputs": [],
   "source": []
  },
  {
   "cell_type": "code",
   "execution_count": null,
   "id": "f204e877",
   "metadata": {},
   "outputs": [],
   "source": []
  }
 ],
 "metadata": {
  "kernelspec": {
   "display_name": "Python 3 (ipykernel)",
   "language": "python",
   "name": "python3"
  },
  "language_info": {
   "codemirror_mode": {
    "name": "ipython",
    "version": 3
   },
   "file_extension": ".py",
   "mimetype": "text/x-python",
   "name": "python",
   "nbconvert_exporter": "python",
   "pygments_lexer": "ipython3",
   "version": "3.9.13"
  }
 },
 "nbformat": 4,
 "nbformat_minor": 5
}
