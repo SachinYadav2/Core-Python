{
 "cells": [
  {
   "cell_type": "markdown",
   "metadata": {},
   "source": [
    "## Array1\n",
    "- import array firstly use of arry \n",
    "-    is ke aap import array likh ke \n",
    "-    ap from array import*\n"
   ]
  },
  {
   "cell_type": "code",
   "execution_count": 1,
   "metadata": {},
   "outputs": [],
   "source": [
    "# arry similar type data ko store kar skte h \n",
    "# Big data jab hmara ho to tab ham eska use karte h essay to handle a big (But Similar Big data)"
   ]
  },
  {
   "cell_type": "code",
   "execution_count": 2,
   "metadata": {},
   "outputs": [
    {
     "name": "stdout",
     "output_type": "stream",
     "text": [
      "1\n",
      "2\n",
      "3\n",
      "4\n"
     ]
    }
   ],
   "source": [
    "# Suppose karo hame college ke student ka data store krna jese roll no , name  etc tab\n",
    "roll_no1 = 1\n",
    "roll_no2 = 2\n",
    "roll_no3 = 3\n",
    "roll_no4 = 4\n",
    "roll_no5 = 5\n",
    "roll_no6 = 6\n",
    "roll_no7 = 7\n",
    "roll_no8 = 8\n",
    "\n",
    "\n",
    "print(roll_no1)\n",
    "print(roll_no2)\n",
    "print(roll_no3)\n",
    "print(roll_no4) # Etc"
   ]
  },
  {
   "cell_type": "code",
   "execution_count": 6,
   "metadata": {},
   "outputs": [
    {
     "name": "stdout",
     "output_type": "stream",
     "text": [
      "[1, 2, 3, 4, 5, 6, 7, 8, 11]\n"
     ]
    }
   ],
   "source": [
    "# use of array\n",
    "roll_no = [1 , 2, 3 ,4, 5, 6 , 7, 8 ,11]\n",
    "print(roll_no)"
   ]
  },
  {
   "cell_type": "markdown",
   "metadata": {},
   "source": [
    "## Type of Array\n",
    "- Single Dime\n",
    "- Multi Dime ( But Python does not support a multi Dime array but ham libraray ke throw kar skte )"
   ]
  },
  {
   "cell_type": "code",
   "execution_count": 15,
   "metadata": {},
   "outputs": [
    {
     "name": "stdout",
     "output_type": "stream",
     "text": [
      "1 2 3 4 5 6 7 8 11 "
     ]
    }
   ],
   "source": [
    "for i in roll_no:\n",
    "    print(i , end=' ')"
   ]
  },
  {
   "cell_type": "code",
   "execution_count": null,
   "metadata": {},
   "outputs": [],
   "source": []
  }
 ],
 "metadata": {
  "kernelspec": {
   "display_name": "Python 3",
   "language": "python",
   "name": "python3"
  },
  "language_info": {
   "codemirror_mode": {
    "name": "ipython",
    "version": 3
   },
   "file_extension": ".py",
   "mimetype": "text/x-python",
   "name": "python",
   "nbconvert_exporter": "python",
   "pygments_lexer": "ipython3",
   "version": "3.8.5"
  }
 },
 "nbformat": 4,
 "nbformat_minor": 4
}
