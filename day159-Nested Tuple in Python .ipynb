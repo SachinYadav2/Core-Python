{
 "cells": [
  {
   "cell_type": "markdown",
   "id": "f6737750",
   "metadata": {},
   "source": [
    "## Nested tuple hmra same work krta h nested list ke trh \n",
    "- ek tuple ke inside another tuple dalana he nested tuple kHlata h"
   ]
  },
  {
   "cell_type": "markdown",
   "id": "f3216ef6",
   "metadata": {},
   "source": [
    "## Create"
   ]
  },
  {
   "cell_type": "code",
   "execution_count": 1,
   "id": "77d692aa",
   "metadata": {},
   "outputs": [
    {
     "data": {
      "text/plain": [
       "(12, 123, 3234, 3434, (323, 23, 2))"
      ]
     },
     "execution_count": 1,
     "metadata": {},
     "output_type": "execute_result"
    }
   ],
   "source": [
    "# multiple way h esko acheive krne ke \n",
    "a = (12,123,3234,3434,(323,23,2))\n",
    "a"
   ]
  },
  {
   "cell_type": "code",
   "execution_count": 2,
   "id": "cacfccd4",
   "metadata": {},
   "outputs": [
    {
     "data": {
      "text/plain": [
       "(12, 123, 3234, 3434, (12, 234, 34, 3))"
      ]
     },
     "execution_count": 2,
     "metadata": {},
     "output_type": "execute_result"
    }
   ],
   "source": [
    "b = (12,234,34,3)\n",
    "\n",
    "a = (12,123,3234,3434,b)\n",
    "a\n"
   ]
  },
  {
   "cell_type": "code",
   "execution_count": 3,
   "id": "b7f121c9",
   "metadata": {},
   "outputs": [
    {
     "data": {
      "text/plain": [
       "(12, 123, 3234, 3434, (12, 234, 34, 3))"
      ]
     },
     "execution_count": 3,
     "metadata": {},
     "output_type": "execute_result"
    }
   ],
   "source": [
    "\n",
    "a = (12,123,3234,3434,\n",
    "     (12,234,34,3))\n",
    "a\n"
   ]
  },
  {
   "cell_type": "markdown",
   "id": "7729452e",
   "metadata": {},
   "source": [
    "# Acees by using the index and show"
   ]
  },
  {
   "cell_type": "code",
   "execution_count": 5,
   "id": "8e67859c",
   "metadata": {},
   "outputs": [
    {
     "data": {
      "text/plain": [
       "3234"
      ]
     },
     "execution_count": 5,
     "metadata": {},
     "output_type": "execute_result"
    }
   ],
   "source": [
    "# multiple way h esko acheive krne ke \n",
    "a = (12,123,3234,3434,(323,23,2))\n",
    "a[2]"
   ]
  },
  {
   "cell_type": "code",
   "execution_count": 7,
   "id": "555a6af9",
   "metadata": {},
   "outputs": [
    {
     "data": {
      "text/plain": [
       "12"
      ]
     },
     "execution_count": 7,
     "metadata": {},
     "output_type": "execute_result"
    }
   ],
   "source": [
    "b = (12,234,34,3)\n",
    "\n",
    "a = (12,123,3234,3434,b)\n",
    "a[4][0]\n"
   ]
  },
  {
   "cell_type": "code",
   "execution_count": 10,
   "id": "666b6b91",
   "metadata": {},
   "outputs": [
    {
     "data": {
      "text/plain": [
       "12"
      ]
     },
     "execution_count": 10,
     "metadata": {},
     "output_type": "execute_result"
    }
   ],
   "source": [
    "\n",
    "a = ((12,123,3234,3434),\n",
    "     (12,234,34,3))\n",
    "a[0][0]\n"
   ]
  },
  {
   "cell_type": "code",
   "execution_count": 11,
   "id": "e450ff35",
   "metadata": {},
   "outputs": [
    {
     "data": {
      "text/plain": [
       "(12, 123, 3234, 3434)"
      ]
     },
     "execution_count": 11,
     "metadata": {},
     "output_type": "execute_result"
    }
   ],
   "source": [
    "a[0]"
   ]
  },
  {
   "cell_type": "code",
   "execution_count": null,
   "id": "6d0b143e",
   "metadata": {},
   "outputs": [],
   "source": []
  }
 ],
 "metadata": {
  "kernelspec": {
   "display_name": "Python 3 (ipykernel)",
   "language": "python",
   "name": "python3"
  },
  "language_info": {
   "codemirror_mode": {
    "name": "ipython",
    "version": 3
   },
   "file_extension": ".py",
   "mimetype": "text/x-python",
   "name": "python",
   "nbconvert_exporter": "python",
   "pygments_lexer": "ipython3",
   "version": "3.9.13"
  }
 },
 "nbformat": 4,
 "nbformat_minor": 5
}
