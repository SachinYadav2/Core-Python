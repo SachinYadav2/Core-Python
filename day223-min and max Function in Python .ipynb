{
 "cells": [
  {
   "cell_type": "markdown",
   "id": "a73bf0f5",
   "metadata": {},
   "source": [
    "# min(iterable)"
   ]
  },
  {
   "cell_type": "code",
   "execution_count": 1,
   "id": "8b217f4a",
   "metadata": {},
   "outputs": [
    {
     "name": "stdout",
     "output_type": "stream",
     "text": [
      "1\n"
     ]
    }
   ],
   "source": [
    "a = [12,21,323,454,1]\n",
    "print(min(a))"
   ]
  },
  {
   "cell_type": "code",
   "execution_count": 3,
   "id": "88f74d20",
   "metadata": {},
   "outputs": [
    {
     "name": "stdout",
     "output_type": "stream",
     "text": [
      "2\n"
     ]
    }
   ],
   "source": [
    "di = {676:\"as\" , 2:\"dsds\"}\n",
    "print(min(di))"
   ]
  },
  {
   "cell_type": "code",
   "execution_count": null,
   "id": "05cdcc0b",
   "metadata": {},
   "outputs": [],
   "source": []
  }
 ],
 "metadata": {
  "kernelspec": {
   "display_name": "Python 3 (ipykernel)",
   "language": "python",
   "name": "python3"
  },
  "language_info": {
   "codemirror_mode": {
    "name": "ipython",
    "version": 3
   },
   "file_extension": ".py",
   "mimetype": "text/x-python",
   "name": "python",
   "nbconvert_exporter": "python",
   "pygments_lexer": "ipython3",
   "version": "3.10.8"
  }
 },
 "nbformat": 4,
 "nbformat_minor": 5
}
