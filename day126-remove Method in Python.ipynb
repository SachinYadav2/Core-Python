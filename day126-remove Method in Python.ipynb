{
 "cells": [
  {
   "cell_type": "markdown",
   "id": "c0695b1c",
   "metadata": {},
   "source": [
    "# remove() \n",
    "- yah apki list me given element ko remove krta h and first occurence wale ko remove krta h"
   ]
  },
  {
   "cell_type": "code",
   "execution_count": 1,
   "id": "c4c96a37",
   "metadata": {},
   "outputs": [
    {
     "data": {
      "text/plain": [
       "[12, 'asas', 13]"
      ]
     },
     "execution_count": 1,
     "metadata": {},
     "output_type": "execute_result"
    }
   ],
   "source": [
    "a = [12,13,\"asas\",13]\n",
    "a.remove(13)\n",
    "a"
   ]
  },
  {
   "cell_type": "code",
   "execution_count": null,
   "id": "4a5469dc",
   "metadata": {},
   "outputs": [],
   "source": []
  }
 ],
 "metadata": {
  "kernelspec": {
   "display_name": "Python 3 (ipykernel)",
   "language": "python",
   "name": "python3"
  },
  "language_info": {
   "codemirror_mode": {
    "name": "ipython",
    "version": 3
   },
   "file_extension": ".py",
   "mimetype": "text/x-python",
   "name": "python",
   "nbconvert_exporter": "python",
   "pygments_lexer": "ipython3",
   "version": "3.9.13"
  }
 },
 "nbformat": 4,
 "nbformat_minor": 5
}
