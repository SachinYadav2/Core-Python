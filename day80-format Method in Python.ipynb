{
 "cells": [
  {
   "cell_type": "markdown",
   "id": "ac30a704",
   "metadata": {},
   "source": [
    "# Ham format Method ke use krke String ko beautifull bnate h\n",
    "- syn- str.format(arg)\n",
    "- {} Ye alway return krta h string me "
   ]
  },
  {
   "cell_type": "code",
   "execution_count": 12,
   "id": "11ac47db",
   "metadata": {},
   "outputs": [
    {
     "name": "stdout",
     "output_type": "stream",
     "text": [
      "My age is 19\n"
     ]
    }
   ],
   "source": [
    "str1 = \"My age is {}\"\n",
    "print(str1.format(19))"
   ]
  },
  {
   "cell_type": "code",
   "execution_count": 13,
   "id": "2995b7ae",
   "metadata": {},
   "outputs": [
    {
     "name": "stdout",
     "output_type": "stream",
     "text": [
      "My age is 19\n"
     ]
    }
   ],
   "source": [
    "\n",
    "print(\"My age is {}\".format(19))"
   ]
  },
  {
   "cell_type": "code",
   "execution_count": 14,
   "id": "4016a80d",
   "metadata": {},
   "outputs": [
    {
     "name": "stdout",
     "output_type": "stream",
     "text": [
      "My age is 19\n"
     ]
    }
   ],
   "source": [
    "# Ek value h format fun me to no problem but agar jyda hoti h to Problem create ho jati tab hame index dena hota h\n",
    "\n",
    "print(\"My age is {0}\".format(19))"
   ]
  },
  {
   "cell_type": "code",
   "execution_count": 15,
   "id": "84650ee5",
   "metadata": {},
   "outputs": [
    {
     "name": "stdout",
     "output_type": "stream",
     "text": [
      "My 32 age is 45\n"
     ]
    }
   ],
   "source": [
    "# Python Smart automatic dekha ke hmari ye {} ye bracket  h to  yha value ko put kar do\n",
    "\n",
    "print(\"My {} age is {}\".format(32,45))"
   ]
  },
  {
   "cell_type": "code",
   "execution_count": 16,
   "id": "b8a6757c",
   "metadata": {},
   "outputs": [
    {
     "name": "stdout",
     "output_type": "stream",
     "text": [
      "This is my age 19 my name is Sachin  \n"
     ]
    }
   ],
   "source": [
    "print(\"This is my age {1} my name is {0} \".format(\"Sachin \",19))"
   ]
  },
  {
   "cell_type": "code",
   "execution_count": null,
   "id": "2f389c9d",
   "metadata": {},
   "outputs": [],
   "source": []
  },
  {
   "cell_type": "code",
   "execution_count": 19,
   "id": "99478cde",
   "metadata": {},
   "outputs": [
    {
     "name": "stdout",
     "output_type": "stream",
     "text": [
      "This is my age 19 my name is Sachin  \n"
     ]
    }
   ],
   "source": [
    "print(\"This is my age {age} my name is {name} \".format(name = \"Sachin \",age =19))"
   ]
  },
  {
   "cell_type": "markdown",
   "id": "735b89d4",
   "metadata": {},
   "source": [
    "## Int number  ke sath"
   ]
  },
  {
   "cell_type": "code",
   "execution_count": 22,
   "id": "784cab1d",
   "metadata": {},
   "outputs": [
    {
     "name": "stdout",
     "output_type": "stream",
     "text": [
      "21\n",
      "21 22\n",
      "22 21\n",
      "21 22\n",
      "Sachin\n",
      "Sachin 22\n"
     ]
    }
   ],
   "source": [
    "print(\"{}\".format(21))\n",
    "print(\"{} {}\".format(21,22))\n",
    "print(\"{1} {0}\".format(21,22))\n",
    "print(\"{0} {1}\".format(21,22))\n",
    "print(\"{name}\".format(name=\"Sachin\"))\n",
    "print(\"{name} {age}\".format(name=\"Sachin\",age = 22))\n",
    " \n",
    "\n",
    "\n"
   ]
  },
  {
   "cell_type": "markdown",
   "id": "cb051a2f",
   "metadata": {},
   "source": [
    "## Floating Point me"
   ]
  },
  {
   "cell_type": "code",
   "execution_count": 23,
   "id": "c0241f72",
   "metadata": {},
   "outputs": [
    {
     "name": "stdout",
     "output_type": "stream",
     "text": [
      "21.21\n",
      "21.21 22\n",
      "22.21 21\n",
      "21.12 22.12\n",
      "Sachin\n",
      "Sachin 222.1\n"
     ]
    }
   ],
   "source": [
    "print(\"{}\".format(21.21))\n",
    "print(\"{} {}\".format(21.21,22))\n",
    "print(\"{1} {0}\".format(21,22.21))\n",
    "print(\"{0} {1}\".format(21.12,22.12))\n",
    "print(\"{name}\".format(name=\"Sachin\"))\n",
    "print(\"{name} {age}\".format(name=\"Sachin\",age = 222.1))\n",
    "\n",
    "\n",
    "\n"
   ]
  },
  {
   "cell_type": "markdown",
   "id": "7ac5ac3d",
   "metadata": {},
   "source": [
    "## Ab ham format Specifier ka use krenge \n",
    "- :[fill][align][sign][#][0][widht][,][.precestion]type"
   ]
  },
  {
   "cell_type": "code",
   "execution_count": 31,
   "id": "ddecc032",
   "metadata": {},
   "outputs": [
    {
     "name": "stdout",
     "output_type": "stream",
     "text": [
      "   15\n",
      "00015\n",
      "  +15\n",
      "15   \n",
      "15***\n",
      "***15\n",
      " 15  \n"
     ]
    }
   ],
   "source": [
    "print(\"{num:5d}\".format(num=15))\n",
    "print(\"{num:05d}\".format(num=15))\n",
    "print(\"{num:+5d}\".format(num=15))\n",
    "print(\"{num:<5d}\".format(num=15))\n",
    "print(\"{num:*<5d}\".format(num=15))\n",
    "print(\"{num:*>5d}\".format(num=15))\n",
    "print(\"{num:^5d}\".format(num=15))"
   ]
  },
  {
   "cell_type": "code",
   "execution_count": 33,
   "id": "4aeabb43",
   "metadata": {},
   "outputs": [
    {
     "name": "stdout",
     "output_type": "stream",
     "text": [
      "15.323000\n",
      "15.323000\n",
      "+15.322000\n",
      "15.232300\n",
      "15.232300\n",
      "15.232300\n",
      "15.232300\n"
     ]
    }
   ],
   "source": [
    "# This is for floating value ke liye \n",
    "\n",
    "print(\"{num:5f}\".format(num=15.323))\n",
    "print(\"{num:05f}\".format(num=15.323))\n",
    "print(\"{num:+5f}\".format(num=15.322))\n",
    "print(\"{num:<5f}\".format(num=15.2323))\n",
    "print(\"{num:*<5f}\".format(num=15.2323))\n",
    "print(\"{num:*>5f}\".format(num=15.2323))\n",
    "print(\"{num:^5f}\".format(num=15.2323))"
   ]
  },
  {
   "cell_type": "code",
   "execution_count": 35,
   "id": "0c875e9d",
   "metadata": {},
   "outputs": [
    {
     "name": "stdout",
     "output_type": "stream",
     "text": [
      "15.323000\n",
      "15.32300\n",
      "+15.32200\n",
      "15.232  \n",
      "15.2323*\n",
      "15.232300\n",
      " 15.23  \n"
     ]
    }
   ],
   "source": [
    "\n",
    "print(\"{num:5f}\".format(num=15.323))\n",
    "print(\"{num:8.5f}\".format(num=15.323))\n",
    "print(\"{num:+8.5f}\".format(num=15.322))\n",
    "print(\"{num:<8.3f}\".format(num=15.2323))\n",
    "print(\"{num:*<8.4f}\".format(num=15.2323))\n",
    "print(\"{num:*>8.6f}\".format(num=15.2323))\n",
    "print(\"{num:^8.2f}\".format(num=15.2323))"
   ]
  },
  {
   "cell_type": "code",
   "execution_count": 42,
   "id": "d5083bd9",
   "metadata": {},
   "outputs": [
    {
     "name": "stdout",
     "output_type": "stream",
     "text": [
      "Sachin\n",
      "Sachin  \n",
      "sachin  \n",
      "Sachin**\n",
      "**sachin\n",
      "  Rao   \n"
     ]
    }
   ],
   "source": [
    "# String ke liye\n",
    "\n",
    "\n",
    "print(\"{:5s}\".format(\"Sachin\"))\n",
    "print(\"{:8s}\".format(\"Sachin\"))\n",
    "print(\"{:<8s}\".format(\"sachin\"))\n",
    "print(\"{:*<8s}\".format(\"Sachin\"))\n",
    "print(\"{:*>8s}\".format(\"sachin\"))\n",
    "print(\"{:^8s}\".format(\"Rao\"))"
   ]
  },
  {
   "cell_type": "code",
   "execution_count": 43,
   "id": "d47835ba",
   "metadata": {},
   "outputs": [
    {
     "name": "stdout",
     "output_type": "stream",
     "text": [
      "My name is Sachin and my age is 19\n"
     ]
    }
   ],
   "source": [
    "name = \"Sachin\"\n",
    "\n",
    "age = 19\n",
    "\n",
    "print(\"My name is {0} and my age is {1}\".format(name,age))"
   ]
  },
  {
   "cell_type": "code",
   "execution_count": null,
   "id": "b0b0afe5",
   "metadata": {},
   "outputs": [],
   "source": []
  }
 ],
 "metadata": {
  "kernelspec": {
   "display_name": "Python 3 (ipykernel)",
   "language": "python",
   "name": "python3"
  },
  "language_info": {
   "codemirror_mode": {
    "name": "ipython",
    "version": 3
   },
   "file_extension": ".py",
   "mimetype": "text/x-python",
   "name": "python",
   "nbconvert_exporter": "python",
   "pygments_lexer": "ipython3",
   "version": "3.9.13"
  }
 },
 "nbformat": 4,
 "nbformat_minor": 5
}
