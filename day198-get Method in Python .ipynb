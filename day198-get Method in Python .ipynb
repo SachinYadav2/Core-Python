{
 "cells": [
  {
   "cell_type": "markdown",
   "id": "a0e6f2af",
   "metadata": {},
   "source": [
    "# get() method ke help se hm key  ke value ko return lete h\n",
    "- .get(key,defaultvalue)  key na milne pr ye NOne or default value ko return krta h "
   ]
  },
  {
   "cell_type": "code",
   "execution_count": 1,
   "id": "b3fcaeca",
   "metadata": {},
   "outputs": [
    {
     "name": "stdout",
     "output_type": "stream",
     "text": [
      "sadsds\n"
     ]
    }
   ],
   "source": [
    "d = {101:\"sadsds\" , 102:\"dsdsdsddsds\"}\n",
    "s = d.get(101)\n",
    "print(s)"
   ]
  },
  {
   "cell_type": "code",
   "execution_count": 2,
   "id": "90435e61",
   "metadata": {},
   "outputs": [
    {
     "name": "stdout",
     "output_type": "stream",
     "text": [
      "None\n"
     ]
    }
   ],
   "source": [
    "s = d.get(178701)\n",
    "print(s)"
   ]
  },
  {
   "cell_type": "code",
   "execution_count": null,
   "id": "56b57ceb",
   "metadata": {},
   "outputs": [],
   "source": []
  }
 ],
 "metadata": {
  "kernelspec": {
   "display_name": "Python 3 (ipykernel)",
   "language": "python",
   "name": "python3"
  },
  "language_info": {
   "codemirror_mode": {
    "name": "ipython",
    "version": 3
   },
   "file_extension": ".py",
   "mimetype": "text/x-python",
   "name": "python",
   "nbconvert_exporter": "python",
   "pygments_lexer": "ipython3",
   "version": "3.10.8"
  }
 },
 "nbformat": 4,
 "nbformat_minor": 5
}
