{
 "cells": [
  {
   "cell_type": "code",
   "execution_count": 2,
   "id": "0525f7c0",
   "metadata": {},
   "outputs": [
    {
     "data": {
      "text/plain": [
       "{12, 123, 131.12, 'sdssdsd'}"
      ]
     },
     "execution_count": 2,
     "metadata": {},
     "output_type": "execute_result"
    }
   ],
   "source": [
    "def show(s):\n",
    "    return s\n",
    "st = {12 , 123, 131.12 , \"sdssdsd\"}\n",
    "store = show(st)\n",
    "store"
   ]
  },
  {
   "cell_type": "code",
   "execution_count": null,
   "id": "c06d5163",
   "metadata": {},
   "outputs": [],
   "source": []
  }
 ],
 "metadata": {
  "kernelspec": {
   "display_name": "Python 3 (ipykernel)",
   "language": "python",
   "name": "python3"
  },
  "language_info": {
   "codemirror_mode": {
    "name": "ipython",
    "version": 3
   },
   "file_extension": ".py",
   "mimetype": "text/x-python",
   "name": "python",
   "nbconvert_exporter": "python",
   "pygments_lexer": "ipython3",
   "version": "3.10.8"
  }
 },
 "nbformat": 4,
 "nbformat_minor": 5
}
