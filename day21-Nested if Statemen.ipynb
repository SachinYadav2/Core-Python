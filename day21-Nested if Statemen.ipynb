{
 "cells": [
  {
   "cell_type": "code",
   "execution_count": 2,
   "metadata": {},
   "outputs": [
    {
     "name": "stdout",
     "output_type": "stream",
     "text": [
      "5>2 h only tabhi ye execute hoga\n",
      "yes H\n",
      "Rest of the Code\n"
     ]
    }
   ],
   "source": [
    "if (5>2):\n",
    "    print(\"5>2 h only tabhi ye execute hoga\")\n",
    "    \n",
    "    if (6>2):\n",
    "        print(\"yes H\")\n",
    "print(\"Rest of the Code\")"
   ]
  },
  {
   "cell_type": "code",
   "execution_count": 4,
   "metadata": {},
   "outputs": [
    {
     "name": "stdout",
     "output_type": "stream",
     "text": [
      "Rest of the Code\n"
     ]
    }
   ],
   "source": [
    "# Ke Agr Parents ke Conditions fail ho gae to child run he nhi hoga always\n",
    "if (5>6):\n",
    "    print(\"5>2 h only tabhi ye execute hoga\")\n",
    "    \n",
    "    if (6>2):\n",
    "        print(\"yes H\")\n",
    "print(\"Rest of the Code\")"
   ]
  },
  {
   "cell_type": "code",
   "execution_count": 5,
   "metadata": {},
   "outputs": [
    {
     "name": "stdout",
     "output_type": "stream",
     "text": [
      "5>2 h only tabhi ye execute hoga\n",
      "Rest of the Code\n"
     ]
    }
   ],
   "source": [
    "# Ke Agr Parents ke Conditions fail ho gae to child run he nhi hoga always\n",
    "if (5>2):\n",
    "    print(\"5>2 h only tabhi ye execute hoga\")\n",
    "    \n",
    "    if (6>7):\n",
    "        print(\"yes H\")\n",
    "        \n",
    "print(\"Rest of the Code\")"
   ]
  },
  {
   "cell_type": "code",
   "execution_count": 7,
   "metadata": {},
   "outputs": [
    {
     "name": "stdout",
     "output_type": "stream",
     "text": [
      "5>2 h only tabhi ye execute hoga\n",
      "Uncle\n",
      "Rest of the Code\n"
     ]
    }
   ],
   "source": [
    "if (5>2):\n",
    "    print(\"5>2 h only tabhi ye execute hoga\")\n",
    "    \n",
    "    if (6>7):\n",
    "        print(\"yes H\")\n",
    "if(2>1):\n",
    "    print(\"Uncle\")\n",
    "        \n",
    "print(\"Rest of the Code\")"
   ]
  },
  {
   "cell_type": "code",
   "execution_count": null,
   "metadata": {},
   "outputs": [],
   "source": []
  }
 ],
 "metadata": {
  "kernelspec": {
   "display_name": "Python 3",
   "language": "python",
   "name": "python3"
  },
  "language_info": {
   "codemirror_mode": {
    "name": "ipython",
    "version": 3
   },
   "file_extension": ".py",
   "mimetype": "text/x-python",
   "name": "python",
   "nbconvert_exporter": "python",
   "pygments_lexer": "ipython3",
   "version": "3.8.5"
  }
 },
 "nbformat": 4,
 "nbformat_minor": 4
}
