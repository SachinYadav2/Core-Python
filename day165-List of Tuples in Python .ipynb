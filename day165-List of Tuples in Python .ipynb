{
 "cells": [
  {
   "cell_type": "markdown",
   "id": "2ae6f061",
   "metadata": {},
   "source": [
    "# Means list ke inside tuple present hona basically "
   ]
  },
  {
   "cell_type": "code",
   "execution_count": 1,
   "id": "2eefacb7",
   "metadata": {},
   "outputs": [],
   "source": [
    "l = [10 ,20 ,(11 ,21,112)]\n"
   ]
  },
  {
   "cell_type": "code",
   "execution_count": 2,
   "id": "33230f16",
   "metadata": {},
   "outputs": [
    {
     "name": "stdout",
     "output_type": "stream",
     "text": [
      "4421496384\n",
      "<class 'list'>\n"
     ]
    }
   ],
   "source": [
    "print(id(l))\n",
    "print(type(l))\n",
    "l.append(5645645)"
   ]
  },
  {
   "cell_type": "code",
   "execution_count": 3,
   "id": "2addfb08",
   "metadata": {},
   "outputs": [
    {
     "data": {
      "text/plain": [
       "[10, 20, (11, 21, 112), 5645645]"
      ]
     },
     "execution_count": 3,
     "metadata": {},
     "output_type": "execute_result"
    }
   ],
   "source": [
    "l"
   ]
  },
  {
   "cell_type": "markdown",
   "id": "c5523dfd",
   "metadata": {},
   "source": [
    "# Aceesed"
   ]
  },
  {
   "cell_type": "code",
   "execution_count": 6,
   "id": "d7b09f45",
   "metadata": {},
   "outputs": [
    {
     "name": "stdout",
     "output_type": "stream",
     "text": [
      "10\n",
      "20\n",
      "11\n",
      "21\n",
      "112\n"
     ]
    }
   ],
   "source": [
    "a = [10 ,20 ,(11 ,21,112)]\n",
    "n = len(a)\n",
    "for i in range(n):\n",
    "    if type(a[i]) is tuple:\n",
    "        if len(a[i]) > 1:\n",
    "            m = len(a[i])\n",
    "            for j in range(m):\n",
    "                print(a[i][j])\n",
    "    else:\n",
    "        print(a[i])"
   ]
  },
  {
   "cell_type": "code",
   "execution_count": 8,
   "id": "143bdbc0",
   "metadata": {},
   "outputs": [
    {
     "name": "stdout",
     "output_type": "stream",
     "text": [
      "10\n",
      "20\n",
      "11\n",
      "21\n",
      "112\n"
     ]
    }
   ],
   "source": [
    "a = [\n",
    "    (10 ,20) ,\n",
    "    (11 ,21,112)]\n",
    "n = len(a)\n",
    "for i in range(n):\n",
    "    if type(a[i]) is tuple:\n",
    "        if len(a[i]) > 1:\n",
    "            m = len(a[i])\n",
    "            for j in range(m):\n",
    "                print(a[i][j])\n",
    "    else:\n",
    "        print(a[i])"
   ]
  },
  {
   "cell_type": "code",
   "execution_count": null,
   "id": "82dd9cc9",
   "metadata": {},
   "outputs": [],
   "source": []
  }
 ],
 "metadata": {
  "kernelspec": {
   "display_name": "Python 3 (ipykernel)",
   "language": "python",
   "name": "python3"
  },
  "language_info": {
   "codemirror_mode": {
    "name": "ipython",
    "version": 3
   },
   "file_extension": ".py",
   "mimetype": "text/x-python",
   "name": "python",
   "nbconvert_exporter": "python",
   "pygments_lexer": "ipython3",
   "version": "3.10.8"
  }
 },
 "nbformat": 4,
 "nbformat_minor": 5
}
