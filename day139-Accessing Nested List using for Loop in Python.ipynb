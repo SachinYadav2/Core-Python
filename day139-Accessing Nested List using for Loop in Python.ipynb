{
 "cells": [
  {
   "cell_type": "markdown",
   "id": "1a5e8c6b",
   "metadata": {},
   "source": [
    "# ham esme sikenge ki kese nested if ko use krte h for loop ke sath"
   ]
  },
  {
   "cell_type": "code",
   "execution_count": 14,
   "id": "7468025e",
   "metadata": {},
   "outputs": [
    {
     "name": "stdout",
     "output_type": "stream",
     "text": [
      "0 12\n",
      "1 13\n",
      "2 14\n",
      "3 16\n",
      "4 17\n",
      "5 0 1\n",
      "5 1 2\n",
      "5 2 3\n"
     ]
    }
   ],
   "source": [
    "nl = [12,13,14,16,17,[1,2,3]]\n",
    "n = len(nl)\n",
    "for i in range(n):\n",
    "    if type(nl[i]) is list: # this condition is basically means ki apka phla index is list or not \n",
    "        if len(nl[i])>1:\n",
    "            \n",
    "            m = len(nl[i])\n",
    "            for j in range(m):\n",
    "                print(i,j,nl[i][j])\n",
    "    else:\n",
    "        print(i,nl[i])"
   ]
  },
  {
   "cell_type": "markdown",
   "id": "646f388d",
   "metadata": {},
   "source": [
    "# Second type of nested loop"
   ]
  },
  {
   "cell_type": "code",
   "execution_count": 15,
   "id": "37f6c97a",
   "metadata": {},
   "outputs": [],
   "source": [
    "a = [\n",
    "    [12,13,14],\n",
    "    [14,1312,155]\n",
    "]"
   ]
  },
  {
   "cell_type": "code",
   "execution_count": 20,
   "id": "727167d2",
   "metadata": {},
   "outputs": [
    {
     "name": "stdout",
     "output_type": "stream",
     "text": [
      "0 0 <--index 12\n",
      "0 1 <--index 13\n",
      "0 2 <--index 14\n",
      "\n",
      "1 0 <--index 14\n",
      "1 1 <--index 1312\n",
      "1 2 <--index 155\n",
      "\n"
     ]
    }
   ],
   "source": [
    "for i in range(len(a)):\n",
    "    for j in range(len(a[i])):\n",
    "        print(i,j,\"<--index\",a[i][j])\n",
    "    print()"
   ]
  },
  {
   "cell_type": "code",
   "execution_count": null,
   "id": "2efba295",
   "metadata": {},
   "outputs": [],
   "source": []
  }
 ],
 "metadata": {
  "kernelspec": {
   "display_name": "Python 3 (ipykernel)",
   "language": "python",
   "name": "python3"
  },
  "language_info": {
   "codemirror_mode": {
    "name": "ipython",
    "version": 3
   },
   "file_extension": ".py",
   "mimetype": "text/x-python",
   "name": "python",
   "nbconvert_exporter": "python",
   "pygments_lexer": "ipython3",
   "version": "3.9.13"
  }
 },
 "nbformat": 4,
 "nbformat_minor": 5
}
