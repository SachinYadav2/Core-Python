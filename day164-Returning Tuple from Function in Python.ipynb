{
 "cells": [
  {
   "cell_type": "code",
   "execution_count": 5,
   "id": "96dc48ac",
   "metadata": {},
   "outputs": [
    {
     "name": "stdout",
     "output_type": "stream",
     "text": [
      "(10, 20, 'adsds')\n",
      "<class 'tuple'>\n",
      "10\n",
      "20\n",
      "adsds\n",
      "      \n"
     ]
    },
    {
     "data": {
      "text/plain": [
       "(10, 20, 'adsds')"
      ]
     },
     "execution_count": 5,
     "metadata": {},
     "output_type": "execute_result"
    }
   ],
   "source": [
    "def show(t):\n",
    "    print(t)\n",
    "    print(type(t))\n",
    "    for i in t:\n",
    "        print(i)\n",
    "    return t   \n",
    "        \n",
    "tup = (10 , 20 , \"adsds\")\n",
    "return_store = show(tup)\n",
    "print(\"      \")\n",
    "return_store"
   ]
  },
  {
   "cell_type": "code",
   "execution_count": null,
   "id": "23d7e6df",
   "metadata": {},
   "outputs": [],
   "source": []
  }
 ],
 "metadata": {
  "kernelspec": {
   "display_name": "Python 3 (ipykernel)",
   "language": "python",
   "name": "python3"
  },
  "language_info": {
   "codemirror_mode": {
    "name": "ipython",
    "version": 3
   },
   "file_extension": ".py",
   "mimetype": "text/x-python",
   "name": "python",
   "nbconvert_exporter": "python",
   "pygments_lexer": "ipython3",
   "version": "3.10.8"
  }
 },
 "nbformat": 4,
 "nbformat_minor": 5
}
