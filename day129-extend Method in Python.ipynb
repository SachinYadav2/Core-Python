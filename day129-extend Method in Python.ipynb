{
 "cells": [
  {
   "cell_type": "markdown",
   "id": "0897580b",
   "metadata": {},
   "source": [
    "# extend()\n",
    "- this method se ham already created list me element or list add kr skte h and return a new list "
   ]
  },
  {
   "cell_type": "code",
   "execution_count": 2,
   "id": "2346ff2b",
   "metadata": {},
   "outputs": [],
   "source": [
    "a = [12,131,13]\n",
    "a.extend([21221,12333])"
   ]
  },
  {
   "cell_type": "code",
   "execution_count": 3,
   "id": "3200c0cf",
   "metadata": {},
   "outputs": [
    {
     "data": {
      "text/plain": [
       "[12, 131, 13, 21221, 12333]"
      ]
     },
     "execution_count": 3,
     "metadata": {},
     "output_type": "execute_result"
    }
   ],
   "source": [
    "a"
   ]
  },
  {
   "cell_type": "code",
   "execution_count": null,
   "id": "726dd94a",
   "metadata": {},
   "outputs": [],
   "source": []
  }
 ],
 "metadata": {
  "kernelspec": {
   "display_name": "Python 3 (ipykernel)",
   "language": "python",
   "name": "python3"
  },
  "language_info": {
   "codemirror_mode": {
    "name": "ipython",
    "version": 3
   },
   "file_extension": ".py",
   "mimetype": "text/x-python",
   "name": "python",
   "nbconvert_exporter": "python",
   "pygments_lexer": "ipython3",
   "version": "3.9.13"
  }
 },
 "nbformat": 4,
 "nbformat_minor": 5
}
