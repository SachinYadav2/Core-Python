{
 "cells": [
  {
   "cell_type": "markdown",
   "id": "43095e7c",
   "metadata": {},
   "source": [
    "# Hm eski help se dict ko update kar skte h basically and yah hame\n",
    "- .update(iterable)"
   ]
  },
  {
   "cell_type": "code",
   "execution_count": 4,
   "id": "3460a644",
   "metadata": {},
   "outputs": [
    {
     "name": "stdout",
     "output_type": "stream",
     "text": [
      "4361738688\n"
     ]
    }
   ],
   "source": [
    "d = {101:\"Sachin\" ,102:\"Mohan\" ,103:\"Sohan\"}\n",
    "print(id(d))"
   ]
  },
  {
   "cell_type": "code",
   "execution_count": 5,
   "id": "06b57f94",
   "metadata": {},
   "outputs": [],
   "source": [
    "new = d.update({212:\"asdad\" , \"sas\":\"sasa\"})"
   ]
  },
  {
   "cell_type": "code",
   "execution_count": 6,
   "id": "4fcd3bd4",
   "metadata": {},
   "outputs": [
    {
     "name": "stdout",
     "output_type": "stream",
     "text": [
      "None\n",
      "{101: 'Sachin', 102: 'Mohan', 103: 'Sohan', 212: 'asdad', 'sas': 'sasa'}\n",
      "4361738688\n"
     ]
    }
   ],
   "source": [
    "print(new)\n",
    "print(d)\n",
    "\n",
    "print(id(d))"
   ]
  },
  {
   "cell_type": "code",
   "execution_count": null,
   "id": "0537f2e0",
   "metadata": {},
   "outputs": [],
   "source": []
  }
 ],
 "metadata": {
  "kernelspec": {
   "display_name": "Python 3 (ipykernel)",
   "language": "python",
   "name": "python3"
  },
  "language_info": {
   "codemirror_mode": {
    "name": "ipython",
    "version": 3
   },
   "file_extension": ".py",
   "mimetype": "text/x-python",
   "name": "python",
   "nbconvert_exporter": "python",
   "pygments_lexer": "ipython3",
   "version": "3.10.8"
  }
 },
 "nbformat": 4,
 "nbformat_minor": 5
}
