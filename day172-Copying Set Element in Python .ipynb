{
 "cells": [
  {
   "cell_type": "markdown",
   "id": "e48429b3",
   "metadata": {},
   "source": [
    "# Hm copy method ka use krke element ko copy kr skte h basically\n"
   ]
  },
  {
   "cell_type": "code",
   "execution_count": 2,
   "id": "c7f6eb02",
   "metadata": {},
   "outputs": [
    {
     "name": "stdout",
     "output_type": "stream",
     "text": [
      "4365791776\n",
      "4356377952\n",
      "{3232, 2323, 'Hello'}\n"
     ]
    }
   ],
   "source": [
    "a = {2323,\"Hello\",3232}\n",
    "copy_a = a.copy() # This is method\n",
    "print(id(a))\n",
    "print(id(copy_a))\n",
    "print(copy_a)"
   ]
  },
  {
   "cell_type": "code",
   "execution_count": 2,
   "id": "0a7aef5e",
   "metadata": {},
   "outputs": [
    {
     "name": "stdout",
     "output_type": "stream",
     "text": [
      "zsh:1: command not found: rmvirtualenv\r\n"
     ]
    }
   ],
   "source": [
    "!rmvirtualenv qna"
   ]
  },
  {
   "cell_type": "code",
   "execution_count": null,
   "id": "a696eacb",
   "metadata": {},
   "outputs": [],
   "source": []
  }
 ],
 "metadata": {
  "kernelspec": {
   "display_name": "qna",
   "language": "python",
   "name": "qna"
  },
  "language_info": {
   "codemirror_mode": {
    "name": "ipython",
    "version": 3
   },
   "file_extension": ".py",
   "mimetype": "text/x-python",
   "name": "python",
   "nbconvert_exporter": "python",
   "pygments_lexer": "ipython3",
   "version": "3.9.6"
  }
 },
 "nbformat": 4,
 "nbformat_minor": 5
}
