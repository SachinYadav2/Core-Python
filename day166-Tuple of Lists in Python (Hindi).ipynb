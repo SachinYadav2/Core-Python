{
 "cells": [
  {
   "cell_type": "markdown",
   "id": "111f7fa6",
   "metadata": {},
   "source": [
    "# Yha hm indrectly  tuple me change krenge using the lis basicallty\n"
   ]
  },
  {
   "cell_type": "code",
   "execution_count": 3,
   "id": "1320f691",
   "metadata": {},
   "outputs": [],
   "source": [
    "a = ([1212,22323],434,354,34)\n",
    "b = (\n",
    "    [212,3234,434],\n",
    "    [1,22323,434,5]\n",
    "\n",
    ")"
   ]
  },
  {
   "cell_type": "code",
   "execution_count": 5,
   "id": "01dcd811",
   "metadata": {},
   "outputs": [
    {
     "name": "stdout",
     "output_type": "stream",
     "text": [
      "[1212, 22323]\n",
      "434\n",
      "354\n",
      "34\n",
      "<class 'tuple'>\n"
     ]
    }
   ],
   "source": [
    "n = len(a)\n",
    "for i in range(n):\n",
    "    if type(a[i]) is tuple:\n",
    "        if len(a[i]) > 1:\n",
    "            m = len(a[i])\n",
    "            for j in range(m):\n",
    "                print(a[i][j])\n",
    "    else:\n",
    "        print(a[i])\n",
    "        \n",
    "print(type(a))"
   ]
  },
  {
   "cell_type": "code",
   "execution_count": 10,
   "id": "ec574368",
   "metadata": {},
   "outputs": [
    {
     "name": "stdout",
     "output_type": "stream",
     "text": [
      "212\n",
      "3234\n",
      "434\n",
      "1\n",
      "22323\n",
      "434\n",
      "5\n",
      "<class 'tuple'>\n"
     ]
    }
   ],
   "source": [
    "a = (\n",
    "    [212,3234,434],\n",
    "    [1,22323,434,5]\n",
    "\n",
    ")\n",
    "n = len(a)\n",
    "for i in range(n):\n",
    "    for j in range(len(a[i])):\n",
    "        print(a[i][j])\n",
    "\n",
    "        \n",
    "print(type(a))"
   ]
  },
  {
   "cell_type": "code",
   "execution_count": null,
   "id": "0e5a6bf5",
   "metadata": {},
   "outputs": [],
   "source": []
  }
 ],
 "metadata": {
  "kernelspec": {
   "display_name": "Python 3 (ipykernel)",
   "language": "python",
   "name": "python3"
  },
  "language_info": {
   "codemirror_mode": {
    "name": "ipython",
    "version": 3
   },
   "file_extension": ".py",
   "mimetype": "text/x-python",
   "name": "python",
   "nbconvert_exporter": "python",
   "pygments_lexer": "ipython3",
   "version": "3.10.8"
  }
 },
 "nbformat": 4,
 "nbformat_minor": 5
}
