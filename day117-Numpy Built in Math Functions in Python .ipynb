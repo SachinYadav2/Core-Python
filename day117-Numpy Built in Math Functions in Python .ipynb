{
 "cells": [
  {
   "cell_type": "markdown",
   "id": "8daa85b0",
   "metadata": {},
   "source": [
    "# Ye all fun return krte h value ko"
   ]
  },
  {
   "cell_type": "code",
   "execution_count": 4,
   "id": "fe83aa8d",
   "metadata": {},
   "outputs": [
    {
     "name": "stdout",
     "output_type": "stream",
     "text": [
      "a 10\n",
      "\n",
      "b 69227887680\n"
     ]
    }
   ],
   "source": [
    "from numpy import*\n",
    "\n",
    "a = array([1,2,3,4])\n",
    "b = array([[2,23,45,6],[21,212,313,4]])\n",
    "\n",
    "print(\"a\",sum(a))\n",
    "print()\n",
    "print(\"b\",prod(b))"
   ]
  },
  {
   "cell_type": "code",
   "execution_count": 5,
   "id": "577344a2",
   "metadata": {},
   "outputs": [
    {
     "name": "stdout",
     "output_type": "stream",
     "text": [
      "[1.         1.41421356 1.73205081 2.        ]\n"
     ]
    }
   ],
   "source": [
    "print(sqrt(a))"
   ]
  },
  {
   "cell_type": "code",
   "execution_count": null,
   "id": "f156754b",
   "metadata": {},
   "outputs": [],
   "source": []
  },
  {
   "cell_type": "code",
   "execution_count": 14,
   "id": "31c8a804",
   "metadata": {},
   "outputs": [
    {
     "data": {
      "text/plain": [
       "<function builtin_function_or_method.__dir__()>"
      ]
     },
     "execution_count": 14,
     "metadata": {},
     "output_type": "execute_result"
    }
   ],
   "source": [
    "print.__dir__"
   ]
  },
  {
   "cell_type": "code",
   "execution_count": null,
   "id": "0391ef28",
   "metadata": {},
   "outputs": [],
   "source": []
  }
 ],
 "metadata": {
  "kernelspec": {
   "display_name": "Python 3 (ipykernel)",
   "language": "python",
   "name": "python3"
  },
  "language_info": {
   "codemirror_mode": {
    "name": "ipython",
    "version": 3
   },
   "file_extension": ".py",
   "mimetype": "text/x-python",
   "name": "python",
   "nbconvert_exporter": "python",
   "pygments_lexer": "ipython3",
   "version": "3.9.13"
  }
 },
 "nbformat": 4,
 "nbformat_minor": 5
}
