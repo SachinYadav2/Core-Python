{
 "cells": [
  {
   "cell_type": "markdown",
   "id": "503ad852",
   "metadata": {},
   "source": [
    "## Mutable obj-\n",
    "- Bah object hote jinki value change ke ja skti at any time EX.. list,dict,dict"
   ]
  },
  {
   "cell_type": "code",
   "execution_count": 4,
   "id": "5015ca06",
   "metadata": {},
   "outputs": [],
   "source": [
    "li = [12,13,\"SACHIN\"]\n",
    "li[2] = \"SANDYA\""
   ]
  },
  {
   "cell_type": "code",
   "execution_count": 5,
   "id": "42e1d537",
   "metadata": {},
   "outputs": [
    {
     "data": {
      "text/plain": [
       "[12, 13, 'SANDYA']"
      ]
     },
     "execution_count": 5,
     "metadata": {},
     "output_type": "execute_result"
    }
   ],
   "source": [
    "li"
   ]
  },
  {
   "cell_type": "markdown",
   "id": "f0bda0c0",
   "metadata": {},
   "source": [
    "# Immutable Object\n",
    "- Bah object jinki value change ke  nhi ja skti h wah object hmare immu.."
   ]
  },
  {
   "cell_type": "code",
   "execution_count": 7,
   "id": "74233d92",
   "metadata": {},
   "outputs": [
    {
     "data": {
      "text/plain": [
       "'Sachin'"
      ]
     },
     "execution_count": 7,
     "metadata": {},
     "output_type": "execute_result"
    }
   ],
   "source": [
    "# string ,numbers, tuple\n",
    "tupl = (21,12,\"Sachin\")\n",
    "tupl[2]"
   ]
  },
  {
   "cell_type": "code",
   "execution_count": 8,
   "id": "43ef2c71",
   "metadata": {},
   "outputs": [
    {
     "ename": "TypeError",
     "evalue": "'tuple' object does not support item assignment",
     "output_type": "error",
     "traceback": [
      "\u001b[0;31m---------------------------------------------------------------------------\u001b[0m",
      "\u001b[0;31mTypeError\u001b[0m                                 Traceback (most recent call last)",
      "Input \u001b[0;32mIn [8]\u001b[0m, in \u001b[0;36m<cell line: 1>\u001b[0;34m()\u001b[0m\n\u001b[0;32m----> 1\u001b[0m tupl[\u001b[38;5;241m2\u001b[39m] \u001b[38;5;241m=\u001b[39m \u001b[38;5;124m'\u001b[39m\u001b[38;5;124mArju\u001b[39m\u001b[38;5;124m'\u001b[39m\n",
      "\u001b[0;31mTypeError\u001b[0m: 'tuple' object does not support item assignment"
     ]
    }
   ],
   "source": [
    "tupl[2] = 'Arju'"
   ]
  },
  {
   "cell_type": "code",
   "execution_count": null,
   "id": "1d162299",
   "metadata": {},
   "outputs": [],
   "source": []
  }
 ],
 "metadata": {
  "kernelspec": {
   "display_name": "Python 3 (ipykernel)",
   "language": "python",
   "name": "python3"
  },
  "language_info": {
   "codemirror_mode": {
    "name": "ipython",
    "version": 3
   },
   "file_extension": ".py",
   "mimetype": "text/x-python",
   "name": "python",
   "nbconvert_exporter": "python",
   "pygments_lexer": "ipython3",
   "version": "3.9.13"
  }
 },
 "nbformat": 4,
 "nbformat_minor": 5
}
