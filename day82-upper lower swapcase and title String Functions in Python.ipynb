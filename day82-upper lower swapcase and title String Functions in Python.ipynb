{
 "cells": [
  {
   "cell_type": "code",
   "execution_count": 1,
   "id": "821f2c8b",
   "metadata": {},
   "outputs": [],
   "source": [
    "name = \"hello WORD\"\n"
   ]
  },
  {
   "cell_type": "markdown",
   "id": "9a7aca71",
   "metadata": {},
   "source": [
    "## lower\n",
    "- all word ko lower kar deta h \n",
    "## upper\n",
    "- all word ko Upppercase me convert kar deta h\n",
    "## swapcase\n",
    " - agar tumare sentence me lower h to upper agar upper h to lower kar deta\n",
    "## title\n",
    "- yah hmare Word ke every first latter ko upper kar deta h "
   ]
  },
  {
   "cell_type": "code",
   "execution_count": 2,
   "id": "ea972ed7",
   "metadata": {},
   "outputs": [],
   "source": [
    "# all synatax  - string.fun()\n"
   ]
  },
  {
   "cell_type": "code",
   "execution_count": 3,
   "id": "d13a256d",
   "metadata": {},
   "outputs": [
    {
     "name": "stdout",
     "output_type": "stream",
     "text": [
      "HELLO WORD\n",
      "hello word\n",
      "HELLO word\n",
      "Hello Word\n"
     ]
    }
   ],
   "source": [
    "print(name.upper())\n",
    "print(name.lower())\n",
    "print(name.swapcase())\n",
    "print(name.title())"
   ]
  },
  {
   "cell_type": "code",
   "execution_count": 5,
   "id": "10cd7345",
   "metadata": {},
   "outputs": [
    {
     "name": "stdout",
     "output_type": "stream",
     "text": [
      "hello WORD\n"
     ]
    }
   ],
   "source": [
    "# No change in Origanl string\n",
    "print(name)"
   ]
  },
  {
   "cell_type": "code",
   "execution_count": null,
   "id": "1584ab2b",
   "metadata": {},
   "outputs": [],
   "source": []
  }
 ],
 "metadata": {
  "kernelspec": {
   "display_name": "Python 3 (ipykernel)",
   "language": "python",
   "name": "python3"
  },
  "language_info": {
   "codemirror_mode": {
    "name": "ipython",
    "version": 3
   },
   "file_extension": ".py",
   "mimetype": "text/x-python",
   "name": "python",
   "nbconvert_exporter": "python",
   "pygments_lexer": "ipython3",
   "version": "3.9.13"
  }
 },
 "nbformat": 4,
 "nbformat_minor": 5
}
