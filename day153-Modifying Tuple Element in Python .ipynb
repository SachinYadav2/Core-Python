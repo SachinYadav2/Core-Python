{
 "cells": [
  {
   "cell_type": "markdown",
   "id": "b775ec61",
   "metadata": {},
   "source": [
    "# We know ke hmeari tuple jo hote h wo immutable hote h \n",
    "- ke hm na to delete , modify(same location before and after ke object),update ye operation ko hm apply kr skte h"
   ]
  },
  {
   "cell_type": "code",
   "execution_count": 1,
   "id": "6859b46e",
   "metadata": {},
   "outputs": [
    {
     "ename": "TypeError",
     "evalue": "'tuple' object does not support item assignment",
     "output_type": "error",
     "traceback": [
      "\u001b[0;31m---------------------------------------------------------------------------\u001b[0m",
      "\u001b[0;31mTypeError\u001b[0m                                 Traceback (most recent call last)",
      "Input \u001b[0;32mIn [1]\u001b[0m, in \u001b[0;36m<cell line: 4>\u001b[0;34m()\u001b[0m\n\u001b[1;32m      1\u001b[0m \u001b[38;5;66;03m# Modify kr skte h logi se\u001b[39;00m\n\u001b[1;32m      3\u001b[0m a \u001b[38;5;241m=\u001b[39m (\u001b[38;5;241m12\u001b[39m , \u001b[38;5;241m14\u001b[39m , \u001b[38;5;241m15\u001b[39m, \u001b[38;5;241m16\u001b[39m, \u001b[38;5;241m17\u001b[39m, \u001b[38;5;241m18\u001b[39m, \u001b[38;5;241m19\u001b[39m)\n\u001b[0;32m----> 4\u001b[0m a[\u001b[38;5;241m1\u001b[39m] \u001b[38;5;241m=\u001b[39m \u001b[38;5;241m21234341\u001b[39m\n",
      "\u001b[0;31mTypeError\u001b[0m: 'tuple' object does not support item assignment"
     ]
    }
   ],
   "source": [
    "# Modify kr skte h logi se\n",
    "\n",
    "a = (12 , 14 , 15, 16, 17, 18, 19)\n",
    "a[1] = 21234341\n"
   ]
  },
  {
   "cell_type": "code",
   "execution_count": 3,
   "id": "87492723",
   "metadata": {},
   "outputs": [
    {
     "data": {
      "text/plain": [
       "(12, 14, 15, 16, 17, 18, 19, 323, 'sdsd')"
      ]
     },
     "execution_count": 3,
     "metadata": {},
     "output_type": "execute_result"
    }
   ],
   "source": [
    "# First method h modify krne ka basicaly yah hmara\n",
    "a = (12 , 14 , 15, 16, 17, 18, 19)\n",
    "b = (323, \"sdsd\")\n",
    "re = a+b\n",
    "re"
   ]
  },
  {
   "cell_type": "code",
   "execution_count": 5,
   "id": "252c8191",
   "metadata": {},
   "outputs": [
    {
     "data": {
      "text/plain": [
       "(12, 14, 323, 'sdsd', 15, 16, 17, 18, 19)"
      ]
     },
     "execution_count": 5,
     "metadata": {},
     "output_type": "execute_result"
    }
   ],
   "source": [
    "# Second  method h modify krne ka basicaly yah hmara\n",
    "a = (12 , 14 , 15, 16, 17, 18, 19)\n",
    "b = (323, \"sdsd\")\n",
    "\n",
    "s1 = a[0:2]\n",
    "s2 = a[2:]\n",
    "\n",
    "re = s1+b+s2\n",
    "re"
   ]
  },
  {
   "cell_type": "code",
   "execution_count": 6,
   "id": "3201bfab",
   "metadata": {},
   "outputs": [
    {
     "data": {
      "text/plain": [
       "(12, 14, 323, 'sdsd', 16, 17, 18, 19)"
      ]
     },
     "execution_count": 6,
     "metadata": {},
     "output_type": "execute_result"
    }
   ],
   "source": [
    "# Second  method h modify krne ka basicaly yah hmara\n",
    "a = (12 , 14 , 15, 16, 17, 18, 19)\n",
    "b = (323, \"sdsd\")\n",
    "\n",
    "s1 = a[0:2]\n",
    "s2 = a[3:]\n",
    "\n",
    "re = s1+b+s2\n",
    "re"
   ]
  },
  {
   "cell_type": "code",
   "execution_count": null,
   "id": "2eba6ec5",
   "metadata": {},
   "outputs": [],
   "source": []
  }
 ],
 "metadata": {
  "kernelspec": {
   "display_name": "Python 3 (ipykernel)",
   "language": "python",
   "name": "python3"
  },
  "language_info": {
   "codemirror_mode": {
    "name": "ipython",
    "version": 3
   },
   "file_extension": ".py",
   "mimetype": "text/x-python",
   "name": "python",
   "nbconvert_exporter": "python",
   "pygments_lexer": "ipython3",
   "version": "3.9.13"
  }
 },
 "nbformat": 4,
 "nbformat_minor": 5
}
