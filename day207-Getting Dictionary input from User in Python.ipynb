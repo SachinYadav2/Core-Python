{
 "cells": [
  {
   "cell_type": "code",
   "execution_count": 1,
   "id": "367c6f98",
   "metadata": {},
   "outputs": [
    {
     "name": "stdout",
     "output_type": "stream",
     "text": [
      "2\n",
      "101\n",
      "Sachin\n",
      "102\n",
      "Mohan\n",
      "{'101': 'Sachin', '102': 'Mohan'}\n"
     ]
    }
   ],
   "source": [
    "d = {}\n",
    "n = int(input())\n",
    "\n",
    "for i in range(n):\n",
    "    key = input()\n",
    "    value = input()\n",
    "    d.update({key:value})\n",
    "    \n",
    "print(d)"
   ]
  },
  {
   "cell_type": "code",
   "execution_count": null,
   "id": "d6887362",
   "metadata": {},
   "outputs": [],
   "source": [
    "print(type())"
   ]
  }
 ],
 "metadata": {
  "kernelspec": {
   "display_name": "Python 3 (ipykernel)",
   "language": "python",
   "name": "python3"
  },
  "language_info": {
   "codemirror_mode": {
    "name": "ipython",
    "version": 3
   },
   "file_extension": ".py",
   "mimetype": "text/x-python",
   "name": "python",
   "nbconvert_exporter": "python",
   "pygments_lexer": "ipython3",
   "version": "3.10.8"
  }
 },
 "nbformat": 4,
 "nbformat_minor": 5
}
