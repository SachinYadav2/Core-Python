{
 "cells": [
  {
   "cell_type": "markdown",
   "id": "240a60ad",
   "metadata": {},
   "source": [
    "# Ham ek fun me Tuple bhi pass kr skte h "
   ]
  },
  {
   "cell_type": "code",
   "execution_count": 1,
   "id": "49533e9a",
   "metadata": {},
   "outputs": [
    {
     "name": "stdout",
     "output_type": "stream",
     "text": [
      "(10, 20, 'adsds')\n",
      "<class 'tuple'>\n",
      "10\n",
      "20\n",
      "adsds\n"
     ]
    }
   ],
   "source": [
    "def show(t):\n",
    "    print(t)\n",
    "    print(type(t))\n",
    "    for i in t:\n",
    "        print(i)\n",
    "        \n",
    "        \n",
    "tup = (10 , 20 , \"adsds\")\n",
    "show(tup)"
   ]
  },
  {
   "cell_type": "code",
   "execution_count": null,
   "id": "ecb35699",
   "metadata": {},
   "outputs": [],
   "source": []
  }
 ],
 "metadata": {
  "kernelspec": {
   "display_name": "Python 3 (ipykernel)",
   "language": "python",
   "name": "python3"
  },
  "language_info": {
   "codemirror_mode": {
    "name": "ipython",
    "version": 3
   },
   "file_extension": ".py",
   "mimetype": "text/x-python",
   "name": "python",
   "nbconvert_exporter": "python",
   "pygments_lexer": "ipython3",
   "version": "3.10.8"
  }
 },
 "nbformat": 4,
 "nbformat_minor": 5
}
