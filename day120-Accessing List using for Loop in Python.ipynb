{
 "cells": [
  {
   "cell_type": "code",
   "execution_count": 1,
   "id": "8a3fd52b",
   "metadata": {},
   "outputs": [],
   "source": [
    "l = [12,2131,-12,\"sachin \"]"
   ]
  },
  {
   "cell_type": "markdown",
   "id": "1c89ff03",
   "metadata": {},
   "source": [
    "## With index"
   ]
  },
  {
   "cell_type": "code",
   "execution_count": 3,
   "id": "2aa48b82",
   "metadata": {},
   "outputs": [
    {
     "name": "stdout",
     "output_type": "stream",
     "text": [
      "index 0 12\n",
      "index 1 2131\n",
      "index 2 -12\n",
      "index 3 sachin \n"
     ]
    }
   ],
   "source": [
    "for ele in range(len(l)):\n",
    "    print(\"index\",ele,l[ele])"
   ]
  },
  {
   "cell_type": "markdown",
   "id": "d8dfe397",
   "metadata": {},
   "source": [
    "## without index\n"
   ]
  },
  {
   "cell_type": "code",
   "execution_count": 4,
   "id": "56a0c950",
   "metadata": {},
   "outputs": [
    {
     "name": "stdout",
     "output_type": "stream",
     "text": [
      "12\n",
      "2131\n",
      "-12\n",
      "sachin \n"
     ]
    }
   ],
   "source": [
    "for ele in l:\n",
    "    print(ele)"
   ]
  },
  {
   "cell_type": "code",
   "execution_count": null,
   "id": "25839209",
   "metadata": {},
   "outputs": [],
   "source": []
  }
 ],
 "metadata": {
  "kernelspec": {
   "display_name": "Python 3 (ipykernel)",
   "language": "python",
   "name": "python3"
  },
  "language_info": {
   "codemirror_mode": {
    "name": "ipython",
    "version": 3
   },
   "file_extension": ".py",
   "mimetype": "text/x-python",
   "name": "python",
   "nbconvert_exporter": "python",
   "pygments_lexer": "ipython3",
   "version": "3.9.13"
  }
 },
 "nbformat": 4,
 "nbformat_minor": 5
}
