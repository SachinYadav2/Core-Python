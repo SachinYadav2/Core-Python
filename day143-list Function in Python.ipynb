{
 "cells": [
  {
   "cell_type": "markdown",
   "id": "3d79466c",
   "metadata": {},
   "source": [
    "# Ham do. method se ese use krte h basically"
   ]
  },
  {
   "cell_type": "code",
   "execution_count": 4,
   "id": "1105a8c5",
   "metadata": {},
   "outputs": [
    {
     "name": "stdout",
     "output_type": "stream",
     "text": [
      "[]\n"
     ]
    }
   ],
   "source": [
    "#.1>> esse hame blank list banke miulti as Return \n",
    "store = list()\n",
    "print(store)"
   ]
  },
  {
   "cell_type": "code",
   "execution_count": 7,
   "id": "bd1256d9",
   "metadata": {},
   "outputs": [],
   "source": [
    "# 2.. Esse ham range fun ke sath use krte h basically \n",
    "store = list(range(0,10,2))"
   ]
  },
  {
   "cell_type": "code",
   "execution_count": 6,
   "id": "09b6d91d",
   "metadata": {},
   "outputs": [
    {
     "name": "stdout",
     "output_type": "stream",
     "text": [
      "[0, 2, 4, 6, 8]\n"
     ]
    }
   ],
   "source": [
    "print(store)"
   ]
  },
  {
   "cell_type": "code",
   "execution_count": null,
   "id": "b18f368f",
   "metadata": {},
   "outputs": [],
   "source": [
    "\n",
    "\n",
    "    "
   ]
  }
 ],
 "metadata": {
  "kernelspec": {
   "display_name": "Python 3 (ipykernel)",
   "language": "python",
   "name": "python3"
  },
  "language_info": {
   "codemirror_mode": {
    "name": "ipython",
    "version": 3
   },
   "file_extension": ".py",
   "mimetype": "text/x-python",
   "name": "python",
   "nbconvert_exporter": "python",
   "pygments_lexer": "ipython3",
   "version": "3.9.13"
  }
 },
 "nbformat": 4,
 "nbformat_minor": 5
}
