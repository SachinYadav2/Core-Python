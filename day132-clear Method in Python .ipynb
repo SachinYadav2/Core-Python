{
 "cells": [
  {
   "cell_type": "markdown",
   "id": "c129ec52",
   "metadata": {},
   "source": [
    "# clear()\n",
    "- this method delete kr deta h all element ko"
   ]
  },
  {
   "cell_type": "code",
   "execution_count": 1,
   "id": "4e232d62",
   "metadata": {},
   "outputs": [],
   "source": [
    "a = [121,\"sa\"]\n",
    "a.clear()"
   ]
  },
  {
   "cell_type": "code",
   "execution_count": 2,
   "id": "25a0a15e",
   "metadata": {},
   "outputs": [
    {
     "data": {
      "text/plain": [
       "[]"
      ]
     },
     "execution_count": 2,
     "metadata": {},
     "output_type": "execute_result"
    }
   ],
   "source": [
    "a"
   ]
  },
  {
   "cell_type": "code",
   "execution_count": null,
   "id": "d90cbf2f",
   "metadata": {},
   "outputs": [],
   "source": []
  }
 ],
 "metadata": {
  "kernelspec": {
   "display_name": "Python 3 (ipykernel)",
   "language": "python",
   "name": "python3"
  },
  "language_info": {
   "codemirror_mode": {
    "name": "ipython",
    "version": 3
   },
   "file_extension": ".py",
   "mimetype": "text/x-python",
   "name": "python",
   "nbconvert_exporter": "python",
   "pygments_lexer": "ipython3",
   "version": "3.9.13"
  }
 },
 "nbformat": 4,
 "nbformat_minor": 5
}
