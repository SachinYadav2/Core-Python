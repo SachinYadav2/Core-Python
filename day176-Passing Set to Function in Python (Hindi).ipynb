{
 "cells": [
  {
   "cell_type": "markdown",
   "id": "89a4cf6b",
   "metadata": {},
   "source": [
    "# hm kese bhi set pass kr skte h fun ke throw "
   ]
  },
  {
   "cell_type": "code",
   "execution_count": 2,
   "id": "45c4e515",
   "metadata": {},
   "outputs": [
    {
     "name": "stdout",
     "output_type": "stream",
     "text": [
      "dsds\n",
      "123.12\n",
      "12\n"
     ]
    }
   ],
   "source": [
    "def show(s):\n",
    "    for i in s:\n",
    "        print(i)\n",
    "\n",
    "\n",
    "s = {12,123.12 , \"dsds\"}\n",
    "show(s)"
   ]
  },
  {
   "cell_type": "code",
   "execution_count": null,
   "id": "8129e4a3",
   "metadata": {},
   "outputs": [],
   "source": []
  }
 ],
 "metadata": {
  "kernelspec": {
   "display_name": "Python 3 (ipykernel)",
   "language": "python",
   "name": "python3"
  },
  "language_info": {
   "codemirror_mode": {
    "name": "ipython",
    "version": 3
   },
   "file_extension": ".py",
   "mimetype": "text/x-python",
   "name": "python",
   "nbconvert_exporter": "python",
   "pygments_lexer": "ipython3",
   "version": "3.10.8"
  }
 },
 "nbformat": 4,
 "nbformat_minor": 5
}
