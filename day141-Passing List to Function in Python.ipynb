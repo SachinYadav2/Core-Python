{
 "cells": [
  {
   "cell_type": "code",
   "execution_count": 1,
   "id": "3f57747d",
   "metadata": {},
   "outputs": [],
   "source": [
    "# Esme ham denge ke kese ham kise fun me kise list ko pass kr skte h basically\n"
   ]
  },
  {
   "cell_type": "code",
   "execution_count": 2,
   "id": "42c8157a",
   "metadata": {},
   "outputs": [
    {
     "name": "stdout",
     "output_type": "stream",
     "text": [
      "[121, 23, 33434, 45645, 46456, 'Heloo']\n",
      "<class 'list'>\n",
      "121\n",
      "23\n",
      "33434\n",
      "45645\n",
      "46456\n",
      "Heloo\n"
     ]
    }
   ],
   "source": [
    "def show(l):\n",
    "    print(l)\n",
    "    print(type(l))\n",
    "    for i in l:\n",
    "        print(i)\n",
    "        \n",
    "lis = [121,23,33434,45645,46456,\"Heloo\"]\n",
    "show(lis)"
   ]
  },
  {
   "cell_type": "code",
   "execution_count": null,
   "id": "97a1d84e",
   "metadata": {},
   "outputs": [],
   "source": []
  }
 ],
 "metadata": {
  "kernelspec": {
   "display_name": "Python 3 (ipykernel)",
   "language": "python",
   "name": "python3"
  },
  "language_info": {
   "codemirror_mode": {
    "name": "ipython",
    "version": 3
   },
   "file_extension": ".py",
   "mimetype": "text/x-python",
   "name": "python",
   "nbconvert_exporter": "python",
   "pygments_lexer": "ipython3",
   "version": "3.9.13"
  }
 },
 "nbformat": 4,
 "nbformat_minor": 5
}
