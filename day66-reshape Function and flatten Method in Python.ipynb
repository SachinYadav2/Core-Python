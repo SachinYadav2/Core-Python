{
 "cells": [
  {
   "cell_type": "code",
   "execution_count": 1,
   "id": "487b724a",
   "metadata": {},
   "outputs": [],
   "source": [
    "from numpy import*"
   ]
  },
  {
   "cell_type": "markdown",
   "id": "7b47e92c",
   "metadata": {},
   "source": [
    "## Es fun ke help se ham essly \n",
    "- format(n,r,c)\n",
    "- nd to 1d\n",
    "- 1d to nd"
   ]
  },
  {
   "cell_type": "code",
   "execution_count": 2,
   "id": "b55ac2ae",
   "metadata": {},
   "outputs": [],
   "source": [
    "a = array([12,23,22,13,44,45])\n",
    "b = reshape(a,(2,3)) # Array jo hame change krni h and shape jis shape me array lani h"
   ]
  },
  {
   "cell_type": "code",
   "execution_count": 3,
   "id": "3526ccd7",
   "metadata": {},
   "outputs": [
    {
     "data": {
      "text/plain": [
       "array([[12, 23, 22],\n",
       "       [13, 44, 45]])"
      ]
     },
     "execution_count": 3,
     "metadata": {},
     "output_type": "execute_result"
    }
   ],
   "source": [
    "b"
   ]
  },
  {
   "cell_type": "code",
   "execution_count": 4,
   "id": "25c74dea",
   "metadata": {},
   "outputs": [
    {
     "data": {
      "text/plain": [
       "array([12, 23, 22, 13, 44, 45])"
      ]
     },
     "execution_count": 4,
     "metadata": {},
     "output_type": "execute_result"
    }
   ],
   "source": [
    "c = reshape(b,(6))\n",
    "c"
   ]
  },
  {
   "cell_type": "code",
   "execution_count": null,
   "id": "136e29a0",
   "metadata": {},
   "outputs": [],
   "source": []
  }
 ],
 "metadata": {
  "kernelspec": {
   "display_name": "Python 3 (ipykernel)",
   "language": "python",
   "name": "python3"
  },
  "language_info": {
   "codemirror_mode": {
    "name": "ipython",
    "version": 3
   },
   "file_extension": ".py",
   "mimetype": "text/x-python",
   "name": "python",
   "nbconvert_exporter": "python",
   "pygments_lexer": "ipython3",
   "version": "3.9.13"
  }
 },
 "nbformat": 4,
 "nbformat_minor": 5
}
