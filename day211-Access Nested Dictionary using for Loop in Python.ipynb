{
 "cells": [
  {
   "cell_type": "code",
   "execution_count": 1,
   "id": "76a8252b",
   "metadata": {},
   "outputs": [],
   "source": [
    "d = {\n",
    "    1:{12:\"Sachin\" ,13:\"MOhan\"},\n",
    "    2:{13:\"MOh\", 14:\"Rahul\"}\n",
    "}"
   ]
  },
  {
   "cell_type": "code",
   "execution_count": 4,
   "id": "5cfe3cc3",
   "metadata": {},
   "outputs": [
    {
     "name": "stdout",
     "output_type": "stream",
     "text": [
      "1\n",
      "2\n"
     ]
    }
   ],
   "source": [
    "# Key ke value ke liye \n",
    "for key in d:\n",
    "    print(key)"
   ]
  },
  {
   "cell_type": "code",
   "execution_count": 5,
   "id": "08ce0c3a",
   "metadata": {},
   "outputs": [
    {
     "name": "stdout",
     "output_type": "stream",
     "text": [
      "12\n",
      "13\n",
      "13\n",
      "14\n"
     ]
    }
   ],
   "source": [
    "# Nested values ko accessed \n",
    "\n",
    "for key in d:\n",
    "    for value in d[key]:\n",
    "        print(value)"
   ]
  },
  {
   "cell_type": "markdown",
   "id": "0d55e823",
   "metadata": {},
   "source": [
    "# Value ko accesed  krne ke iye"
   ]
  },
  {
   "cell_type": "code",
   "execution_count": 6,
   "id": "90480730",
   "metadata": {},
   "outputs": [
    {
     "name": "stdout",
     "output_type": "stream",
     "text": [
      "Sachin\n",
      "MOhan\n",
      "MOh\n",
      "Rahul\n"
     ]
    }
   ],
   "source": [
    "\n",
    "for key in d:\n",
    "    for value in d[key]:\n",
    "        print(d[key][value])"
   ]
  },
  {
   "cell_type": "code",
   "execution_count": null,
   "id": "16d3a734",
   "metadata": {},
   "outputs": [],
   "source": []
  }
 ],
 "metadata": {
  "kernelspec": {
   "display_name": "Python 3 (ipykernel)",
   "language": "python",
   "name": "python3"
  },
  "language_info": {
   "codemirror_mode": {
    "name": "ipython",
    "version": 3
   },
   "file_extension": ".py",
   "mimetype": "text/x-python",
   "name": "python",
   "nbconvert_exporter": "python",
   "pygments_lexer": "ipython3",
   "version": "3.10.8"
  }
 },
 "nbformat": 4,
 "nbformat_minor": 5
}
