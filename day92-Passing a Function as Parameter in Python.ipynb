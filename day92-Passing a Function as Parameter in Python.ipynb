{
 "cells": [
  {
   "cell_type": "markdown",
   "id": "b786ea8b",
   "metadata": {},
   "source": [
    "# Fun inside the call another function"
   ]
  },
  {
   "cell_type": "code",
   "execution_count": 11,
   "id": "90036c08",
   "metadata": {},
   "outputs": [
    {
     "name": "stdout",
     "output_type": "stream",
     "text": [
      "This is Disp Fun This is show fun\n"
     ]
    }
   ],
   "source": [
    "def disp(sh):\n",
    "#     sh = 10\n",
    "    print(\"This is Disp Fun \"+sh())\n",
    "def show():\n",
    "        return (\"This is show fun\")\n",
    "disp(show)"
   ]
  },
  {
   "cell_type": "code",
   "execution_count": 17,
   "id": "a3665706",
   "metadata": {},
   "outputs": [
    {
     "name": "stdout",
     "output_type": "stream",
     "text": [
      "This is Disp Fun eee\n"
     ]
    }
   ],
   "source": [
    "# Means ham parameter ko insite the function assign kar skte\n",
    "def disp(sh):\n",
    "    sh = \"eee\"\n",
    "    print(\"This is Disp Fun \"+sh)\n",
    "def show():\n",
    "        pass\n",
    "\n",
    "        return (\"This is show fun\")\n",
    "disp(show)"
   ]
  },
  {
   "cell_type": "code",
   "execution_count": null,
   "id": "e1d0323e",
   "metadata": {},
   "outputs": [],
   "source": []
  }
 ],
 "metadata": {
  "kernelspec": {
   "display_name": "Python 3 (ipykernel)",
   "language": "python",
   "name": "python3"
  },
  "language_info": {
   "codemirror_mode": {
    "name": "ipython",
    "version": 3
   },
   "file_extension": ".py",
   "mimetype": "text/x-python",
   "name": "python",
   "nbconvert_exporter": "python",
   "pygments_lexer": "ipython3",
   "version": "3.9.13"
  }
 },
 "nbformat": 4,
 "nbformat_minor": 5
}
