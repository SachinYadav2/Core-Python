{
 "cells": [
  {
   "cell_type": "markdown",
   "id": "0cc77d38",
   "metadata": {},
   "source": [
    "# set()\n",
    "- yh unorderd cpllection of elemnt hota h basically \n",
    "- means ke ham eske element ko index ke throw acces kre tho wh indexing ke order me print nhi hote h\n",
    "- yh duplicate element ko print nhi hote h\n",
    "- represent the tuple using this {}\n"
   ]
  },
  {
   "cell_type": "markdown",
   "id": "9a2ea56b",
   "metadata": {},
   "source": [
    "# Create"
   ]
  },
  {
   "cell_type": "code",
   "execution_count": 1,
   "id": "eff701a2",
   "metadata": {},
   "outputs": [],
   "source": [
    "s = {12 ,23,323,434,12,12,12}"
   ]
  },
  {
   "cell_type": "code",
   "execution_count": 2,
   "id": "72857e5b",
   "metadata": {},
   "outputs": [
    {
     "data": {
      "text/plain": [
       "{12, 23, 323, 434}"
      ]
     },
     "execution_count": 2,
     "metadata": {},
     "output_type": "execute_result"
    }
   ],
   "source": [
    "s"
   ]
  },
  {
   "cell_type": "markdown",
   "id": "e5f67597",
   "metadata": {},
   "source": [
    "# Note \n",
    "- alway empty set created using the set() fun \n",
    "- yha list ke trh nhi hota ke app [] eske sign se create kr skte ho"
   ]
  },
  {
   "cell_type": "code",
   "execution_count": 4,
   "id": "97cd0964",
   "metadata": {},
   "outputs": [
    {
     "ename": "TypeError",
     "evalue": "'set' object is not subscriptable",
     "output_type": "error",
     "traceback": [
      "\u001b[0;31m---------------------------------------------------------------------------\u001b[0m",
      "\u001b[0;31mTypeError\u001b[0m                                 Traceback (most recent call last)",
      "Cell \u001b[0;32mIn[4], line 2\u001b[0m\n\u001b[1;32m      1\u001b[0m a \u001b[38;5;241m=\u001b[39m {\u001b[38;5;241m12\u001b[39m,\u001b[38;5;241m2121\u001b[39m,\u001b[38;5;124m\"\u001b[39m\u001b[38;5;124mSavsvnsd\u001b[39m\u001b[38;5;124m\"\u001b[39m}\n\u001b[0;32m----> 2\u001b[0m \u001b[43ma\u001b[49m\u001b[43m[\u001b[49m\u001b[38;5;241;43m0\u001b[39;49m\u001b[43m]\u001b[49m\n",
      "\u001b[0;31mTypeError\u001b[0m: 'set' object is not subscriptable"
     ]
    }
   ],
   "source": [
    "a = {12,2121,\"Savsvnsd\"}\n",
    "a[0]"
   ]
  },
  {
   "cell_type": "code",
   "execution_count": 5,
   "id": "a4db1e4b",
   "metadata": {},
   "outputs": [
    {
     "data": {
      "text/plain": [
       "{12, 2121, 'Savsvnsd'}"
      ]
     },
     "execution_count": 5,
     "metadata": {},
     "output_type": "execute_result"
    }
   ],
   "source": [
    "a"
   ]
  },
  {
   "cell_type": "code",
   "execution_count": null,
   "id": "a150504b",
   "metadata": {},
   "outputs": [],
   "source": []
  }
 ],
 "metadata": {
  "kernelspec": {
   "display_name": "Python 3 (ipykernel)",
   "language": "python",
   "name": "python3"
  },
  "language_info": {
   "codemirror_mode": {
    "name": "ipython",
    "version": 3
   },
   "file_extension": ".py",
   "mimetype": "text/x-python",
   "name": "python",
   "nbconvert_exporter": "python",
   "pygments_lexer": "ipython3",
   "version": "3.10.8"
  }
 },
 "nbformat": 4,
 "nbformat_minor": 5
}
