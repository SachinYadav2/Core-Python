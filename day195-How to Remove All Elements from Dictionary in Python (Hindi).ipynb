{
 "cells": [
  {
   "cell_type": "markdown",
   "id": "a96a7736",
   "metadata": {},
   "source": [
    "# clear() method hmari dict ke inside se all item ko remove krta h basically"
   ]
  },
  {
   "cell_type": "code",
   "execution_count": 1,
   "id": "76d11dcf",
   "metadata": {},
   "outputs": [],
   "source": [
    "a = {101:\"dsds\" , 1023 : \"dfsdsd\"}\n",
    "a.clear()"
   ]
  },
  {
   "cell_type": "code",
   "execution_count": 2,
   "id": "b3666a27",
   "metadata": {},
   "outputs": [
    {
     "data": {
      "text/plain": [
       "{}"
      ]
     },
     "execution_count": 2,
     "metadata": {},
     "output_type": "execute_result"
    }
   ],
   "source": [
    "a"
   ]
  },
  {
   "cell_type": "code",
   "execution_count": null,
   "id": "7b3aae6e",
   "metadata": {},
   "outputs": [],
   "source": []
  }
 ],
 "metadata": {
  "kernelspec": {
   "display_name": "Python 3 (ipykernel)",
   "language": "python",
   "name": "python3"
  },
  "language_info": {
   "codemirror_mode": {
    "name": "ipython",
    "version": 3
   },
   "file_extension": ".py",
   "mimetype": "text/x-python",
   "name": "python",
   "nbconvert_exporter": "python",
   "pygments_lexer": "ipython3",
   "version": "3.10.8"
  }
 },
 "nbformat": 4,
 "nbformat_minor": 5
}
