{
 "cells": [
  {
   "cell_type": "markdown",
   "metadata": {},
   "source": [
    "## Yah By Default Screen ko hold kar deta \n",
    "### Esme Jo bhi ham data Enter Katre h wo By Default String me convert Ho jata\n",
    "### But Ese ham tye Converstions Se Solved kar skte\n"
   ]
  },
  {
   "cell_type": "code",
   "execution_count": 7,
   "metadata": {},
   "outputs": [
    {
     "name": "stdout",
     "output_type": "stream",
     "text": [
      "dsds\n",
      "dsds\n",
      "<class 'str'>\n"
     ]
    }
   ],
   "source": [
    "# input Se value lene ke bad hmari value name variable me jakar store ho gae\n",
    "name = input() # yha hme Apni value enter krni h \n",
    "\n",
    "print(name) # ye print krta \n",
    "print(type(name))"
   ]
  },
  {
   "cell_type": "code",
   "execution_count": 10,
   "metadata": {},
   "outputs": [
    {
     "name": "stdout",
     "output_type": "stream",
     "text": [
      "343\n",
      "<class 'str'>\n"
     ]
    }
   ],
   "source": [
    "# Ye Int To str me conert ho gya\n",
    "int1 = input()\n",
    "\n",
    "print(type(int1))"
   ]
  },
  {
   "cell_type": "code",
   "execution_count": 11,
   "metadata": {},
   "outputs": [
    {
     "name": "stdout",
     "output_type": "stream",
     "text": [
      "What Is your :sachin\n",
      "sachin\n",
      "<class 'str'>\n"
     ]
    }
   ],
   "source": [
    "name  = input(\"What Is your :\")\n",
    "print(name)\n",
    "print(type(name))"
   ]
  },
  {
   "cell_type": "code",
   "execution_count": 14,
   "metadata": {},
   "outputs": [
    {
     "name": "stdout",
     "output_type": "stream",
     "text": [
      "What Is your Roll_NO :133\n",
      "This is Your Roll NO 133\n",
      "<class 'str'>\n"
     ]
    }
   ],
   "source": [
    "roll  = input(\"What Is your Roll_NO :\")\n",
    "print(\"This is Your Roll NO\",roll) # Beautiful Manare me use kar liya\n",
    "print(type(roll))"
   ]
  },
  {
   "cell_type": "markdown",
   "metadata": {},
   "source": [
    "## Type Convert input fun ka\n",
    "- Any type me ham convert kar skte h flot list tuple etc.."
   ]
  },
  {
   "cell_type": "code",
   "execution_count": 19,
   "metadata": {},
   "outputs": [
    {
     "name": "stdout",
     "output_type": "stream",
     "text": [
      "Enter the mobile number232323\n",
      "<class 'str'>\n",
      "<class 'int'>\n",
      "232323\n"
     ]
    }
   ],
   "source": [
    "mobile = input(\"Enter the mobile number\")\n",
    "print(type(mobile))\n",
    "mb = int(mobile)\n",
    "print(type(mb))\n",
    "print(mb)"
   ]
  },
  {
   "cell_type": "code",
   "execution_count": 22,
   "metadata": {},
   "outputs": [
    {
     "name": "stdout",
     "output_type": "stream",
     "text": [
      "Enter the mobile number3232\n",
      "3232\n",
      "<class 'int'>\n"
     ]
    }
   ],
   "source": [
    "# Single Line type convert\n",
    "mobile = int(input(\"Enter the mobile number\"))\n",
    "print(mobile)\n",
    "print(type(mobile))"
   ]
  },
  {
   "cell_type": "code",
   "execution_count": null,
   "metadata": {},
   "outputs": [],
   "source": []
  }
 ],
 "metadata": {
  "kernelspec": {
   "display_name": "Python 3",
   "language": "python",
   "name": "python3"
  },
  "language_info": {
   "codemirror_mode": {
    "name": "ipython",
    "version": 3
   },
   "file_extension": ".py",
   "mimetype": "text/x-python",
   "name": "python",
   "nbconvert_exporter": "python",
   "pygments_lexer": "ipython3",
   "version": "3.8.5"
  }
 },
 "nbformat": 4,
 "nbformat_minor": 4
}
