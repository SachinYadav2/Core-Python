{
 "cells": [
  {
   "cell_type": "markdown",
   "id": "fe4279a6",
   "metadata": {},
   "source": [
    "# Hm eski help se two tuple ko concatinate krte h \n",
    "- usng the + operator"
   ]
  },
  {
   "cell_type": "code",
   "execution_count": 1,
   "id": "882c6fe1",
   "metadata": {},
   "outputs": [
    {
     "data": {
      "text/plain": [
       "(1, 2, 3, 4, 5, 5, 7)"
      ]
     },
     "execution_count": 1,
     "metadata": {},
     "output_type": "execute_result"
    }
   ],
   "source": [
    "a = (1,2,3,4,5)\n",
    "b = (5,7,)\n",
    "re  = a +b\n",
    "re"
   ]
  },
  {
   "cell_type": "code",
   "execution_count": 2,
   "id": "c919a8d4",
   "metadata": {},
   "outputs": [
    {
     "data": {
      "text/plain": [
       "(1, 2, 3, 4, 5, 5, 7, 'dsdad')"
      ]
     },
     "execution_count": 2,
     "metadata": {},
     "output_type": "execute_result"
    }
   ],
   "source": [
    "a = (1,2,3,4,5)\n",
    "b = (5,7,\"dsdad\")\n",
    "re  = a +b\n",
    "re"
   ]
  },
  {
   "cell_type": "code",
   "execution_count": 6,
   "id": "a9fa9306",
   "metadata": {},
   "outputs": [
    {
     "data": {
      "text/plain": [
       "(5, 7, 'dsdad', 1, 2, 3, 4, 5)"
      ]
     },
     "execution_count": 6,
     "metadata": {},
     "output_type": "execute_result"
    }
   ],
   "source": [
    "a = (1,2,3,4,5)\n",
    "b = (5,7,\"dsdad\",)+a\n",
    "b\n"
   ]
  },
  {
   "cell_type": "code",
   "execution_count": null,
   "id": "f32243a6",
   "metadata": {},
   "outputs": [],
   "source": []
  }
 ],
 "metadata": {
  "kernelspec": {
   "display_name": "Python 3 (ipykernel)",
   "language": "python",
   "name": "python3"
  },
  "language_info": {
   "codemirror_mode": {
    "name": "ipython",
    "version": 3
   },
   "file_extension": ".py",
   "mimetype": "text/x-python",
   "name": "python",
   "nbconvert_exporter": "python",
   "pygments_lexer": "ipython3",
   "version": "3.9.13"
  }
 },
 "nbformat": 4,
 "nbformat_minor": 5
}
