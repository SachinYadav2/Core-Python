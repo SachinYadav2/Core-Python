{
 "cells": [
  {
   "cell_type": "markdown",
   "id": "47d5d5c3",
   "metadata": {},
   "source": [
    "# is = True, False\n",
    "## isupper = if all char are uppercase then this fun is return True "
   ]
  },
  {
   "cell_type": "code",
   "execution_count": null,
   "id": "74154f98",
   "metadata": {},
   "outputs": [],
   "source": []
  },
  {
   "cell_type": "markdown",
   "id": "18dd37cc",
   "metadata": {},
   "source": [
    "### islower()\n",
    "### slower()\n",
    "### istitle()\n",
    "  \n"
   ]
  },
  {
   "cell_type": "code",
   "execution_count": 1,
   "id": "fb2ef654",
   "metadata": {},
   "outputs": [
    {
     "name": "stdout",
     "output_type": "stream",
     "text": [
      "True\n",
      "False\n",
      "True\n",
      "True\n"
     ]
    }
   ],
   "source": [
    "name = \"sachin\"\n",
    "sr = \"YADAV\"\n",
    "ti = \"S Ra\"\n",
    "print(name.islower())\n",
    "print(sr.islower())\n",
    "\n",
    "print(sr.isupper())\n",
    "\n",
    "print(ti.istitle())"
   ]
  },
  {
   "cell_type": "code",
   "execution_count": null,
   "id": "33c60333",
   "metadata": {},
   "outputs": [],
   "source": []
  }
 ],
 "metadata": {
  "kernelspec": {
   "display_name": "Python 3 (ipykernel)",
   "language": "python",
   "name": "python3"
  },
  "language_info": {
   "codemirror_mode": {
    "name": "ipython",
    "version": 3
   },
   "file_extension": ".py",
   "mimetype": "text/x-python",
   "name": "python",
   "nbconvert_exporter": "python",
   "pygments_lexer": "ipython3",
   "version": "3.9.13"
  }
 },
 "nbformat": 4,
 "nbformat_minor": 5
}
