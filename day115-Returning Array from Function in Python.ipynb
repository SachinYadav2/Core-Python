{
 "cells": [
  {
   "cell_type": "code",
   "execution_count": 7,
   "id": "15c84840",
   "metadata": {},
   "outputs": [
    {
     "name": "stdout",
     "output_type": "stream",
     "text": [
      "array('i', [101, 102, 103, 104])\n",
      "<class 'array.array'>\n",
      "101\n",
      "102\n",
      "103\n",
      "104\n",
      "nEw arry list your\n",
      "101\n",
      "102\n",
      "103\n",
      "104\n"
     ]
    }
   ],
   "source": [
    "from array import*\n",
    "\n",
    "def show(arr):\n",
    "    print(arr)\n",
    "    \n",
    "    print(type(arr))\n",
    "    for i in range(len(arr)):\n",
    "        print(arr[i])\n",
    "\n",
    "\n",
    "    return arr\n",
    "        \n",
    "arr = array('i',[101,102,103,104])\n",
    "y = show(arr)\n",
    "print(\"nEw arry list your\")\n",
    "for i in y:\n",
    "    print(i)\n",
    "\n"
   ]
  },
  {
   "cell_type": "code",
   "execution_count": null,
   "id": "e23dccdf",
   "metadata": {},
   "outputs": [],
   "source": []
  }
 ],
 "metadata": {
  "kernelspec": {
   "display_name": "Python 3 (ipykernel)",
   "language": "python",
   "name": "python3"
  },
  "language_info": {
   "codemirror_mode": {
    "name": "ipython",
    "version": 3
   },
   "file_extension": ".py",
   "mimetype": "text/x-python",
   "name": "python",
   "nbconvert_exporter": "python",
   "pygments_lexer": "ipython3",
   "version": "3.9.13"
  }
 },
 "nbformat": 4,
 "nbformat_minor": 5
}
