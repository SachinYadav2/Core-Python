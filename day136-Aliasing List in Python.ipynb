{
 "cells": [
  {
   "cell_type": "markdown",
   "id": "befbe6cf",
   "metadata": {},
   "source": [
    "# Alising \n",
    "- eska mtlb hota h ke second name of same perason location same rhti h"
   ]
  },
  {
   "cell_type": "code",
   "execution_count": 4,
   "id": "d47cd438",
   "metadata": {},
   "outputs": [
    {
     "data": {
      "text/plain": [
       "[12, 13, 14, 15]"
      ]
     },
     "execution_count": 4,
     "metadata": {},
     "output_type": "execute_result"
    }
   ],
   "source": [
    "# agr aap a ko lekr change krte ho to wah b me bhi honge \n",
    "# Aliasing means copy nhi hota h\n",
    "\n",
    "a = [12,13,14,15]\n",
    "b = a # b is new name\n",
    "b"
   ]
  },
  {
   "cell_type": "code",
   "execution_count": 2,
   "id": "82a195b0",
   "metadata": {},
   "outputs": [
    {
     "data": {
      "text/plain": [
       "4356389952"
      ]
     },
     "execution_count": 2,
     "metadata": {},
     "output_type": "execute_result"
    }
   ],
   "source": [
    "id(a)"
   ]
  },
  {
   "cell_type": "code",
   "execution_count": 3,
   "id": "4773456f",
   "metadata": {},
   "outputs": [
    {
     "data": {
      "text/plain": [
       "4356389952"
      ]
     },
     "execution_count": 3,
     "metadata": {},
     "output_type": "execute_result"
    }
   ],
   "source": [
    "id(b)"
   ]
  },
  {
   "cell_type": "code",
   "execution_count": 5,
   "id": "dc2b1cc0",
   "metadata": {},
   "outputs": [],
   "source": [
    "a[2] = \"sachin\""
   ]
  },
  {
   "cell_type": "code",
   "execution_count": 6,
   "id": "c6011d8d",
   "metadata": {},
   "outputs": [
    {
     "data": {
      "text/plain": [
       "[12, 13, 'sachin', 15]"
      ]
     },
     "execution_count": 6,
     "metadata": {},
     "output_type": "execute_result"
    }
   ],
   "source": [
    "a"
   ]
  },
  {
   "cell_type": "code",
   "execution_count": 8,
   "id": "61d82934",
   "metadata": {},
   "outputs": [
    {
     "data": {
      "text/plain": [
       "[12, 13, 'sachin', 15]"
      ]
     },
     "execution_count": 8,
     "metadata": {},
     "output_type": "execute_result"
    }
   ],
   "source": [
    "b # esme apne ap changis hogae"
   ]
  },
  {
   "cell_type": "code",
   "execution_count": null,
   "id": "895eda1d",
   "metadata": {},
   "outputs": [],
   "source": []
  }
 ],
 "metadata": {
  "kernelspec": {
   "display_name": "Python 3 (ipykernel)",
   "language": "python",
   "name": "python3"
  },
  "language_info": {
   "codemirror_mode": {
    "name": "ipython",
    "version": 3
   },
   "file_extension": ".py",
   "mimetype": "text/x-python",
   "name": "python",
   "nbconvert_exporter": "python",
   "pygments_lexer": "ipython3",
   "version": "3.9.13"
  }
 },
 "nbformat": 4,
 "nbformat_minor": 5
}
