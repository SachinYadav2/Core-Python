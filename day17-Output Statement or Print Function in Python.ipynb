{
 "cells": [
  {
   "cell_type": "code",
   "execution_count": 6,
   "metadata": {},
   "outputs": [
    {
     "name": "stdout",
     "output_type": "stream",
     "text": [
      "\n"
     ]
    }
   ],
   "source": [
    "# Print() use kerke ham blank line print krba skte h yah ek function h\n",
    "\n",
    "print()"
   ]
  },
  {
   "cell_type": "code",
   "execution_count": 7,
   "metadata": {},
   "outputs": [
    {
     "name": "stdout",
     "output_type": "stream",
     "text": [
      "String = \n",
      "float =  4.4\n",
      "int =  3\n"
     ]
    }
   ],
   "source": [
    "# Yah double qutosis me likhi value ko as it(same) print krta h\n",
    "print(\"String = \")\n",
    "print(\"float = \", 4.4)\n",
    "print(\"int = \" , 3)"
   ]
  },
  {
   "cell_type": "markdown",
   "metadata": {},
   "source": [
    "## Yah by defalut ek line move ho jata h beacuse eske syntax me '\\n' ka use hua h"
   ]
  },
  {
   "cell_type": "code",
   "execution_count": 9,
   "metadata": {},
   "outputs": [
    {
     "name": "stdout",
     "output_type": "stream",
     "text": [
      "sachinFalse"
     ]
    }
   ],
   "source": [
    "print(\"sachin\")"
   ]
  },
  {
   "cell_type": "markdown",
   "metadata": {},
   "source": [
    "##  print(Obj) Python hmara sabhi ko ek object manta hj"
   ]
  },
  {
   "cell_type": "code",
   "execution_count": 10,
   "metadata": {},
   "outputs": [
    {
     "name": "stdout",
     "output_type": "stream",
     "text": [
      "[121, 23, 23, 2.2, 'as']\n"
     ]
    }
   ],
   "source": [
    "data  = [121,23,23,2.2,'as']\n",
    "print(data)"
   ]
  },
  {
   "cell_type": "markdown",
   "metadata": {},
   "source": [
    "## Sep use"
   ]
  },
  {
   "cell_type": "code",
   "execution_count": 12,
   "metadata": {},
   "outputs": [
    {
     "name": "stdout",
     "output_type": "stream",
     "text": [
      "Str flaot int\n"
     ]
    }
   ],
   "source": [
    "print(\"Str\", 'flaot', 'int' , sep=' ') # yah to default rhta"
   ]
  },
  {
   "cell_type": "code",
   "execution_count": 14,
   "metadata": {},
   "outputs": [
    {
     "name": "stdout",
     "output_type": "stream",
     "text": [
      "Str***flaot***int\n"
     ]
    }
   ],
   "source": [
    "print(\"Str\", 'flaot', 'int' , sep='***') # yah to hame kuj bhi likh skte h double quotis me"
   ]
  },
  {
   "cell_type": "markdown",
   "metadata": {},
   "source": [
    "## End"
   ]
  },
  {
   "cell_type": "code",
   "execution_count": 16,
   "metadata": {},
   "outputs": [
    {
     "name": "stdout",
     "output_type": "stream",
     "text": [
      "str any\n",
      "Uper se apne aap niche ke  line me shift hua h \n"
     ]
    }
   ],
   "source": [
    "print(\"str\",'any',end='\\n') # by default esme \\n he rhtta tabhi ye new line me shift hota\n",
    "print(\"Uper se apne aap niche ke  line me shift hua h \")"
   ]
  },
  {
   "cell_type": "code",
   "execution_count": 18,
   "metadata": {},
   "outputs": [
    {
     "name": "stdout",
     "output_type": "stream",
     "text": [
      "str anyUper se apne aap niche ke  line me shift hua h \n"
     ]
    }
   ],
   "source": [
    "print(\"str\",'any',end='')\n",
    "print(\"Uper se apne aap niche ke  line me shift hua h \")"
   ]
  },
  {
   "cell_type": "code",
   "execution_count": 19,
   "metadata": {},
   "outputs": [
    {
     "name": "stdout",
     "output_type": "stream",
     "text": [
      "str any\tUper se apne aap niche ke  line me shift hua h \n"
     ]
    }
   ],
   "source": [
    "print(\"str\",'any',end='\\t') \n",
    "print(\"Uper se apne aap niche ke  line me shift hua h \")"
   ]
  },
  {
   "cell_type": "markdown",
   "metadata": {},
   "source": [
    "## Multi Object print "
   ]
  },
  {
   "cell_type": "code",
   "execution_count": 21,
   "metadata": {},
   "outputs": [
    {
     "name": "stdout",
     "output_type": "stream",
     "text": [
      "10 Sa\n",
      "10Sa\n"
     ]
    }
   ],
   "source": [
    "a = 10\n",
    "b = 'Sa'\n",
    "print(a,b) # by default ye mide me space de deta h\n",
    "print(a,b,sep=' ')"
   ]
  },
  {
   "cell_type": "code",
   "execution_count": 24,
   "metadata": {},
   "outputs": [
    {
     "name": "stdout",
     "output_type": "stream",
     "text": [
      "10-anything-Sa\n"
     ]
    }
   ],
   "source": [
    "a = 10\n",
    "b = 'Sa'\n",
    "print(a,b ,sep='-anything-')"
   ]
  },
  {
   "cell_type": "markdown",
   "metadata": {},
   "source": [
    "## Variable ke sath"
   ]
  },
  {
   "cell_type": "code",
   "execution_count": 25,
   "metadata": {},
   "outputs": [
    {
     "name": "stdout",
     "output_type": "stream",
     "text": [
      "My name is sachin and my age is 18\n"
     ]
    }
   ],
   "source": [
    "name = 'sachin'\n",
    "age = 18\n",
    "print(\"My name is\",name,'and my age is',age)"
   ]
  },
  {
   "cell_type": "code",
   "execution_count": null,
   "metadata": {},
   "outputs": [],
   "source": []
  }
 ],
 "metadata": {
  "kernelspec": {
   "display_name": "Python 3",
   "language": "python",
   "name": "python3"
  },
  "language_info": {
   "codemirror_mode": {
    "name": "ipython",
    "version": 3
   },
   "file_extension": ".py",
   "mimetype": "text/x-python",
   "name": "python",
   "nbconvert_exporter": "python",
   "pygments_lexer": "ipython3",
   "version": "3.8.5"
  }
 },
 "nbformat": 4,
 "nbformat_minor": 4
}
