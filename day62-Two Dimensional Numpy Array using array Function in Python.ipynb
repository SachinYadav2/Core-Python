{
 "cells": [
  {
   "cell_type": "markdown",
   "id": "385b8836",
   "metadata": {},
   "source": [
    "## 2D , 3D numpy array\n",
    "- jab ham 2d and nd array create krte ho ese ham multidimensional array khte h "
   ]
  },
  {
   "cell_type": "code",
   "execution_count": 4,
   "id": "fb511df4",
   "metadata": {},
   "outputs": [],
   "source": [
    "from numpy  import array"
   ]
  },
  {
   "cell_type": "code",
   "execution_count": 5,
   "id": "c5573789",
   "metadata": {},
   "outputs": [],
   "source": [
    "a = array([[10,20,20],\n",
    "          [40,50,60]])\n"
   ]
  },
  {
   "cell_type": "code",
   "execution_count": 6,
   "id": "16c0f027",
   "metadata": {},
   "outputs": [
    {
     "data": {
      "text/plain": [
       "array([[10, 20, 20],\n",
       "       [40, 50, 60]])"
      ]
     },
     "execution_count": 6,
     "metadata": {},
     "output_type": "execute_result"
    }
   ],
   "source": [
    "a"
   ]
  },
  {
   "cell_type": "markdown",
   "id": "aa26aae7",
   "metadata": {},
   "source": [
    "## Python Provide the indexing array access the element\n",
    "- Concept a[0]= [10,20,30]\n",
    "-    a[i][j]= a[0][0]=10\n",
    "-    a[0][1] = 20"
   ]
  },
  {
   "cell_type": "code",
   "execution_count": 7,
   "id": "1105d4cf",
   "metadata": {},
   "outputs": [
    {
     "data": {
      "text/plain": [
       "10"
      ]
     },
     "execution_count": 7,
     "metadata": {},
     "output_type": "execute_result"
    }
   ],
   "source": [
    "a[0][0] "
   ]
  },
  {
   "cell_type": "markdown",
   "id": "c5aadb8f",
   "metadata": {},
   "source": [
    "### Modefication\n",
    "- Numpy array you essaly modify"
   ]
  },
  {
   "cell_type": "code",
   "execution_count": 8,
   "id": "333884d3",
   "metadata": {},
   "outputs": [],
   "source": [
    "a[0][0] = 12"
   ]
  },
  {
   "cell_type": "code",
   "execution_count": 9,
   "id": "84fb039c",
   "metadata": {},
   "outputs": [
    {
     "data": {
      "text/plain": [
       "12"
      ]
     },
     "execution_count": 9,
     "metadata": {},
     "output_type": "execute_result"
    }
   ],
   "source": [
    "a[0][0] "
   ]
  },
  {
   "cell_type": "code",
   "execution_count": 11,
   "id": "b666fd52",
   "metadata": {},
   "outputs": [
    {
     "data": {
      "text/plain": [
       "array([[12, 20, 20],\n",
       "       [40, 50, 60]])"
      ]
     },
     "execution_count": 11,
     "metadata": {},
     "output_type": "execute_result"
    }
   ],
   "source": [
    "a"
   ]
  },
  {
   "cell_type": "markdown",
   "id": "3fcb3d0c",
   "metadata": {},
   "source": [
    "# Access the Array eleemnt in Without Index"
   ]
  },
  {
   "cell_type": "code",
   "execution_count": 13,
   "id": "d174c9ea",
   "metadata": {},
   "outputs": [
    {
     "name": "stdout",
     "output_type": "stream",
     "text": [
      "12\n",
      "20\n",
      "20\n",
      "\n",
      "40\n",
      "50\n",
      "60\n",
      "\n"
     ]
    }
   ],
   "source": [
    "for i in a:\n",
    "    for j in i:\n",
    "        print(j)\n",
    "    print()\n",
    "    "
   ]
  },
  {
   "cell_type": "markdown",
   "id": "7dab5097",
   "metadata": {},
   "source": [
    "## Access the element in array With index Usign the Foor loop\n"
   ]
  },
  {
   "cell_type": "code",
   "execution_count": 14,
   "id": "8f4b036e",
   "metadata": {},
   "outputs": [
    {
     "name": "stdout",
     "output_type": "stream",
     "text": [
      "12\n",
      "20\n",
      "20\n",
      "\n",
      "40\n",
      "50\n",
      "60\n",
      "\n"
     ]
    }
   ],
   "source": [
    "for i in range(len(a)):\n",
    "    for j in range(len(a[i])):\n",
    "        print(a[i][j])\n",
    "    print()"
   ]
  },
  {
   "cell_type": "code",
   "execution_count": null,
   "id": "5085c469",
   "metadata": {},
   "outputs": [],
   "source": []
  }
 ],
 "metadata": {
  "kernelspec": {
   "display_name": "Python 3 (ipykernel)",
   "language": "python",
   "name": "python3"
  },
  "language_info": {
   "codemirror_mode": {
    "name": "ipython",
    "version": 3
   },
   "file_extension": ".py",
   "mimetype": "text/x-python",
   "name": "python",
   "nbconvert_exporter": "python",
   "pygments_lexer": "ipython3",
   "version": "3.9.13"
  }
 },
 "nbformat": 4,
 "nbformat_minor": 5
}
