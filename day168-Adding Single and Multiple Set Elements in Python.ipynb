{
 "cells": [
  {
   "cell_type": "markdown",
   "id": "cd93230d",
   "metadata": {},
   "source": [
    "## We add the elemnet inside the set using the Two method\n",
    "- .add() THis method use to add a elemnet nside thE set \n",
    "- .update() This method use to add a multple element such as list and tuple form "
   ]
  },
  {
   "cell_type": "code",
   "execution_count": 2,
   "id": "3e9efb8d",
   "metadata": {},
   "outputs": [
    {
     "data": {
      "text/plain": [
       "{12, 1212, 133423, 'asasa'}"
      ]
     },
     "execution_count": 2,
     "metadata": {},
     "output_type": "execute_result"
    }
   ],
   "source": [
    "a = {12,133423,1212}\n",
    "a.add(\"asasa\")\n",
    "a"
   ]
  },
  {
   "cell_type": "code",
   "execution_count": 4,
   "id": "737df0ea",
   "metadata": {},
   "outputs": [
    {
     "data": {
      "text/plain": [
       "{112, 12, 1212, 133423, 'asasa'}"
      ]
     },
     "execution_count": 4,
     "metadata": {},
     "output_type": "execute_result"
    }
   ],
   "source": [
    "a = {12,133423,1212}\n",
    "a.update([\"asasa\",112])\n",
    "a"
   ]
  },
  {
   "cell_type": "code",
   "execution_count": null,
   "id": "1d4bcd68",
   "metadata": {},
   "outputs": [],
   "source": []
  }
 ],
 "metadata": {
  "kernelspec": {
   "display_name": "Python 3 (ipykernel)",
   "language": "python",
   "name": "python3"
  },
  "language_info": {
   "codemirror_mode": {
    "name": "ipython",
    "version": 3
   },
   "file_extension": ".py",
   "mimetype": "text/x-python",
   "name": "python",
   "nbconvert_exporter": "python",
   "pygments_lexer": "ipython3",
   "version": "3.10.8"
  }
 },
 "nbformat": 4,
 "nbformat_minor": 5
}
