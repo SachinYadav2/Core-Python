{
 "cells": [
  {
   "cell_type": "markdown",
   "id": "932bf5b6",
   "metadata": {},
   "source": [
    "# Hm check krte h ke hmari key existing dict me h ke nhi h using membership oprator"
   ]
  },
  {
   "cell_type": "code",
   "execution_count": 1,
   "id": "218e9108",
   "metadata": {},
   "outputs": [
    {
     "data": {
      "text/plain": [
       "True"
      ]
     },
     "execution_count": 1,
     "metadata": {},
     "output_type": "execute_result"
    }
   ],
   "source": [
    "di = {101:\"sachin\" , 102:\"Mohan\"}\n",
    "101 in di"
   ]
  },
  {
   "cell_type": "code",
   "execution_count": 2,
   "id": "98fd3562",
   "metadata": {},
   "outputs": [
    {
     "data": {
      "text/plain": [
       "False"
      ]
     },
     "execution_count": 2,
     "metadata": {},
     "output_type": "execute_result"
    }
   ],
   "source": [
    "1023 in di"
   ]
  },
  {
   "cell_type": "code",
   "execution_count": 5,
   "id": "569e4b02",
   "metadata": {},
   "outputs": [
    {
     "data": {
      "text/plain": [
       "False"
      ]
     },
     "execution_count": 5,
     "metadata": {},
     "output_type": "execute_result"
    }
   ],
   "source": [
    "101 not in  di"
   ]
  },
  {
   "cell_type": "code",
   "execution_count": null,
   "id": "67f8f706",
   "metadata": {},
   "outputs": [],
   "source": []
  }
 ],
 "metadata": {
  "kernelspec": {
   "display_name": "Python 3 (ipykernel)",
   "language": "python",
   "name": "python3"
  },
  "language_info": {
   "codemirror_mode": {
    "name": "ipython",
    "version": 3
   },
   "file_extension": ".py",
   "mimetype": "text/x-python",
   "name": "python",
   "nbconvert_exporter": "python",
   "pygments_lexer": "ipython3",
   "version": "3.10.8"
  }
 },
 "nbformat": 4,
 "nbformat_minor": 5
}
