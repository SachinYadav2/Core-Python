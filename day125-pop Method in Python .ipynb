{
 "cells": [
  {
   "cell_type": "markdown",
   "id": "4376d75d",
   "metadata": {},
   "source": [
    "# pop() method\n",
    "- yah remove krta h hmare list me se last element ko\n",
    "- and yah hmara pop element ko return bhi krta h\n"
   ]
  },
  {
   "cell_type": "code",
   "execution_count": 1,
   "id": "66b6608e",
   "metadata": {},
   "outputs": [],
   "source": [
    "a = ['sachin',121,21]"
   ]
  },
  {
   "cell_type": "code",
   "execution_count": 2,
   "id": "d26bb293",
   "metadata": {},
   "outputs": [
    {
     "data": {
      "text/plain": [
       "21"
      ]
     },
     "execution_count": 2,
     "metadata": {},
     "output_type": "execute_result"
    }
   ],
   "source": [
    "a.pop()"
   ]
  },
  {
   "cell_type": "code",
   "execution_count": 3,
   "id": "30ab5083",
   "metadata": {},
   "outputs": [
    {
     "data": {
      "text/plain": [
       "['sachin', 121]"
      ]
     },
     "execution_count": 3,
     "metadata": {},
     "output_type": "execute_result"
    }
   ],
   "source": [
    "a"
   ]
  },
  {
   "cell_type": "markdown",
   "id": "8430888d",
   "metadata": {},
   "source": [
    "## pop(n)\n",
    "- jisko delte krna h uska index no do"
   ]
  },
  {
   "cell_type": "code",
   "execution_count": 4,
   "id": "81e17433",
   "metadata": {},
   "outputs": [
    {
     "data": {
      "text/plain": [
       "'sachin'"
      ]
     },
     "execution_count": 4,
     "metadata": {},
     "output_type": "execute_result"
    }
   ],
   "source": [
    "a.pop(0)"
   ]
  },
  {
   "cell_type": "code",
   "execution_count": 5,
   "id": "47bbe182",
   "metadata": {},
   "outputs": [
    {
     "data": {
      "text/plain": [
       "[121]"
      ]
     },
     "execution_count": 5,
     "metadata": {},
     "output_type": "execute_result"
    }
   ],
   "source": [
    "a"
   ]
  },
  {
   "cell_type": "code",
   "execution_count": null,
   "id": "584ddd32",
   "metadata": {},
   "outputs": [],
   "source": []
  }
 ],
 "metadata": {
  "kernelspec": {
   "display_name": "Python 3 (ipykernel)",
   "language": "python",
   "name": "python3"
  },
  "language_info": {
   "codemirror_mode": {
    "name": "ipython",
    "version": 3
   },
   "file_extension": ".py",
   "mimetype": "text/x-python",
   "name": "python",
   "nbconvert_exporter": "python",
   "pygments_lexer": "ipython3",
   "version": "3.9.13"
  }
 },
 "nbformat": 4,
 "nbformat_minor": 5
}
