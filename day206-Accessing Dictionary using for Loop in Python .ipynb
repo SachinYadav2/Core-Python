{
 "cells": [
  {
   "cell_type": "markdown",
   "id": "eb6b440c",
   "metadata": {},
   "source": [
    "# hm simple for lop ke throw uski key ka pta lga skte h basically"
   ]
  },
  {
   "cell_type": "code",
   "execution_count": 2,
   "id": "9af47950",
   "metadata": {},
   "outputs": [
    {
     "name": "stdout",
     "output_type": "stream",
     "text": [
      "Sachin\n",
      "Mohan\n",
      "dsdd\n"
     ]
    }
   ],
   "source": [
    "d = {101:\"Sachin\" ,102:\"Mohan\",121:\"dsdd\"}\n",
    "for k in d:\n",
    "    print(d[k])"
   ]
  },
  {
   "cell_type": "code",
   "execution_count": null,
   "id": "ff294154",
   "metadata": {},
   "outputs": [],
   "source": []
  }
 ],
 "metadata": {
  "kernelspec": {
   "display_name": "Python 3 (ipykernel)",
   "language": "python",
   "name": "python3"
  },
  "language_info": {
   "codemirror_mode": {
    "name": "ipython",
    "version": 3
   },
   "file_extension": ".py",
   "mimetype": "text/x-python",
   "name": "python",
   "nbconvert_exporter": "python",
   "pygments_lexer": "ipython3",
   "version": "3.10.8"
  }
 },
 "nbformat": 4,
 "nbformat_minor": 5
}
