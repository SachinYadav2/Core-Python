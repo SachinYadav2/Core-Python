{
 "cells": [
  {
   "cell_type": "markdown",
   "id": "7d1f84da",
   "metadata": {},
   "source": [
    "# Repetation ke we use this operator *"
   ]
  },
  {
   "cell_type": "code",
   "execution_count": 1,
   "id": "beacf465",
   "metadata": {},
   "outputs": [
    {
     "data": {
      "text/plain": [
       "[12, 13, 12, 13, 12, 13]"
      ]
     },
     "execution_count": 1,
     "metadata": {},
     "output_type": "execute_result"
    }
   ],
   "source": [
    "a = [12,13]\n",
    "a*3"
   ]
  },
  {
   "cell_type": "code",
   "execution_count": null,
   "id": "cafe4924",
   "metadata": {},
   "outputs": [],
   "source": []
  }
 ],
 "metadata": {
  "kernelspec": {
   "display_name": "Python 3 (ipykernel)",
   "language": "python",
   "name": "python3"
  },
  "language_info": {
   "codemirror_mode": {
    "name": "ipython",
    "version": 3
   },
   "file_extension": ".py",
   "mimetype": "text/x-python",
   "name": "python",
   "nbconvert_exporter": "python",
   "pygments_lexer": "ipython3",
   "version": "3.9.13"
  }
 },
 "nbformat": 4,
 "nbformat_minor": 5
}
