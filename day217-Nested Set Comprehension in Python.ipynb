{
 "cells": [
  {
   "cell_type": "code",
   "execution_count": 1,
   "id": "92c8edcc",
   "metadata": {},
   "outputs": [],
   "source": [
    "dic = {(i , j) for i in range(4,7) for j in range(6,8)}"
   ]
  },
  {
   "cell_type": "code",
   "execution_count": 2,
   "id": "5d37a9f8",
   "metadata": {},
   "outputs": [
    {
     "data": {
      "text/plain": [
       "{(4, 6), (4, 7), (5, 6), (5, 7), (6, 6), (6, 7)}"
      ]
     },
     "execution_count": 2,
     "metadata": {},
     "output_type": "execute_result"
    }
   ],
   "source": [
    "dic"
   ]
  },
  {
   "cell_type": "code",
   "execution_count": null,
   "id": "6e17d5a0",
   "metadata": {},
   "outputs": [],
   "source": []
  }
 ],
 "metadata": {
  "kernelspec": {
   "display_name": "Python 3 (ipykernel)",
   "language": "python",
   "name": "python3"
  },
  "language_info": {
   "codemirror_mode": {
    "name": "ipython",
    "version": 3
   },
   "file_extension": ".py",
   "mimetype": "text/x-python",
   "name": "python",
   "nbconvert_exporter": "python",
   "pygments_lexer": "ipython3",
   "version": "3.10.8"
  }
 },
 "nbformat": 4,
 "nbformat_minor": 5
}
