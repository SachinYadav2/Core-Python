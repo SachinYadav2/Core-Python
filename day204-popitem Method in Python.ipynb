{
 "cells": [
  {
   "cell_type": "markdown",
   "id": "33ef384c",
   "metadata": {},
   "source": [
    "# popitem()\n",
    "- yh method hmara return krta h object ko\n",
    "- and yh last element ko remove krta h lway"
   ]
  },
  {
   "cell_type": "code",
   "execution_count": 3,
   "id": "f4cc859a",
   "metadata": {},
   "outputs": [],
   "source": [
    "d = {101:\"sasasa\",1212:\"sd\"}\n",
    "item = d.popitem()\n"
   ]
  },
  {
   "cell_type": "code",
   "execution_count": 4,
   "id": "4cd0282b",
   "metadata": {},
   "outputs": [
    {
     "data": {
      "text/plain": [
       "{101: 'sasasa'}"
      ]
     },
     "execution_count": 4,
     "metadata": {},
     "output_type": "execute_result"
    }
   ],
   "source": [
    "d"
   ]
  },
  {
   "cell_type": "code",
   "execution_count": null,
   "id": "3436990a",
   "metadata": {},
   "outputs": [],
   "source": []
  }
 ],
 "metadata": {
  "kernelspec": {
   "display_name": "Python 3 (ipykernel)",
   "language": "python",
   "name": "python3"
  },
  "language_info": {
   "codemirror_mode": {
    "name": "ipython",
    "version": 3
   },
   "file_extension": ".py",
   "mimetype": "text/x-python",
   "name": "python",
   "nbconvert_exporter": "python",
   "pygments_lexer": "ipython3",
   "version": "3.10.8"
  }
 },
 "nbformat": 4,
 "nbformat_minor": 5
}
