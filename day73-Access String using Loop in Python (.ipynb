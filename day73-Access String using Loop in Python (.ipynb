{
 "cells": [
  {
   "cell_type": "markdown",
   "id": "1eea0315",
   "metadata": {},
   "source": [
    "### We use access the string "
   ]
  },
  {
   "cell_type": "code",
   "execution_count": 1,
   "id": "7dddfc3b",
   "metadata": {},
   "outputs": [],
   "source": [
    "str1 = \"Hello\"\n"
   ]
  },
  {
   "cell_type": "markdown",
   "id": "37b3b9af",
   "metadata": {},
   "source": [
    "## Access the string using the for loop"
   ]
  },
  {
   "cell_type": "code",
   "execution_count": 6,
   "id": "f7876f21",
   "metadata": {},
   "outputs": [
    {
     "name": "stdout",
     "output_type": "stream",
     "text": [
      "H\n",
      "e\n",
      "l\n",
      "l\n",
      "o\n"
     ]
    }
   ],
   "source": [
    "for c in str1:\n",
    "    print(c)"
   ]
  },
  {
   "cell_type": "code",
   "execution_count": 9,
   "id": "72444f81",
   "metadata": {},
   "outputs": [
    {
     "name": "stdout",
     "output_type": "stream",
     "text": [
      "H\n",
      "e\n",
      "l\n",
      "l\n",
      "o\n"
     ]
    }
   ],
   "source": [
    "# With index number\n",
    "\n",
    "for i in range(len(str1)):\n",
    "    print(str1[i])"
   ]
  },
  {
   "cell_type": "markdown",
   "id": "81de6c19",
   "metadata": {},
   "source": [
    "## Access the array using the while loop"
   ]
  },
  {
   "cell_type": "code",
   "execution_count": 12,
   "id": "152c30b4",
   "metadata": {
    "scrolled": true
   },
   "outputs": [
    {
     "name": "stdout",
     "output_type": "stream",
     "text": [
      "H\n",
      "e\n",
      "l\n",
      "l\n",
      "o\n",
      "Rest of the code Execute in python\n"
     ]
    }
   ],
   "source": [
    "i =  0\n",
    "while i < len(str1):\n",
    "    print(str1[i])\n",
    "    i+=1\n",
    "    \n",
    "print(\"Rest of the code Execute in python\")"
   ]
  },
  {
   "cell_type": "code",
   "execution_count": 10,
   "id": "2480a26f",
   "metadata": {},
   "outputs": [
    {
     "data": {
      "text/plain": [
       "'H'"
      ]
     },
     "execution_count": 10,
     "metadata": {},
     "output_type": "execute_result"
    }
   ],
   "source": [
    "str1[0]"
   ]
  },
  {
   "cell_type": "markdown",
   "id": "f81d7fdf",
   "metadata": {},
   "source": [
    "# String is Immutable"
   ]
  },
  {
   "cell_type": "code",
   "execution_count": 11,
   "id": "53bf8c40",
   "metadata": {},
   "outputs": [
    {
     "ename": "TypeError",
     "evalue": "'str' object does not support item assignment",
     "output_type": "error",
     "traceback": [
      "\u001b[0;31m---------------------------------------------------------------------------\u001b[0m",
      "\u001b[0;31mTypeError\u001b[0m                                 Traceback (most recent call last)",
      "Input \u001b[0;32mIn [11]\u001b[0m, in \u001b[0;36m<cell line: 1>\u001b[0;34m()\u001b[0m\n\u001b[0;32m----> 1\u001b[0m str1[\u001b[38;5;241m0\u001b[39m]\u001b[38;5;241m=\u001b[39m\u001b[38;5;124m\"\u001b[39m\u001b[38;5;124mR\u001b[39m\u001b[38;5;124m\"\u001b[39m\n",
      "\u001b[0;31mTypeError\u001b[0m: 'str' object does not support item assignment"
     ]
    }
   ],
   "source": [
    "str1[0]=\"R\""
   ]
  },
  {
   "cell_type": "code",
   "execution_count": null,
   "id": "88ac0bbc",
   "metadata": {},
   "outputs": [],
   "source": []
  }
 ],
 "metadata": {
  "kernelspec": {
   "display_name": "Python 3 (ipykernel)",
   "language": "python",
   "name": "python3"
  },
  "language_info": {
   "codemirror_mode": {
    "name": "ipython",
    "version": 3
   },
   "file_extension": ".py",
   "mimetype": "text/x-python",
   "name": "python",
   "nbconvert_exporter": "python",
   "pygments_lexer": "ipython3",
   "version": "3.9.13"
  }
 },
 "nbformat": 4,
 "nbformat_minor": 5
}
