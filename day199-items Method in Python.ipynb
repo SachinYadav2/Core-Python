{
 "cells": [
  {
   "cell_type": "markdown",
   "id": "f4374efc",
   "metadata": {},
   "source": [
    "# item() \n",
    "- yh metthod return krta h basically ek object ko \n",
    "- jisme hmari dict Tuple ke form me store hoti h basically"
   ]
  },
  {
   "cell_type": "code",
   "execution_count": 1,
   "id": "dee62a17",
   "metadata": {},
   "outputs": [
    {
     "name": "stdout",
     "output_type": "stream",
     "text": [
      "{101: 'Mohan', 102: 'Rahul'}\n",
      "<class 'dict'>\n"
     ]
    }
   ],
   "source": [
    "stu = {101:\"Mohan\" ,102:\"Rahul\"}\n",
    "print(stu)\n",
    "print(type(stu))\n"
   ]
  },
  {
   "cell_type": "code",
   "execution_count": 2,
   "id": "30318a7d",
   "metadata": {},
   "outputs": [
    {
     "name": "stdout",
     "output_type": "stream",
     "text": [
      "dict_items([(101, 'Mohan'), (102, 'Rahul')])\n",
      "<class 'dict_items'>\n"
     ]
    }
   ],
   "source": [
    "new = stu.items()\n",
    "print(new)\n",
    "print(type(new))\n"
   ]
  },
  {
   "cell_type": "code",
   "execution_count": 3,
   "id": "cfc03b4e",
   "metadata": {},
   "outputs": [
    {
     "data": {
      "text/plain": [
       "[(101, 'Mohan'), (102, 'Rahul')]"
      ]
     },
     "execution_count": 3,
     "metadata": {},
     "output_type": "execute_result"
    }
   ],
   "source": [
    "li = list(new)\n",
    "li"
   ]
  },
  {
   "cell_type": "code",
   "execution_count": 4,
   "id": "91fd4c1f",
   "metadata": {},
   "outputs": [
    {
     "name": "stdout",
     "output_type": "stream",
     "text": [
      "101\n",
      "Mohan\n",
      "102\n",
      "Rahul\n"
     ]
    }
   ],
   "source": [
    "for i in li:\n",
    "    for j in i:\n",
    "        print(j)"
   ]
  },
  {
   "cell_type": "code",
   "execution_count": null,
   "id": "4d846d7a",
   "metadata": {},
   "outputs": [],
   "source": []
  }
 ],
 "metadata": {
  "kernelspec": {
   "display_name": "Python 3 (ipykernel)",
   "language": "python",
   "name": "python3"
  },
  "language_info": {
   "codemirror_mode": {
    "name": "ipython",
    "version": 3
   },
   "file_extension": ".py",
   "mimetype": "text/x-python",
   "name": "python",
   "nbconvert_exporter": "python",
   "pygments_lexer": "ipython3",
   "version": "3.10.8"
  }
 },
 "nbformat": 4,
 "nbformat_minor": 5
}
