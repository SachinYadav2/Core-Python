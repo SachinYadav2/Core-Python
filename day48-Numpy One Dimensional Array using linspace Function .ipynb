{
 "cells": [
  {
   "cell_type": "markdown",
   "metadata": {},
   "source": [
    "## Ham linespace ke throw array create kar te (data science data genetate bhi kar skte h)\n",
    "- numpy.linspace(start,\n",
    "               stop,\n",
    "               num = 50,\n",
    "               endpoint = True,\n",
    "               retstep = False,\n",
    "               dtype = None)\n",
    "- https://www.geeksforgeeks.org/numpy-linspace-python/"
   ]
  },
  {
   "cell_type": "code",
   "execution_count": 5,
   "metadata": {},
   "outputs": [
    {
     "data": {
      "text/plain": [
       "array([1.  , 2.75, 4.5 , 6.25, 8.  ])"
      ]
     },
     "execution_count": 5,
     "metadata": {},
     "output_type": "execute_result"
    }
   ],
   "source": [
    "from numpy import*\n",
    "a = linspace(1,8,5)\n",
    "a\n"
   ]
  },
  {
   "cell_type": "markdown",
   "metadata": {},
   "source": [
    "## Access With The help of Loop"
   ]
  },
  {
   "cell_type": "code",
   "execution_count": 7,
   "metadata": {},
   "outputs": [
    {
     "name": "stdout",
     "output_type": "stream",
     "text": [
      "1.0\n",
      "2.75\n",
      "4.5\n",
      "6.25\n",
      "8.0\n"
     ]
    }
   ],
   "source": [
    "for el in a:\n",
    "    print(el)"
   ]
  },
  {
   "cell_type": "code",
   "execution_count": 9,
   "metadata": {},
   "outputs": [
    {
     "name": "stdout",
     "output_type": "stream",
     "text": [
      "1.0\n",
      "1.1428571428571428\n",
      "1.2857142857142856\n",
      "1.4285714285714286\n",
      "1.5714285714285714\n",
      "1.7142857142857142\n",
      "1.8571428571428572\n",
      "2.0\n",
      "2.142857142857143\n",
      "2.2857142857142856\n",
      "2.4285714285714284\n",
      "2.571428571428571\n",
      "2.7142857142857144\n",
      "2.8571428571428568\n",
      "3.0\n",
      "3.142857142857143\n",
      "3.2857142857142856\n",
      "3.4285714285714284\n",
      "3.571428571428571\n",
      "3.714285714285714\n",
      "3.8571428571428568\n",
      "4.0\n",
      "4.142857142857142\n",
      "4.285714285714286\n",
      "4.428571428571429\n",
      "4.571428571428571\n",
      "4.7142857142857135\n",
      "4.857142857142857\n",
      "5.0\n",
      "5.142857142857142\n",
      "5.285714285714286\n",
      "5.428571428571428\n",
      "5.571428571428571\n",
      "5.714285714285714\n",
      "5.857142857142857\n",
      "6.0\n",
      "6.142857142857142\n",
      "6.285714285714286\n",
      "6.428571428571428\n",
      "6.571428571428571\n",
      "6.7142857142857135\n",
      "6.857142857142857\n",
      "7.0\n",
      "7.142857142857142\n",
      "7.285714285714286\n",
      "7.428571428571428\n",
      "7.571428571428571\n",
      "7.7142857142857135\n",
      "7.857142857142857\n",
      "8.0\n"
     ]
    }
   ],
   "source": [
    "# Defalult partition 50 your data\n",
    "from numpy import*\n",
    "a = linspace(1,8)\n",
    "\n",
    "for el in a:\n",
    "    print(el)"
   ]
  },
  {
   "cell_type": "code",
   "execution_count": null,
   "metadata": {},
   "outputs": [],
   "source": []
  }
 ],
 "metadata": {
  "kernelspec": {
   "display_name": "Python 3",
   "language": "python",
   "name": "python3"
  },
  "language_info": {
   "codemirror_mode": {
    "name": "ipython",
    "version": 3
   },
   "file_extension": ".py",
   "mimetype": "text/x-python",
   "name": "python",
   "nbconvert_exporter": "python",
   "pygments_lexer": "ipython3",
   "version": "3.8.5"
  }
 },
 "nbformat": 4,
 "nbformat_minor": 4
}
