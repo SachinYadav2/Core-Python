{
 "cells": [
  {
   "cell_type": "code",
   "execution_count": 1,
   "id": "ef28c5ea",
   "metadata": {},
   "outputs": [],
   "source": [
    "x = (\n",
    "    (10,20,30),\n",
    "    (40,50,60),\n",
    "    (70,80,90),\n",
    "    (12,13,14),\n",
    "    (15,16,17),\n",
    "    (18,19,20)\n",
    ")"
   ]
  },
  {
   "cell_type": "code",
   "execution_count": 2,
   "id": "462f61a1",
   "metadata": {},
   "outputs": [
    {
     "data": {
      "text/plain": [
       "((40, 50, 60), (70, 80, 90), (12, 13, 14), (15, 16, 17))"
      ]
     },
     "execution_count": 2,
     "metadata": {},
     "output_type": "execute_result"
    }
   ],
   "source": [
    "a = x[1:5]\n",
    "a"
   ]
  },
  {
   "cell_type": "code",
   "execution_count": 3,
   "id": "11a93fd1",
   "metadata": {},
   "outputs": [
    {
     "data": {
      "text/plain": [
       "((10, 20, 30),\n",
       " (40, 50, 60),\n",
       " (70, 80, 90),\n",
       " (12, 13, 14),\n",
       " (15, 16, 17),\n",
       " (18, 19, 20))"
      ]
     },
     "execution_count": 3,
     "metadata": {},
     "output_type": "execute_result"
    }
   ],
   "source": [
    "b = x[0:]\n",
    "b"
   ]
  },
  {
   "cell_type": "code",
   "execution_count": 4,
   "id": "c2948ae0",
   "metadata": {},
   "outputs": [
    {
     "data": {
      "text/plain": [
       "((10, 20, 30), (40, 50, 60), (70, 80, 90), (12, 13, 14))"
      ]
     },
     "execution_count": 4,
     "metadata": {},
     "output_type": "execute_result"
    }
   ],
   "source": [
    "c = x[:4]\n",
    "c"
   ]
  },
  {
   "cell_type": "code",
   "execution_count": 5,
   "id": "a15773f6",
   "metadata": {},
   "outputs": [
    {
     "data": {
      "text/plain": [
       "((70, 80, 90), (12, 13, 14), (15, 16, 17), (18, 19, 20))"
      ]
     },
     "execution_count": 5,
     "metadata": {},
     "output_type": "execute_result"
    }
   ],
   "source": [
    "d = x[-4:]\n",
    "d"
   ]
  },
  {
   "cell_type": "code",
   "execution_count": 7,
   "id": "f30be650",
   "metadata": {},
   "outputs": [
    {
     "data": {
      "text/plain": [
       "((10, 20, 30), (70, 80, 90), (15, 16, 17))"
      ]
     },
     "execution_count": 7,
     "metadata": {},
     "output_type": "execute_result"
    }
   ],
   "source": [
    "e = x[0:7:2]\n",
    "e"
   ]
  },
  {
   "cell_type": "markdown",
   "id": "4e158195",
   "metadata": {},
   "source": [
    "# Nested element acces"
   ]
  },
  {
   "cell_type": "code",
   "execution_count": 10,
   "id": "2a0b5963",
   "metadata": {},
   "outputs": [
    {
     "name": "stdout",
     "output_type": "stream",
     "text": [
      "((10, 20, 30), (40, 50, 60), (70, 80, 90), (12, 13, 14), (15, 16, 17), (18, 19, 20))\n"
     ]
    },
    {
     "data": {
      "text/plain": [
       "(70, 80, 90)"
      ]
     },
     "execution_count": 10,
     "metadata": {},
     "output_type": "execute_result"
    }
   ],
   "source": [
    "m = x[2:3]\n",
    "print(x)\n",
    "g = x[2:3][0]\n",
    "g"
   ]
  },
  {
   "cell_type": "code",
   "execution_count": 11,
   "id": "e969207f",
   "metadata": {},
   "outputs": [
    {
     "data": {
      "text/plain": [
       "70"
      ]
     },
     "execution_count": 11,
     "metadata": {},
     "output_type": "execute_result"
    }
   ],
   "source": [
    "n = x[2:3][0][0]\n",
    "n"
   ]
  },
  {
   "cell_type": "code",
   "execution_count": 13,
   "id": "9f00a335",
   "metadata": {},
   "outputs": [
    {
     "name": "stdout",
     "output_type": "stream",
     "text": [
      "((70, 80, 90), (12, 13, 14), (15, 16, 17), (18, 19, 20))\n",
      "80\n"
     ]
    }
   ],
   "source": [
    "n = x[-4:]\n",
    "print(n)\n",
    "j = x[-4][1]\n",
    "print(j)"
   ]
  },
  {
   "cell_type": "code",
   "execution_count": null,
   "id": "275eba58",
   "metadata": {},
   "outputs": [],
   "source": []
  }
 ],
 "metadata": {
  "kernelspec": {
   "display_name": "Python 3 (ipykernel)",
   "language": "python",
   "name": "python3"
  },
  "language_info": {
   "codemirror_mode": {
    "name": "ipython",
    "version": 3
   },
   "file_extension": ".py",
   "mimetype": "text/x-python",
   "name": "python",
   "nbconvert_exporter": "python",
   "pygments_lexer": "ipython3",
   "version": "3.9.13"
  }
 },
 "nbformat": 4,
 "nbformat_minor": 5
}
