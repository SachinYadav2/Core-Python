{
 "cells": [
  {
   "cell_type": "markdown",
   "id": "b0717652",
   "metadata": {},
   "source": [
    "# Higher Order function -\n",
    "- Eska mtlb ye hota h jab aap kise function me another function pass kar dete ho"
   ]
  },
  {
   "cell_type": "markdown",
   "id": "e365c59a",
   "metadata": {},
   "source": [
    "# Filter()\n",
    "- ye basically hmara return krta h only True value and yah mainly two fun pr kam krta h only"
   ]
  },
  {
   "cell_type": "code",
   "execution_count": 12,
   "id": "37aaea82",
   "metadata": {},
   "outputs": [
    {
     "name": "stdout",
     "output_type": "stream",
     "text": [
      "<class 'list'>\n",
      "<filter object at 0x11018aa30>\n"
     ]
    }
   ],
   "source": [
    "n = [2,3,4,5,6,7,1,12,14,15,17,19,20,21,3434,3424]\n",
    "def show(n):\n",
    "    if n>10:\n",
    "        return True\n",
    "re = filter(show,n)\n",
    "# re = list(filter(show,n)) #mostly ham ouput list ke form me nikalte h\n",
    "\n",
    "print(type(n))\n",
    "print(re)\n"
   ]
  },
  {
   "cell_type": "code",
   "execution_count": 9,
   "id": "9fec444c",
   "metadata": {},
   "outputs": [],
   "source": [
    "# Yh hamra ab re iterable object return hua h"
   ]
  },
  {
   "cell_type": "code",
   "execution_count": 10,
   "id": "7993a26e",
   "metadata": {},
   "outputs": [
    {
     "name": "stdout",
     "output_type": "stream",
     "text": [
      "12\n",
      "14\n",
      "15\n",
      "17\n",
      "19\n",
      "20\n",
      "21\n",
      "3434\n",
      "3424\n"
     ]
    }
   ],
   "source": [
    "for i in re:\n",
    "    print(i)"
   ]
  },
  {
   "cell_type": "markdown",
   "id": "abfbce3e",
   "metadata": {},
   "source": [
    "# Second method "
   ]
  },
  {
   "cell_type": "code",
   "execution_count": 15,
   "id": "cde369e6",
   "metadata": {},
   "outputs": [],
   "source": [
    "re = list(filter(lambda c:(c>10),n))"
   ]
  },
  {
   "cell_type": "code",
   "execution_count": 16,
   "id": "42fd0b28",
   "metadata": {},
   "outputs": [
    {
     "data": {
      "text/plain": [
       "[12, 14, 15, 17, 19, 20, 21, 3434, 3424]"
      ]
     },
     "execution_count": 16,
     "metadata": {},
     "output_type": "execute_result"
    }
   ],
   "source": [
    "re"
   ]
  },
  {
   "cell_type": "code",
   "execution_count": null,
   "id": "c10afd11",
   "metadata": {},
   "outputs": [],
   "source": []
  }
 ],
 "metadata": {
  "kernelspec": {
   "display_name": "Python 3 (ipykernel)",
   "language": "python",
   "name": "python3"
  },
  "language_info": {
   "codemirror_mode": {
    "name": "ipython",
    "version": 3
   },
   "file_extension": ".py",
   "mimetype": "text/x-python",
   "name": "python",
   "nbconvert_exporter": "python",
   "pygments_lexer": "ipython3",
   "version": "3.9.13"
  }
 },
 "nbformat": 4,
 "nbformat_minor": 5
}
