{
 "cells": [
  {
   "cell_type": "code",
   "execution_count": 3,
   "id": "1c3c35cf",
   "metadata": {},
   "outputs": [
    {
     "name": "stdout",
     "output_type": "stream",
     "text": [
      "0 index<---- 1\n",
      "1 index<---- 2\n",
      "2 index<---- 3\n",
      "3 index<---- 4\n",
      "4 index<---- 5\n",
      "5 index<---- 6\n"
     ]
    }
   ],
   "source": [
    "a = (1,2,3,4,5,6)\n",
    "# With index\n",
    "\n",
    "for eleIndex in range(len(a)):\n",
    "    print(eleIndex,\"index<----\",a[eleIndex])"
   ]
  },
  {
   "cell_type": "code",
   "execution_count": 4,
   "id": "a3471b9a",
   "metadata": {},
   "outputs": [
    {
     "name": "stdout",
     "output_type": "stream",
     "text": [
      "1\n",
      "2\n",
      "3\n",
      "4\n",
      "5\n",
      "6\n"
     ]
    }
   ],
   "source": [
    "# Without index\n",
    "for i in a:\n",
    "    print(i)"
   ]
  },
  {
   "cell_type": "code",
   "execution_count": null,
   "id": "3b97542a",
   "metadata": {},
   "outputs": [],
   "source": []
  }
 ],
 "metadata": {
  "kernelspec": {
   "display_name": "Python 3 (ipykernel)",
   "language": "python",
   "name": "python3"
  },
  "language_info": {
   "codemirror_mode": {
    "name": "ipython",
    "version": 3
   },
   "file_extension": ".py",
   "mimetype": "text/x-python",
   "name": "python",
   "nbconvert_exporter": "python",
   "pygments_lexer": "ipython3",
   "version": "3.9.13"
  }
 },
 "nbformat": 4,
 "nbformat_minor": 5
}
