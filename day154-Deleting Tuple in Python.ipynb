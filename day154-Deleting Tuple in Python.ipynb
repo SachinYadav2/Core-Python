{
 "cells": [
  {
   "cell_type": "markdown",
   "id": "0bfac5a3",
   "metadata": {},
   "source": [
    "# Tuple()\n",
    "- bese to hm delete nhi kar se kise partucular elemnt ko but ham delete kar skte h all elemnt ko "
   ]
  },
  {
   "cell_type": "code",
   "execution_count": 1,
   "id": "fd07c078",
   "metadata": {},
   "outputs": [],
   "source": [
    "a  = (12 ,1213 , 3,23 ,23,234)\n",
    "del a"
   ]
  },
  {
   "cell_type": "code",
   "execution_count": 2,
   "id": "1599a56f",
   "metadata": {},
   "outputs": [
    {
     "ename": "NameError",
     "evalue": "name 'a' is not defined",
     "output_type": "error",
     "traceback": [
      "\u001b[0;31m---------------------------------------------------------------------------\u001b[0m",
      "\u001b[0;31mNameError\u001b[0m                                 Traceback (most recent call last)",
      "Input \u001b[0;32mIn [2]\u001b[0m, in \u001b[0;36m<cell line: 1>\u001b[0;34m()\u001b[0m\n\u001b[0;32m----> 1\u001b[0m \u001b[43ma\u001b[49m\n",
      "\u001b[0;31mNameError\u001b[0m: name 'a' is not defined"
     ]
    }
   ],
   "source": [
    "a"
   ]
  },
  {
   "cell_type": "code",
   "execution_count": 7,
   "id": "813b1ade",
   "metadata": {},
   "outputs": [
    {
     "data": {
      "text/plain": [
       "(12, 1213, 234)"
      ]
     },
     "execution_count": 7,
     "metadata": {},
     "output_type": "execute_result"
    }
   ],
   "source": [
    "# but ham logic ke throw delete ko kind of achieve kr skte \n",
    "a  = (12 ,1213 , 3 ,23,234)\n",
    "s1 = a[0:2]\n",
    "\n",
    "s2 = a[4:5]\n",
    "\n",
    "re = s1+s2\n",
    "re\n",
    "# Hmne 3 ko delete kr diya h ab"
   ]
  },
  {
   "cell_type": "code",
   "execution_count": null,
   "id": "6799b28f",
   "metadata": {},
   "outputs": [],
   "source": []
  }
 ],
 "metadata": {
  "kernelspec": {
   "display_name": "Python 3 (ipykernel)",
   "language": "python",
   "name": "python3"
  },
  "language_info": {
   "codemirror_mode": {
    "name": "ipython",
    "version": 3
   },
   "file_extension": ".py",
   "mimetype": "text/x-python",
   "name": "python",
   "nbconvert_exporter": "python",
   "pygments_lexer": "ipython3",
   "version": "3.9.13"
  }
 },
 "nbformat": 4,
 "nbformat_minor": 5
}
