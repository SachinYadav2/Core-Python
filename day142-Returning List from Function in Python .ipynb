{
 "cells": [
  {
   "cell_type": "code",
   "execution_count": 1,
   "id": "b38297fe",
   "metadata": {},
   "outputs": [
    {
     "name": "stdout",
     "output_type": "stream",
     "text": [
      "[121, 12, 143, 4545, 434]\n",
      "<class 'list'>\n",
      "121\n",
      "12\n",
      "143\n",
      "4545\n",
      "434\n"
     ]
    },
    {
     "data": {
      "text/plain": [
       "[121, 12, 143, 4545, 434]"
      ]
     },
     "execution_count": 1,
     "metadata": {},
     "output_type": "execute_result"
    }
   ],
   "source": [
    "# Esme Denge ke kese list ko return lete h kise fun se\n",
    "\n",
    "def show(l):\n",
    "    print(l)\n",
    "    print(type(l))\n",
    "    for i in l:\n",
    "        print(i)\n",
    "    return l\n",
    "\n",
    "lis = [121,12,143,4545,434]\n",
    "\n",
    "show(lis)"
   ]
  },
  {
   "cell_type": "code",
   "execution_count": 3,
   "id": "244409c6",
   "metadata": {},
   "outputs": [
    {
     "name": "stdout",
     "output_type": "stream",
     "text": [
      "[121, 12, 143, 4545, 434]\n",
      "<class 'list'>\n",
      "121\n",
      "12\n",
      "143\n",
      "4545\n",
      "434\n",
      "new [121, 12, 143, 4545, 434]\n"
     ]
    }
   ],
   "source": [
    "new_list_store = show(lis)\n",
    "print(\"new\",new_list_store)"
   ]
  },
  {
   "cell_type": "code",
   "execution_count": null,
   "id": "c1681384",
   "metadata": {},
   "outputs": [],
   "source": []
  }
 ],
 "metadata": {
  "kernelspec": {
   "display_name": "Python 3 (ipykernel)",
   "language": "python",
   "name": "python3"
  },
  "language_info": {
   "codemirror_mode": {
    "name": "ipython",
    "version": 3
   },
   "file_extension": ".py",
   "mimetype": "text/x-python",
   "name": "python",
   "nbconvert_exporter": "python",
   "pygments_lexer": "ipython3",
   "version": "3.9.13"
  }
 },
 "nbformat": 4,
 "nbformat_minor": 5
}
