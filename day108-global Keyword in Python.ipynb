{
 "cells": [
  {
   "cell_type": "markdown",
   "id": "d4b0cdba",
   "metadata": {},
   "source": [
    "# Global keyword ka use krke ham global variable ko inside the function la skte h"
   ]
  },
  {
   "cell_type": "code",
   "execution_count": 2,
   "id": "4089e697",
   "metadata": {},
   "outputs": [
    {
     "ename": "UnboundLocalError",
     "evalue": "local variable 'i' referenced before assignment",
     "output_type": "error",
     "traceback": [
      "\u001b[0;31m---------------------------------------------------------------------------\u001b[0m",
      "\u001b[0;31mUnboundLocalError\u001b[0m                         Traceback (most recent call last)",
      "Input \u001b[0;32mIn [2]\u001b[0m, in \u001b[0;36m<cell line: 5>\u001b[0;34m()\u001b[0m\n\u001b[1;32m      3\u001b[0m     i \u001b[38;5;241m=\u001b[39m i\u001b[38;5;241m+\u001b[39m\u001b[38;5;241m1\u001b[39m\n\u001b[1;32m      4\u001b[0m     \u001b[38;5;28mprint\u001b[39m(i)\n\u001b[0;32m----> 5\u001b[0m \u001b[43mshow\u001b[49m\u001b[43m(\u001b[49m\u001b[43m)\u001b[49m\n",
      "Input \u001b[0;32mIn [2]\u001b[0m, in \u001b[0;36mshow\u001b[0;34m()\u001b[0m\n\u001b[1;32m      2\u001b[0m \u001b[38;5;28;01mdef\u001b[39;00m \u001b[38;5;21mshow\u001b[39m():\n\u001b[0;32m----> 3\u001b[0m     i \u001b[38;5;241m=\u001b[39m \u001b[43mi\u001b[49m\u001b[38;5;241m+\u001b[39m\u001b[38;5;241m1\u001b[39m\n\u001b[1;32m      4\u001b[0m     \u001b[38;5;28mprint\u001b[39m(i)\n",
      "\u001b[0;31mUnboundLocalError\u001b[0m: local variable 'i' referenced before assignment"
     ]
    }
   ],
   "source": [
    "i = 10\n",
    "def show():\n",
    "    i = i+1\n",
    "    print(i)\n",
    "show()"
   ]
  },
  {
   "cell_type": "markdown",
   "id": "727df657",
   "metadata": {},
   "source": [
    "# Problem Solu 1"
   ]
  },
  {
   "cell_type": "code",
   "execution_count": 3,
   "id": "e2d14db6",
   "metadata": {},
   "outputs": [
    {
     "name": "stdout",
     "output_type": "stream",
     "text": [
      "11\n"
     ]
    }
   ],
   "source": [
    "i = 10\n",
    "def show():\n",
    "    global i # Ab hmare global variable ko access mil gya fun me \n",
    "    i = i+1\n",
    "    print(i)\n",
    "show()"
   ]
  },
  {
   "cell_type": "markdown",
   "id": "6dc08cf3",
   "metadata": {},
   "source": [
    "# Problem Solu 2"
   ]
  },
  {
   "cell_type": "code",
   "execution_count": 4,
   "id": "e84cad99",
   "metadata": {},
   "outputs": [
    {
     "name": "stdout",
     "output_type": "stream",
     "text": [
      "1\n"
     ]
    }
   ],
   "source": [
    "i = 10\n",
    "def show():\n",
    "    i = 0 # hamne new var create krke value provide kar as local var  \n",
    "    i = i+1\n",
    "    print(i)\n",
    "show()"
   ]
  },
  {
   "cell_type": "code",
   "execution_count": null,
   "id": "a67b1cb1",
   "metadata": {},
   "outputs": [],
   "source": []
  }
 ],
 "metadata": {
  "kernelspec": {
   "display_name": "Python 3 (ipykernel)",
   "language": "python",
   "name": "python3"
  },
  "language_info": {
   "codemirror_mode": {
    "name": "ipython",
    "version": 3
   },
   "file_extension": ".py",
   "mimetype": "text/x-python",
   "name": "python",
   "nbconvert_exporter": "python",
   "pygments_lexer": "ipython3",
   "version": "3.9.13"
  }
 },
 "nbformat": 4,
 "nbformat_minor": 5
}
