{
 "cells": [
  {
   "cell_type": "markdown",
   "id": "2bc875ba",
   "metadata": {},
   "source": [
    "## Eksa use krke ham Two String ko Concate krte h"
   ]
  },
  {
   "cell_type": "code",
   "execution_count": 2,
   "id": "553410db",
   "metadata": {},
   "outputs": [
    {
     "name": "stdout",
     "output_type": "stream",
     "text": [
      "HelloWelcome\n"
     ]
    }
   ],
   "source": [
    "s1 = \"Hello\"\n",
    "s2 = \"Welcome\"\n",
    "print(s1+s2)\n",
    "# No Space at the concatination time par "
   ]
  },
  {
   "cell_type": "code",
   "execution_count": 4,
   "id": "2f5125c3",
   "metadata": {},
   "outputs": [
    {
     "name": "stdout",
     "output_type": "stream",
     "text": [
      "Rao Welcome\n"
     ]
    }
   ],
   "source": [
    "s1 = \"Hello\"\n",
    "s2 = \"Welcome\"\n",
    "print(\"Rao\",s2)\n"
   ]
  },
  {
   "cell_type": "code",
   "execution_count": null,
   "id": "d5a6e8a6",
   "metadata": {},
   "outputs": [],
   "source": []
  }
 ],
 "metadata": {
  "kernelspec": {
   "display_name": "Python 3 (ipykernel)",
   "language": "python",
   "name": "python3"
  },
  "language_info": {
   "codemirror_mode": {
    "name": "ipython",
    "version": 3
   },
   "file_extension": ".py",
   "mimetype": "text/x-python",
   "name": "python",
   "nbconvert_exporter": "python",
   "pygments_lexer": "ipython3",
   "version": "3.9.13"
  }
 },
 "nbformat": 4,
 "nbformat_minor": 5
}
