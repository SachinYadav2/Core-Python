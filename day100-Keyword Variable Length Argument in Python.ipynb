{
 "cells": [
  {
   "cell_type": "markdown",
   "id": "c475ff5d",
   "metadata": {},
   "source": [
    "## Eska use ham data ko key and value ke forme krte h \n",
    "- eske use krne ka method h    **\n",
    "- yah key ke dict ke form. data ko store krta h and eski help \n",
    "- key ke throw data ko access krte h"
   ]
  },
  {
   "cell_type": "code",
   "execution_count": 3,
   "id": "a0026e9d",
   "metadata": {},
   "outputs": [],
   "source": [
    "def add(**val):\n",
    "    x = val[\"z\"] + val[\"y\"] + val[\"z\"]\n",
    "    print(x)"
   ]
  },
  {
   "cell_type": "code",
   "execution_count": 5,
   "id": "e374f5d8",
   "metadata": {},
   "outputs": [
    {
     "name": "stdout",
     "output_type": "stream",
     "text": [
      "14\n"
     ]
    }
   ],
   "source": [
    "add(x = 3,y = 4, z = 5)"
   ]
  },
  {
   "cell_type": "code",
   "execution_count": 8,
   "id": "1abfef8c",
   "metadata": {},
   "outputs": [],
   "source": [
    "def add(**val):\n",
    "    x = val[\"z\"] + val[\"y\"] + val[\"z\"]\n",
    "    print(x)"
   ]
  },
  {
   "cell_type": "code",
   "execution_count": 12,
   "id": "1a78887a",
   "metadata": {},
   "outputs": [
    {
     "name": "stdout",
     "output_type": "stream",
     "text": [
      "14\n"
     ]
    }
   ],
   "source": [
    "add(x = 3,y = 4, z = 5 , va = 6)"
   ]
  },
  {
   "cell_type": "code",
   "execution_count": null,
   "id": "d938b3a4",
   "metadata": {},
   "outputs": [],
   "source": []
  }
 ],
 "metadata": {
  "kernelspec": {
   "display_name": "Python 3 (ipykernel)",
   "language": "python",
   "name": "python3"
  },
  "language_info": {
   "codemirror_mode": {
    "name": "ipython",
    "version": 3
   },
   "file_extension": ".py",
   "mimetype": "text/x-python",
   "name": "python",
   "nbconvert_exporter": "python",
   "pygments_lexer": "ipython3",
   "version": "3.9.13"
  }
 },
 "nbformat": 4,
 "nbformat_minor": 5
}
