{
 "cells": [
  {
   "cell_type": "markdown",
   "id": "93b98dfb",
   "metadata": {},
   "source": [
    "# Tuple()\n",
    "- yh hmare only read only mode me work krte h\n"
   ]
  },
  {
   "cell_type": "markdown",
   "id": "3c1acf84",
   "metadata": {},
   "source": [
    "# Creating tuple()\n"
   ]
  },
  {
   "cell_type": "code",
   "execution_count": 4,
   "id": "77bc7777",
   "metadata": {},
   "outputs": [
    {
     "name": "stdout",
     "output_type": "stream",
     "text": [
      "<class 'tuple'>\n"
     ]
    }
   ],
   "source": [
    "t = ()\n",
    "print(type(t))"
   ]
  },
  {
   "cell_type": "markdown",
   "id": "31c8425b",
   "metadata": {},
   "source": [
    "# Only one elementin tuple"
   ]
  },
  {
   "cell_type": "code",
   "execution_count": 5,
   "id": "04eea578",
   "metadata": {},
   "outputs": [
    {
     "name": "stdout",
     "output_type": "stream",
     "text": [
      "21\n",
      "<class 'int'>\n"
     ]
    }
   ],
   "source": [
    "# Note alway single element in() side the treat as int \n",
    "a = (21)\n",
    "print(a)\n",
    "print(type(a))\n"
   ]
  },
  {
   "cell_type": "code",
   "execution_count": 6,
   "id": "e0b5dbaf",
   "metadata": {},
   "outputs": [
    {
     "name": "stdout",
     "output_type": "stream",
     "text": [
      "(21,)\n",
      "<class 'tuple'>\n"
     ]
    }
   ],
   "source": [
    "a = (21,)\n",
    "print(a)\n",
    "print(type(a))\n"
   ]
  },
  {
   "cell_type": "markdown",
   "id": "7e4f2a65",
   "metadata": {},
   "source": [
    "# Multiple element inside the tuple"
   ]
  },
  {
   "cell_type": "code",
   "execution_count": 8,
   "id": "4de17d70",
   "metadata": {},
   "outputs": [
    {
     "name": "stdout",
     "output_type": "stream",
     "text": [
      "(12, 4234, 1212)\n",
      "<class 'tuple'>\n"
     ]
    }
   ],
   "source": [
    "a = (12,4234,1212)\n",
    "print(a)\n",
    "print(type(a))"
   ]
  },
  {
   "cell_type": "markdown",
   "id": "d0047739",
   "metadata": {},
   "source": [
    "# Accessing and indexing"
   ]
  },
  {
   "cell_type": "code",
   "execution_count": 10,
   "id": "99bbe320",
   "metadata": {},
   "outputs": [
    {
     "data": {
      "text/plain": [
       "121"
      ]
     },
     "execution_count": 10,
     "metadata": {},
     "output_type": "execute_result"
    }
   ],
   "source": [
    "a = (121,232,23,23,23,'dsasassas')\n",
    "a[0]"
   ]
  },
  {
   "cell_type": "code",
   "execution_count": 11,
   "id": "86bfc51d",
   "metadata": {},
   "outputs": [
    {
     "data": {
      "text/plain": [
       "'dsasassas'"
      ]
     },
     "execution_count": 11,
     "metadata": {},
     "output_type": "execute_result"
    }
   ],
   "source": [
    "a[-1]"
   ]
  },
  {
   "cell_type": "code",
   "execution_count": null,
   "id": "8768c33c",
   "metadata": {},
   "outputs": [],
   "source": []
  }
 ],
 "metadata": {
  "kernelspec": {
   "display_name": "Python 3 (ipykernel)",
   "language": "python",
   "name": "python3"
  },
  "language_info": {
   "codemirror_mode": {
    "name": "ipython",
    "version": 3
   },
   "file_extension": ".py",
   "mimetype": "text/x-python",
   "name": "python",
   "nbconvert_exporter": "python",
   "pygments_lexer": "ipython3",
   "version": "3.9.13"
  }
 },
 "nbformat": 4,
 "nbformat_minor": 5
}
