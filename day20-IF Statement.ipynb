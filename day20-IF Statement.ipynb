{
 "cells": [
  {
   "cell_type": "markdown",
   "metadata": {},
   "source": [
    "https://www.softwaretestinghelp.com/wp-content/qa/uploads/2019/05/if_statement_flowchart.png"
   ]
  },
  {
   "cell_type": "code",
   "execution_count": 5,
   "metadata": {},
   "outputs": [
    {
     "name": "stdout",
     "output_type": "stream",
     "text": [
      "Greater h \n"
     ]
    }
   ],
   "source": [
    "if 5>2:  # Conditions true h \n",
    "    print(\"Greater h \") # Statement Only True Condtions par run hoga"
   ]
  },
  {
   "cell_type": "code",
   "execution_count": 6,
   "metadata": {},
   "outputs": [
    {
     "name": "stdout",
     "output_type": "stream",
     "text": [
      "Greater h\n"
     ]
    }
   ],
   "source": [
    "# Single line me Statement Likhna only single line\n",
    "\n",
    "if 5>2: print(\"Greater h\")"
   ]
  },
  {
   "cell_type": "code",
   "execution_count": 7,
   "metadata": {},
   "outputs": [
    {
     "name": "stdout",
     "output_type": "stream",
     "text": [
      "Write\n",
      "Sahi h\n"
     ]
    }
   ],
   "source": [
    "# Block of Statement \n",
    "if 5>3:\n",
    "    print(\"Write\")\n",
    "    print(\"Sahi h\")"
   ]
  },
  {
   "cell_type": "code",
   "execution_count": 9,
   "metadata": {},
   "outputs": [
    {
     "name": "stdout",
     "output_type": "stream",
     "text": [
      "Write\n",
      "End \n"
     ]
    }
   ],
   "source": [
    "# Black of Statement \n",
    "if 5>3:\n",
    "    print(\"Write\")\n",
    "print(\"End \") # Rest of code or es code ka if condtions se koe connections h\n"
   ]
  },
  {
   "cell_type": "code",
   "execution_count": 11,
   "metadata": {},
   "outputs": [
    {
     "name": "stdout",
     "output_type": "stream",
     "text": [
      "End \n"
     ]
    }
   ],
   "source": [
    "# False ke condtions me bhi rest of the chla\n",
    "if 5<3:\n",
    "    print(\"Write\")\n",
    "print(\"End \") \n"
   ]
  },
  {
   "cell_type": "code",
   "execution_count": 12,
   "metadata": {},
   "outputs": [
    {
     "ename": "IndentationError",
     "evalue": "expected an indented block (<ipython-input-12-185ec837c36b>, line 3)",
     "output_type": "error",
     "traceback": [
      "\u001b[1;36m  File \u001b[1;32m\"<ipython-input-12-185ec837c36b>\"\u001b[1;36m, line \u001b[1;32m3\u001b[0m\n\u001b[1;33m    print(\"yes\")\u001b[0m\n\u001b[1;37m    ^\u001b[0m\n\u001b[1;31mIndentationError\u001b[0m\u001b[1;31m:\u001b[0m expected an indented block\n"
     ]
    }
   ],
   "source": [
    "if 5<3:\n",
    "print(\"yes\") \n"
   ]
  },
  {
   "cell_type": "code",
   "execution_count": 15,
   "metadata": {},
   "outputs": [
    {
     "name": "stdout",
     "output_type": "stream",
     "text": [
      "yes\n"
     ]
    }
   ],
   "source": [
    "if 5<3:\n",
    "    kuj_bhi_likh_do\n",
    "print(\"yes\") \n"
   ]
  },
  {
   "cell_type": "code",
   "execution_count": 18,
   "metadata": {},
   "outputs": [
    {
     "name": "stdout",
     "output_type": "stream",
     "text": [
      "Enter The Number Of :1\n",
      "Ese Se Bda 1 Number Dal\n"
     ]
    }
   ],
   "source": [
    "a = int(input(\"Enter The Number Of :\"))\n",
    "if(a>2):\n",
    "    print(\"Yah Rha Number Apka:\",a)\n",
    "print(\"Ese Se Bda\",a,\"Number Dal\")"
   ]
  },
  {
   "cell_type": "code",
   "execution_count": null,
   "metadata": {},
   "outputs": [],
   "source": []
  }
 ],
 "metadata": {
  "kernelspec": {
   "display_name": "Python 3",
   "language": "python",
   "name": "python3"
  },
  "language_info": {
   "codemirror_mode": {
    "name": "ipython",
    "version": 3
   },
   "file_extension": ".py",
   "mimetype": "text/x-python",
   "name": "python",
   "nbconvert_exporter": "python",
   "pygments_lexer": "ipython3",
   "version": "3.8.5"
  }
 },
 "nbformat": 4,
 "nbformat_minor": 4
}
