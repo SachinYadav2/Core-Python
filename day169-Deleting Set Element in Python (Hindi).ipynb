{
 "cells": [
  {
   "cell_type": "markdown",
   "id": "f6b5fdee",
   "metadata": {},
   "source": [
    "## remove() this method is delete your element\n",
    "## discard() this method is remove element but element is not present your data then it not a raise error"
   ]
  },
  {
   "cell_type": "code",
   "execution_count": 4,
   "id": "97ce7dcf",
   "metadata": {},
   "outputs": [
    {
     "name": "stdout",
     "output_type": "stream",
     "text": [
      "4367744608\n",
      "4367744608\n"
     ]
    },
    {
     "data": {
      "text/plain": [
       "{5, 343, 1221, 323434}"
      ]
     },
     "execution_count": 4,
     "metadata": {},
     "output_type": "execute_result"
    }
   ],
   "source": [
    "a = {12,1221,323434,343,5}\n",
    "print(id(a))\n",
    "a.remove(12)\n",
    "print(id(a))\n",
    "a\n"
   ]
  },
  {
   "cell_type": "code",
   "execution_count": 5,
   "id": "649b4a27",
   "metadata": {},
   "outputs": [
    {
     "name": "stdout",
     "output_type": "stream",
     "text": [
      "4367741024\n"
     ]
    },
    {
     "ename": "KeyError",
     "evalue": "1223",
     "output_type": "error",
     "traceback": [
      "\u001b[0;31m---------------------------------------------------------------------------\u001b[0m",
      "\u001b[0;31mKeyError\u001b[0m                                  Traceback (most recent call last)",
      "Cell \u001b[0;32mIn[5], line 3\u001b[0m\n\u001b[1;32m      1\u001b[0m a \u001b[38;5;241m=\u001b[39m {\u001b[38;5;241m12\u001b[39m,\u001b[38;5;241m1221\u001b[39m,\u001b[38;5;241m323434\u001b[39m,\u001b[38;5;241m343\u001b[39m,\u001b[38;5;241m5\u001b[39m}\n\u001b[1;32m      2\u001b[0m \u001b[38;5;28mprint\u001b[39m(\u001b[38;5;28mid\u001b[39m(a))\n\u001b[0;32m----> 3\u001b[0m \u001b[43ma\u001b[49m\u001b[38;5;241;43m.\u001b[39;49m\u001b[43mremove\u001b[49m\u001b[43m(\u001b[49m\u001b[38;5;241;43m1223\u001b[39;49m\u001b[43m)\u001b[49m\n\u001b[1;32m      4\u001b[0m \u001b[38;5;28mprint\u001b[39m(\u001b[38;5;28mid\u001b[39m(a))\n\u001b[1;32m      5\u001b[0m a\n",
      "\u001b[0;31mKeyError\u001b[0m: 1223"
     ]
    }
   ],
   "source": [
    "a = {12,1221,323434,343,5}\n",
    "print(id(a))\n",
    "a.remove(1223)\n",
    "print(id(a))\n",
    "a\n"
   ]
  },
  {
   "cell_type": "code",
   "execution_count": 7,
   "id": "8387c95b",
   "metadata": {},
   "outputs": [
    {
     "name": "stdout",
     "output_type": "stream",
     "text": [
      "4367743936\n",
      "4367743936\n"
     ]
    },
    {
     "data": {
      "text/plain": [
       "{5, 12, 343, 1221, 323434}"
      ]
     },
     "execution_count": 7,
     "metadata": {},
     "output_type": "execute_result"
    }
   ],
   "source": [
    "# not show a error\n",
    "\n",
    "a = {12,1221,323434,343,5}\n",
    "print(id(a))\n",
    "a.discard(434434344343434343434343434312)\n",
    "print(id(a))\n",
    "a\n"
   ]
  },
  {
   "cell_type": "code",
   "execution_count": null,
   "id": "d54d01bc",
   "metadata": {},
   "outputs": [],
   "source": []
  }
 ],
 "metadata": {
  "kernelspec": {
   "display_name": "Python 3 (ipykernel)",
   "language": "python",
   "name": "python3"
  },
  "language_info": {
   "codemirror_mode": {
    "name": "ipython",
    "version": 3
   },
   "file_extension": ".py",
   "mimetype": "text/x-python",
   "name": "python",
   "nbconvert_exporter": "python",
   "pygments_lexer": "ipython3",
   "version": "3.10.8"
  }
 },
 "nbformat": 4,
 "nbformat_minor": 5
}
