{
 "cells": [
  {
   "cell_type": "markdown",
   "id": "60bc9f80",
   "metadata": {},
   "source": [
    "# Hm only {} yha change etna hota ke curly brackes hota h basically\n",
    "- same property hoti h list ke trh "
   ]
  },
  {
   "cell_type": "code",
   "execution_count": 8,
   "id": "9e16dbc0",
   "metadata": {},
   "outputs": [
    {
     "name": "stdout",
     "output_type": "stream",
     "text": [
      "{1, 2, 3, 4, 5, 6, 7, 8, 9, 10}\n",
      "{1, 2, 3, 4, 5, 6, 7, 8, 9, 10}\n"
     ]
    }
   ],
   "source": [
    "\n",
    "lst = {0 , 1,2,3,4,5,6,7,8,9}\n",
    "new_list = set()\n",
    "\n",
    "for  i in lst:\n",
    "    new_list.add(i+1)\n",
    "    \n",
    "print(new_list)\n",
    "\n",
    "\n",
    "\n",
    "# List compre\n",
    "\n",
    "\n",
    "lst = {0 , 1,2,3,4,5,6,7,8,9}\n",
    "new = {i+1 for i in lst }\n",
    "print(new)"
   ]
  },
  {
   "cell_type": "code",
   "execution_count": 1,
   "id": "405c4812",
   "metadata": {},
   "outputs": [
    {
     "data": {
      "text/plain": [
       "{1, 2, 3, 4, 5, 6, 7, 8, 9, 10, 11, 12, 13, 14, 15, 16, 17, 18, 19, 20}"
      ]
     },
     "execution_count": 1,
     "metadata": {},
     "output_type": "execute_result"
    }
   ],
   "source": [
    "new_dic = {i+1 for i in range(20)}\n",
    "new_dic"
   ]
  },
  {
   "cell_type": "code",
   "execution_count": 2,
   "id": "990be9eb",
   "metadata": {},
   "outputs": [
    {
     "data": {
      "text/plain": [
       "{0, 2, 4, 6, 8, 10, 12, 14, 16, 18}"
      ]
     },
     "execution_count": 2,
     "metadata": {},
     "output_type": "execute_result"
    }
   ],
   "source": [
    "new_dic = {i for i in range(20) if (i%2==0)}\n",
    "new_dic"
   ]
  },
  {
   "cell_type": "code",
   "execution_count": 3,
   "id": "d6ac74c3",
   "metadata": {},
   "outputs": [
    {
     "name": "stdout",
     "output_type": "stream",
     "text": [
      "{0, 2, 4, 6, 8, 'Invalid Syntax'}\n"
     ]
    }
   ],
   "source": [
    "\n",
    "new = {i if (i%2==0) else \"Invalid Syntax\"  for i in range(10) }\n",
    "print(new)"
   ]
  },
  {
   "cell_type": "code",
   "execution_count": 4,
   "id": "a3a620d6",
   "metadata": {},
   "outputs": [
    {
     "name": "stdout",
     "output_type": "stream",
     "text": [
      "<class 'set'>\n",
      "<class 'set'>\n"
     ]
    }
   ],
   "source": [
    "print(type(new_dic))\n",
    "\n",
    "print(type(new))"
   ]
  },
  {
   "cell_type": "code",
   "execution_count": null,
   "id": "9e34117e",
   "metadata": {},
   "outputs": [],
   "source": []
  }
 ],
 "metadata": {
  "kernelspec": {
   "display_name": "Python 3 (ipykernel)",
   "language": "python",
   "name": "python3"
  },
  "language_info": {
   "codemirror_mode": {
    "name": "ipython",
    "version": 3
   },
   "file_extension": ".py",
   "mimetype": "text/x-python",
   "name": "python",
   "nbconvert_exporter": "python",
   "pygments_lexer": "ipython3",
   "version": "3.10.8"
  }
 },
 "nbformat": 4,
 "nbformat_minor": 5
}
