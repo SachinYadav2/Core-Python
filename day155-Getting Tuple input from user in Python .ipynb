{
 "cells": [
  {
   "cell_type": "markdown",
   "id": "b79665bd",
   "metadata": {},
   "source": [
    "# User se input lekar tuple bnana wese to hard but ham logic se kar skte \n",
    "- hm phle list me input le lete h than use convert kr dete h tuple me "
   ]
  },
  {
   "cell_type": "code",
   "execution_count": 1,
   "id": "f5f14732",
   "metadata": {},
   "outputs": [
    {
     "name": "stdout",
     "output_type": "stream",
     "text": [
      "No of Element in :3\n",
      "1\n",
      "2\n",
      "3\n",
      "(1, 2, 3)\n"
     ]
    }
   ],
   "source": [
    "a = []\n",
    "no = int(input(\"No of Element in :\"))\n",
    "\n",
    "for  i in range(no):\n",
    "    a.append(int(input()))\n",
    "    \n",
    "tup = tuple(a)\n",
    "print(tup)"
   ]
  },
  {
   "cell_type": "code",
   "execution_count": null,
   "id": "9a841b60",
   "metadata": {},
   "outputs": [],
   "source": []
  }
 ],
 "metadata": {
  "kernelspec": {
   "display_name": "Python 3 (ipykernel)",
   "language": "python",
   "name": "python3"
  },
  "language_info": {
   "codemirror_mode": {
    "name": "ipython",
    "version": 3
   },
   "file_extension": ".py",
   "mimetype": "text/x-python",
   "name": "python",
   "nbconvert_exporter": "python",
   "pygments_lexer": "ipython3",
   "version": "3.9.13"
  }
 },
 "nbformat": 4,
 "nbformat_minor": 5
}
