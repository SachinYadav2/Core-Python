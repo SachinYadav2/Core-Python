{
 "cells": [
  {
   "cell_type": "markdown",
   "id": "8cc626fc",
   "metadata": {},
   "source": [
    "# setdefault()\n",
    "- eski help se hm key ke throw value search krte \n",
    "- agr key ke corrsponding key nhi mile to yh dict me new key create krta h"
   ]
  },
  {
   "cell_type": "code",
   "execution_count": 1,
   "id": "234bf277",
   "metadata": {},
   "outputs": [
    {
     "data": {
      "text/plain": [
       "'Dss'"
      ]
     },
     "execution_count": 1,
     "metadata": {},
     "output_type": "execute_result"
    }
   ],
   "source": [
    "d = {101:\"Dss\"}\n",
    "n = d.setdefault(101)\n",
    "n"
   ]
  },
  {
   "cell_type": "code",
   "execution_count": 2,
   "id": "d90a6ab3",
   "metadata": {},
   "outputs": [],
   "source": [
    "q = d.setdefault(102,\"agar na mile to ese value bna do\")"
   ]
  },
  {
   "cell_type": "code",
   "execution_count": 3,
   "id": "2ad4fba5",
   "metadata": {},
   "outputs": [
    {
     "data": {
      "text/plain": [
       "'agar na mile to ese value bna do'"
      ]
     },
     "execution_count": 3,
     "metadata": {},
     "output_type": "execute_result"
    }
   ],
   "source": [
    "q"
   ]
  },
  {
   "cell_type": "code",
   "execution_count": 4,
   "id": "64b9d101",
   "metadata": {},
   "outputs": [
    {
     "data": {
      "text/plain": [
       "{101: 'Dss', 102: 'agar na mile to ese value bna do'}"
      ]
     },
     "execution_count": 4,
     "metadata": {},
     "output_type": "execute_result"
    }
   ],
   "source": [
    "d"
   ]
  },
  {
   "cell_type": "code",
   "execution_count": null,
   "id": "44c18199",
   "metadata": {},
   "outputs": [],
   "source": []
  }
 ],
 "metadata": {
  "kernelspec": {
   "display_name": "Python 3 (ipykernel)",
   "language": "python",
   "name": "python3"
  },
  "language_info": {
   "codemirror_mode": {
    "name": "ipython",
    "version": 3
   },
   "file_extension": ".py",
   "mimetype": "text/x-python",
   "name": "python",
   "nbconvert_exporter": "python",
   "pygments_lexer": "ipython3",
   "version": "3.10.8"
  }
 },
 "nbformat": 4,
 "nbformat_minor": 5
}
