{
 "cells": [
  {
   "cell_type": "markdown",
   "id": "fe067dc8",
   "metadata": {},
   "source": [
    "# Copy () method ka use krke copy kr skte h and yah reutn krta h a apki dict ko"
   ]
  },
  {
   "cell_type": "code",
   "execution_count": 2,
   "id": "42aed615",
   "metadata": {},
   "outputs": [
    {
     "name": "stdout",
     "output_type": "stream",
     "text": [
      "4380408128\n",
      "{101: 'Sachin'}\n",
      "4380402304\n"
     ]
    }
   ],
   "source": [
    "d = {101:\"Sachin\"}\n",
    "print(id(d))\n",
    "new = d.copy()\n",
    "print(new)\n",
    "print(id(new))"
   ]
  },
  {
   "cell_type": "code",
   "execution_count": null,
   "id": "60e85766",
   "metadata": {},
   "outputs": [],
   "source": []
  }
 ],
 "metadata": {
  "kernelspec": {
   "display_name": "Python 3 (ipykernel)",
   "language": "python",
   "name": "python3"
  },
  "language_info": {
   "codemirror_mode": {
    "name": "ipython",
    "version": 3
   },
   "file_extension": ".py",
   "mimetype": "text/x-python",
   "name": "python",
   "nbconvert_exporter": "python",
   "pygments_lexer": "ipython3",
   "version": "3.10.8"
  }
 },
 "nbformat": 4,
 "nbformat_minor": 5
}
