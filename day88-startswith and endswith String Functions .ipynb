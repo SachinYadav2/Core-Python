{
 "cells": [
  {
   "cell_type": "markdown",
   "id": "7f0883e5",
   "metadata": {},
   "source": [
    "# startwith()\n",
    "- this method return True and false when your \n",
    "- sy; str.method(obj)"
   ]
  },
  {
   "cell_type": "code",
   "execution_count": 1,
   "id": "0bf7d149",
   "metadata": {},
   "outputs": [
    {
     "name": "stdout",
     "output_type": "stream",
     "text": [
      "True\n"
     ]
    }
   ],
   "source": [
    "name = \"This is sachin\"\n",
    "print(name.startswith(\"This\"))"
   ]
  },
  {
   "cell_type": "code",
   "execution_count": 2,
   "id": "86191bf9",
   "metadata": {},
   "outputs": [
    {
     "name": "stdout",
     "output_type": "stream",
     "text": [
      "False\n"
     ]
    }
   ],
   "source": [
    "name = \"This is sachin\"\n",
    "print(name.startswith(\"Ths\"))"
   ]
  },
  {
   "cell_type": "code",
   "execution_count": 3,
   "id": "91920384",
   "metadata": {},
   "outputs": [
    {
     "name": "stdout",
     "output_type": "stream",
     "text": [
      "True\n"
     ]
    }
   ],
   "source": [
    "name = \"This is sachin\"\n",
    "print(name.startswith(\"Th\"))"
   ]
  },
  {
   "cell_type": "code",
   "execution_count": 4,
   "id": "c21b1487",
   "metadata": {},
   "outputs": [
    {
     "name": "stdout",
     "output_type": "stream",
     "text": [
      "False\n"
     ]
    }
   ],
   "source": [
    "name = \"This is sachin\"\n",
    "print(name.startswith(\"sachin\"))"
   ]
  },
  {
   "cell_type": "markdown",
   "id": "c39e63b1",
   "metadata": {},
   "source": [
    "# endwith()"
   ]
  },
  {
   "cell_type": "code",
   "execution_count": 6,
   "id": "a9e63539",
   "metadata": {},
   "outputs": [
    {
     "name": "stdout",
     "output_type": "stream",
     "text": [
      "True\n"
     ]
    }
   ],
   "source": [
    "name = \"This is sachin\"\n",
    "print(name.endswith(\"sachin\"))"
   ]
  },
  {
   "cell_type": "code",
   "execution_count": 7,
   "id": "5e940c4e",
   "metadata": {},
   "outputs": [
    {
     "name": "stdout",
     "output_type": "stream",
     "text": [
      "False\n"
     ]
    }
   ],
   "source": [
    "name = \"This is sachin\"\n",
    "print(name.endswith(\"is\"))"
   ]
  },
  {
   "cell_type": "code",
   "execution_count": 8,
   "id": "4492253d",
   "metadata": {},
   "outputs": [
    {
     "name": "stdout",
     "output_type": "stream",
     "text": [
      "True\n"
     ]
    }
   ],
   "source": [
    "name = \"This is sachin\"\n",
    "print(name.endswith(\"in\"))"
   ]
  },
  {
   "cell_type": "code",
   "execution_count": null,
   "id": "5544b283",
   "metadata": {},
   "outputs": [],
   "source": []
  }
 ],
 "metadata": {
  "kernelspec": {
   "display_name": "Python 3 (ipykernel)",
   "language": "python",
   "name": "python3"
  },
  "language_info": {
   "codemirror_mode": {
    "name": "ipython",
    "version": 3
   },
   "file_extension": ".py",
   "mimetype": "text/x-python",
   "name": "python",
   "nbconvert_exporter": "python",
   "pygments_lexer": "ipython3",
   "version": "3.9.13"
  }
 },
 "nbformat": 4,
 "nbformat_minor": 5
}
