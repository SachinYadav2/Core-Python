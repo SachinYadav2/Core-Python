{
 "cells": [
  {
   "cell_type": "markdown",
   "id": "c2c5a9d6",
   "metadata": {},
   "source": [
    "- list hmari mutable hoti h basically\n",
    "- and esme ham diffrence type of data ek sath rkh skte h \n"
   ]
  },
  {
   "cell_type": "markdown",
   "id": "b3adc25c",
   "metadata": {},
   "source": [
    "## Creating list"
   ]
  },
  {
   "cell_type": "code",
   "execution_count": 1,
   "id": "227b8d9e",
   "metadata": {},
   "outputs": [],
   "source": [
    "lis = [] # this is basically blank list \n"
   ]
  },
  {
   "cell_type": "code",
   "execution_count": 3,
   "id": "48a15e63",
   "metadata": {},
   "outputs": [],
   "source": [
    "lis = [12,13 ,13 , \"assada\",-121]"
   ]
  },
  {
   "cell_type": "markdown",
   "id": "f910cacf",
   "metadata": {},
   "source": [
    "## Accessed list element "
   ]
  },
  {
   "cell_type": "code",
   "execution_count": 4,
   "id": "dd78d341",
   "metadata": {},
   "outputs": [
    {
     "data": {
      "text/plain": [
       "13"
      ]
     },
     "execution_count": 4,
     "metadata": {},
     "output_type": "execute_result"
    }
   ],
   "source": [
    "lis[1]"
   ]
  },
  {
   "cell_type": "markdown",
   "id": "0a5f9c58",
   "metadata": {},
   "source": [
    "## Modify a list"
   ]
  },
  {
   "cell_type": "code",
   "execution_count": 6,
   "id": "b2b6ea00",
   "metadata": {},
   "outputs": [
    {
     "data": {
      "text/plain": [
       "[12, 13, 13, 'Sachin Rao', -121]"
      ]
     },
     "execution_count": 6,
     "metadata": {},
     "output_type": "execute_result"
    }
   ],
   "source": [
    "lis = [12,13 ,13 , \"assada\",-121]\n",
    "lis[3] = \"Sachin Rao\"\n",
    "lis # modify ho gya , hmara object same rhta h mutable case agar immutable hota to new object bnta than aage ka kam hota basically\n",
    "\n"
   ]
  },
  {
   "cell_type": "code",
   "execution_count": 7,
   "id": "954c6dcb",
   "metadata": {},
   "outputs": [
    {
     "data": {
      "text/plain": [
       "4445933248"
      ]
     },
     "execution_count": 7,
     "metadata": {},
     "output_type": "execute_result"
    }
   ],
   "source": [
    "id(lis)"
   ]
  },
  {
   "cell_type": "code",
   "execution_count": null,
   "id": "3927893e",
   "metadata": {},
   "outputs": [],
   "source": []
  }
 ],
 "metadata": {
  "kernelspec": {
   "display_name": "Python 3 (ipykernel)",
   "language": "python",
   "name": "python3"
  },
  "language_info": {
   "codemirror_mode": {
    "name": "ipython",
    "version": 3
   },
   "file_extension": ".py",
   "mimetype": "text/x-python",
   "name": "python",
   "nbconvert_exporter": "python",
   "pygments_lexer": "ipython3",
   "version": "3.9.13"
  }
 },
 "nbformat": 4,
 "nbformat_minor": 5
}
