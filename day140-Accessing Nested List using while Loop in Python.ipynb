{
 "cells": [
  {
   "cell_type": "code",
   "execution_count": 6,
   "id": "5927d2cd",
   "metadata": {},
   "outputs": [
    {
     "name": "stdout",
     "output_type": "stream",
     "text": [
      "0 <---index 12\n",
      "1 <---index 13\n",
      "2 <---index 14\n",
      "3 <---index 15\n",
      "4 0 <---index 1\n",
      "4 1 <---index 2\n",
      "4 2 <---index 3\n"
     ]
    }
   ],
   "source": [
    "# Esme ham basicaally while loop ke throw denge ke kese kam hota h basically \n",
    "\n",
    "a = [12,13,14,15,[1,2,3]]\n",
    "n = len(a)\n",
    "\n",
    "i = 0\n",
    "while i < n:\n",
    "    if type(a[i]) is list:\n",
    "        if len(a[i]) > 1:\n",
    "            j = 0\n",
    "            m = len(a[i])\n",
    "            while j< m:\n",
    "                print(i,j,\"<---index\",a[i][j])\n",
    "                j+=1\n",
    "            i+=1\n",
    "    else:\n",
    "        print(i,\"<---index\",a[i])\n",
    "        i+=1\n"
   ]
  },
  {
   "cell_type": "code",
   "execution_count": 2,
   "id": "35d6e67d",
   "metadata": {},
   "outputs": [],
   "source": [
    "a = [\n",
    "    [12,1,413],\n",
    "    [12,3,15]\n",
    "]"
   ]
  },
  {
   "cell_type": "code",
   "execution_count": 4,
   "id": "88a25f12",
   "metadata": {},
   "outputs": [
    {
     "name": "stdout",
     "output_type": "stream",
     "text": [
      "0 0 <---index 12\n",
      "0 1 <---index 1\n",
      "0 2 <---index 413\n",
      "1 0 <---index 12\n",
      "1 1 <---index 3\n",
      "1 2 <---index 15\n"
     ]
    }
   ],
   "source": [
    "n = len(a)\n",
    "i = 0\n",
    "while i < n:\n",
    "    j = 0\n",
    "    while j < len(a[i]):\n",
    "        print(i,j,\"<---index\",a[i][j])\n",
    "        j+=1\n",
    "    i+=1"
   ]
  },
  {
   "cell_type": "code",
   "execution_count": null,
   "id": "41ca3bc7",
   "metadata": {},
   "outputs": [],
   "source": []
  }
 ],
 "metadata": {
  "kernelspec": {
   "display_name": "Python 3 (ipykernel)",
   "language": "python",
   "name": "python3"
  },
  "language_info": {
   "codemirror_mode": {
    "name": "ipython",
    "version": 3
   },
   "file_extension": ".py",
   "mimetype": "text/x-python",
   "name": "python",
   "nbconvert_exporter": "python",
   "pygments_lexer": "ipython3",
   "version": "3.9.13"
  }
 },
 "nbformat": 4,
 "nbformat_minor": 5
}
