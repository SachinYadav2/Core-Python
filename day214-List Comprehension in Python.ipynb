{
 "cells": [
  {
   "cell_type": "markdown",
   "id": "55549507",
   "metadata": {},
   "source": [
    "# Ham list comprehenstion ka use krke number of line code ko reduce krte h basically"
   ]
  },
  {
   "cell_type": "code",
   "execution_count": 4,
   "id": "e162a460",
   "metadata": {},
   "outputs": [
    {
     "name": "stdout",
     "output_type": "stream",
     "text": [
      "[1, 2, 3, 4, 5, 6, 7, 8, 9, 10]\n",
      "[1, 2, 3, 4, 5, 6, 7, 8, 9, 10]\n"
     ]
    }
   ],
   "source": [
    "# \n",
    "\n",
    "lst = [0 , 1,2,3,4,5,6,7,8,9]\n",
    "new_list = []\n",
    "\n",
    "for  i in lst:\n",
    "    new_list.append(i+1)\n",
    "    \n",
    "print(new_list)\n",
    "\n",
    "\n",
    "\n",
    "# List compre\n",
    "\n",
    "\n",
    "lst = [0 , 1,2,3,4,5,6,7,8,9]\n",
    "new = [i+1 for i in lst ]\n",
    "print(new)"
   ]
  },
  {
   "cell_type": "code",
   "execution_count": 6,
   "id": "95ee4ea5",
   "metadata": {},
   "outputs": [
    {
     "name": "stdout",
     "output_type": "stream",
     "text": [
      "[0, 2, 4, 6, 8]\n",
      "[0, 2, 4, 6, 8]\n"
     ]
    }
   ],
   "source": [
    "lst = [0 , 1,2,3,4,5,6,7,8,9]\n",
    "new_list = []\n",
    "\n",
    "for  i in lst:\n",
    "    if (i%2==0):\n",
    "        new_list.append(i)\n",
    "    \n",
    "print(new_list)\n",
    "\n",
    "\n",
    "\n",
    "# List compre\n",
    "\n",
    "\n",
    "lst = [0 , 1,2,3,4,5,6,7,8,9]\n",
    "new = [i for i in lst if (i%2==0)]\n",
    "print(new)"
   ]
  },
  {
   "cell_type": "markdown",
   "id": "5abb8eb0",
   "metadata": {},
   "source": [
    "# Nested if condition"
   ]
  },
  {
   "cell_type": "code",
   "execution_count": 8,
   "id": "2909ebfc",
   "metadata": {},
   "outputs": [
    {
     "name": "stdout",
     "output_type": "stream",
     "text": [
      "[0, 6]\n",
      "[0, 6]\n"
     ]
    }
   ],
   "source": [
    "\n",
    "\n",
    "\n",
    "lst = [0 , 1,2,3,4,5,6,7,8,9]\n",
    "new_list = []\n",
    "\n",
    "for  i in lst:\n",
    "    if (i%2==0):\n",
    "        if (i%3==0):\n",
    "            new_list.append(i)\n",
    "    \n",
    "print(new_list)\n",
    "\n",
    "\n",
    "\n",
    "# List compre\n",
    "\n",
    "\n",
    "lst = [0 , 1,2,3,4,5,6,7,8,9]\n",
    "new = [i for i in lst if (i%2==0) if (i%3==0)]\n",
    "print(new)"
   ]
  },
  {
   "cell_type": "code",
   "execution_count": 9,
   "id": "e2383e24",
   "metadata": {},
   "outputs": [
    {
     "name": "stdout",
     "output_type": "stream",
     "text": [
      "[0, 6, 12, 18]\n",
      "[0, 6, 12, 18]\n"
     ]
    }
   ],
   "source": [
    "\n",
    "\n",
    "\n",
    "new_list = []\n",
    "\n",
    "for  i in range(20):\n",
    "    if (i%2==0):\n",
    "        if (i%3==0):\n",
    "            new_list.append(i)\n",
    "    \n",
    "print(new_list)\n",
    "\n",
    "\n",
    "\n",
    "# List compre\n",
    "\n",
    "\n",
    "new = [i for i in range(20) if (i%2==0) if (i%3==0)]\n",
    "print(new)"
   ]
  },
  {
   "cell_type": "markdown",
   "id": "f08e8aad",
   "metadata": {},
   "source": [
    "# If else with Comprehenstion list"
   ]
  },
  {
   "cell_type": "code",
   "execution_count": 11,
   "id": "be35b96c",
   "metadata": {},
   "outputs": [
    {
     "name": "stdout",
     "output_type": "stream",
     "text": [
      "[0, 'Invalid Syntax', 2, 'Invalid Syntax', 4, 'Invalid Syntax', 6, 'Invalid Syntax', 8, 'Invalid Syntax']\n"
     ]
    }
   ],
   "source": [
    "\n",
    "\n",
    "\n",
    "\n",
    "\n",
    "# List compre\n",
    "\n",
    "\n",
    "new = [i if (i%2==0) else \"Invalid Syntax\"  for i in range(10) ]\n",
    "print(new)"
   ]
  },
  {
   "cell_type": "code",
   "execution_count": null,
   "id": "a641206a",
   "metadata": {},
   "outputs": [],
   "source": []
  }
 ],
 "metadata": {
  "kernelspec": {
   "display_name": "Python 3 (ipykernel)",
   "language": "python",
   "name": "python3"
  },
  "language_info": {
   "codemirror_mode": {
    "name": "ipython",
    "version": 3
   },
   "file_extension": ".py",
   "mimetype": "text/x-python",
   "name": "python",
   "nbconvert_exporter": "python",
   "pygments_lexer": "ipython3",
   "version": "3.10.8"
  }
 },
 "nbformat": 4,
 "nbformat_minor": 5
}
