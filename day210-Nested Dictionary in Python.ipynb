{
 "cells": [
  {
   "cell_type": "markdown",
   "id": "95320021",
   "metadata": {},
   "source": [
    "#  Nested Dict\n",
    "- nested dict "
   ]
  },
  {
   "cell_type": "code",
   "execution_count": 3,
   "id": "cca922d8",
   "metadata": {},
   "outputs": [],
   "source": [
    "d = {\n",
    "    1:{12:\"Sachin\" ,13:\"MOhan\"},\n",
    "    2:{13:\"MOh\", 14:\"Rahul\"}\n",
    "}"
   ]
  },
  {
   "cell_type": "code",
   "execution_count": 4,
   "id": "d7960ad3",
   "metadata": {},
   "outputs": [
    {
     "data": {
      "text/plain": [
       "{1: {12: 'Sachin', 13: 'MOhan'}, 2: {13: 'MOh', 14: 'Rahul'}}"
      ]
     },
     "execution_count": 4,
     "metadata": {},
     "output_type": "execute_result"
    }
   ],
   "source": [
    "d"
   ]
  },
  {
   "cell_type": "markdown",
   "id": "f2b18905",
   "metadata": {},
   "source": [
    "# Acccesed"
   ]
  },
  {
   "cell_type": "code",
   "execution_count": 6,
   "id": "0eb81b60",
   "metadata": {},
   "outputs": [
    {
     "data": {
      "text/plain": [
       "'Sachin'"
      ]
     },
     "execution_count": 6,
     "metadata": {},
     "output_type": "execute_result"
    }
   ],
   "source": [
    "d[1][12]"
   ]
  },
  {
   "cell_type": "code",
   "execution_count": 7,
   "id": "1d75aba2",
   "metadata": {},
   "outputs": [
    {
     "data": {
      "text/plain": [
       "'MOhan'"
      ]
     },
     "execution_count": 7,
     "metadata": {},
     "output_type": "execute_result"
    }
   ],
   "source": [
    "d[1][13]"
   ]
  },
  {
   "cell_type": "markdown",
   "id": "c3f030f7",
   "metadata": {},
   "source": [
    "# MOdification"
   ]
  },
  {
   "cell_type": "code",
   "execution_count": 8,
   "id": "19476717",
   "metadata": {},
   "outputs": [],
   "source": [
    "d[1][13] = \"dnmskjdnsjdbu\""
   ]
  },
  {
   "cell_type": "code",
   "execution_count": 9,
   "id": "19c29e86",
   "metadata": {},
   "outputs": [
    {
     "data": {
      "text/plain": [
       "'dnmskjdnsjdbu'"
      ]
     },
     "execution_count": 9,
     "metadata": {},
     "output_type": "execute_result"
    }
   ],
   "source": [
    "d[1][13]"
   ]
  },
  {
   "cell_type": "code",
   "execution_count": null,
   "id": "d226e905",
   "metadata": {},
   "outputs": [],
   "source": []
  }
 ],
 "metadata": {
  "kernelspec": {
   "display_name": "Python 3 (ipykernel)",
   "language": "python",
   "name": "python3"
  },
  "language_info": {
   "codemirror_mode": {
    "name": "ipython",
    "version": 3
   },
   "file_extension": ".py",
   "mimetype": "text/x-python",
   "name": "python",
   "nbconvert_exporter": "python",
   "pygments_lexer": "ipython3",
   "version": "3.10.8"
  }
 },
 "nbformat": 4,
 "nbformat_minor": 5
}
