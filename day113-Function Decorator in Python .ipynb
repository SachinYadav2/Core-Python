{
 "cells": [
  {
   "cell_type": "markdown",
   "id": "7bea3ec3",
   "metadata": {},
   "source": [
    "## Decorator\n",
    "- main motive h fun ko enhence krna bina kise modification ke fun me "
   ]
  },
  {
   "cell_type": "code",
   "execution_count": 4,
   "id": "9559f9f2",
   "metadata": {},
   "outputs": [
    {
     "name": "stdout",
     "output_type": "stream",
     "text": [
      "Before enhence your fun:\n",
      "hey i am use of this fun \n",
      "OKk your use this fun :\n",
      "Your function is modify\n"
     ]
    }
   ],
   "source": [
    "def decor(fun):\n",
    "    def inner():\n",
    "        print(\"Before enhence your fun:\")\n",
    "        fun()\n",
    "        print(\"Your function is modify\")\n",
    "    return inner\n",
    "\n",
    "def num():\n",
    "    print(\"hey i am use of this fun \")\n",
    "    print(\"OKk your use this fun :\")  # hme ese enhence  krna bina fun me jakr change krke\n",
    "result_fun = decor(num)\n",
    "result_fun()"
   ]
  },
  {
   "cell_type": "markdown",
   "id": "a8d2d430",
   "metadata": {},
   "source": [
    "## second "
   ]
  },
  {
   "cell_type": "code",
   "execution_count": 5,
   "id": "0af852d5",
   "metadata": {},
   "outputs": [
    {
     "name": "stdout",
     "output_type": "stream",
     "text": [
      "Before enhence your fun:\n",
      "hey i am use of this fun \n",
      "OKk your use this fun :\n",
      "Your function is modify\n"
     ]
    }
   ],
   "source": [
    "def decor(fun):\n",
    "    def inner():\n",
    "        print(\"Before enhence your fun:\")\n",
    "        fun()\n",
    "        print(\"Your function is modify\")\n",
    "    return inner\n",
    "\n",
    "@decor\n",
    "def num():\n",
    "    print(\"hey i am use of this fun \")\n",
    "    print(\"OKk your use this fun :\")  # hme ese enhence  krna bina fun me jakr change krke\n",
    "num()"
   ]
  },
  {
   "cell_type": "code",
   "execution_count": 7,
   "id": "1ed7ca3a",
   "metadata": {},
   "outputs": [
    {
     "name": "stdout",
     "output_type": "stream",
     "text": [
      "Before enhence your fun:\n",
      "hey i am use of this fun \n",
      "OKk your use this fun :\n",
      "Your function is modify\n"
     ]
    }
   ],
   "source": [
    "# Apka end goal h fun ko enhence krna so name same bhi ho skta h\n",
    "def decor(num):\n",
    "    def inner():\n",
    "        print(\"Before enhence your fun:\")\n",
    "        num()\n",
    "        print(\"Your function is modify\")\n",
    "    return inner\n",
    "\n",
    "@decor\n",
    "def num():\n",
    "    print(\"hey i am use of this fun \")\n",
    "    print(\"OKk your use this fun :\")  # hme ese enhence  krna bina fun me jakr change krke\n",
    "num()"
   ]
  },
  {
   "cell_type": "code",
   "execution_count": 17,
   "id": "26f9af34",
   "metadata": {},
   "outputs": [
    {
     "name": "stdout",
     "output_type": "stream",
     "text": [
      "niche update ho gya\n"
     ]
    },
    {
     "data": {
      "text/plain": [
       "22"
      ]
     },
     "execution_count": 17,
     "metadata": {},
     "output_type": "execute_result"
    }
   ],
   "source": [
    "def decor (math):\n",
    "    def inner():\n",
    "        store = math()\n",
    "        add = store+12\n",
    "        return add\n",
    "    return inner\n",
    "@decor\n",
    "def math():\n",
    "    return 10\n",
    "print(\"niche update ho gya\")\n",
    "\n",
    "math()\n"
   ]
  },
  {
   "cell_type": "code",
   "execution_count": 22,
   "id": "a27a4f9b",
   "metadata": {},
   "outputs": [
    {
     "data": {
      "text/plain": [
       "75"
      ]
     },
     "execution_count": 22,
     "metadata": {},
     "output_type": "execute_result"
    }
   ],
   "source": [
    "# Multiple user work\n",
    "def decor1(num):\n",
    "    def inner():\n",
    "        b = num()\n",
    "        add = b+5\n",
    "        return add\n",
    "    return inner\n",
    "\n",
    "def decor2(num):\n",
    "    def inner():\n",
    "        b = num()\n",
    "        multi = b*5\n",
    "        return multi\n",
    "    return inner\n",
    "\n",
    "def num():\n",
    "    return 10\n",
    "result_fun = decor2(decor1(num))\n",
    "result_fun()"
   ]
  },
  {
   "cell_type": "code",
   "execution_count": null,
   "id": "36283afe",
   "metadata": {},
   "outputs": [],
   "source": []
  }
 ],
 "metadata": {
  "kernelspec": {
   "display_name": "Python 3",
   "language": "python",
   "name": "python3"
  },
  "language_info": {
   "codemirror_mode": {
    "name": "ipython",
    "version": 3
   },
   "file_extension": ".py",
   "mimetype": "text/x-python",
   "name": "python",
   "nbconvert_exporter": "python",
   "pygments_lexer": "ipython3",
   "version": "3.9.6 (default, Oct 18 2022, 12:41:40) \n[Clang 14.0.0 (clang-1400.0.29.202)]"
  },
  "vscode": {
   "interpreter": {
    "hash": "31f2aee4e71d21fbe5cf8b01ff0e069b9275f58929596ceb00d14d90e3e16cd6"
   }
  }
 },
 "nbformat": 4,
 "nbformat_minor": 5
}
