{
 "cells": [
  {
   "cell_type": "markdown",
   "metadata": {},
   "source": [
    "## if elif\n",
    "- eski Perotiy high hoti h esle se\n",
    "- Jab apka if ke condti..False Ho Jati h tab elif he jlta \n",
    "- multiple time write karne me helped krta h\n",
    "https://www.pythoncentral.io/wp-content/uploads/2013/01/image023.jpg"
   ]
  },
  {
   "cell_type": "code",
   "execution_count": 2,
   "metadata": {},
   "outputs": [
    {
     "name": "stdout",
     "output_type": "stream",
     "text": [
      "Yes\n",
      "Rest of the code\n"
     ]
    }
   ],
   "source": [
    "if(3>2):\n",
    "    print(\"Yes\")\n",
    "elif(3<2):\n",
    "    print(\"Else\")\n",
    "else:\n",
    "    print(\"koe Matlab nhi h koe\")\n",
    "print(\"Rest of the code\")"
   ]
  },
  {
   "cell_type": "markdown",
   "metadata": {},
   "source": [
    "https://www.tutorialgateway.org/wp-content/uploads/ELSE-IF-Flow-Chart.jpg?ezimgfmt=rs:740x693/rscb211/ng:webp/ngcb211"
   ]
  },
  {
   "cell_type": "code",
   "execution_count": 6,
   "metadata": {},
   "outputs": [
    {
     "name": "stdout",
     "output_type": "stream",
     "text": [
      "Enter the Number:4\n",
      "Enter the Number:4\n",
      "EQual Bala\n",
      "Rest OF THe Code\n"
     ]
    }
   ],
   "source": [
    "a = input(\"Enter the Number:\")\n",
    "b = input(\"Enter the Number:\")\n",
    "if(a>b):\n",
    "    print(\"A Is Big\")\n",
    "elif(b>a):\n",
    "    print(\"B Is Big\")\n",
    "else:\n",
    "    print(\"EQual Bala\")\n",
    "    \n",
    "print(\"Rest OF THe Code\")"
   ]
  },
  {
   "cell_type": "code",
   "execution_count": 8,
   "metadata": {},
   "outputs": [
    {
     "name": "stdout",
     "output_type": "stream",
     "text": [
      "Enter the Number:4\n",
      "Enter the Number:4\n",
      "Equal A and b\n",
      "Rest OF THe Code\n"
     ]
    }
   ],
   "source": [
    "a = input(\"Enter the Number:\")\n",
    "b = input(\"Enter the Number:\")\n",
    "if(a>b):\n",
    "    print(\"A Is Big\")\n",
    "elif(b>a):\n",
    "    print(\"B Is Big\")\n",
    "elif a==b:\n",
    "    print(\"Equal A and b\")\n",
    "else:\n",
    "    print(\"LOw\")\n",
    "    \n",
    "print(\"Rest OF THe Code\")"
   ]
  },
  {
   "cell_type": "code",
   "execution_count": 12,
   "metadata": {},
   "outputs": [
    {
     "name": "stdout",
     "output_type": "stream",
     "text": [
      "Enter THe Day No: 22\n",
      "Please valid NO 1 To 7 Only\n",
      "Thanks For Visit \n"
     ]
    }
   ],
   "source": [
    "day = int(input(\"Enter THe Day No: \"))\n",
    "if(day==1):\n",
    "    print(\"Monday\")\n",
    "elif(day==2):\n",
    "    print(\"Thue\")\n",
    "elif(day==3):\n",
    "    print(\"Wen\")\n",
    "elif(day==4):\n",
    "    print(\"Thus\")\n",
    "elif(day==5):\n",
    "    print(\"Fri\")\n",
    "elif(day==6):\n",
    "    print(\"Satr\")\n",
    "elif(day==7):\n",
    "    print(\"Sund\")\n",
    "\n",
    "else:\n",
    "    print(\"Please valid NO 1 To 7 Only\")\n",
    "    \n",
    "print(\"Thanks For Visit \")\n",
    "    "
   ]
  },
  {
   "cell_type": "code",
   "execution_count": 19,
   "metadata": {},
   "outputs": [
    {
     "name": "stdout",
     "output_type": "stream",
     "text": [
      "Enter THe Day No: 44\n",
      "Please valid NO 1 To 7 Only\n",
      "Thanks For Visit \n"
     ]
    }
   ],
   "source": [
    "# Python is casesancitive Lang\n",
    "# But ham ese bhi Logical Op ke help se Dur kar skte h\n",
    "day = int(input(\"Enter THe Day No: \"))\n",
    "\n",
    "\n",
    "\n",
    "if(day==1 or day==10): #<------------------\n",
    "    \n",
    "    \n",
    "    \n",
    "    \n",
    "    print(\"Monday\")\n",
    "elif(day==2 or day==b):\n",
    "    print(\"Thue\")\n",
    "elif(day==3):\n",
    "    print(\"Wen\")\n",
    "elif(day==4):\n",
    "    print(\"Thus\")\n",
    "elif(day==5):\n",
    "    print(\"Fri\")\n",
    "elif(day==6):\n",
    "    print(\"Satr\")\n",
    "elif(day==7):\n",
    "    print(\"Sund\")\n",
    "\n",
    "else:\n",
    "    print(\"Please valid NO 1 To 7 Only\")\n",
    "    \n",
    "print(\"Thanks For Visit \")\n",
    "    "
   ]
  },
  {
   "cell_type": "markdown",
   "metadata": {},
   "source": [
    "a   = range(\")"
   ]
  }
 ],
 "metadata": {
  "kernelspec": {
   "display_name": "Python 3",
   "language": "python",
   "name": "python3"
  },
  "language_info": {
   "codemirror_mode": {
    "name": "ipython",
    "version": 3
   },
   "file_extension": ".py",
   "mimetype": "text/x-python",
   "name": "python",
   "nbconvert_exporter": "python",
   "pygments_lexer": "ipython3",
   "version": "3.8.5"
  }
 },
 "nbformat": 4,
 "nbformat_minor": 4
}
