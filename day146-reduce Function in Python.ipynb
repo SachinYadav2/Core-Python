{
 "cells": [
  {
   "cell_type": "code",
   "execution_count": 1,
   "id": "401e1aee",
   "metadata": {},
   "outputs": [],
   "source": [
    "from functools import*"
   ]
  },
  {
   "cell_type": "markdown",
   "id": "2af08ec9",
   "metadata": {},
   "source": [
    "# reduce()\n",
    "- yh fun hmra reduce krta h input ko on a single form or use return krta h \n",
    "- syn reduce(fun_name,sequence)"
   ]
  },
  {
   "cell_type": "code",
   "execution_count": 2,
   "id": "a0f040b1",
   "metadata": {},
   "outputs": [
    {
     "name": "stdout",
     "output_type": "stream",
     "text": [
      "100\n"
     ]
    }
   ],
   "source": [
    "a = [10,20,30,40]\n",
    "result = reduce(lambda n,m:n+m,a)\n",
    "print(result)"
   ]
  },
  {
   "cell_type": "code",
   "execution_count": null,
   "id": "e56c4500",
   "metadata": {},
   "outputs": [],
   "source": []
  }
 ],
 "metadata": {
  "kernelspec": {
   "display_name": "Python 3 (ipykernel)",
   "language": "python",
   "name": "python3"
  },
  "language_info": {
   "codemirror_mode": {
    "name": "ipython",
    "version": 3
   },
   "file_extension": ".py",
   "mimetype": "text/x-python",
   "name": "python",
   "nbconvert_exporter": "python",
   "pygments_lexer": "ipython3",
   "version": "3.9.13"
  }
 },
 "nbformat": 4,
 "nbformat_minor": 5
}
