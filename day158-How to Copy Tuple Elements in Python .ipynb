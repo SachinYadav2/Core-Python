{
 "cells": [
  {
   "cell_type": "markdown",
   "id": "81bfc529",
   "metadata": {},
   "source": [
    "# Copy ko hm concept ke throw achieve kr skte h basically\n",
    "- copy ka mtlb ye hota h ke aap a me change kro to bme change na ho basically"
   ]
  },
  {
   "cell_type": "code",
   "execution_count": 7,
   "id": "f6791c92",
   "metadata": {},
   "outputs": [
    {
     "name": "stdout",
     "output_type": "stream",
     "text": [
      "4429983424\n",
      "4429983424\n"
     ]
    }
   ],
   "source": [
    "a = (12, 212,34,454,565,4 , 4554,5, 7,6)\n",
    "# Yh copy nhi mana jata h basically hmara hm esme all elemnt le rhe h so ye bhi tag he bnega same\n",
    "b = a[0:]\n",
    "print(id(a))\n",
    "print(id(b))"
   ]
  },
  {
   "cell_type": "code",
   "execution_count": 8,
   "id": "472b7e9d",
   "metadata": {},
   "outputs": [
    {
     "name": "stdout",
     "output_type": "stream",
     "text": [
      "4430229952\n",
      "4430202096\n"
     ]
    }
   ],
   "source": [
    "a = (12, 212,34,454,565,4 , 4554,5, 7,6)\n",
    "# agr hm sabhi elemnt ko n le and hm only kuj elemnt ko le a ke to copy hoga\n",
    "\n",
    "b = a[0:4]\n",
    "print(id(a))\n",
    "print(id(b))"
   ]
  },
  {
   "cell_type": "code",
   "execution_count": null,
   "id": "533d9958",
   "metadata": {},
   "outputs": [],
   "source": []
  }
 ],
 "metadata": {
  "kernelspec": {
   "display_name": "Python 3 (ipykernel)",
   "language": "python",
   "name": "python3"
  },
  "language_info": {
   "codemirror_mode": {
    "name": "ipython",
    "version": 3
   },
   "file_extension": ".py",
   "mimetype": "text/x-python",
   "name": "python",
   "nbconvert_exporter": "python",
   "pygments_lexer": "ipython3",
   "version": "3.9.13"
  }
 },
 "nbformat": 4,
 "nbformat_minor": 5
}
