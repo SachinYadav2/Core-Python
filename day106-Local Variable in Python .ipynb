{
 "cells": [
  {
   "cell_type": "markdown",
   "id": "28d93b8e",
   "metadata": {},
   "source": [
    "## Local variable use \n",
    "- local variable ka use krte h only insite the function uska outsite the koe bhi connection nhi hota"
   ]
  },
  {
   "cell_type": "code",
   "execution_count": 1,
   "id": "582e05f1",
   "metadata": {},
   "outputs": [
    {
     "name": "stdout",
     "output_type": "stream",
     "text": [
      "10\n",
      "30\n"
     ]
    },
    {
     "ename": "NameError",
     "evalue": "name 'x' is not defined",
     "output_type": "error",
     "traceback": [
      "\u001b[0;31m---------------------------------------------------------------------------\u001b[0m",
      "\u001b[0;31mNameError\u001b[0m                                 Traceback (most recent call last)",
      "Input \u001b[0;32mIn [1]\u001b[0m, in \u001b[0;36m<cell line: 6>\u001b[0;34m()\u001b[0m\n\u001b[1;32m      4\u001b[0m     \u001b[38;5;28mprint\u001b[39m(x\u001b[38;5;241m+\u001b[39my) \u001b[38;5;66;03m# use local variable\u001b[39;00m\n\u001b[1;32m      5\u001b[0m show(\u001b[38;5;241m20\u001b[39m)\n\u001b[0;32m----> 6\u001b[0m \u001b[38;5;28mprint\u001b[39m(\u001b[43mx\u001b[49m)\n",
      "\u001b[0;31mNameError\u001b[0m: name 'x' is not defined"
     ]
    }
   ],
   "source": [
    "def show(y):\n",
    "    x = 10 # Local variable\n",
    "    print(x)\n",
    "    print(x+y) # use local variable\n",
    "show(20)\n",
    "print(x) # out the local variable show error"
   ]
  },
  {
   "cell_type": "code",
   "execution_count": null,
   "id": "92502368",
   "metadata": {},
   "outputs": [],
   "source": []
  }
 ],
 "metadata": {
  "kernelspec": {
   "display_name": "Python 3 (ipykernel)",
   "language": "python",
   "name": "python3"
  },
  "language_info": {
   "codemirror_mode": {
    "name": "ipython",
    "version": 3
   },
   "file_extension": ".py",
   "mimetype": "text/x-python",
   "name": "python",
   "nbconvert_exporter": "python",
   "pygments_lexer": "ipython3",
   "version": "3.9.13"
  }
 },
 "nbformat": 4,
 "nbformat_minor": 5
}
