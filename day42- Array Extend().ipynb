{
 "cells": [
  {
   "cell_type": "markdown",
   "metadata": {},
   "source": [
    "## Extend()\n",
    "- yah hame exsting array me new array append krane ka kam krta h\n",
    "- eska use karke aap kise bhi iterable object ko append krwa skte ho"
   ]
  },
  {
   "cell_type": "code",
   "execution_count": 3,
   "metadata": {},
   "outputs": [
    {
     "name": "stdout",
     "output_type": "stream",
     "text": [
      "1\n",
      "2\n",
      "3\n",
      "4\n",
      "ye Esne reverse kar di\n",
      "1\n",
      "2\n",
      "3\n",
      "4\n",
      "101\n",
      "102\n",
      "103\n"
     ]
    }
   ],
   "source": [
    "from array import*\n",
    "\n",
    "stu_roll = array('i',[1,2,3,4])\n",
    "for i in stu_roll:\n",
    "    print(i)\n",
    "iter_obj = [101,102, 103]\n",
    "stu_roll.extend(iter_obj)\n",
    "print(\"ye Esne reverse kar di\")\n",
    "for i in stu_roll:\n",
    "    print(i)"
   ]
  },
  {
   "cell_type": "code",
   "execution_count": null,
   "metadata": {},
   "outputs": [],
   "source": []
  }
 ],
 "metadata": {
  "kernelspec": {
   "display_name": "Python 3",
   "language": "python",
   "name": "python3"
  },
  "language_info": {
   "codemirror_mode": {
    "name": "ipython",
    "version": 3
   },
   "file_extension": ".py",
   "mimetype": "text/x-python",
   "name": "python",
   "nbconvert_exporter": "python",
   "pygments_lexer": "ipython3",
   "version": "3.8.5"
  }
 },
 "nbformat": 4,
 "nbformat_minor": 4
}
