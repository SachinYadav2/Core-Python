{
 "cells": [
  {
   "cell_type": "markdown",
   "metadata": {},
   "source": [
    "## This array module ka method h jisko \n",
    "\n",
    "- eska use krke ham apni exsting array me se last element ko remove kar skte "
   ]
  },
  {
   "cell_type": "code",
   "execution_count": 5,
   "metadata": {},
   "outputs": [
    {
     "name": "stdout",
     "output_type": "stream",
     "text": [
      "Before\n",
      "10\n",
      "12\n",
      "13\n",
      "14\n",
      "15\n",
      "After:\n",
      "10\n",
      "12\n",
      "13\n",
      "14\n"
     ]
    }
   ],
   "source": [
    "from array import*\n",
    "\n",
    "stu_roll = array('i',[10 ,12, 13,14,15])\n",
    "print(\"Before\")\n",
    "for item in stu_roll:\n",
    "    print(item)\n",
    "print(\"After:\")\n",
    "\n",
    "stu_roll.pop()\n",
    "\n",
    "for item in stu_roll:\n",
    "    print(item)\n"
   ]
  },
  {
   "cell_type": "markdown",
   "metadata": {},
   "source": [
    "## pop(n)\n",
    "### Where n = index_no\n",
    "- eska use krke aap kise bhi position se element ko remove kar skte ho\n",
    "- or ye element ko return bhi krta h"
   ]
  },
  {
   "cell_type": "code",
   "execution_count": 6,
   "metadata": {},
   "outputs": [
    {
     "name": "stdout",
     "output_type": "stream",
     "text": [
      "Before\n",
      "10\n",
      "12\n",
      "13\n",
      "14\n",
      "15\n",
      "After:\n",
      "10\n",
      "12\n",
      "13\n",
      "15\n"
     ]
    }
   ],
   "source": [
    "from array import*\n",
    "\n",
    "stu_roll = array('i',[10 ,12, 13,14,15])\n",
    "print(\"Before\")\n",
    "for item in stu_roll:\n",
    "    print(item)\n",
    "print(\"After:\")\n",
    "\n",
    "stu_roll.pop(3)\n",
    "\n",
    "for item in stu_roll:\n",
    "    print(item)\n"
   ]
  },
  {
   "cell_type": "code",
   "execution_count": 7,
   "metadata": {},
   "outputs": [
    {
     "name": "stdout",
     "output_type": "stream",
     "text": [
      "Before\n",
      "10\n",
      "12\n",
      "13\n",
      "14\n",
      "15\n",
      "After:\n",
      "10\n",
      "12\n",
      "13\n",
      "15\n",
      "Your Remove Element : 14\n"
     ]
    }
   ],
   "source": [
    "from array import*\n",
    "\n",
    "stu_roll = array('i',[10 ,12, 13,14,15])\n",
    "print(\"Before\")\n",
    "for item in stu_roll:\n",
    "    print(item)\n",
    "print(\"After:\")\n",
    "# Yha pop(n) ne return deta h remove elemen ko\n",
    "r = stu_roll.pop(3)\n",
    "\n",
    "for item in stu_roll:\n",
    "    print(item)\n",
    "\n",
    "print(\"Your Remove Element :\",r)\n"
   ]
  },
  {
   "cell_type": "code",
   "execution_count": null,
   "metadata": {},
   "outputs": [],
   "source": []
  }
 ],
 "metadata": {
  "kernelspec": {
   "display_name": "Python 3",
   "language": "python",
   "name": "python3"
  },
  "language_info": {
   "codemirror_mode": {
    "name": "ipython",
    "version": 3
   },
   "file_extension": ".py",
   "mimetype": "text/x-python",
   "name": "python",
   "nbconvert_exporter": "python",
   "pygments_lexer": "ipython3",
   "version": "3.8.5"
  }
 },
 "nbformat": 4,
 "nbformat_minor": 4
}
