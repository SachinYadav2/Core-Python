{
 "cells": [
  {
   "cell_type": "code",
   "execution_count": 7,
   "metadata": {},
   "outputs": [
    {
     "name": "stdout",
     "output_type": "stream",
     "text": [
      "Enter No of Element:2\n",
      "Enter the number:12\n",
      "Enter the number:13\n",
      "12\n",
      "13\n"
     ]
    }
   ],
   "source": [
    "from array import*\n",
    "stu_roll = array(\"i\",[])\n",
    "n = int(input(\"Enter No of Element:\"))\n",
    "i = 0\n",
    "# Insert Element in arry using While\n",
    "while(i<n):\n",
    "    stu_roll.append(int(input(\"Enter the number:\")))\n",
    "    i=i+1\n",
    "# Dispaly the element using while\n",
    "j = 0\n",
    "while(j<len(stu_roll)):\n",
    "    print(stu_roll[j])\n",
    "    j+=1"
   ]
  },
  {
   "cell_type": "code",
   "execution_count": 8,
   "metadata": {},
   "outputs": [
    {
     "name": "stdout",
     "output_type": "stream",
     "text": [
      "<class 'array.array'>\n"
     ]
    }
   ],
   "source": [
    "stu_roll = array(\"i\",[])\n",
    "print(type(stu_roll))\n"
   ]
  },
  {
   "cell_type": "code",
   "execution_count": null,
   "metadata": {},
   "outputs": [],
   "source": []
  }
 ],
 "metadata": {
  "kernelspec": {
   "display_name": "Python 3",
   "language": "python",
   "name": "python3"
  },
  "language_info": {
   "codemirror_mode": {
    "name": "ipython",
    "version": 3
   },
   "file_extension": ".py",
   "mimetype": "text/x-python",
   "name": "python",
   "nbconvert_exporter": "python",
   "pygments_lexer": "ipython3",
   "version": "3.8.5"
  }
 },
 "nbformat": 4,
 "nbformat_minor": 4
}
