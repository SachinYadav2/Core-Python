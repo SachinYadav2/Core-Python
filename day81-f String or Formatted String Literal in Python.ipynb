{
 "cells": [
  {
   "cell_type": "markdown",
   "id": "0d5c12af",
   "metadata": {},
   "source": [
    "## f_string\n",
    "- eska use krke ham formating ko perform krte h String me \n",
    "- Yah Latest Formating style till now"
   ]
  },
  {
   "cell_type": "markdown",
   "id": "75caa0e3",
   "metadata": {},
   "source": [
    "## Syntax\n",
    "- f\"{indexx/key:[fill][align][sign][#][0][widht][,][.precestion]type}\""
   ]
  },
  {
   "cell_type": "code",
   "execution_count": 3,
   "id": "423ed832",
   "metadata": {},
   "outputs": [
    {
     "name": "stdout",
     "output_type": "stream",
     "text": [
      " My age is this 10\n"
     ]
    }
   ],
   "source": [
    "a = 10\n",
    "print(f\" My age is this {a}\")"
   ]
  },
  {
   "cell_type": "markdown",
   "id": "e7bb98ea",
   "metadata": {},
   "source": [
    "## Integer"
   ]
  },
  {
   "cell_type": "code",
   "execution_count": 10,
   "id": "55aface8",
   "metadata": {},
   "outputs": [
    {
     "name": "stdout",
     "output_type": "stream",
     "text": [
      "10\n",
      "this is Your Value 10  20\n",
      "this is Your Value 10  20\n"
     ]
    }
   ],
   "source": [
    "a = 10\n",
    "b = 20\n",
    "print(f\"{a}\")\n",
    "\n",
    "print(f\"this is Your Value {a}  {b}\")\n",
    "\n",
    "b = f\"this is Your Value {a}  {b}\"\n",
    "print(b)"
   ]
  },
  {
   "cell_type": "markdown",
   "id": "4fd564d4",
   "metadata": {},
   "source": [
    "## Float"
   ]
  },
  {
   "cell_type": "code",
   "execution_count": 13,
   "id": "307ef7a7",
   "metadata": {},
   "outputs": [
    {
     "name": "stdout",
     "output_type": "stream",
     "text": [
      "10.4\n",
      "this is Your Value 10.4  20.5\n",
      "this is Your Value 20.5  10.4\n"
     ]
    }
   ],
   "source": [
    "a = 10.4\n",
    "b = 20.5\n",
    "print(f\"{a}\")\n",
    "\n",
    "print(f\"this is Your Value {a}  {b}\")\n",
    "# accoding to need ham value ke postion change kar skte h\n",
    "b = f\"this is Your Value {b}  {a}\"\n",
    "print(b)"
   ]
  },
  {
   "cell_type": "markdown",
   "id": "e2e307cb",
   "metadata": {},
   "source": [
    "# String"
   ]
  },
  {
   "cell_type": "code",
   "execution_count": 14,
   "id": "df44680d",
   "metadata": {},
   "outputs": [
    {
     "name": "stdout",
     "output_type": "stream",
     "text": [
      "Hello\n",
      "this is Your Value Hello  Sachin\n",
      "this is Your Value Sachin  Hello\n"
     ]
    }
   ],
   "source": [
    "a = \"Hello\"\n",
    "b = \"Sachin\"\n",
    "print(f\"{a}\")\n",
    "\n",
    "print(f\"this is Your Value {a}  {b}\")\n",
    "# accoding to need ham value ke postion change kar skte h\n",
    "b = f\"this is Your Value {b}  {a}\"\n",
    "print(b)"
   ]
  },
  {
   "cell_type": "markdown",
   "id": "f68d5f7d",
   "metadata": {},
   "source": [
    "## Both"
   ]
  },
  {
   "cell_type": "code",
   "execution_count": 15,
   "id": "bb6da472",
   "metadata": {},
   "outputs": [
    {
     "name": "stdout",
     "output_type": "stream",
     "text": [
      "Hello\n",
      "this is Your Value Hello  44\n",
      "this is Your Value 44  Hello\n"
     ]
    }
   ],
   "source": [
    "a = \"Hello\"\n",
    "b = 44\n",
    "print(f\"{a}\")\n",
    "\n",
    "print(f\"this is Your Value {a}  {b}\")\n",
    "# accoding to need ham value ke postion change kar skte h\n",
    "b = f\"this is Your Value {b}  {a}\"\n",
    "print(b)"
   ]
  },
  {
   "cell_type": "markdown",
   "id": "aeea264b",
   "metadata": {},
   "source": [
    "## Now We use the format Specifiers"
   ]
  },
  {
   "cell_type": "code",
   "execution_count": 20,
   "id": "21f96ce7",
   "metadata": {},
   "outputs": [
    {
     "name": "stdout",
     "output_type": "stream",
     "text": [
      " *  *  *  *  *  *  *  * \n",
      "21\n",
      "21\n",
      "00021\n",
      "  +21\n",
      "   21\n",
      "21   \n",
      "   21\n",
      "***21\n",
      "21***\n",
      " 21  \n",
      " 21  \n"
     ]
    }
   ],
   "source": [
    "print(\" * \"*8)\n",
    "num = 21\n",
    "print(f\"{num}\")  # Return Krega string\n",
    "print(f\"{num:d}\") # Integer value show hoga\n",
    "print(f\"{num:05}\")\n",
    "print(f\"{num:+5d}\")\n",
    "print(f\"{num:-5d}\")\n",
    "print(f\"{num:<5d}\") # left align \n",
    "print(f\"{num:>5d}\") # right align\n",
    "print(f\"{num:*>5d}\") # fill\n",
    "print(f\"{num:*<5d}\") #\n",
    "print(f\"{num:^5d}\") # Center\n",
    "print(f\"{num:^5d}\")"
   ]
  },
  {
   "cell_type": "markdown",
   "id": "4cfb43b9",
   "metadata": {},
   "source": [
    "## Floating"
   ]
  },
  {
   "cell_type": "code",
   "execution_count": 24,
   "id": "552d4ffb",
   "metadata": {},
   "outputs": [
    {
     "name": "stdout",
     "output_type": "stream",
     "text": [
      " *  *  *  *  *  *  *  * \n",
      "21.4343\n",
      "21.434300\n",
      "21.4343\n",
      "+21.434300\n",
      "21.434300\n",
      "21.434300\n",
      "21.434300\n",
      "21.434300\n",
      "21.434300\n",
      "21.434300\n",
      "21.434300\n"
     ]
    }
   ],
   "source": [
    "print(\" * \"*8)\n",
    "num = 21.4343\n",
    "print(f\"{num}\")  # Return Krega string\n",
    "print(f\"{num:f}\") # Integer value show hoga point ke bad 6 decimal tak jata h\n",
    "print(f\"{num:05}\")\n",
    "print(f\"{num:+5f}\")\n",
    "print(f\"{num:-5f}\")\n",
    "print(f\"{num:<5f}\") # left align \n",
    "print(f\"{num:>5f}\") # right align\n",
    "print(f\"{num:*>5f}\") # fill\n",
    "print(f\"{num:*<5f}\") #\n",
    "print(f\"{num:^5f}\") # Center\n",
    "print(f\"{num:^5f}\")"
   ]
  },
  {
   "cell_type": "markdown",
   "id": "f74241c9",
   "metadata": {},
   "source": [
    "## String"
   ]
  },
  {
   "cell_type": "code",
   "execution_count": 29,
   "id": "6004003e",
   "metadata": {},
   "outputs": [
    {
     "name": "stdout",
     "output_type": "stream",
     "text": [
      " *  *  *  *  *  *  *  * \n",
      "SACH\n",
      "SACH\n",
      "SACH \n",
      " SACH\n",
      "*SACH\n",
      "SACH*\n",
      "SACH \n",
      "SACH \n"
     ]
    }
   ],
   "source": [
    "print(\" * \"*8)\n",
    "num = \"SACH\"\n",
    "print(f\"{num}\")  # Return Krega string\n",
    "print(f\"{num:s}\") # Integer value show hoga point ke bad 6 decimal tak jata h\n",
    "print(f\"{num:<5s}\") # left align \n",
    "print(f\"{num:>5s}\") # right align\n",
    "print(f\"{num:*>5s}\") # fill\n",
    "print(f\"{num:*<5s}\") #\n",
    "print(f\"{num:^5s}\") # Center\n",
    "print(f\"{num:^5s}\")"
   ]
  },
  {
   "cell_type": "markdown",
   "id": "63895823",
   "metadata": {},
   "source": [
    "## Turnket string"
   ]
  },
  {
   "cell_type": "code",
   "execution_count": 32,
   "id": "3e3510eb",
   "metadata": {},
   "outputs": [
    {
     "name": "stdout",
     "output_type": "stream",
     "text": [
      "sachinrao\n",
      "sac\n",
      "sachi   \n",
      "sac*****\n",
      "     sac\n",
      "sachi   \n",
      "  sac   \n"
     ]
    }
   ],
   "source": [
    "name = 'sachinrao'\n",
    "print(f\"{name:}\")\n",
    "print(f\"{name:.3s}\")\n",
    "print(f\"{name:8.5}\")\n",
    "print(f\"{name:*<8.3}\")\n",
    "print(f\"{name:>8.3}\")\n",
    "print(f\"{name:<8.5}\")\n",
    "print(f\"{name:^8.3}\")"
   ]
  },
  {
   "cell_type": "markdown",
   "id": "999e4b72",
   "metadata": {},
   "source": [
    "# Thousand seprator"
   ]
  },
  {
   "cell_type": "code",
   "execution_count": 34,
   "id": "1968e047",
   "metadata": {},
   "outputs": [
    {
     "name": "stdout",
     "output_type": "stream",
     "text": [
      "21,212,121,212\n"
     ]
    }
   ],
   "source": [
    "price = 21212121212\n",
    "print(f\"{price:,}\")"
   ]
  },
  {
   "cell_type": "code",
   "execution_count": 36,
   "id": "221a5870",
   "metadata": {},
   "outputs": [
    {
     "name": "stdout",
     "output_type": "stream",
     "text": [
      "my name is sachin and my age is 18\n"
     ]
    }
   ],
   "source": [
    "name = \"sachin\"\n",
    "age = 18\n",
    "print(f\"my name is {name} and my age is {age}\")\n"
   ]
  },
  {
   "cell_type": "markdown",
   "id": "83ce7de4",
   "metadata": {},
   "source": [
    "# te Ham using f expresstion ko bhii evaluate krwa skte"
   ]
  },
  {
   "cell_type": "code",
   "execution_count": 37,
   "id": "e94c7839",
   "metadata": {},
   "outputs": [
    {
     "name": "stdout",
     "output_type": "stream",
     "text": [
      "80\n"
     ]
    }
   ],
   "source": [
    "print(f\"{10*8}\")"
   ]
  },
  {
   "cell_type": "code",
   "execution_count": 42,
   "id": "1c5a7146",
   "metadata": {},
   "outputs": [
    {
     "name": "stdout",
     "output_type": "stream",
     "text": [
      "1.7e+01\n",
      "1666.67%\n"
     ]
    }
   ],
   "source": [
    "a = 50\n",
    "b = 3\n",
    "\n",
    "\n",
    "print(f\"{a/b:.2}\")\n",
    "print(f\"{a/b:.2%}\")"
   ]
  },
  {
   "cell_type": "markdown",
   "id": "85bfd37f",
   "metadata": {},
   "source": [
    "# acces the indexing throw element"
   ]
  },
  {
   "cell_type": "code",
   "execution_count": 46,
   "id": "414579f0",
   "metadata": {},
   "outputs": [
    {
     "name": "stdout",
     "output_type": "stream",
     "text": [
      "10 20\n"
     ]
    }
   ],
   "source": [
    "value = (10 , 20)\n",
    "\n",
    "print(f\"{value[0]} {value[1]}\")"
   ]
  },
  {
   "cell_type": "markdown",
   "id": "384ff750",
   "metadata": {},
   "source": [
    "## Dictonary "
   ]
  },
  {
   "cell_type": "code",
   "execution_count": 53,
   "id": "900bcc92",
   "metadata": {},
   "outputs": [
    {
     "name": "stdout",
     "output_type": "stream",
     "text": [
      "2000\n"
     ]
    }
   ],
   "source": [
    "data  = {'mona':2000, \"Sandya\":3232}\n",
    "print(f\"{data['mona']:d}\") # d hmara dtype ko bta rha\n"
   ]
  },
  {
   "cell_type": "markdown",
   "id": "3c12d483",
   "metadata": {},
   "source": [
    "# Fun call krna"
   ]
  },
  {
   "cell_type": "markdown",
   "id": "fa59d48d",
   "metadata": {},
   "source": []
  },
  {
   "cell_type": "code",
   "execution_count": 54,
   "id": "09491e6f",
   "metadata": {},
   "outputs": [
    {
     "name": "stdout",
     "output_type": "stream",
     "text": [
      "SACHIN\n"
     ]
    }
   ],
   "source": [
    "name = \"Sachin\"\n",
    "print(f\"{name.upper()}\")"
   ]
  },
  {
   "cell_type": "markdown",
   "id": "52f22897",
   "metadata": {},
   "source": [
    "## Again circuly open close used"
   ]
  },
  {
   "cell_type": "code",
   "execution_count": 55,
   "id": "2e4f77ca",
   "metadata": {},
   "outputs": [
    {
     "name": "stdout",
     "output_type": "stream",
     "text": [
      "{10}\n"
     ]
    }
   ],
   "source": [
    "print(f\"{{10}}\")"
   ]
  },
  {
   "cell_type": "markdown",
   "id": "3b8c3756",
   "metadata": {},
   "source": [
    "## Date time use"
   ]
  },
  {
   "cell_type": "code",
   "execution_count": 56,
   "id": "1fc5d8ff",
   "metadata": {},
   "outputs": [
    {
     "name": "stdout",
     "output_type": "stream",
     "text": [
      "2022-11-07 00:00:00\n"
     ]
    }
   ],
   "source": [
    "from datetime import datetime\n",
    "today = datetime(2022,11,7)\n",
    "print(f\"{today}\")"
   ]
  },
  {
   "cell_type": "code",
   "execution_count": null,
   "id": "724929f9",
   "metadata": {},
   "outputs": [],
   "source": []
  }
 ],
 "metadata": {
  "kernelspec": {
   "display_name": "Python 3 (ipykernel)",
   "language": "python",
   "name": "python3"
  },
  "language_info": {
   "codemirror_mode": {
    "name": "ipython",
    "version": 3
   },
   "file_extension": ".py",
   "mimetype": "text/x-python",
   "name": "python",
   "nbconvert_exporter": "python",
   "pygments_lexer": "ipython3",
   "version": "3.9.13"
  }
 },
 "nbformat": 4,
 "nbformat_minor": 5
}
