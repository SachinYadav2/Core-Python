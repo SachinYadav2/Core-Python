{
 "cells": [
  {
   "cell_type": "markdown",
   "metadata": {},
   "source": [
    "### ham Yha user se input Le skte"
   ]
  },
  {
   "cell_type": "code",
   "execution_count": 7,
   "metadata": {},
   "outputs": [],
   "source": [
    "# If ((cond1) Logic_Op (Cond2)):\n",
    "    # stement\n",
    "# Rest of the code\n",
    "\n"
   ]
  },
  {
   "cell_type": "code",
   "execution_count": 3,
   "metadata": {},
   "outputs": [
    {
     "name": "stdout",
     "output_type": "stream",
     "text": [
      "Logic Op Code Inste Bala run hua h Because Uper ke dono condtions true h\n",
      "Rest of the code\n"
     ]
    }
   ],
   "source": [
    "if((5>2) and (5>3)):\n",
    "    print(\"Logic Op Code Inste Bala run hua h Because Uper ke dono condtions true h\")\n",
    "print(\"Rest of the code\")"
   ]
  },
  {
   "cell_type": "code",
   "execution_count": 5,
   "metadata": {},
   "outputs": [
    {
     "name": "stdout",
     "output_type": "stream",
     "text": [
      "Logic Op Code Inste \n",
      "Yes 5 is big\n",
      "Rest of the code\n"
     ]
    }
   ],
   "source": [
    "if((5>2) and (5>3)):\n",
    "    print(\"Logic Op Code Inste \")\n",
    "    \n",
    "    if(5>2):\n",
    "        print(\"Yes 5 is big\")\n",
    "    \n",
    "print(\"Rest of the code\")"
   ]
  },
  {
   "cell_type": "code",
   "execution_count": 6,
   "metadata": {},
   "outputs": [
    {
     "name": "stdout",
     "output_type": "stream",
     "text": [
      "Logic Op Code Inste Bala\n",
      "Yes 5 is big\n",
      "Rest of the code\n"
     ]
    }
   ],
   "source": [
    "if((5>2) and (5>3)):\n",
    "    print(\"Logic Op Code Inste Bala\")\n",
    "    \n",
    "    if((5>2) or (5>6)):\n",
    "        print(\"Yes 5 is big\")\n",
    "    \n",
    "print(\"Rest of the code\")"
   ]
  },
  {
   "cell_type": "code",
   "execution_count": 10,
   "metadata": {},
   "outputs": [
    {
     "name": "stdout",
     "output_type": "stream",
     "text": [
      "enter the Number First:4\n",
      "Enter the Number Second :6\n",
      "Rest of the code\n"
     ]
    }
   ],
   "source": [
    "a = int(input(\"enter the Number First:\"))\n",
    "b = int(input(\"Enter the Number Second :\"))\n",
    "if((a>b) and (a>b)):\n",
    "    print(\"Logic Op Code Inste Bala\")\n",
    "    \n",
    "    if((a>b) or (a>b)):\n",
    "        print(\"Yes 5 is big\")\n",
    "    \n",
    "print(\"Rest of the code\")"
   ]
  },
  {
   "cell_type": "code",
   "execution_count": 12,
   "metadata": {},
   "outputs": [
    {
     "name": "stdout",
     "output_type": "stream",
     "text": [
      "enter the Number First:121\n",
      "Enter the Number Second :2\n",
      "Logic Op Code Inste Bala\n",
      "Yes  is big\n",
      "Rest of the code\n"
     ]
    }
   ],
   "source": [
    "a = int(input(\"enter the Number First:\"))\n",
    "b = int(input(\"Enter the Number Second :\"))\n",
    "if((a>b) and (a>b)):\n",
    "    print(\"Logic Op Code Inste Bala\")\n",
    "    \n",
    "    if((a>b) or (a>b)):\n",
    "        print(\"Yes  is big\")\n",
    "    \n",
    "print(\"Rest of the code\")"
   ]
  },
  {
   "cell_type": "code",
   "execution_count": null,
   "metadata": {},
   "outputs": [],
   "source": []
  }
 ],
 "metadata": {
  "kernelspec": {
   "display_name": "Python 3",
   "language": "python",
   "name": "python3"
  },
  "language_info": {
   "codemirror_mode": {
    "name": "ipython",
    "version": 3
   },
   "file_extension": ".py",
   "mimetype": "text/x-python",
   "name": "python",
   "nbconvert_exporter": "python",
   "pygments_lexer": "ipython3",
   "version": "3.8.5"
  }
 },
 "nbformat": 4,
 "nbformat_minor": 4
}
