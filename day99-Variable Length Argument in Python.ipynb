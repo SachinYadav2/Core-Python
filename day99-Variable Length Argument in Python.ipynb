{
 "cells": [
  {
   "cell_type": "markdown",
   "id": "20c16057",
   "metadata": {},
   "source": [
    "## ham variable lenght argument ka jab use krte h jab ham user se enter krana chahte h\n",
    "- ham ese represent krte\n",
    "# *"
   ]
  },
  {
   "cell_type": "code",
   "execution_count": 3,
   "id": "fff6ae86",
   "metadata": {},
   "outputs": [
    {
     "name": "stdout",
     "output_type": "stream",
     "text": [
      "14\n"
     ]
    }
   ],
   "source": [
    "\n",
    "def add(*args):\n",
    "    x = args[0] + args[1] + args [2] + args[3]\n",
    "    print(x)\n",
    "    \n",
    "\n",
    "add(3,4,5,2)\n",
    "    "
   ]
  },
  {
   "cell_type": "code",
   "execution_count": 9,
   "id": "07235f3f",
   "metadata": {},
   "outputs": [
    {
     "name": "stdout",
     "output_type": "stream",
     "text": [
      "sachin\n",
      "7\n"
     ]
    }
   ],
   "source": [
    "\n",
    "def add(name ,*args):\n",
    "    x =  args[0] + args[1] \n",
    "    print(name)\n",
    "    print(x)\n",
    "    \n",
    "\n",
    "add(\"sachin\",3,4)\n",
    "    "
   ]
  },
  {
   "cell_type": "code",
   "execution_count": null,
   "id": "f3822245",
   "metadata": {},
   "outputs": [],
   "source": []
  }
 ],
 "metadata": {
  "kernelspec": {
   "display_name": "Python 3 (ipykernel)",
   "language": "python",
   "name": "python3"
  },
  "language_info": {
   "codemirror_mode": {
    "name": "ipython",
    "version": 3
   },
   "file_extension": ".py",
   "mimetype": "text/x-python",
   "name": "python",
   "nbconvert_exporter": "python",
   "pygments_lexer": "ipython3",
   "version": "3.9.13"
  }
 },
 "nbformat": 4,
 "nbformat_minor": 5
}
