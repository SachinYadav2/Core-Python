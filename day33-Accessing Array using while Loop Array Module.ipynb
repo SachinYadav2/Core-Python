{
 "cells": [
  {
   "cell_type": "markdown",
   "metadata": {},
   "source": [
    "## while"
   ]
  },
  {
   "cell_type": "code",
   "execution_count": null,
   "metadata": {},
   "outputs": [],
   "source": [
    "from array import*\n",
    "stu_roll = array('i', [12,12,1215,13])\n",
    "stu_arr_len = len(stu_roll)   # len alway 1 to n tak jata h basically \n",
    "n = 0\n",
    "while stu_arr_len>n: # index alway start 0 to n.\n",
    "    print(stu_roll[n])\n",
    "    n+=1\n",
    "print(\"Rest of the code\")"
   ]
  },
  {
   "cell_type": "code",
   "execution_count": 5,
   "metadata": {},
   "outputs": [
    {
     "name": "stdout",
     "output_type": "stream",
     "text": [
      "13\n",
      "12\n",
      "12\n",
      "1215\n",
      "13\n",
      "Rest of the code\n"
     ]
    }
   ],
   "source": [
    "from array import*\n",
    "stu_roll = array('i', [12,12,1215,13])\n",
    "stu_arr_len = len(stu_roll)   # len alway 1 to n tak jata h basically \n",
    "\n",
    "n = -1\n",
    "\n",
    "while stu_arr_len>n: # index alway start 0 to n.\n",
    "    print(stu_roll[n])\n",
    "    n+=1\n",
    "print(\"Rest of the code\")"
   ]
  },
  {
   "cell_type": "code",
   "execution_count": 6,
   "metadata": {},
   "outputs": [
    {
     "name": "stdout",
     "output_type": "stream",
     "text": [
      "range(0, 6)\n"
     ]
    }
   ],
   "source": [
    "  "
   ]
  },
  {
   "cell_type": "code",
   "execution_count": null,
   "metadata": {},
   "outputs": [],
   "source": []
  }
 ],
 "metadata": {
  "kernelspec": {
   "display_name": "Python 3",
   "language": "python",
   "name": "python3"
  },
  "language_info": {
   "codemirror_mode": {
    "name": "ipython",
    "version": 3
   },
   "file_extension": ".py",
   "mimetype": "text/x-python",
   "name": "python",
   "nbconvert_exporter": "python",
   "pygments_lexer": "ipython3",
   "version": "3.8.5"
  }
 },
 "nbformat": 4,
 "nbformat_minor": 4
}
