{
 "cells": [
  {
   "cell_type": "markdown",
   "id": "a135505e",
   "metadata": {},
   "source": [
    "##  Accesed nested tuple using the tuple \n",
    "- 1 with index \n",
    "- 2 without index"
   ]
  },
  {
   "cell_type": "code",
   "execution_count": 3,
   "id": "c0aa72ed",
   "metadata": {},
   "outputs": [
    {
     "name": "stdout",
     "output_type": "stream",
     "text": [
      "12\n",
      "13\n",
      "14\n",
      "15\n",
      "21\n",
      "22\n",
      "23\n"
     ]
    }
   ],
   "source": [
    "a = (12,13,14,15,(21,22,23))\n",
    "\n",
    "n = len(a)\n",
    "\n",
    "i = 0\n",
    "while i < n:\n",
    "        if type(a[i]) is tuple:\n",
    "            if len(a[i]) > 1:\n",
    "                j = 0 \n",
    "                m = len(a[i])\n",
    "                while j<m:\n",
    "                    print(a[i][j])\n",
    "                    j+=1\n",
    "                i+=1\n",
    "        else:\n",
    "            print(a[i])\n",
    "            i = i+1\n"
   ]
  },
  {
   "cell_type": "code",
   "execution_count": 5,
   "id": "e9dbfda4",
   "metadata": {},
   "outputs": [
    {
     "name": "stdout",
     "output_type": "stream",
     "text": [
      "12\n",
      "13\n",
      "14\n",
      "15\n",
      "21\n",
      "22\n",
      "23\n"
     ]
    }
   ],
   "source": [
    "a = ((12,13,14,15),\n",
    "     (21,22,23))\n",
    "\n",
    "i = 0\n",
    "n = len(a)\n",
    "\n",
    "while i < n:\n",
    "    j = 0\n",
    "    m = len(a[i])\n",
    "    while j < m:\n",
    "        print(a[i][j])\n",
    "        j+=1\n",
    "    i+=1\n"
   ]
  },
  {
   "cell_type": "code",
   "execution_count": null,
   "id": "deecc3c4",
   "metadata": {},
   "outputs": [],
   "source": []
  }
 ],
 "metadata": {
  "kernelspec": {
   "display_name": "Python 3 (ipykernel)",
   "language": "python",
   "name": "python3"
  },
  "language_info": {
   "codemirror_mode": {
    "name": "ipython",
    "version": 3
   },
   "file_extension": ".py",
   "mimetype": "text/x-python",
   "name": "python",
   "nbconvert_exporter": "python",
   "pygments_lexer": "ipython3",
   "version": "3.9.13"
  }
 },
 "nbformat": 4,
 "nbformat_minor": 5
}
