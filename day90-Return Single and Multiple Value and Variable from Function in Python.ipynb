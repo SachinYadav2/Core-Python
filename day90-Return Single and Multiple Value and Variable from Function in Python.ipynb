{
 "cells": [
  {
   "cell_type": "markdown",
   "id": "fdc8ddd6",
   "metadata": {},
   "source": [
    "# return fun"
   ]
  },
  {
   "cell_type": "markdown",
   "id": "2b08f673",
   "metadata": {},
   "source": [
    "## 1"
   ]
  },
  {
   "cell_type": "code",
   "execution_count": 32,
   "id": "0f94f146",
   "metadata": {},
   "outputs": [],
   "source": [
    "def add(y):\n",
    "    x = 10\n",
    "    su = x+y\n",
    "    return su# ham yah par multiple value or variable return krwa skte h"
   ]
  },
  {
   "cell_type": "code",
   "execution_count": 34,
   "id": "d1cd7b11",
   "metadata": {},
   "outputs": [
    {
     "name": "stdout",
     "output_type": "stream",
     "text": [
      "20\n"
     ]
    }
   ],
   "source": [
    "y = 10\n",
    "su= add(y)\n",
    "print(su)"
   ]
  },
  {
   "cell_type": "markdown",
   "id": "9062dd6b",
   "metadata": {},
   "source": [
    "## 2"
   ]
  },
  {
   "cell_type": "code",
   "execution_count": 37,
   "id": "e2713d72",
   "metadata": {},
   "outputs": [],
   "source": [
    "def cal():\n",
    "    x = 10\n",
    "    y = 20\n",
    "    add = x+y\n",
    "    sub = x-y\n",
    "    return add , sub"
   ]
  },
  {
   "cell_type": "code",
   "execution_count": 38,
   "id": "7e285c13",
   "metadata": {},
   "outputs": [
    {
     "name": "stdout",
     "output_type": "stream",
     "text": [
      "30\n",
      "-10\n"
     ]
    }
   ],
   "source": [
    "addi, subtra = cal()\n",
    "print(addi)\n",
    "print(subtra)"
   ]
  },
  {
   "cell_type": "markdown",
   "id": "bd60faee",
   "metadata": {},
   "source": [
    "# Difference between print VS return "
   ]
  },
  {
   "cell_type": "code",
   "execution_count": 15,
   "id": "d11815ad",
   "metadata": {},
   "outputs": [],
   "source": [
    "def cal():\n",
    "    \"\"\"myfunc documentation.\"\"\"\n",
    "\n",
    "\n",
    "    x = 10\n",
    "    y = 20\n",
    "    add = x+y\n"
   ]
  },
  {
   "cell_type": "code",
   "execution_count": 8,
   "id": "920531d4",
   "metadata": {},
   "outputs": [
    {
     "name": "stdout",
     "output_type": "stream",
     "text": [
      "None\n"
     ]
    }
   ],
   "source": [
    "x = cal()\n",
    "print(x)"
   ]
  },
  {
   "cell_type": "code",
   "execution_count": 9,
   "id": "bf7de50d",
   "metadata": {},
   "outputs": [],
   "source": [
    "def cal():\n",
    "    x = 10\n",
    "    y = 20\n",
    "    add = x+y\n",
    "    print(add)"
   ]
  },
  {
   "cell_type": "code",
   "execution_count": 10,
   "id": "b5a8dcac",
   "metadata": {},
   "outputs": [
    {
     "name": "stdout",
     "output_type": "stream",
     "text": [
      "30\n",
      "None\n"
     ]
    }
   ],
   "source": [
    "x = cal() # No value return \n",
    "print(x)  # Fun ne automatic None return krta h "
   ]
  },
  {
   "cell_type": "code",
   "execution_count": 16,
   "id": "a5ba10fc",
   "metadata": {},
   "outputs": [
    {
     "data": {
      "text/plain": [
       "'myfunc documentation.'"
      ]
     },
     "execution_count": 16,
     "metadata": {},
     "output_type": "execute_result"
    }
   ],
   "source": [
    "cal.__doc__"
   ]
  },
  {
   "cell_type": "code",
   "execution_count": 12,
   "id": "60bc2bf1",
   "metadata": {},
   "outputs": [
    {
     "data": {
      "text/plain": [
       "\"print(value, ..., sep=' ', end='\\\\n', file=sys.stdout, flush=False)\\n\\nPrints the values to a stream, or to sys.stdout by default.\\nOptional keyword arguments:\\nfile:  a file-like object (stream); defaults to the current sys.stdout.\\nsep:   string inserted between values, default a space.\\nend:   string appended after the last value, default a newline.\\nflush: whether to forcibly flush the stream.\""
      ]
     },
     "execution_count": 12,
     "metadata": {},
     "output_type": "execute_result"
    }
   ],
   "source": [
    "print.__doc__"
   ]
  },
  {
   "cell_type": "code",
   "execution_count": 120,
   "id": "32604a44",
   "metadata": {},
   "outputs": [],
   "source": [
    "def myfunc():\n",
    "...    \"\"\"myfunc documentation.\"\"\"\n",
    "...    pass"
   ]
  },
  {
   "cell_type": "code",
   "execution_count": 121,
   "id": "279fd40e",
   "metadata": {},
   "outputs": [
    {
     "data": {
      "text/plain": [
       "'myfunc documentation.'"
      ]
     },
     "execution_count": 121,
     "metadata": {},
     "output_type": "execute_result"
    }
   ],
   "source": [
    "myfunc.__doc__"
   ]
  },
  {
   "cell_type": "code",
   "execution_count": null,
   "id": "fbec6f04",
   "metadata": {},
   "outputs": [],
   "source": []
  }
 ],
 "metadata": {
  "kernelspec": {
   "display_name": "Python 3 (ipykernel)",
   "language": "python",
   "name": "python3"
  },
  "language_info": {
   "codemirror_mode": {
    "name": "ipython",
    "version": 3
   },
   "file_extension": ".py",
   "mimetype": "text/x-python",
   "name": "python",
   "nbconvert_exporter": "python",
   "pygments_lexer": "ipython3",
   "version": "3.9.13"
  }
 },
 "nbformat": 4,
 "nbformat_minor": 5
}
