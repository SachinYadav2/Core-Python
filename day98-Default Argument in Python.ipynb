{
 "cells": [
  {
   "cell_type": "markdown",
   "id": "61372ee5",
   "metadata": {},
   "source": [
    "## Default Value ka use es liye kiya jata h taki user value dena bhul jae to bah fun hmari default value ko le le"
   ]
  },
  {
   "cell_type": "code",
   "execution_count": 2,
   "id": "96451f37",
   "metadata": {},
   "outputs": [
    {
     "name": "stdout",
     "output_type": "stream",
     "text": [
      "sachin  19\n"
     ]
    }
   ],
   "source": [
    "def show(name ,age=19):\n",
    "    print(name , age)\n",
    "show(\"sachin \")"
   ]
  },
  {
   "cell_type": "code",
   "execution_count": 3,
   "id": "90418496",
   "metadata": {},
   "outputs": [
    {
     "name": "stdout",
     "output_type": "stream",
     "text": [
      "sachin  20\n"
     ]
    }
   ],
   "source": [
    "def show(name ,age=19):\n",
    "    print(name , age)\n",
    "show(\"sachin \" , age = 20) # yha jo age di h uski Priority jyada hoti h hmari bale se"
   ]
  },
  {
   "cell_type": "code",
   "execution_count": 5,
   "id": "f28a61ba",
   "metadata": {},
   "outputs": [
    {
     "name": "stdout",
     "output_type": "stream",
     "text": [
      "sachin  20\n"
     ]
    }
   ],
   "source": [
    "def show(name ,age=19):\n",
    "    print(name , age)\n",
    "show(\"sachin \" ,20) # yha jo age di h uski Priority jyada hoti h hmari bale se ovveride ho jata h"
   ]
  },
  {
   "cell_type": "code",
   "execution_count": null,
   "id": "f32c617a",
   "metadata": {},
   "outputs": [],
   "source": []
  }
 ],
 "metadata": {
  "kernelspec": {
   "display_name": "Python 3 (ipykernel)",
   "language": "python",
   "name": "python3"
  },
  "language_info": {
   "codemirror_mode": {
    "name": "ipython",
    "version": 3
   },
   "file_extension": ".py",
   "mimetype": "text/x-python",
   "name": "python",
   "nbconvert_exporter": "python",
   "pygments_lexer": "ipython3",
   "version": "3.9.13"
  }
 },
 "nbformat": 4,
 "nbformat_minor": 5
}
