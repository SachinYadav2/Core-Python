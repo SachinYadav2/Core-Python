{
 "cells": [
  {
   "cell_type": "code",
   "execution_count": 1,
   "id": "b8bee38a",
   "metadata": {},
   "outputs": [
    {
     "name": "stdout",
     "output_type": "stream",
     "text": [
      "101 = Sachin\n",
      "102 = rahul\n"
     ]
    }
   ],
   "source": [
    "def show(d):\n",
    "    for k in d:\n",
    "        print(k,\"=\",d[k])\n",
    "dc = {101:\"Sachin\",102:\"rahul\"}\n",
    "show(dc)"
   ]
  },
  {
   "cell_type": "code",
   "execution_count": null,
   "id": "a7b5d40e",
   "metadata": {},
   "outputs": [],
   "source": []
  }
 ],
 "metadata": {
  "kernelspec": {
   "display_name": "Python 3 (ipykernel)",
   "language": "python",
   "name": "python3"
  },
  "language_info": {
   "codemirror_mode": {
    "name": "ipython",
    "version": 3
   },
   "file_extension": ".py",
   "mimetype": "text/x-python",
   "name": "python",
   "nbconvert_exporter": "python",
   "pygments_lexer": "ipython3",
   "version": "3.10.8"
  }
 },
 "nbformat": 4,
 "nbformat_minor": 5
}
