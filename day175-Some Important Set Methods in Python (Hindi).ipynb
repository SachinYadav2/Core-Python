{
 "cells": [
  {
   "cell_type": "markdown",
   "id": "881321fb",
   "metadata": {},
   "source": [
    "# Hm yha pr set theory ke sare fun use kr skte h basically"
   ]
  },
  {
   "cell_type": "code",
   "execution_count": 1,
   "id": "f3abc09c",
   "metadata": {},
   "outputs": [],
   "source": [
    "a = {\"Rahul\" ,\"Mohan\" ,\"Sohan\" ,\"Ramu\"}\n",
    "b = {\"Lalu\" ,\"Rahul\" ,\"mohan\" , \"Lal\"}\n",
    "\n",
    "\n"
   ]
  },
  {
   "cell_type": "markdown",
   "id": "8805ff75",
   "metadata": {},
   "source": [
    "# Operationns"
   ]
  },
  {
   "cell_type": "code",
   "execution_count": 8,
   "id": "df35dffb",
   "metadata": {},
   "outputs": [
    {
     "data": {
      "text/plain": [
       "{'Rahul'}"
      ]
     },
     "execution_count": 8,
     "metadata": {},
     "output_type": "execute_result"
    }
   ],
   "source": [
    "# presh the a.tab key\n",
    "\n",
    "\n",
    "a.intersection(b)"
   ]
  },
  {
   "cell_type": "code",
   "execution_count": 3,
   "id": "b304aa66",
   "metadata": {},
   "outputs": [
    {
     "data": {
      "text/plain": [
       "{'Lal', 'Lalu', 'Mohan', 'Rahul', 'Ramu', 'Sohan', 'mohan'}"
      ]
     },
     "execution_count": 3,
     "metadata": {},
     "output_type": "execute_result"
    }
   ],
   "source": [
    "a.union(b)"
   ]
  },
  {
   "cell_type": "code",
   "execution_count": 4,
   "id": "605e08a3",
   "metadata": {},
   "outputs": [
    {
     "data": {
      "text/plain": [
       "False"
      ]
     },
     "execution_count": 4,
     "metadata": {},
     "output_type": "execute_result"
    }
   ],
   "source": [
    "a.isdisjoint(a)"
   ]
  },
  {
   "cell_type": "code",
   "execution_count": 5,
   "id": "224b20dc",
   "metadata": {},
   "outputs": [
    {
     "data": {
      "text/plain": [
       "False"
      ]
     },
     "execution_count": 5,
     "metadata": {},
     "output_type": "execute_result"
    }
   ],
   "source": [
    "a.issubset(b)"
   ]
  },
  {
   "cell_type": "code",
   "execution_count": 7,
   "id": "55064550",
   "metadata": {},
   "outputs": [
    {
     "data": {
      "text/plain": [
       "False"
      ]
     },
     "execution_count": 7,
     "metadata": {},
     "output_type": "execute_result"
    }
   ],
   "source": [
    "a.issuperset(b)"
   ]
  },
  {
   "cell_type": "code",
   "execution_count": null,
   "id": "e8283cfa",
   "metadata": {},
   "outputs": [],
   "source": []
  }
 ],
 "metadata": {
  "kernelspec": {
   "display_name": "Python 3 (ipykernel)",
   "language": "python",
   "name": "python3"
  },
  "language_info": {
   "codemirror_mode": {
    "name": "ipython",
    "version": 3
   },
   "file_extension": ".py",
   "mimetype": "text/x-python",
   "name": "python",
   "nbconvert_exporter": "python",
   "pygments_lexer": "ipython3",
   "version": "3.10.8"
  }
 },
 "nbformat": 4,
 "nbformat_minor": 5
}
