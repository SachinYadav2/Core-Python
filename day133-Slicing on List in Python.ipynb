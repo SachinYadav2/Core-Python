{
 "cells": [
  {
   "cell_type": "markdown",
   "id": "29b4fe14",
   "metadata": {},
   "source": [
    "# slice[start:stop:stepsize]\n",
    "- eski help se hm range of element ko print kra skte h basically"
   ]
  },
  {
   "cell_type": "code",
   "execution_count": 1,
   "id": "9c70d792",
   "metadata": {},
   "outputs": [],
   "source": [
    "a = [12,13,1331,1414,14444,\"sachin\",'rao',12.2]\n"
   ]
  },
  {
   "cell_type": "code",
   "execution_count": 2,
   "id": "c95184cd",
   "metadata": {},
   "outputs": [
    {
     "data": {
      "text/plain": [
       "[13, 1331, 1414, 14444]"
      ]
     },
     "execution_count": 2,
     "metadata": {},
     "output_type": "execute_result"
    }
   ],
   "source": [
    "# 1 se 4 tk(stop hmara n-1 par stop ho jata h)\n",
    "a[1:5]"
   ]
  },
  {
   "cell_type": "code",
   "execution_count": 3,
   "id": "39a739d7",
   "metadata": {},
   "outputs": [
    {
     "data": {
      "text/plain": [
       "[12, 13, 1331, 1414, 14444, 'sachin', 'rao', 12.2]"
      ]
     },
     "execution_count": 3,
     "metadata": {},
     "output_type": "execute_result"
    }
   ],
   "source": [
    "# zero se last tk\n",
    "a[:]"
   ]
  },
  {
   "cell_type": "code",
   "execution_count": 4,
   "id": "368dcb7e",
   "metadata": {},
   "outputs": [
    {
     "data": {
      "text/plain": [
       "[14444, 'sachin', 'rao', 12.2]"
      ]
     },
     "execution_count": 4,
     "metadata": {},
     "output_type": "execute_result"
    }
   ],
   "source": [
    "# last se four element\n",
    "a[-4:]"
   ]
  },
  {
   "cell_type": "code",
   "execution_count": 7,
   "id": "42445945",
   "metadata": {},
   "outputs": [
    {
     "data": {
      "text/plain": [
       "[12, 1331, 14444, 'rao']"
      ]
     },
     "execution_count": 7,
     "metadata": {},
     "output_type": "execute_result"
    }
   ],
   "source": [
    "# step size of two two\n",
    "\n",
    "a[0:len(a)+1:2]"
   ]
  },
  {
   "cell_type": "code",
   "execution_count": 8,
   "id": "24c41a65",
   "metadata": {},
   "outputs": [
    {
     "data": {
      "text/plain": [
       "[1414, 14444]"
      ]
     },
     "execution_count": 8,
     "metadata": {},
     "output_type": "execute_result"
    }
   ],
   "source": [
    "# last se element print\n",
    "a[-5:-3]"
   ]
  },
  {
   "cell_type": "code",
   "execution_count": null,
   "id": "5218e4f3",
   "metadata": {},
   "outputs": [],
   "source": []
  }
 ],
 "metadata": {
  "kernelspec": {
   "display_name": "Python 3 (ipykernel)",
   "language": "python",
   "name": "python3"
  },
  "language_info": {
   "codemirror_mode": {
    "name": "ipython",
    "version": 3
   },
   "file_extension": ".py",
   "mimetype": "text/x-python",
   "name": "python",
   "nbconvert_exporter": "python",
   "pygments_lexer": "ipython3",
   "version": "3.9.13"
  }
 },
 "nbformat": 4,
 "nbformat_minor": 5
}
