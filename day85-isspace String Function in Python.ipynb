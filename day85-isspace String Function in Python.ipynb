{
 "cells": [
  {
   "cell_type": "markdown",
   "id": "da927187",
   "metadata": {},
   "source": [
    "## isspace()\n",
    "- when your str is contain the space then this fun is return is true"
   ]
  },
  {
   "cell_type": "code",
   "execution_count": 1,
   "id": "4ecfb409",
   "metadata": {},
   "outputs": [
    {
     "data": {
      "text/plain": [
       "False"
      ]
     },
     "execution_count": 1,
     "metadata": {},
     "output_type": "execute_result"
    }
   ],
   "source": [
    "name = \"Sachin Yadav\"\n",
    "name.isspace()"
   ]
  },
  {
   "cell_type": "code",
   "execution_count": 3,
   "id": "5d329029",
   "metadata": {},
   "outputs": [
    {
     "data": {
      "text/plain": [
       "True"
      ]
     },
     "execution_count": 3,
     "metadata": {},
     "output_type": "execute_result"
    }
   ],
   "source": [
    "space = \" \"\n",
    "space.isspace()"
   ]
  },
  {
   "cell_type": "code",
   "execution_count": null,
   "id": "c8ff200f",
   "metadata": {},
   "outputs": [],
   "source": []
  }
 ],
 "metadata": {
  "kernelspec": {
   "display_name": "Python 3 (ipykernel)",
   "language": "python",
   "name": "python3"
  },
  "language_info": {
   "codemirror_mode": {
    "name": "ipython",
    "version": 3
   },
   "file_extension": ".py",
   "mimetype": "text/x-python",
   "name": "python",
   "nbconvert_exporter": "python",
   "pygments_lexer": "ipython3",
   "version": "3.9.13"
  }
 },
 "nbformat": 4,
 "nbformat_minor": 5
}
