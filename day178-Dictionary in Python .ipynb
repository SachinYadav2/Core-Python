{
 "cells": [
  {
   "cell_type": "markdown",
   "id": "49eaa80b",
   "metadata": {},
   "source": [
    "## dictionary\n",
    "- hmari dict me data key:value ke pair me store hota h basically\n",
    "- and dict is a unoreder collection of element (means ke apko print krne pr order change ho jata h)\n",
    "- Represent in Curly bracket {}\n",
    "- hmari key alway uniue hoti h \n",
    "- value hmari change hoti rhti h basically\n",
    "- key ka data type is always hoga string and integer\n",
    "- value ka data type any ho skta h"
   ]
  },
  {
   "cell_type": "code",
   "execution_count": 1,
   "id": "b65f2b28",
   "metadata": {},
   "outputs": [],
   "source": [
    "dict = {}"
   ]
  },
  {
   "cell_type": "code",
   "execution_count": 2,
   "id": "fcebb254",
   "metadata": {},
   "outputs": [],
   "source": [
    "\n",
    "d = {101:\"Sachin\" ,102:\"Mohan\" ,\"XXZ\":32323, \"XYZ\":\"sadssds\"}"
   ]
  },
  {
   "cell_type": "code",
   "execution_count": 3,
   "id": "49bb246c",
   "metadata": {},
   "outputs": [
    {
     "data": {
      "text/plain": [
       "{101: 'Sachin', 102: 'Mohan', 'XXZ': 32323, 'XYZ': 'sadssds'}"
      ]
     },
     "execution_count": 3,
     "metadata": {},
     "output_type": "execute_result"
    }
   ],
   "source": [
    "d"
   ]
  },
  {
   "cell_type": "markdown",
   "id": "eaeb947d",
   "metadata": {},
   "source": [
    "# Accesed "
   ]
  },
  {
   "cell_type": "code",
   "execution_count": 5,
   "id": "1135d0ca",
   "metadata": {},
   "outputs": [
    {
     "data": {
      "text/plain": [
       "'Sachin'"
      ]
     },
     "execution_count": 5,
     "metadata": {},
     "output_type": "execute_result"
    }
   ],
   "source": [
    "d[101]"
   ]
  },
  {
   "cell_type": "code",
   "execution_count": 6,
   "id": "89b5e0bd",
   "metadata": {},
   "outputs": [
    {
     "data": {
      "text/plain": [
       "'sadssds'"
      ]
     },
     "execution_count": 6,
     "metadata": {},
     "output_type": "execute_result"
    }
   ],
   "source": [
    "d[\"XYZ\"]"
   ]
  },
  {
   "cell_type": "code",
   "execution_count": 7,
   "id": "4cbf83c1",
   "metadata": {},
   "outputs": [
    {
     "name": "stdout",
     "output_type": "stream",
     "text": [
      "<class 'dict'>\n"
     ]
    }
   ],
   "source": [
    "print(type(d))"
   ]
  },
  {
   "cell_type": "code",
   "execution_count": null,
   "id": "9921ec7e",
   "metadata": {},
   "outputs": [],
   "source": []
  }
 ],
 "metadata": {
  "kernelspec": {
   "display_name": "Python 3 (ipykernel)",
   "language": "python",
   "name": "python3"
  },
  "language_info": {
   "codemirror_mode": {
    "name": "ipython",
    "version": 3
   },
   "file_extension": ".py",
   "mimetype": "text/x-python",
   "name": "python",
   "nbconvert_exporter": "python",
   "pygments_lexer": "ipython3",
   "version": "3.10.8"
  }
 },
 "nbformat": 4,
 "nbformat_minor": 5
}
