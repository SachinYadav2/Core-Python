{
 "cells": [
  {
   "cell_type": "markdown",
   "metadata": {},
   "source": [
    "## Slicing ka use krke aap any itrable ke data ko fetch kar skte (According to use)\n",
    "- synatx \n",
    " - new_array = array_name_jisme_se_axis_krne_h(start:stop:step_size)"
   ]
  },
  {
   "cell_type": "code",
   "execution_count": 17,
   "metadata": {},
   "outputs": [
    {
     "name": "stdout",
     "output_type": "stream",
     "text": [
      "0 = 101\n",
      "1 = 102\n",
      "2 = 103\n",
      "3 = 104\n",
      "4 = 105\n",
      "----------------\n",
      "101\n",
      "102\n",
      "103\n",
      "104\n",
      "105\n",
      "--------------------\n",
      "101\n",
      "102\n",
      "103\n",
      "104\n",
      "--------------------\n",
      "102\n",
      "103\n",
      "104\n",
      "105\n",
      "--------------------\n",
      "101\n",
      "102\n",
      "--------------------\n",
      "101\n",
      "103\n",
      "105\n"
     ]
    }
   ],
   "source": [
    "from array import*\n",
    "stu_roll = array('i',[101,102,103, 104,105])\n",
    "for i in range(len(stu_roll)):\n",
    "    print(i,\"=\",stu_roll[i] )\n",
    "    \n",
    "print(\"----------------\")\n",
    "\n",
    "a = stu_roll[0:]\n",
    "\n",
    "#1 \n",
    "#  Means ke 0 se start krke apko end tak jana h \n",
    "for i in a:\n",
    "    print(i)\n",
    "    \n",
    "#2\n",
    "#  Means ke 0 se start krke apko 4 tak jana h     \n",
    "print(\"--------------------\")    \n",
    "a = stu_roll[0:4]\n",
    "\n",
    "\n",
    "for i in a:\n",
    "    print(i)\n",
    "    \n",
    "#3\n",
    "#  Means yah apko last ke four element ab show krega     \n",
    "print(\"--------------------\")    \n",
    "a = stu_roll[-4:]\n",
    "\n",
    "\n",
    "for i in a:\n",
    "    print(i)\n",
    "\n",
    "    \n",
    "#4\n",
    "# phle hamra five last ke five element ko pkdega and  and hamra -3 ab ye 5-(-3)=-2 de dega and ab jo phle ke five element pkde the un\n",
    "# unme se ye ab starting--> ek two element ko show out krega screen par\n",
    "print(\"--------------------\")    \n",
    "a = stu_roll[-5:-3]\n",
    "\n",
    "\n",
    "for i in a:\n",
    "    print(i)\n",
    "    \n",
    "#5\n",
    "# Stepwise\n",
    "print(\"--------------------\")    \n",
    "a = stu_roll[0:7:2]\n",
    "\n",
    "\n",
    "for i in a:\n",
    "    print(i)\n",
    "    "
   ]
  },
  {
   "cell_type": "markdown",
   "metadata": {},
   "source": [
    "## Slicing Use Loop"
   ]
  },
  {
   "cell_type": "code",
   "execution_count": 18,
   "metadata": {},
   "outputs": [
    {
     "name": "stdout",
     "output_type": "stream",
     "text": [
      "102\n",
      "103\n",
      "104\n",
      "105\n"
     ]
    }
   ],
   "source": [
    "from array import*\n",
    "stu_roll = array('i',[101,102,103, 104,105])\n",
    "for i in stu_roll[1:5]:\n",
    "    print(i)\n",
    "    \n"
   ]
  },
  {
   "cell_type": "code",
   "execution_count": null,
   "metadata": {},
   "outputs": [],
   "source": []
  }
 ],
 "metadata": {
  "kernelspec": {
   "display_name": "Python 3",
   "language": "python",
   "name": "python3"
  },
  "language_info": {
   "codemirror_mode": {
    "name": "ipython",
    "version": 3
   },
   "file_extension": ".py",
   "mimetype": "text/x-python",
   "name": "python",
   "nbconvert_exporter": "python",
   "pygments_lexer": "ipython3",
   "version": "3.8.5"
  }
 },
 "nbformat": 4,
 "nbformat_minor": 4
}
