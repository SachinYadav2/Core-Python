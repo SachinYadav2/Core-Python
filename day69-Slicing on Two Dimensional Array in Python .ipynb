{
 "cells": [
  {
   "cell_type": "code",
   "execution_count": 1,
   "id": "aae25f8d",
   "metadata": {},
   "outputs": [],
   "source": [
    "from numpy import*"
   ]
  },
  {
   "cell_type": "markdown",
   "id": "606fc349",
   "metadata": {},
   "source": [
    "## Slicing Hamari range(group) of Value ko print krbati h "
   ]
  },
  {
   "cell_type": "code",
   "execution_count": 2,
   "id": "078d960c",
   "metadata": {},
   "outputs": [
    {
     "data": {
      "text/plain": [
       "array([[  2,  23,  34],\n",
       "       [ 34,  35, 565]])"
      ]
     },
     "execution_count": 2,
     "metadata": {},
     "output_type": "execute_result"
    }
   ],
   "source": [
    "a = array([[2,23,34],\n",
    "          [34,35,565]])\n",
    "a"
   ]
  },
  {
   "cell_type": "code",
   "execution_count": 6,
   "id": "a77bd75e",
   "metadata": {},
   "outputs": [
    {
     "name": "stdout",
     "output_type": "stream",
     "text": [
      "Oth Row In\n",
      "[ 2 23 34]\n"
     ]
    }
   ],
   "source": [
    "print(\"Oth Row In\")\n",
    "s = a[0,:] #Phla bala hamar Row ke kam krtah , column ke liye kam krta : sabhi ko pich kar\n",
    "print(s)"
   ]
  },
  {
   "cell_type": "code",
   "execution_count": 7,
   "id": "3acbdb91",
   "metadata": {},
   "outputs": [
    {
     "name": "stdout",
     "output_type": "stream",
     "text": [
      "[ 2 34]\n"
     ]
    }
   ],
   "source": [
    "s = a[:,0]\n",
    "print(s)"
   ]
  },
  {
   "cell_type": "markdown",
   "id": "41a2a6de",
   "metadata": {},
   "source": [
    "## print the specific value"
   ]
  },
  {
   "cell_type": "code",
   "execution_count": 9,
   "id": "18adc07d",
   "metadata": {},
   "outputs": [
    {
     "name": "stdout",
     "output_type": "stream",
     "text": [
      "[[2]]\n"
     ]
    }
   ],
   "source": [
    "s = a[0:1,0:1]\n",
    "print(s)"
   ]
  },
  {
   "cell_type": "code",
   "execution_count": 10,
   "id": "cd223bd4",
   "metadata": {},
   "outputs": [
    {
     "name": "stdout",
     "output_type": "stream",
     "text": [
      "[[565]]\n"
     ]
    }
   ],
   "source": [
    "s = a[1:2,2:3]\n",
    "print(s)"
   ]
  },
  {
   "cell_type": "markdown",
   "id": "8e5d16c8",
   "metadata": {},
   "source": [
    "## Range me Value access krna"
   ]
  },
  {
   "cell_type": "code",
   "execution_count": 11,
   "id": "2545be5d",
   "metadata": {},
   "outputs": [
    {
     "name": "stdout",
     "output_type": "stream",
     "text": [
      "[[ 23  34]\n",
      " [ 35 565]]\n"
     ]
    }
   ],
   "source": [
    "s = a[0:2,1:3]\n",
    "print(s)"
   ]
  },
  {
   "cell_type": "code",
   "execution_count": null,
   "id": "eddafa07",
   "metadata": {},
   "outputs": [],
   "source": []
  }
 ],
 "metadata": {
  "kernelspec": {
   "display_name": "Python 3 (ipykernel)",
   "language": "python",
   "name": "python3"
  },
  "language_info": {
   "codemirror_mode": {
    "name": "ipython",
    "version": 3
   },
   "file_extension": ".py",
   "mimetype": "text/x-python",
   "name": "python",
   "nbconvert_exporter": "python",
   "pygments_lexer": "ipython3",
   "version": "3.9.13"
  }
 },
 "nbformat": 4,
 "nbformat_minor": 5
}
