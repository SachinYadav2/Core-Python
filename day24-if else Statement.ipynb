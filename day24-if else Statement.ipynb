{
 "cells": [
  {
   "cell_type": "markdown",
   "metadata": {},
   "source": [
    "## If else Statement ka use krke ham jab if==False Hoga tabhi ham else Part par Jate h\n",
    "- else is Last Condtional statement\n",
    "https://d1whtlypfis84e.cloudfront.net/guides/wp-content/uploads/2021/06/29090322/if-else-flowchart.jpg"
   ]
  },
  {
   "cell_type": "code",
   "execution_count": 7,
   "metadata": {},
   "outputs": [
    {
     "name": "stdout",
     "output_type": "stream",
     "text": [
      "Uper bali Conditions galat h\n",
      "Okk\n"
     ]
    }
   ],
   "source": [
    "if(1>2):\n",
    "    print(\"Yes Right\")\n",
    "else:\n",
    "    print(\"Uper bali Conditions galat h\")\n",
    "    \n",
    "print(\"Okk\")"
   ]
  },
  {
   "cell_type": "code",
   "execution_count": 8,
   "metadata": {},
   "outputs": [
    {
     "name": "stdout",
     "output_type": "stream",
     "text": [
      "Yes Right\n",
      "Okk\n"
     ]
    }
   ],
   "source": [
    "if(3>2):\n",
    "    print(\"Yes Right\")\n",
    "else:\n",
    "    print(\"Uper bali Conditions galat h\")\n",
    "print(\"Okk\")"
   ]
  },
  {
   "cell_type": "code",
   "execution_count": 16,
   "metadata": {},
   "outputs": [
    {
     "name": "stdout",
     "output_type": "stream",
     "text": [
      "Enter The Number:4\n",
      "Enter the Number:3\n",
      "<class 'str'>\n",
      "yes A IS Big\n"
     ]
    }
   ],
   "source": [
    "# User Ka glti find out karne ke liye Ham eska use karte h(else)\n",
    "a = input(\"Enter The Number:\")\n",
    "b = input(\"Enter the Number:\")\n",
    "\n",
    "if a>=b:\n",
    "    print(type(a))\n",
    "    print(\"yes A IS Big\")\n",
    "else:\n",
    "    print(\"Aap glti kar rhe ho apka B Big h comapre to a\")"
   ]
  },
  {
   "cell_type": "markdown",
   "metadata": {},
   "source": [
    "## Second Way of code Writing"
   ]
  },
  {
   "cell_type": "code",
   "execution_count": 14,
   "metadata": {},
   "outputs": [
    {
     "name": "stdout",
     "output_type": "stream",
     "text": [
      "Yes Right\n",
      "Rest Of The COde\n"
     ]
    }
   ],
   "source": [
    "print(\"Yes Right\") if(3>2) else print(\"Uper bali Conditions galat h\")\n",
    "print(\"Rest Of The COde\")"
   ]
  },
  {
   "cell_type": "code",
   "execution_count": 15,
   "metadata": {},
   "outputs": [
    {
     "name": "stdout",
     "output_type": "stream",
     "text": [
      "Yes Right\n",
      "Second Statement\n",
      "Okk\n"
     ]
    }
   ],
   "source": [
    "if(3>2):\n",
    "    print(\"Yes Right\") # Statement1\n",
    "    print(\"Second Statement\")\n",
    "    \n",
    "else:\n",
    "    print(\"Uper bali Conditions galat h\")\n",
    "print(\"Okk\")"
   ]
  },
  {
   "cell_type": "code",
   "execution_count": null,
   "metadata": {},
   "outputs": [],
   "source": [
    "    "
   ]
  }
 ],
 "metadata": {
  "kernelspec": {
   "display_name": "Python 3",
   "language": "python",
   "name": "python3"
  },
  "language_info": {
   "codemirror_mode": {
    "name": "ipython",
    "version": 3
   },
   "file_extension": ".py",
   "mimetype": "text/x-python",
   "name": "python",
   "nbconvert_exporter": "python",
   "pygments_lexer": "ipython3",
   "version": "3.8.5"
  }
 },
 "nbformat": 4,
 "nbformat_minor": 4
}
