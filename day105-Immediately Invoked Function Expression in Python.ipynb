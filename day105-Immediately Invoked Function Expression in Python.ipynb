{
 "cells": [
  {
   "cell_type": "markdown",
   "id": "23fbeb77",
   "metadata": {},
   "source": [
    "# THis type of function is no need for calling"
   ]
  },
  {
   "cell_type": "code",
   "execution_count": 2,
   "id": "c5f5f391",
   "metadata": {},
   "outputs": [
    {
     "data": {
      "text/plain": [
       "6"
      ]
     },
     "execution_count": 2,
     "metadata": {},
     "output_type": "execute_result"
    }
   ],
   "source": [
    "# yah automatically call hota ese ham call krni ke need hoti h\n",
    "# Python ese use krne ke man kar rkha h abhi\n",
    "\n",
    "(lambda x:x+1)(5)"
   ]
  },
  {
   "cell_type": "code",
   "execution_count": 4,
   "id": "c3ea1341",
   "metadata": {},
   "outputs": [
    {
     "data": {
      "text/plain": [
       "14"
      ]
     },
     "execution_count": 4,
     "metadata": {},
     "output_type": "execute_result"
    }
   ],
   "source": [
    "(lambda x,y:x+y)(5,9)"
   ]
  },
  {
   "cell_type": "code",
   "execution_count": null,
   "id": "dc2b37e8",
   "metadata": {},
   "outputs": [],
   "source": []
  }
 ],
 "metadata": {
  "kernelspec": {
   "display_name": "Python 3 (ipykernel)",
   "language": "python",
   "name": "python3"
  },
  "language_info": {
   "codemirror_mode": {
    "name": "ipython",
    "version": 3
   },
   "file_extension": ".py",
   "mimetype": "text/x-python",
   "name": "python",
   "nbconvert_exporter": "python",
   "pygments_lexer": "ipython3",
   "version": "3.9.13"
  }
 },
 "nbformat": 4,
 "nbformat_minor": 5
}
