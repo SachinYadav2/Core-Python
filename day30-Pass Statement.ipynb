{
 "cells": [
  {
   "cell_type": "markdown",
   "metadata": {},
   "source": [
    "# Pass \n",
    "- kuj bhi hame execute nhi krna h tab hma eska use krte h \n",
    "\n",
    "- any loop and conditions me kam krta"
   ]
  },
  {
   "cell_type": "code",
   "execution_count": 6,
   "metadata": {},
   "outputs": [
    {
     "name": "stdout",
     "output_type": "stream",
     "text": [
      "yes\n",
      "rest Of Code\n"
     ]
    }
   ],
   "source": [
    "if (5>2):\n",
    "    print(\"yes\")\n",
    "    pass # ham ese likhte h enter hit kre to ham loop se ya condtions se bahar ho jate h\n",
    "print(\"rest Of Code\")\n"
   ]
  },
  {
   "cell_type": "code",
   "execution_count": 7,
   "metadata": {},
   "outputs": [
    {
     "name": "stdout",
     "output_type": "stream",
     "text": [
      "rest Of Code\n"
     ]
    }
   ],
   "source": [
    "if (5>2):\n",
    "    pass # ham ese likhte h enter hit kre to ham loop se ya condtions se bahar ho jate h\n",
    "print(\"rest Of Code\")\n"
   ]
  },
  {
   "cell_type": "code",
   "execution_count": 13,
   "metadata": {},
   "outputs": [
    {
     "name": "stdout",
     "output_type": "stream",
     "text": [
      "rest of code\n"
     ]
    }
   ],
   "source": [
    "if 5>2:\n",
    "    pass\n",
    "else:\n",
    "    print(\"No\")\n",
    "    \n",
    "print(\"rest of code\")"
   ]
  },
  {
   "cell_type": "code",
   "execution_count": 12,
   "metadata": {},
   "outputs": [
    {
     "name": "stdout",
     "output_type": "stream",
     "text": [
      "yes\n",
      "rest of code\n"
     ]
    }
   ],
   "source": [
    "if 5>2:\n",
    "    print(\"yes\")\n",
    "else:\n",
    "    print(\"Yes\")\n",
    "    \n",
    "print(\"rest of code\")"
   ]
  },
  {
   "cell_type": "code",
   "execution_count": 15,
   "metadata": {},
   "outputs": [
    {
     "name": "stdout",
     "output_type": "stream",
     "text": [
      "Yes else parT\n",
      "rest of code\n"
     ]
    }
   ],
   "source": [
    "if 5>7:\n",
    "    print(\"yes\")\n",
    "else:\n",
    "    print(\"Yes else parT\")\n",
    "    \n",
    "print(\"rest of code\")"
   ]
  },
  {
   "cell_type": "code",
   "execution_count": null,
   "metadata": {},
   "outputs": [],
   "source": []
  }
 ],
 "metadata": {
  "kernelspec": {
   "display_name": "Python 3",
   "language": "python",
   "name": "python3"
  },
  "language_info": {
   "codemirror_mode": {
    "name": "ipython",
    "version": 3
   },
   "file_extension": ".py",
   "mimetype": "text/x-python",
   "name": "python",
   "nbconvert_exporter": "python",
   "pygments_lexer": "ipython3",
   "version": "3.8.5"
  }
 },
 "nbformat": 4,
 "nbformat_minor": 4
}
