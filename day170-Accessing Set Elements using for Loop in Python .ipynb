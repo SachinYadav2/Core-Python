{
 "cells": [
  {
   "cell_type": "markdown",
   "id": "60eab147",
   "metadata": {},
   "source": [
    "# Only for without index because index are not a fix in set "
   ]
  },
  {
   "cell_type": "code",
   "execution_count": 1,
   "id": "9c3b7c6e",
   "metadata": {},
   "outputs": [],
   "source": [
    "a = {12, \"Hello\" ,2.332}"
   ]
  },
  {
   "cell_type": "code",
   "execution_count": 2,
   "id": "12792931",
   "metadata": {},
   "outputs": [
    {
     "name": "stdout",
     "output_type": "stream",
     "text": [
      "Hello\n",
      "2.332\n",
      "12\n"
     ]
    }
   ],
   "source": [
    "for i in a:\n",
    "    print(i)"
   ]
  },
  {
   "cell_type": "code",
   "execution_count": null,
   "id": "5d9220ff",
   "metadata": {},
   "outputs": [],
   "source": []
  }
 ],
 "metadata": {
  "kernelspec": {
   "display_name": "Python 3 (ipykernel)",
   "language": "python",
   "name": "python3"
  },
  "language_info": {
   "codemirror_mode": {
    "name": "ipython",
    "version": 3
   },
   "file_extension": ".py",
   "mimetype": "text/x-python",
   "name": "python",
   "nbconvert_exporter": "python",
   "pygments_lexer": "ipython3",
   "version": "3.10.8"
  }
 },
 "nbformat": 4,
 "nbformat_minor": 5
}
