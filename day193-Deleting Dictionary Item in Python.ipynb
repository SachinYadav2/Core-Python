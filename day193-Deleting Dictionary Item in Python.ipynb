{
 "cells": [
  {
   "cell_type": "markdown",
   "id": "c8c9c0fd",
   "metadata": {},
   "source": [
    "# hm Del statement ka use krke item and all dict ke item ko delete kr skte h"
   ]
  },
  {
   "cell_type": "code",
   "execution_count": 11,
   "id": "b7156485",
   "metadata": {},
   "outputs": [],
   "source": [
    "d = {101 : \"Sachin\" , 102 :\"MOhan\"}\n",
    "del d[101]"
   ]
  },
  {
   "cell_type": "code",
   "execution_count": 12,
   "id": "bd1b426d",
   "metadata": {},
   "outputs": [
    {
     "data": {
      "text/plain": [
       "{102: 'MOhan'}"
      ]
     },
     "execution_count": 12,
     "metadata": {},
     "output_type": "execute_result"
    }
   ],
   "source": [
    "d"
   ]
  },
  {
   "cell_type": "code",
   "execution_count": 13,
   "id": "dd73b23f",
   "metadata": {},
   "outputs": [],
   "source": [
    "del d\n"
   ]
  },
  {
   "cell_type": "code",
   "execution_count": 14,
   "id": "52646913",
   "metadata": {},
   "outputs": [
    {
     "ename": "NameError",
     "evalue": "name 'd' is not defined",
     "output_type": "error",
     "traceback": [
      "\u001b[0;31m---------------------------------------------------------------------------\u001b[0m",
      "\u001b[0;31mNameError\u001b[0m                                 Traceback (most recent call last)",
      "Cell \u001b[0;32mIn[14], line 1\u001b[0m\n\u001b[0;32m----> 1\u001b[0m \u001b[43md\u001b[49m\n",
      "\u001b[0;31mNameError\u001b[0m: name 'd' is not defined"
     ]
    }
   ],
   "source": [
    "d"
   ]
  },
  {
   "cell_type": "code",
   "execution_count": null,
   "id": "ec15b461",
   "metadata": {},
   "outputs": [],
   "source": []
  }
 ],
 "metadata": {
  "kernelspec": {
   "display_name": "Python 3 (ipykernel)",
   "language": "python",
   "name": "python3"
  },
  "language_info": {
   "codemirror_mode": {
    "name": "ipython",
    "version": 3
   },
   "file_extension": ".py",
   "mimetype": "text/x-python",
   "name": "python",
   "nbconvert_exporter": "python",
   "pygments_lexer": "ipython3",
   "version": "3.10.8"
  }
 },
 "nbformat": 4,
 "nbformat_minor": 5
}
