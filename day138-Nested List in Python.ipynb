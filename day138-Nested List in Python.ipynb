{
 "cells": [
  {
   "cell_type": "markdown",
   "id": "f71487e6",
   "metadata": {},
   "source": [
    "# Ek list ke number ke  under second list "
   ]
  },
  {
   "cell_type": "markdown",
   "id": "8fbbb8ef",
   "metadata": {},
   "source": [
    "#  First method of nested list\n"
   ]
  },
  {
   "cell_type": "code",
   "execution_count": 9,
   "id": "110f6da6",
   "metadata": {},
   "outputs": [],
   "source": [
    "a = [12,13,14,15,[12,3,4]]\n",
    "# OR \n",
    "b = [12,13,3]\n",
    "c = [12,14,b] "
   ]
  },
  {
   "cell_type": "markdown",
   "id": "6fb251c8",
   "metadata": {},
   "source": [
    "# accessed "
   ]
  },
  {
   "cell_type": "code",
   "execution_count": 10,
   "id": "f6d9105b",
   "metadata": {},
   "outputs": [
    {
     "name": "stdout",
     "output_type": "stream",
     "text": [
      "12\n",
      "4\n"
     ]
    }
   ],
   "source": [
    "print(a[0])\n",
    "print(a[4][2])"
   ]
  },
  {
   "cell_type": "markdown",
   "id": "b912d906",
   "metadata": {},
   "source": [
    "# modification"
   ]
  },
  {
   "cell_type": "code",
   "execution_count": 11,
   "id": "cabd64be",
   "metadata": {},
   "outputs": [
    {
     "name": "stdout",
     "output_type": "stream",
     "text": [
      "[12, 13, 14, 15, [12, 3, 4]]\n",
      "[121212, 13, 14, 15, [12, 3, 4]]\n"
     ]
    }
   ],
   "source": [
    "print(a)\n",
    "a[0] = 121212\n",
    "print(a)"
   ]
  },
  {
   "cell_type": "markdown",
   "id": "b61dbf1a",
   "metadata": {},
   "source": [
    "# second"
   ]
  },
  {
   "cell_type": "code",
   "execution_count": 12,
   "id": "1323bc89",
   "metadata": {},
   "outputs": [],
   "source": [
    "a = [\n",
    "    [21,12,1313,33],\n",
    "    [55,664,4545,45]\n",
    "]"
   ]
  },
  {
   "cell_type": "code",
   "execution_count": 14,
   "id": "ce9b66c0",
   "metadata": {},
   "outputs": [
    {
     "name": "stdout",
     "output_type": "stream",
     "text": [
      "55\n"
     ]
    }
   ],
   "source": [
    "print(a[1][0]) # [row][col]"
   ]
  },
  {
   "cell_type": "code",
   "execution_count": 15,
   "id": "b5049332",
   "metadata": {},
   "outputs": [],
   "source": [
    "a[1][0] =  11"
   ]
  },
  {
   "cell_type": "code",
   "execution_count": 16,
   "id": "b67ed39c",
   "metadata": {},
   "outputs": [
    {
     "name": "stdout",
     "output_type": "stream",
     "text": [
      "[[21, 12, 1313, 33], [11, 664, 4545, 45]]\n"
     ]
    }
   ],
   "source": [
    "print(a)"
   ]
  },
  {
   "cell_type": "code",
   "execution_count": null,
   "id": "e8b53c1b",
   "metadata": {},
   "outputs": [],
   "source": []
  }
 ],
 "metadata": {
  "kernelspec": {
   "display_name": "Python 3 (ipykernel)",
   "language": "python",
   "name": "python3"
  },
  "language_info": {
   "codemirror_mode": {
    "name": "ipython",
    "version": 3
   },
   "file_extension": ".py",
   "mimetype": "text/x-python",
   "name": "python",
   "nbconvert_exporter": "python",
   "pygments_lexer": "ipython3",
   "version": "3.9.13"
  }
 },
 "nbformat": 4,
 "nbformat_minor": 5
}
