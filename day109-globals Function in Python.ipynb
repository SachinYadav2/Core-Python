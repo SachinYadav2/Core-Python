{
 "cells": [
  {
   "cell_type": "markdown",
   "id": "1ea6714a",
   "metadata": {},
   "source": [
    "# Global () Functions\n",
    "- this fun is return to value as a dictonary format me"
   ]
  },
  {
   "cell_type": "code",
   "execution_count": 1,
   "id": "f165fe75",
   "metadata": {},
   "outputs": [
    {
     "name": "stdout",
     "output_type": "stream",
     "text": [
      "Local variable : 10\n",
      "Globale variable 59\n"
     ]
    }
   ],
   "source": [
    "a = 59\n",
    "def show():\n",
    "    a = 10\n",
    "    print(\"Local variable :\",a)\n",
    "show()\n",
    "print(\"Globale variable\",a)"
   ]
  },
  {
   "cell_type": "code",
   "execution_count": 3,
   "id": "aa291c88",
   "metadata": {},
   "outputs": [
    {
     "name": "stdout",
     "output_type": "stream",
     "text": [
      "Local variable : 10\n",
      "X: 59\n",
      "Globale variable 59\n"
     ]
    }
   ],
   "source": [
    "# but hame sometime we need to a global access under a fun..that time coming a global fun concept\n",
    "\n",
    "a = 59\n",
    "def show():\n",
    "    a = 10\n",
    "    print(\"Local variable :\",a)\n",
    "    \n",
    "    x  = globals()['a']\n",
    "    \n",
    "    print(\"X:\",x)\n",
    "show()\n",
    "print(\"Globale variable\",a)"
   ]
  },
  {
   "cell_type": "code",
   "execution_count": 4,
   "id": "8dea7ea9",
   "metadata": {},
   "outputs": [
    {
     "name": "stdout",
     "output_type": "stream",
     "text": [
      "Local variable : 10\n",
      "X: 69\n",
      "Globale variable 59\n"
     ]
    }
   ],
   "source": [
    "\n",
    "a = 59\n",
    "def show():\n",
    "    a = 10\n",
    "    print(\"Local variable :\",a)\n",
    "    \n",
    "    # modify a global variable value but this modify is not a effetect a a\n",
    "    x  = globals()['a']\n",
    "    x = x+ 10\n",
    "    \n",
    "    print(\"X:\",x)\n",
    "show()\n",
    "print(\"Globale variable\",a)"
   ]
  },
  {
   "cell_type": "code",
   "execution_count": null,
   "id": "8e7b13a0",
   "metadata": {},
   "outputs": [],
   "source": []
  }
 ],
 "metadata": {
  "kernelspec": {
   "display_name": "Python 3 (ipykernel)",
   "language": "python",
   "name": "python3"
  },
  "language_info": {
   "codemirror_mode": {
    "name": "ipython",
    "version": 3
   },
   "file_extension": ".py",
   "mimetype": "text/x-python",
   "name": "python",
   "nbconvert_exporter": "python",
   "pygments_lexer": "ipython3",
   "version": "3.9.13"
  }
 },
 "nbformat": 4,
 "nbformat_minor": 5
}
