{
 "cells": [
  {
   "cell_type": "markdown",
   "id": "2914bf63",
   "metadata": {},
   "source": [
    "## Esme ham dekhenge ki kis tarah se numpy hame array ke attribute provide krta h "
   ]
  },
  {
   "cell_type": "code",
   "execution_count": 1,
   "id": "847e26d8",
   "metadata": {},
   "outputs": [],
   "source": [
    "from numpy import*"
   ]
  },
  {
   "cell_type": "code",
   "execution_count": 9,
   "id": "eeb775b4",
   "metadata": {},
   "outputs": [],
   "source": [
    "a1 =  array([1,23,4,4,5,6])\n",
    "a2 =  array([[21,22,34,55, 44],[25,32,43,44,45]])"
   ]
  },
  {
   "cell_type": "code",
   "execution_count": null,
   "id": "9818769d",
   "metadata": {},
   "outputs": [],
   "source": []
  },
  {
   "cell_type": "markdown",
   "id": "b583b82f",
   "metadata": {},
   "source": [
    "## .ndim\n",
    "- yah hame btata h ke array ke dimenstion kitne h"
   ]
  },
  {
   "cell_type": "code",
   "execution_count": 11,
   "id": "547c7238",
   "metadata": {},
   "outputs": [
    {
     "name": "stdout",
     "output_type": "stream",
     "text": [
      "Show Your array Dimenstion: 1\n",
      "Show Your array Dimenstion: 2\n"
     ]
    }
   ],
   "source": [
    "print(\"Show Your array Dimenstion:\",a1.ndim)\n",
    "print(\"Show Your array Dimenstion:\",a2.ndim)"
   ]
  },
  {
   "cell_type": "markdown",
   "id": "c3739238",
   "metadata": {},
   "source": [
    "## shape\n",
    "- yah hame btata h array ke shape kya "
   ]
  },
  {
   "cell_type": "code",
   "execution_count": 13,
   "id": "24d119d6",
   "metadata": {},
   "outputs": [
    {
     "name": "stdout",
     "output_type": "stream",
     "text": [
      "Show Your array Shape: (6,)\n",
      " Show Your array shape: (2, 5)\n"
     ]
    }
   ],
   "source": [
    "print(\"Show Your array Shape:\",a1.shape)\n",
    "print(\" Show Your array shape:\",a2.shape)\n"
   ]
  },
  {
   "cell_type": "markdown",
   "id": "c184cc04",
   "metadata": {},
   "source": [
    "## size\n",
    "- yah me array total no of element kitne h yah btata h"
   ]
  },
  {
   "cell_type": "code",
   "execution_count": 16,
   "id": "51a092e3",
   "metadata": {},
   "outputs": [
    {
     "name": "stdout",
     "output_type": "stream",
     "text": [
      "Show Your array Total No of ELement:\t 6\n",
      " Show Your array ..:\t 10\n"
     ]
    }
   ],
   "source": [
    "print(\"Show Your array Total No of ELement:\\t\",a1.size)\n",
    "print(\" Show Your array ..:\\t\",a2.size)\n"
   ]
  },
  {
   "cell_type": "markdown",
   "id": "90be2394",
   "metadata": {},
   "source": [
    "## Itemsize of array \n",
    "- this is show your element size in bytes form"
   ]
  },
  {
   "cell_type": "code",
   "execution_count": 17,
   "id": "e1115bb3",
   "metadata": {},
   "outputs": [
    {
     "name": "stdout",
     "output_type": "stream",
     "text": [
      "Show Your array bytes size:\t 6\n",
      " Show Your array bytes size\t 10\n"
     ]
    }
   ],
   "source": [
    "print(\"Show Your array bytes size:\\t\",a1.size)\n",
    "print(\" Show Your array bytes size\\t\",a2.size)\n"
   ]
  },
  {
   "cell_type": "markdown",
   "id": "59d99e19",
   "metadata": {},
   "source": [
    "\n",
    "## dtype\n",
    "- it is show of the data type of in your array\n"
   ]
  },
  {
   "cell_type": "code",
   "execution_count": 21,
   "id": "ee165df2",
   "metadata": {},
   "outputs": [
    {
     "name": "stdout",
     "output_type": "stream",
     "text": [
      "Show Your array type \t int64\n",
      " Show Your array type \t int64\n"
     ]
    }
   ],
   "source": [
    "print(\"Show Your array type \\t\",a1.dtype)\n",
    "print(\" Show Your array type \\t\",a2.dtype)\n"
   ]
  },
  {
   "cell_type": "markdown",
   "id": "3ee9ef2c",
   "metadata": {},
   "source": [
    "## nbytes\n",
    "- yah hame show krbat ke Total no of bytes occupied in your array"
   ]
  },
  {
   "cell_type": "code",
   "execution_count": 22,
   "id": "76f7f24e",
   "metadata": {},
   "outputs": [
    {
     "name": "stdout",
     "output_type": "stream",
     "text": [
      "Show Your array total bytes \t 48\n",
      " Show Your array total bytes  \t 80\n"
     ]
    }
   ],
   "source": [
    "print(\"Show Your array total bytes \\t\",a1.nbytes)\n",
    "print(\" Show Your array total bytes  \\t\",a2.nbytes)\n"
   ]
  },
  {
   "cell_type": "code",
   "execution_count": null,
   "id": "5a0b3286",
   "metadata": {},
   "outputs": [],
   "source": []
  }
 ],
 "metadata": {
  "kernelspec": {
   "display_name": "Python 3 (ipykernel)",
   "language": "python",
   "name": "python3"
  },
  "language_info": {
   "codemirror_mode": {
    "name": "ipython",
    "version": 3
   },
   "file_extension": ".py",
   "mimetype": "text/x-python",
   "name": "python",
   "nbconvert_exporter": "python",
   "pygments_lexer": "ipython3",
   "version": "3.9.13"
  }
 },
 "nbformat": 4,
 "nbformat_minor": 5
}
