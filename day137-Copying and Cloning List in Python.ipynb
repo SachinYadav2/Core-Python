{
 "cells": [
  {
   "cell_type": "markdown",
   "id": "36e8ca14",
   "metadata": {},
   "source": [
    "# copy ()\n",
    "- this metod help krta h apki list ke copy create krne me\n",
    "- both location(object) are indepandent hote"
   ]
  },
  {
   "cell_type": "code",
   "execution_count": 2,
   "id": "df689fdf",
   "metadata": {},
   "outputs": [],
   "source": [
    "a = [212,1,3131,13,13]\n",
    "b = a.copy()\n"
   ]
  },
  {
   "cell_type": "code",
   "execution_count": 4,
   "id": "bdcfe51c",
   "metadata": {},
   "outputs": [
    {
     "name": "stdout",
     "output_type": "stream",
     "text": [
      "4476974720\n",
      "4476973632\n"
     ]
    }
   ],
   "source": [
    "print(id(a))\n",
    "print(id(b))"
   ]
  },
  {
   "cell_type": "markdown",
   "id": "5129c7db",
   "metadata": {},
   "source": [
    "# Clonig \n",
    "- yh bhi same concept but esme hm element ko slice ke throw copy krte h"
   ]
  },
  {
   "cell_type": "code",
   "execution_count": 5,
   "id": "5276f102",
   "metadata": {},
   "outputs": [],
   "source": [
    "a = [12,13,14,15,16]\n",
    "b = a[:]"
   ]
  },
  {
   "cell_type": "code",
   "execution_count": 6,
   "id": "d27e6c79",
   "metadata": {},
   "outputs": [
    {
     "data": {
      "text/plain": [
       "[12, 13, 14, 15, 16]"
      ]
     },
     "execution_count": 6,
     "metadata": {},
     "output_type": "execute_result"
    }
   ],
   "source": [
    "a"
   ]
  },
  {
   "cell_type": "code",
   "execution_count": 7,
   "id": "d44f0806",
   "metadata": {},
   "outputs": [
    {
     "name": "stdout",
     "output_type": "stream",
     "text": [
      "4447678592\n",
      "4446247680\n"
     ]
    }
   ],
   "source": [
    "print(id(a))\n",
    "print(id(b))"
   ]
  },
  {
   "cell_type": "code",
   "execution_count": 9,
   "id": "9eaf67ec",
   "metadata": {},
   "outputs": [
    {
     "data": {
      "text/plain": [
       "[12, 'YAdav', 14, 15, 16]"
      ]
     },
     "execution_count": 9,
     "metadata": {},
     "output_type": "execute_result"
    }
   ],
   "source": [
    "a[1]=\"YAdav\"\n",
    "a"
   ]
  },
  {
   "cell_type": "code",
   "execution_count": 11,
   "id": "76e4b23a",
   "metadata": {},
   "outputs": [
    {
     "data": {
      "text/plain": [
       "[12, 13, 14, 15, 16]"
      ]
     },
     "execution_count": 11,
     "metadata": {},
     "output_type": "execute_result"
    }
   ],
   "source": [
    "b # esme change nhi hua"
   ]
  },
  {
   "cell_type": "code",
   "execution_count": null,
   "id": "2cd519e1",
   "metadata": {},
   "outputs": [],
   "source": []
  }
 ],
 "metadata": {
  "kernelspec": {
   "display_name": "Python 3 (ipykernel)",
   "language": "python",
   "name": "python3"
  },
  "language_info": {
   "codemirror_mode": {
    "name": "ipython",
    "version": 3
   },
   "file_extension": ".py",
   "mimetype": "text/x-python",
   "name": "python",
   "nbconvert_exporter": "python",
   "pygments_lexer": "ipython3",
   "version": "3.9.13"
  }
 },
 "nbformat": 4,
 "nbformat_minor": 5
}
