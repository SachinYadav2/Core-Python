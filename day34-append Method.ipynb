{
 "cells": [
  {
   "cell_type": "markdown",
   "metadata": {},
   "source": [
    "# append() \n",
    "-Yah ek method jo hmara element ko add krta h exsting list,array ..etc me because \n"
   ]
  },
  {
   "cell_type": "code",
   "execution_count": 14,
   "metadata": {},
   "outputs": [
    {
     "name": "stdout",
     "output_type": "stream",
     "text": [
      "10\n",
      "11\n",
      "12\n",
      "13\n",
      "14\n",
      "After >>>> the append element in array >>>>>>>>>\n",
      "10\n",
      "11\n",
      "12\n",
      "13\n",
      "14\n",
      "15\n"
     ]
    },
    {
     "data": {
      "text/plain": [
       "array('i', [10, 11, 12, 13, 14, 15])"
      ]
     },
     "execution_count": 14,
     "metadata": {},
     "output_type": "execute_result"
    }
   ],
   "source": [
    "# Multiple element append kar skte h\n",
    "\n",
    "from array import*\n",
    "stu_roll = array('i', [10, 11, 12, 13,14])\n",
    "for i in range(len(stu_roll)):\n",
    "    print(stu_roll[i])\n",
    "\n",
    "    \n",
    "# Synatax = jisme_append_krna_name.append(elementOr any object)\n",
    "print(\"After >>>> the append element in array >>>>>>>>>\")\n",
    "stu_roll.append(15)  \n",
    "for i in range(len(stu_roll)):\n",
    "    print(stu_roll[i])\n",
    "stu_roll"
   ]
  },
  {
   "cell_type": "code",
   "execution_count": 13,
   "metadata": {},
   "outputs": [
    {
     "name": "stdout",
     "output_type": "stream",
     "text": [
      "['sas', 'sds', 'sd', 'sd']\n"
     ]
    }
   ],
   "source": [
    "s = ['sas', 'sds', 'sd']\n",
    "s.append(\"sd\")\n",
    "print(s)"
   ]
  },
  {
   "cell_type": "code",
   "execution_count": null,
   "metadata": {},
   "outputs": [],
   "source": []
  }
 ],
 "metadata": {
  "kernelspec": {
   "display_name": "Python 3",
   "language": "python",
   "name": "python3"
  },
  "language_info": {
   "codemirror_mode": {
    "name": "ipython",
    "version": 3
   },
   "file_extension": ".py",
   "mimetype": "text/x-python",
   "name": "python",
   "nbconvert_exporter": "python",
   "pygments_lexer": "ipython3",
   "version": "3.8.5"
  }
 },
 "nbformat": 4,
 "nbformat_minor": 4
}
