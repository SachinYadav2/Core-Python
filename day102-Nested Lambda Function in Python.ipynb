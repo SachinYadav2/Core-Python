{
 "cells": [
  {
   "cell_type": "markdown",
   "id": "8e6abaec",
   "metadata": {},
   "source": [
    "# inner lambda fun means lambda insite the lambda"
   ]
  },
  {
   "cell_type": "code",
   "execution_count": 11,
   "id": "014ece54",
   "metadata": {},
   "outputs": [
    {
     "name": "stdout",
     "output_type": "stream",
     "text": [
      "30\n",
      "<function <lambda>.<locals>.<lambda> at 0x1065f8700>\n"
     ]
    }
   ],
   "source": [
    "add = lambda x = 10 : (lambda y : x+y)\n",
    "a = add()\n",
    "print(a(20))  # yha eski a ke responsibilties ban jati h ke bah parameter ko handle kare undar bale lambda ke ko\n",
    "type(a)\n",
    "\n",
    "print(a)"
   ]
  },
  {
   "cell_type": "code",
   "execution_count": 10,
   "id": "4b557dfb",
   "metadata": {},
   "outputs": [
    {
     "name": "stdout",
     "output_type": "stream",
     "text": [
      "30\n"
     ]
    },
    {
     "data": {
      "text/plain": [
       "function"
      ]
     },
     "execution_count": 10,
     "metadata": {},
     "output_type": "execute_result"
    }
   ],
   "source": [
    "add = lambda x = 10:(lambda y : x+y)\n",
    "a = add()\n",
    "print(a(20))  # yha eski a ke responsibilties ban jati h ke bah parameter ko handle kare undar bale lambda ke ko\n",
    "type(a)\n",
    "\n"
   ]
  },
  {
   "cell_type": "code",
   "execution_count": null,
   "id": "982f21c0",
   "metadata": {},
   "outputs": [],
   "source": [
    "    "
   ]
  }
 ],
 "metadata": {
  "kernelspec": {
   "display_name": "Python 3 (ipykernel)",
   "language": "python",
   "name": "python3"
  },
  "language_info": {
   "codemirror_mode": {
    "name": "ipython",
    "version": 3
   },
   "file_extension": ".py",
   "mimetype": "text/x-python",
   "name": "python",
   "nbconvert_exporter": "python",
   "pygments_lexer": "ipython3",
   "version": "3.9.13"
  }
 },
 "nbformat": 4,
 "nbformat_minor": 5
}
