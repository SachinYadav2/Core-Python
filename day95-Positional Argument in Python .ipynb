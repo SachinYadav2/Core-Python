{
 "cells": [
  {
   "cell_type": "markdown",
   "id": "0a4cd255",
   "metadata": {},
   "source": [
    "## This is first type of actucal Argumnets\n",
    "- 1Type\n",
    "- yha bas hmara order maintain hota h"
   ]
  },
  {
   "cell_type": "code",
   "execution_count": 4,
   "id": "85d851c9",
   "metadata": {},
   "outputs": [
    {
     "name": "stdout",
     "output_type": "stream",
     "text": [
      "25\n"
     ]
    }
   ],
   "source": [
    "def pw(X,y):\n",
    "    r = X**y\n",
    "    print(r)\n",
    "pw(5 ,2) "
   ]
  },
  {
   "cell_type": "code",
   "execution_count": 5,
   "id": "347158f6",
   "metadata": {},
   "outputs": [
    {
     "ename": "TypeError",
     "evalue": "pw() missing 1 required positional argument: 'z'",
     "output_type": "error",
     "traceback": [
      "\u001b[0;31m---------------------------------------------------------------------------\u001b[0m",
      "\u001b[0;31mTypeError\u001b[0m                                 Traceback (most recent call last)",
      "Input \u001b[0;32mIn [5]\u001b[0m, in \u001b[0;36m<cell line: 4>\u001b[0;34m()\u001b[0m\n\u001b[1;32m      2\u001b[0m     r \u001b[38;5;241m=\u001b[39m X\u001b[38;5;241m*\u001b[39m\u001b[38;5;241m*\u001b[39my\n\u001b[1;32m      3\u001b[0m     \u001b[38;5;28mprint\u001b[39m(r)\n\u001b[0;32m----> 4\u001b[0m \u001b[43mpw\u001b[49m\u001b[43m(\u001b[49m\u001b[38;5;241;43m5\u001b[39;49m\u001b[43m \u001b[49m\u001b[43m,\u001b[49m\u001b[38;5;241;43m2\u001b[39;49m\u001b[43m)\u001b[49m\n",
      "\u001b[0;31mTypeError\u001b[0m: pw() missing 1 required positional argument: 'z'"
     ]
    }
   ],
   "source": [
    "def pw(X,y ,z):\n",
    "    r = X**y\n",
    "    print(r)\n",
    "pw(5 ,2) "
   ]
  },
  {
   "cell_type": "code",
   "execution_count": null,
   "id": "cfc2b369",
   "metadata": {},
   "outputs": [],
   "source": []
  }
 ],
 "metadata": {
  "kernelspec": {
   "display_name": "Python 3 (ipykernel)",
   "language": "python",
   "name": "python3"
  },
  "language_info": {
   "codemirror_mode": {
    "name": "ipython",
    "version": 3
   },
   "file_extension": ".py",
   "mimetype": "text/x-python",
   "name": "python",
   "nbconvert_exporter": "python",
   "pygments_lexer": "ipython3",
   "version": "3.9.13"
  }
 },
 "nbformat": 4,
 "nbformat_minor": 5
}
