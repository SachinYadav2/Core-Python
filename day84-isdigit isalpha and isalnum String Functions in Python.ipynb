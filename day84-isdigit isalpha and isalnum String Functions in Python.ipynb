{
 "cells": [
  {
   "cell_type": "markdown",
   "id": "c2b947ea",
   "metadata": {},
   "source": [
    "# isdigit()\n",
    "- this function return true when your string or char is numerical\n",
    "- syntax all\n",
    "- string.isdigit()"
   ]
  },
  {
   "cell_type": "code",
   "execution_count": 2,
   "id": "bba8a8cd",
   "metadata": {},
   "outputs": [
    {
     "data": {
      "text/plain": [
       "True"
      ]
     },
     "execution_count": 2,
     "metadata": {},
     "output_type": "execute_result"
    }
   ],
   "source": [
    "di = \"1212\"\n",
    "di.isdigit()\n"
   ]
  },
  {
   "cell_type": "code",
   "execution_count": 3,
   "id": "59680a63",
   "metadata": {},
   "outputs": [
    {
     "data": {
      "text/plain": [
       "False"
      ]
     },
     "execution_count": 3,
     "metadata": {},
     "output_type": "execute_result"
    }
   ],
   "source": [
    "di = \"2123a\"\n",
    "di.isdigit()"
   ]
  },
  {
   "cell_type": "markdown",
   "id": "884bf168",
   "metadata": {},
   "source": [
    "# isalpha \n",
    "- when your string contain ALPHA char"
   ]
  },
  {
   "cell_type": "code",
   "execution_count": 4,
   "id": "871ace60",
   "metadata": {},
   "outputs": [
    {
     "data": {
      "text/plain": [
       "True"
      ]
     },
     "execution_count": 4,
     "metadata": {},
     "output_type": "execute_result"
    }
   ],
   "source": [
    "alpha = \"ABCD\"\n",
    "alpha.isalpha()"
   ]
  },
  {
   "cell_type": "markdown",
   "id": "fad3c335",
   "metadata": {},
   "source": [
    "# isalnum()\n",
    "- when your string both are contain alpha and numerical"
   ]
  },
  {
   "cell_type": "code",
   "execution_count": 6,
   "id": "7463504d",
   "metadata": {},
   "outputs": [
    {
     "data": {
      "text/plain": [
       "True"
      ]
     },
     "execution_count": 6,
     "metadata": {},
     "output_type": "execute_result"
    }
   ],
   "source": [
    "both = \"AB3\"\n",
    "both.isalnum()"
   ]
  },
  {
   "cell_type": "code",
   "execution_count": null,
   "id": "bb989d31",
   "metadata": {},
   "outputs": [],
   "source": []
  }
 ],
 "metadata": {
  "kernelspec": {
   "display_name": "Python 3 (ipykernel)",
   "language": "python",
   "name": "python3"
  },
  "language_info": {
   "codemirror_mode": {
    "name": "ipython",
    "version": 3
   },
   "file_extension": ".py",
   "mimetype": "text/x-python",
   "name": "python",
   "nbconvert_exporter": "python",
   "pygments_lexer": "ipython3",
   "version": "3.9.13"
  }
 },
 "nbformat": 4,
 "nbformat_minor": 5
}
