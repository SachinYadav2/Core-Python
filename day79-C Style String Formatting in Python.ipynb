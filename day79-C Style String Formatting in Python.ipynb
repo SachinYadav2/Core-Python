{
 "cells": [
  {
   "cell_type": "markdown",
   "id": "1214473b",
   "metadata": {},
   "source": [
    "## YAh String ko Formating krne ka first method h \n",
    "- Mostly ye 6 Year Phle Use hota the but still nnow day me eska use nhi  rha h\n",
    "- %s  = string %d = int ke use hota h"
   ]
  },
  {
   "cell_type": "code",
   "execution_count": 6,
   "id": "771b489d",
   "metadata": {},
   "outputs": [
    {
     "name": "stdout",
     "output_type": "stream",
     "text": [
      "My name is Sachin YADAV and My age is 19\n"
     ]
    }
   ],
   "source": [
    "# Yah ab bhi support ho rha h \n",
    "# Hame es case Order Followed krna hota h otherwise nhi to error aega \n",
    "\n",
    "\n",
    "print(\"My name is %s and My age is %d\"%(\"Sachin YADAV\",19))"
   ]
  },
  {
   "cell_type": "markdown",
   "id": "5e61bb2d",
   "metadata": {},
   "source": [
    "### Jab hame sequence ke effect ko door krna"
   ]
  },
  {
   "cell_type": "code",
   "execution_count": 11,
   "id": "ec49bb59",
   "metadata": {},
   "outputs": [
    {
     "name": "stdout",
     "output_type": "stream",
     "text": [
      "My name is 19 and My age is Sachin YADAV\n"
     ]
    }
   ],
   "source": [
    "print(\"My name is %(ag)d and My age is %(nm)s\" %{\"nm\":\"Sachin YADAV\",\"ag\":19})"
   ]
  },
  {
   "cell_type": "code",
   "execution_count": 13,
   "id": "667b0495",
   "metadata": {},
   "outputs": [
    {
     "name": "stdout",
     "output_type": "stream",
     "text": [
      "33\n"
     ]
    }
   ],
   "source": [
    "print(\"%d\" %33)"
   ]
  },
  {
   "cell_type": "code",
   "execution_count": 16,
   "id": "0222f334",
   "metadata": {},
   "outputs": [
    {
     "name": "stdout",
     "output_type": "stream",
     "text": [
      "147 Sachin\n"
     ]
    }
   ],
   "source": [
    "# Yah sign hmara content ko pdta h \n",
    "\n",
    "print(\"%d %s\" %(147,\"Sachin\"))"
   ]
  },
  {
   "cell_type": "code",
   "execution_count": 17,
   "id": "61f8ac0f",
   "metadata": {},
   "outputs": [
    {
     "ename": "TypeError",
     "evalue": "%d format: a number is required, not str",
     "output_type": "error",
     "traceback": [
      "\u001b[0;31m---------------------------------------------------------------------------\u001b[0m",
      "\u001b[0;31mTypeError\u001b[0m                                 Traceback (most recent call last)",
      "Input \u001b[0;32mIn [17]\u001b[0m, in \u001b[0;36m<cell line: 1>\u001b[0;34m()\u001b[0m\n\u001b[0;32m----> 1\u001b[0m \u001b[38;5;28mprint\u001b[39m(\u001b[38;5;124;43m\"\u001b[39;49m\u001b[38;5;132;43;01m%d\u001b[39;49;00m\u001b[38;5;124;43m \u001b[39;49m\u001b[38;5;132;43;01m%s\u001b[39;49;00m\u001b[38;5;124;43m\"\u001b[39;49m\u001b[43m \u001b[49m\u001b[38;5;241;43m%\u001b[39;49m\u001b[43m(\u001b[49m\u001b[38;5;124;43m\"\u001b[39;49m\u001b[38;5;124;43m147\u001b[39;49m\u001b[38;5;124;43m\"\u001b[39;49m\u001b[43m,\u001b[49m\u001b[38;5;124;43m\"\u001b[39;49m\u001b[38;5;124;43mSachin\u001b[39;49m\u001b[38;5;124;43m\"\u001b[39;49m\u001b[43m)\u001b[49m)\n",
      "\u001b[0;31mTypeError\u001b[0m: %d format: a number is required, not str"
     ]
    }
   ],
   "source": [
    "print(\"%d %s\" %(\"147\",\"Sachin\"))"
   ]
  },
  {
   "cell_type": "markdown",
   "id": "8969e1b6",
   "metadata": {},
   "source": [
    "## Mainly we use this formatinf some cases "
   ]
  },
  {
   "cell_type": "code",
   "execution_count": 19,
   "id": "35847d4a",
   "metadata": {},
   "outputs": [
    {
     "name": "stdout",
     "output_type": "stream",
     "text": [
      "32.32\n"
     ]
    }
   ],
   "source": [
    "print(\"%.2f\"%32.3232)"
   ]
  },
  {
   "cell_type": "code",
   "execution_count": 20,
   "id": "4bfb4665",
   "metadata": {},
   "outputs": [
    {
     "name": "stdout",
     "output_type": "stream",
     "text": [
      "32.32\n"
     ]
    }
   ],
   "source": [
    "print(\"%0.2f\"%32.3232)"
   ]
  },
  {
   "cell_type": "code",
   "execution_count": 23,
   "id": "a6779136",
   "metadata": {},
   "outputs": [
    {
     "name": "stdout",
     "output_type": "stream",
     "text": [
      "32.32\n"
     ]
    }
   ],
   "source": [
    "print(\"%01.2f\"%32.3232)"
   ]
  },
  {
   "cell_type": "code",
   "execution_count": null,
   "id": "a9fa6db8",
   "metadata": {},
   "outputs": [],
   "source": []
  }
 ],
 "metadata": {
  "kernelspec": {
   "display_name": "Python 3 (ipykernel)",
   "language": "python",
   "name": "python3"
  },
  "language_info": {
   "codemirror_mode": {
    "name": "ipython",
    "version": 3
   },
   "file_extension": ".py",
   "mimetype": "text/x-python",
   "name": "python",
   "nbconvert_exporter": "python",
   "pygments_lexer": "ipython3",
   "version": "3.9.13"
  }
 },
 "nbformat": 4,
 "nbformat_minor": 5
}
