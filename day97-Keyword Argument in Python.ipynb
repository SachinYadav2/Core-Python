{
 "cells": [
  {
   "cell_type": "markdown",
   "id": "f7aefb79",
   "metadata": {},
   "source": [
    "# Es type me ham key value ko maintain krte h \n",
    "- Yha Position Matter nhi krti h"
   ]
  },
  {
   "cell_type": "code",
   "execution_count": 6,
   "id": "656f4a63",
   "metadata": {},
   "outputs": [
    {
     "name": "stdout",
     "output_type": "stream",
     "text": [
      "this is Arju Your age 20 \n"
     ]
    }
   ],
   "source": [
    "def show(name , age):\n",
    "    print(\"this is {} Your age {} \" .format( name , age))\n",
    "show(name=\"Arju\" , age=20)"
   ]
  },
  {
   "cell_type": "code",
   "execution_count": 43,
   "id": "11b10f10",
   "metadata": {},
   "outputs": [],
   "source": [
    "\n",
    "a = oct(15)"
   ]
  },
  {
   "cell_type": "code",
   "execution_count": 45,
   "id": "779bd50d",
   "metadata": {},
   "outputs": [
    {
     "data": {
      "text/plain": [
       "['0', 'o', '1', '7']"
      ]
     },
     "execution_count": 45,
     "metadata": {},
     "output_type": "execute_result"
    }
   ],
   "source": [
    "a = list(a)\n",
    "a"
   ]
  },
  {
   "cell_type": "code",
   "execution_count": 1,
   "id": "09b80ceb",
   "metadata": {},
   "outputs": [],
   "source": [
    "n = 15"
   ]
  },
  {
   "cell_type": "code",
   "execution_count": 51,
   "id": "573f1789",
   "metadata": {},
   "outputs": [],
   "source": [
    "oct_value = int(oct(n)[2:])\n"
   ]
  },
  {
   "cell_type": "code",
   "execution_count": 2,
   "id": "6a2e5996",
   "metadata": {},
   "outputs": [],
   "source": [
    "for i in range(1,n+1):\n",
    "    pad = n.bit_length()"
   ]
  },
  {
   "cell_type": "code",
   "execution_count": 9,
   "id": "2a4aee1f",
   "metadata": {},
   "outputs": [
    {
     "name": "stdout",
     "output_type": "stream",
     "text": [
      "   F\n"
     ]
    }
   ],
   "source": [
    "hexx = str(hex(15)[2:]).rjust(pad).upper()\n",
    "print(f\"{hexx:1s}\")"
   ]
  },
  {
   "cell_type": "code",
   "execution_count": null,
   "id": "848ece64",
   "metadata": {},
   "outputs": [],
   "source": []
  }
 ],
 "metadata": {
  "kernelspec": {
   "display_name": "Python 3 (ipykernel)",
   "language": "python",
   "name": "python3"
  },
  "language_info": {
   "codemirror_mode": {
    "name": "ipython",
    "version": 3
   },
   "file_extension": ".py",
   "mimetype": "text/x-python",
   "name": "python",
   "nbconvert_exporter": "python",
   "pygments_lexer": "ipython3",
   "version": "3.9.13"
  }
 },
 "nbformat": 4,
 "nbformat_minor": 5
}
