{
 "cells": [
  {
   "cell_type": "markdown",
   "metadata": {},
   "source": [
    "## for loop use\n",
    "- eska use krke ham kise sequence ko print krwa skte h and esme by default one-one ioncrement hota rhta h\n",
    "https://problemsolvingwithpython.com/09-Loops/images/flow_chart_of_program_that_contains_a_for_loop.png"
   ]
  },
  {
   "cell_type": "markdown",
   "metadata": {},
   "source": [
    "### for loop no range"
   ]
  },
  {
   "cell_type": "code",
   "execution_count": 42,
   "metadata": {},
   "outputs": [
    {
     "name": "stdout",
     "output_type": "stream",
     "text": [
      "W\n",
      "e\n"
     ]
    }
   ],
   "source": [
    "st = \"WelocmeTogoogel\"  # MAtlab ke string ke value hamri index ke help se direct acces ke ja skti h\n",
    "\n",
    "\n",
    "print(st[0])\n",
    "print(st[1])"
   ]
  },
  {
   "cell_type": "code",
   "execution_count": 32,
   "metadata": {},
   "outputs": [
    {
     "name": "stdout",
     "output_type": "stream",
     "text": [
      "W\n",
      "e\n",
      "l\n",
      "c\n",
      "o\n",
      "m\n",
      "e\n",
      "T\n",
      "o\n",
      "C\n",
      "o\n",
      "d\n",
      "i\n",
      "n\n",
      "g\n",
      "C\n",
      "o\n",
      "n\n",
      "t\n",
      "e\n",
      "x\n",
      "r\n",
      "t\n",
      "Rest of code\n"
     ]
    }
   ],
   "source": [
    "# Ham yah list or tuple etc bhi pass kar skte h\n",
    "st = \"WelcomeToCodingContexrt\"\n",
    "\n",
    "for take in st: # matlab ke st me se W ko nikalo or take me dal do then inner me hamne use print krba diya or me take me value aa rhi h uska kese bhi use kar skte h\n",
    "    \n",
    "    print(take) # jab tak print krega jab ke st ka last element na aa jae\n",
    "print(\"Rest of code\")"
   ]
  },
  {
   "cell_type": "code",
   "execution_count": 33,
   "metadata": {},
   "outputs": [
    {
     "name": "stdout",
     "output_type": "stream",
     "text": [
      "WelcomeToCodingContexrt 1\n",
      "WelcomeToCodingContexrt 2\n",
      "WelcomeToCodingContexrt 3\n",
      "WelcomeToCodingContexrt 4\n",
      "WelcomeToCodingContexrt 5\n",
      "WelcomeToCodingContexrt 6\n",
      "WelcomeToCodingContexrt 7\n",
      "WelcomeToCodingContexrt 8\n",
      "WelcomeToCodingContexrt 9\n",
      "WelcomeToCodingContexrt 10\n",
      "WelcomeToCodingContexrt 11\n",
      "WelcomeToCodingContexrt 12\n",
      "WelcomeToCodingContexrt 13\n",
      "WelcomeToCodingContexrt 14\n",
      "WelcomeToCodingContexrt 15\n",
      "WelcomeToCodingContexrt 16\n",
      "WelcomeToCodingContexrt 17\n",
      "WelcomeToCodingContexrt 18\n",
      "WelcomeToCodingContexrt 19\n",
      "WelcomeToCodingContexrt 20\n",
      "WelcomeToCodingContexrt 21\n",
      "WelcomeToCodingContexrt 22\n",
      "WelcomeToCodingContexrt 23\n",
      "Rest of code\n"
     ]
    }
   ],
   "source": [
    "i = 0\n",
    "\n",
    "st = \"WelcomeToCodingContexrt\" # 23 word the \n",
    "for take in st:\n",
    "    sum1 = i+1\n",
    "    i=i+1\n",
    "    print(st,sum1) #\n",
    "\n",
    "print(\"Rest of code\")"
   ]
  },
  {
   "cell_type": "markdown",
   "metadata": {},
   "source": [
    "### for loop with range"
   ]
  },
  {
   "cell_type": "code",
   "execution_count": 34,
   "metadata": {},
   "outputs": [
    {
     "name": "stdout",
     "output_type": "stream",
     "text": [
      "0\n",
      "1\n",
      "2\n",
      "3\n",
      "4\n"
     ]
    }
   ],
   "source": [
    "a = range(5) # matlab ke 0,1,2,3,4 ye hamre ab a me a gae h \n",
    "for i in a: # loop ek ek krke ke all ko exices karega\n",
    "    print(i)"
   ]
  },
  {
   "cell_type": "code",
   "execution_count": 35,
   "metadata": {},
   "outputs": [
    {
     "name": "stdout",
     "output_type": "stream",
     "text": [
      "0\n",
      "1\n",
      "2\n",
      "3\n",
      "4\n"
     ]
    }
   ],
   "source": [
    "for i in range(5):\n",
    "    print(i)"
   ]
  },
  {
   "cell_type": "code",
   "execution_count": 36,
   "metadata": {},
   "outputs": [
    {
     "name": "stdout",
     "output_type": "stream",
     "text": [
      "1\n",
      "2\n",
      "3\n",
      "4\n"
     ]
    }
   ],
   "source": [
    "a = range(1,5) # range (starting-point , ending_point , stepOrincremental)\n",
    "for i in a: \n",
    "    print(i)"
   ]
  },
  {
   "cell_type": "code",
   "execution_count": 37,
   "metadata": {},
   "outputs": [
    {
     "name": "stdout",
     "output_type": "stream",
     "text": [
      "1\n",
      "3\n",
      "5\n",
      "7\n",
      "9\n"
     ]
    }
   ],
   "source": [
    "a = range(1,10,2) # range (starting-point , ending_point , stepOrincremental)\n",
    "for i in a: \n",
    "    print(i)"
   ]
  },
  {
   "cell_type": "code",
   "execution_count": 38,
   "metadata": {},
   "outputs": [
    {
     "name": "stdout",
     "output_type": "stream",
     "text": [
      "-1\n",
      "-3\n",
      "-5\n",
      "-7\n",
      "-9\n"
     ]
    }
   ],
   "source": [
    "a = range(-1,-10,-2) # Negative me bhi same work krega\n",
    "for i in a: \n",
    "    print(i)"
   ]
  },
  {
   "cell_type": "markdown",
   "metadata": {},
   "source": [
    "## Reverse"
   ]
  },
  {
   "cell_type": "code",
   "execution_count": 39,
   "metadata": {},
   "outputs": [
    {
     "name": "stdout",
     "output_type": "stream",
     "text": [
      "10\n",
      "9\n",
      "8\n",
      "7\n",
      "6\n",
      "5\n",
      "4\n",
      "3\n",
      "2\n",
      "1\n"
     ]
    }
   ],
   "source": [
    "\n",
    "\n",
    "a = range(10,0,-1) # Negative me bhi same work krega\n",
    "for i in a: \n",
    "    print(i)"
   ]
  },
  {
   "cell_type": "markdown",
   "metadata": {},
   "source": [
    "### Ham eske throw index ko acces kar pa  rhe h or sath me uske value ko ese wahaj se ham range ka use krte h"
   ]
  },
  {
   "cell_type": "code",
   "execution_count": 40,
   "metadata": {},
   "outputs": [
    {
     "name": "stdout",
     "output_type": "stream",
     "text": [
      "0 = W\n",
      "1 = e\n",
      "2 = l\n",
      "3 = o\n",
      "4 = c\n",
      "5 = m\n",
      "6 = e\n",
      "7 = T\n",
      "8 = o\n",
      "9 = g\n",
      "10 = o\n",
      "11 = o\n",
      "12 = g\n",
      "13 = e\n",
      "14 = l\n"
     ]
    }
   ],
   "source": [
    "st = \"WelocmeTogoogel\"\n",
    "\n",
    "\n",
    "n = len(st)   # Yah hame string ke length deag only jese ex 14\n",
    "\n",
    "for i in range(n):  # i me hamri index jaenge \n",
    "    \n",
    "    print(i ,\"=\",st[i]) # Ab jo index hmara i me gya ab ham ye pta pad gya h ke i=0 par konse value h memory me "
   ]
  },
  {
   "cell_type": "code",
   "execution_count": 41,
   "metadata": {},
   "outputs": [
    {
     "name": "stdout",
     "output_type": "stream",
     "text": [
      "0\n",
      "W\n",
      "-----------------\n",
      "1\n",
      "e\n",
      "-----------------\n",
      "2\n",
      "l\n",
      "-----------------\n",
      "3\n",
      "o\n",
      "-----------------\n",
      "4\n",
      "c\n",
      "-----------------\n",
      "5\n",
      "m\n",
      "-----------------\n",
      "6\n",
      "e\n",
      "-----------------\n",
      "7\n",
      "T\n",
      "-----------------\n",
      "8\n",
      "o\n",
      "-----------------\n",
      "9\n",
      "g\n",
      "-----------------\n",
      "10\n",
      "o\n",
      "-----------------\n",
      "11\n",
      "o\n",
      "-----------------\n",
      "12\n",
      "g\n",
      "-----------------\n",
      "13\n",
      "e\n",
      "-----------------\n",
      "14\n",
      "l\n",
      "-----------------\n"
     ]
    }
   ],
   "source": [
    "st = \"WelocmeTogoogel\"  # MAtlab ke string ke value hamri index ke help se direct acces ke ja skti h\n",
    "\n",
    "\n",
    "n = len(st)  \n",
    "\n",
    "for i in range(n): \n",
    "    \n",
    "    print(i)\n",
    "    \n",
    "    print(st[i])\n",
    "    print(\"-----------------\")"
   ]
  },
  {
   "cell_type": "markdown",
   "metadata": {},
   "source": [
    "### for with else\n",
    "- else part alway run this is indepandent\n"
   ]
  },
  {
   "cell_type": "code",
   "execution_count": 46,
   "metadata": {},
   "outputs": [
    {
     "name": "stdout",
     "output_type": "stream",
     "text": [
      "0\n",
      "1\n",
      "2\n",
      "3\n",
      "4\n",
      "5\n",
      "6\n",
      "7\n",
      "8\n",
      "9\n",
      "Alway Run \n"
     ]
    }
   ],
   "source": [
    "for i in range(10):\n",
    "    print(i)\n",
    "else:  # Jab tak else me value h tab tak hamara else part nhi because python line by line execute krta h \n",
    "    print(\"Alway Run \")"
   ]
  },
  {
   "cell_type": "code",
   "execution_count": 45,
   "metadata": {},
   "outputs": [
    {
     "name": "stdout",
     "output_type": "stream",
     "text": [
      "0\n",
      "1\n",
      "2\n",
      "3\n",
      "4\n",
      "5\n",
      "6\n",
      "7\n",
      "8\n",
      "9\n",
      "Alway Run \n"
     ]
    }
   ],
   "source": []
  },
  {
   "cell_type": "markdown",
   "metadata": {},
   "source": [
    "## Nestead For loop\n",
    "- jab outer loop chalta h only tabhi inner loop chalta h\n",
    "https://i1.faceprep.in/Companies-1/nested-loops-in-python-flowchart.png\n"
   ]
  },
  {
   "cell_type": "code",
   "execution_count": 55,
   "metadata": {},
   "outputs": [
    {
     "name": "stdout",
     "output_type": "stream",
     "text": [
      "Statement outer 0\n",
      "Inner Loop 0\n",
      "Outer Loop2 sata\n",
      "Statement outer 1\n",
      "Inner Loop 0\n",
      "Outer Loop2 sata\n",
      "Statement outer 2\n",
      "Inner Loop 0\n",
      "Outer Loop2 sata\n",
      "rest of code\n"
     ]
    }
   ],
   "source": [
    "for i in range(3): # Outer \n",
    "    print(\"Statement outer\",i)\n",
    "    \n",
    "    for j in range(1): # Inner\n",
    "        print(\"Inner Loop\",j)\n",
    "        \n",
    "    print(\"Outer Loop2 sata\")\n",
    "    \n",
    "print(\"rest of code\")"
   ]
  },
  {
   "cell_type": "code",
   "execution_count": null,
   "metadata": {},
   "outputs": [],
   "source": []
  }
 ],
 "metadata": {
  "kernelspec": {
   "display_name": "Python 3",
   "language": "python",
   "name": "python3"
  },
  "language_info": {
   "codemirror_mode": {
    "name": "ipython",
    "version": 3
   },
   "file_extension": ".py",
   "mimetype": "text/x-python",
   "name": "python",
   "nbconvert_exporter": "python",
   "pygments_lexer": "ipython3",
   "version": "3.8.5"
  }
 },
 "nbformat": 4,
 "nbformat_minor": 4
}
