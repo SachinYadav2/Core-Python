{
 "cells": [
  {
   "cell_type": "code",
   "execution_count": 7,
   "id": "f1a9d1e9",
   "metadata": {},
   "outputs": [
    {
     "name": "stdout",
     "output_type": "stream",
     "text": [
      "0 11\n",
      "1 12\n",
      "2 13\n",
      "3 14\n",
      "4 0 21\n",
      "4 1 22\n",
      "4 2 23\n"
     ]
    }
   ],
   "source": [
    "tu = (11, 12,13,14,(21,22,23))\n",
    "\n",
    "n = len(tu)\n",
    "\n",
    "for i in range(n):\n",
    "    if type(tu[i]) is tuple:\n",
    "        if len(tu[i]) > 1:\n",
    "            m = len(tu[i])\n",
    "            for  j in range(m):\n",
    "                print(i,j,tu[i][j])\n",
    "    else:\n",
    "        print(i, tu[i])"
   ]
  },
  {
   "cell_type": "code",
   "execution_count": 9,
   "id": "7ecc92e6",
   "metadata": {},
   "outputs": [
    {
     "ename": "TypeError",
     "evalue": "'tuple' object is not callable",
     "output_type": "error",
     "traceback": [
      "\u001b[0;31m---------------------------------------------------------------------------\u001b[0m",
      "\u001b[0;31mTypeError\u001b[0m                                 Traceback (most recent call last)",
      "Input \u001b[0;32mIn [9]\u001b[0m, in \u001b[0;36m<cell line: 5>\u001b[0;34m()\u001b[0m\n\u001b[1;32m      3\u001b[0m n \u001b[38;5;241m=\u001b[39m \u001b[38;5;28mlen\u001b[39m(tu)\n\u001b[1;32m      5\u001b[0m \u001b[38;5;28;01mfor\u001b[39;00m i \u001b[38;5;129;01min\u001b[39;00m \u001b[38;5;28mrange\u001b[39m(n):\n\u001b[0;32m----> 6\u001b[0m     \u001b[38;5;28;01mif\u001b[39;00m \u001b[38;5;28mtype\u001b[39m(\u001b[43mtu\u001b[49m\u001b[43m(\u001b[49m\u001b[43mi\u001b[49m\u001b[43m)\u001b[49m) \u001b[38;5;129;01mis\u001b[39;00m \u001b[38;5;28mtuple\u001b[39m:\n\u001b[1;32m      7\u001b[0m         \u001b[38;5;28;01mif\u001b[39;00m \u001b[38;5;28mlen\u001b[39m(tu[i]) \u001b[38;5;241m>\u001b[39m \u001b[38;5;241m1\u001b[39m:\n\u001b[1;32m      8\u001b[0m             m \u001b[38;5;241m=\u001b[39m \u001b[38;5;28mlen\u001b[39m(tu[i])\n",
      "\u001b[0;31mTypeError\u001b[0m: 'tuple' object is not callable"
     ]
    }
   ],
   "source": [
    "tu = (11, 12,13,14,(21,22,23))\n",
    "\n",
    "n = len(tu)\n",
    "\n",
    "for i in range(n):\n",
    "    if type(tu(i)) is tuple:\n",
    "        if len(tu[i]) > 1:\n",
    "            m = len(tu[i])\n",
    "            for  j in range(m):\n",
    "                print(i,j,tu[i][j])\n",
    "    else:\n",
    "        print(i, tu[i])"
   ]
  },
  {
   "cell_type": "code",
   "execution_count": 8,
   "id": "b5c2d0e6",
   "metadata": {},
   "outputs": [
    {
     "name": "stdout",
     "output_type": "stream",
     "text": [
      "11\n",
      "12\n",
      "13\n",
      "14\n",
      "21\n",
      "22\n",
      "23\n"
     ]
    }
   ],
   "source": [
    "tu = ((11, 12,13,14),\n",
    "      (21,22,23))\n",
    "\n",
    "\n",
    "for i in tu:\n",
    "    for j in i:\n",
    "        print(j)\n"
   ]
  },
  {
   "cell_type": "code",
   "execution_count": 11,
   "id": "1f33abb6",
   "metadata": {},
   "outputs": [
    {
     "name": "stdout",
     "output_type": "stream",
     "text": [
      "(11, 12, 13, 14)\n",
      "\n",
      "\n",
      "\n",
      "\n",
      "(21, 22, 23, 454)\n",
      "\n",
      "\n",
      "\n",
      "\n"
     ]
    }
   ],
   "source": [
    "tu = ((11, 12,13,14),\n",
    "      (21,22,23,454))\n",
    "\n",
    "\n",
    "for i in tu:\n",
    "    print(i)\n",
    "    for j in i:\n",
    "        print()\n"
   ]
  },
  {
   "cell_type": "code",
   "execution_count": null,
   "id": "7691e9e8",
   "metadata": {},
   "outputs": [],
   "source": []
  }
 ],
 "metadata": {
  "kernelspec": {
   "display_name": "Python 3 (ipykernel)",
   "language": "python",
   "name": "python3"
  },
  "language_info": {
   "codemirror_mode": {
    "name": "ipython",
    "version": 3
   },
   "file_extension": ".py",
   "mimetype": "text/x-python",
   "name": "python",
   "nbconvert_exporter": "python",
   "pygments_lexer": "ipython3",
   "version": "3.9.13"
  }
 },
 "nbformat": 4,
 "nbformat_minor": 5
}
