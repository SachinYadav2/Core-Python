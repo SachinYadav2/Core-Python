{
 "cells": [
  {
   "cell_type": "markdown",
   "metadata": {},
   "source": []
  },
  {
   "cell_type": "code",
   "execution_count": 1,
   "metadata": {},
   "outputs": [
    {
     "name": "stdout",
     "output_type": "stream",
     "text": [
      "Enter How Many element insert in array:4\n",
      "Enter The Number:1\n",
      "Enter The Number:2\n",
      "Enter The Number:3\n",
      "Enter The Number:11\n",
      "array('i', [1, 2, 3, 11])\n",
      "1\n",
      "2\n",
      "3\n",
      "11\n"
     ]
    }
   ],
   "source": [
    "from array import*\n",
    "stu_roll = array('i',[]) # 1--> empty array create krna h\n",
    "n = int(input(\"Enter How Many element insert in array:\"))\n",
    "\n",
    "## Append Code\n",
    "for i in range(n): # Range ne yha block create kar [][]...\n",
    "    stu_roll.append(int(input(\"Enter The Number:\")))\n",
    "    \n",
    "print(stu_roll)\n",
    "\n",
    "for i in range(len(stu_roll)):\n",
    "    print(stu_roll[i])\n",
    "    \n",
    "    \n"
   ]
  },
  {
   "cell_type": "code",
   "execution_count": null,
   "metadata": {},
   "outputs": [],
   "source": []
  }
 ],
 "metadata": {
  "kernelspec": {
   "display_name": "Python 3",
   "language": "python",
   "name": "python3"
  },
  "language_info": {
   "codemirror_mode": {
    "name": "ipython",
    "version": 3
   },
   "file_extension": ".py",
   "mimetype": "text/x-python",
   "name": "python",
   "nbconvert_exporter": "python",
   "pygments_lexer": "ipython3",
   "version": "3.8.5"
  }
 },
 "nbformat": 4,
 "nbformat_minor": 4
}
