{
 "cells": [
  {
   "cell_type": "markdown",
   "id": "f9ded12b",
   "metadata": {},
   "source": [
    "# Nested function \n",
    "- one fun insite the another fun is called the nested fun"
   ]
  },
  {
   "cell_type": "markdown",
   "id": "5f2d0435",
   "metadata": {},
   "source": [
    "# Note- Always Remaiber ke function only execute tabhi hoga jab hmara fun call hoga "
   ]
  },
  {
   "cell_type": "code",
   "execution_count": 1,
   "id": "41c4c470",
   "metadata": {},
   "outputs": [
    {
     "name": "stdout",
     "output_type": "stream",
     "text": [
      "This is Your Code in Disp Fun\n",
      "Your Code Execute Show fun \n"
     ]
    }
   ],
   "source": [
    "def disp():\n",
    "    def show():\n",
    "        print(\"Your Code Execute Show fun \")\n",
    "        \n",
    "    print(\"This is Your Code in Disp Fun\")\n",
    "    \n",
    "    # Call fun\n",
    "    show()\n",
    "    \n",
    "disp()    "
   ]
  },
  {
   "cell_type": "code",
   "execution_count": 16,
   "id": "19595712",
   "metadata": {},
   "outputs": [
    {
     "name": "stdout",
     "output_type": "stream",
     "text": [
      "Run\n",
      "This is Your Code in Disp Fun\n"
     ]
    },
    {
     "data": {
      "text/plain": [
       "'Your Code Execute Show fun '"
      ]
     },
     "execution_count": 16,
     "metadata": {},
     "output_type": "execute_result"
    }
   ],
   "source": [
    "def disp():\n",
    "    def show():\n",
    "\n",
    "        return \"Your Code Execute Show fun \"\n",
    "\n",
    "    print(\"This is Your Code in Disp Fun\")\n",
    "    \n",
    "    return show()\n",
    "print(\"Run\")   \n",
    "disp()\n"
   ]
  },
  {
   "cell_type": "code",
   "execution_count": null,
   "id": "dfb99170",
   "metadata": {},
   "outputs": [],
   "source": []
  }
 ],
 "metadata": {
  "kernelspec": {
   "display_name": "Python 3 (ipykernel)",
   "language": "python",
   "name": "python3"
  },
  "language_info": {
   "codemirror_mode": {
    "name": "ipython",
    "version": 3
   },
   "file_extension": ".py",
   "mimetype": "text/x-python",
   "name": "python",
   "nbconvert_exporter": "python",
   "pygments_lexer": "ipython3",
   "version": "3.9.13"
  }
 },
 "nbformat": 4,
 "nbformat_minor": 5
}
