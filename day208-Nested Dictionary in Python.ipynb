{
 "cells": [
  {
   "cell_type": "markdown",
   "id": "cd20c4f3",
   "metadata": {},
   "source": [
    "# Hm eski help se dict ke inside ek or dict bna skte h basically ookk"
   ]
  },
  {
   "cell_type": "markdown",
   "id": "eeec3399",
   "metadata": {},
   "source": [
    "# Empty"
   ]
  },
  {
   "cell_type": "code",
   "execution_count": 3,
   "id": "242ae2c6",
   "metadata": {},
   "outputs": [
    {
     "data": {
      "text/plain": [
       "{1: {}, 2: {}, 3: {}}"
      ]
     },
     "execution_count": 3,
     "metadata": {},
     "output_type": "execute_result"
    }
   ],
   "source": [
    "nested = {\n",
    "    1:{},\n",
    "    2:{},\n",
    "    3:{}\n",
    "}\n",
    "\n",
    "nested"
   ]
  },
  {
   "cell_type": "markdown",
   "id": "42c3e6be",
   "metadata": {},
   "source": [
    "# value ke sath nested dict bnana "
   ]
  },
  {
   "cell_type": "code",
   "execution_count": 4,
   "id": "ea9e3e4c",
   "metadata": {},
   "outputs": [
    {
     "data": {
      "text/plain": [
       "{1: {1: 'Sachin', 2: 'Rahul'}, 2: {3: 'Rao'}, 'ALL': 'Any thing'}"
      ]
     },
     "execution_count": 4,
     "metadata": {},
     "output_type": "execute_result"
    }
   ],
   "source": [
    "nested = {\n",
    "    1:{1:\"Sachin\",2:\"Rahul\"},\n",
    "    2:{3:\"Rao\"},\n",
    "    \"ALL\":\"Any thing\"\n",
    "}\n",
    "\n",
    "nested"
   ]
  },
  {
   "cell_type": "markdown",
   "id": "95830b82",
   "metadata": {},
   "source": [
    "# Accessed "
   ]
  },
  {
   "cell_type": "code",
   "execution_count": 5,
   "id": "b3d8374c",
   "metadata": {},
   "outputs": [
    {
     "data": {
      "text/plain": [
       "'Any thing'"
      ]
     },
     "execution_count": 5,
     "metadata": {},
     "output_type": "execute_result"
    }
   ],
   "source": [
    "nested[\"ALL\"]"
   ]
  },
  {
   "cell_type": "code",
   "execution_count": 6,
   "id": "a9dc1801",
   "metadata": {},
   "outputs": [
    {
     "data": {
      "text/plain": [
       "'Sachin'"
      ]
     },
     "execution_count": 6,
     "metadata": {},
     "output_type": "execute_result"
    }
   ],
   "source": [
    "nested[1][1]"
   ]
  },
  {
   "cell_type": "code",
   "execution_count": 7,
   "id": "08930a43",
   "metadata": {},
   "outputs": [
    {
     "data": {
      "text/plain": [
       "'Rahul'"
      ]
     },
     "execution_count": 7,
     "metadata": {},
     "output_type": "execute_result"
    }
   ],
   "source": [
    "nested[1][2]"
   ]
  },
  {
   "cell_type": "markdown",
   "id": "12c3c85e",
   "metadata": {},
   "source": [
    "# Hm modify bhi kr skte h basicalyy "
   ]
  },
  {
   "cell_type": "code",
   "execution_count": 8,
   "id": "ad8ad07c",
   "metadata": {},
   "outputs": [
    {
     "data": {
      "text/plain": [
       "{1: {1: 'Sachin', 2: 'Rahul'}, 2: {3: 'Rao'}, 'ALL': 'Any thing'}"
      ]
     },
     "execution_count": 8,
     "metadata": {},
     "output_type": "execute_result"
    }
   ],
   "source": [
    "nested = {\n",
    "    1:{1:\"Sachin\",2:\"Rahul\"},\n",
    "    2:{3:\"Rao\"},\n",
    "    \"ALL\":\"Any thing\"\n",
    "}\n",
    "\n",
    "nested"
   ]
  },
  {
   "cell_type": "code",
   "execution_count": 11,
   "id": "e1a9d03a",
   "metadata": {},
   "outputs": [],
   "source": [
    "nested[1][2] = \"MOhan\"\n"
   ]
  },
  {
   "cell_type": "code",
   "execution_count": 12,
   "id": "e1a71a08",
   "metadata": {},
   "outputs": [
    {
     "data": {
      "text/plain": [
       "{1: {1: 'Sachin', 2: 'MOhan'}, 2: {3: 'Rao'}, 'ALL': 'Any thing'}"
      ]
     },
     "execution_count": 12,
     "metadata": {},
     "output_type": "execute_result"
    }
   ],
   "source": [
    "nested"
   ]
  },
  {
   "cell_type": "markdown",
   "id": "c99c8477",
   "metadata": {},
   "source": [
    "# Insert Operation Basically?"
   ]
  },
  {
   "cell_type": "code",
   "execution_count": 13,
   "id": "a6847db2",
   "metadata": {},
   "outputs": [],
   "source": [
    "nested[1][\"teacher\"] = \"DL\""
   ]
  },
  {
   "cell_type": "code",
   "execution_count": 14,
   "id": "010ec6b2",
   "metadata": {},
   "outputs": [
    {
     "data": {
      "text/plain": [
       "{1: {1: 'Sachin', 2: 'MOhan', 'teacher': 'DL'},\n",
       " 2: {3: 'Rao'},\n",
       " 'ALL': 'Any thing'}"
      ]
     },
     "execution_count": 14,
     "metadata": {},
     "output_type": "execute_result"
    }
   ],
   "source": [
    "nested"
   ]
  },
  {
   "cell_type": "markdown",
   "id": "433e5caf",
   "metadata": {},
   "source": [
    "# New nested list insert"
   ]
  },
  {
   "cell_type": "code",
   "execution_count": 15,
   "id": "7d7b190a",
   "metadata": {},
   "outputs": [],
   "source": [
    "nested[1][2] = {\"Course\":\"Java\" , \"Fav\":\"YEs\"}"
   ]
  },
  {
   "cell_type": "code",
   "execution_count": 16,
   "id": "7052c629",
   "metadata": {},
   "outputs": [
    {
     "data": {
      "text/plain": [
       "{1: {1: 'Sachin', 2: {'Course': 'Java', 'Fav': 'YEs'}, 'teacher': 'DL'},\n",
       " 2: {3: 'Rao'},\n",
       " 'ALL': 'Any thing'}"
      ]
     },
     "execution_count": 16,
     "metadata": {},
     "output_type": "execute_result"
    }
   ],
   "source": [
    "nested"
   ]
  },
  {
   "cell_type": "code",
   "execution_count": null,
   "id": "28cc26bb",
   "metadata": {},
   "outputs": [],
   "source": []
  }
 ],
 "metadata": {
  "kernelspec": {
   "display_name": "Python 3 (ipykernel)",
   "language": "python",
   "name": "python3"
  },
  "language_info": {
   "codemirror_mode": {
    "name": "ipython",
    "version": 3
   },
   "file_extension": ".py",
   "mimetype": "text/x-python",
   "name": "python",
   "nbconvert_exporter": "python",
   "pygments_lexer": "ipython3",
   "version": "3.10.8"
  }
 },
 "nbformat": 4,
 "nbformat_minor": 5
}
