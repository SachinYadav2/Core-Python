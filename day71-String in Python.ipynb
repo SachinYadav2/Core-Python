{
 "cells": [
  {
   "cell_type": "markdown",
   "id": "f58e6656",
   "metadata": {},
   "source": [
    "## Mainly human communicate in world show we use in string\n",
    "- str represent in String"
   ]
  },
  {
   "cell_type": "code",
   "execution_count": 21,
   "id": "37802c1c",
   "metadata": {},
   "outputs": [],
   "source": [
    "str1 = \"Hello\""
   ]
  },
  {
   "cell_type": "code",
   "execution_count": 22,
   "id": "87f6a76e",
   "metadata": {},
   "outputs": [
    {
     "data": {
      "text/plain": [
       "'Hello'"
      ]
     },
     "execution_count": 22,
     "metadata": {},
     "output_type": "execute_result"
    }
   ],
   "source": [
    "str1"
   ]
  },
  {
   "cell_type": "code",
   "execution_count": 23,
   "id": "43140464",
   "metadata": {},
   "outputs": [
    {
     "name": "stdout",
     "output_type": "stream",
     "text": [
      "Hello\n"
     ]
    }
   ],
   "source": [
    "print(str1)"
   ]
  },
  {
   "cell_type": "code",
   "execution_count": 24,
   "id": "0b57795a",
   "metadata": {},
   "outputs": [],
   "source": [
    "str2 = 'Heloo sachin'"
   ]
  },
  {
   "cell_type": "code",
   "execution_count": 25,
   "id": "694aec67",
   "metadata": {},
   "outputs": [
    {
     "data": {
      "text/plain": [
       "'Heloo sachin'"
      ]
     },
     "execution_count": 25,
     "metadata": {},
     "output_type": "execute_result"
    }
   ],
   "source": [
    "str2"
   ]
  },
  {
   "cell_type": "code",
   "execution_count": 26,
   "id": "f348f2e4",
   "metadata": {},
   "outputs": [],
   "source": [
    "# maily use jab krte h jab hame Multiple line me  string likhni ho\n",
    "str3 = '''Hello \n",
    "Sachin\n",
    "Yadav'''"
   ]
  },
  {
   "cell_type": "code",
   "execution_count": 27,
   "id": "8cb340e6",
   "metadata": {},
   "outputs": [
    {
     "name": "stdout",
     "output_type": "stream",
     "text": [
      "Hello \n",
      "Sachin\n",
      "Yadav\n"
     ]
    }
   ],
   "source": [
    "print(str3)\n"
   ]
  },
  {
   "cell_type": "code",
   "execution_count": 31,
   "id": "46569543",
   "metadata": {},
   "outputs": [],
   "source": [
    "str4 = \"\"\"HEloo\n",
    "sachin \n",
    "yadav \"\"\""
   ]
  },
  {
   "cell_type": "code",
   "execution_count": 32,
   "id": "d82f41d3",
   "metadata": {},
   "outputs": [
    {
     "name": "stdout",
     "output_type": "stream",
     "text": [
      "HEloo\n",
      "sachin \n",
      "yadav \n"
     ]
    }
   ],
   "source": [
    "print(str4)"
   ]
  },
  {
   "cell_type": "markdown",
   "id": "709f0393",
   "metadata": {},
   "source": [
    "## Hame Single Quotes me Double Quotes use nhi kar skte h"
   ]
  },
  {
   "cell_type": "code",
   "execution_count": 33,
   "id": "d1fc3869",
   "metadata": {},
   "outputs": [],
   "source": [
    "str5 = 'Hello \"Welcome to My git hub\" Code'"
   ]
  },
  {
   "cell_type": "code",
   "execution_count": 34,
   "id": "b4c9dd6d",
   "metadata": {},
   "outputs": [
    {
     "name": "stdout",
     "output_type": "stream",
     "text": [
      "Hello \"Welcome to My git hub\" Code\n"
     ]
    }
   ],
   "source": [
    "print(str5)"
   ]
  },
  {
   "cell_type": "code",
   "execution_count": 35,
   "id": "7caad1f8",
   "metadata": {
    "collapsed": true
   },
   "outputs": [
    {
     "ename": "SyntaxError",
     "evalue": "invalid syntax (3554241257.py, line 1)",
     "output_type": "error",
     "traceback": [
      "\u001b[0;36m  Input \u001b[0;32mIn [35]\u001b[0;36m\u001b[0m\n\u001b[0;31m    str6 = \"Hello \"Welcome to My git hub\" Code\"\u001b[0m\n\u001b[0m                   ^\u001b[0m\n\u001b[0;31mSyntaxError\u001b[0m\u001b[0;31m:\u001b[0m invalid syntax\n"
     ]
    }
   ],
   "source": [
    "str6 = \"Hello \"Welcome to My git hub\" Code\""
   ]
  },
  {
   "cell_type": "code",
   "execution_count": 36,
   "id": "c95abf76",
   "metadata": {
    "collapsed": true
   },
   "outputs": [
    {
     "ename": "SyntaxError",
     "evalue": "invalid syntax (2153296685.py, line 1)",
     "output_type": "error",
     "traceback": [
      "\u001b[0;36m  Input \u001b[0;32mIn [36]\u001b[0;36m\u001b[0m\n\u001b[0;31m    str6 = 'Hello 'Welcome to My git hub' Code'\u001b[0m\n\u001b[0m                   ^\u001b[0m\n\u001b[0;31mSyntaxError\u001b[0m\u001b[0;31m:\u001b[0m invalid syntax\n"
     ]
    }
   ],
   "source": [
    "str6 = 'Hello 'Welcome to My git hub' Code'"
   ]
  },
  {
   "cell_type": "markdown",
   "id": "7b923497",
   "metadata": {},
   "source": [
    "## escape char use in python"
   ]
  },
  {
   "cell_type": "code",
   "execution_count": 39,
   "id": "ac1e83e8",
   "metadata": {},
   "outputs": [],
   "source": [
    "str7 = \"Welcome To \\nSACHIN YADAV\""
   ]
  },
  {
   "cell_type": "code",
   "execution_count": 40,
   "id": "b0da485a",
   "metadata": {},
   "outputs": [
    {
     "name": "stdout",
     "output_type": "stream",
     "text": [
      "Welcome To \n",
      "SACHIN YADAV\n"
     ]
    }
   ],
   "source": [
    "print(str7)"
   ]
  },
  {
   "cell_type": "markdown",
   "id": "5ccc494d",
   "metadata": {},
   "source": [
    "# Agar hame Escape char ko ignore krna h to "
   ]
  },
  {
   "cell_type": "code",
   "execution_count": 42,
   "id": "e1d919ab",
   "metadata": {},
   "outputs": [],
   "source": [
    "str8 = r\"Welcome To \\nSACHIN YADAV\""
   ]
  },
  {
   "cell_type": "code",
   "execution_count": 43,
   "id": "e5d671fc",
   "metadata": {},
   "outputs": [
    {
     "name": "stdout",
     "output_type": "stream",
     "text": [
      "Welcome To \\nSACHIN YADAV\n"
     ]
    }
   ],
   "source": [
    "print(str8)"
   ]
  },
  {
   "cell_type": "markdown",
   "id": "55cceae3",
   "metadata": {},
   "source": [
    "## Memory allocation in string\n",
    "- Hamari Value ke alloaction hota h na ke identifier ke liye"
   ]
  },
  {
   "cell_type": "code",
   "execution_count": 51,
   "id": "c185a5f9",
   "metadata": {},
   "outputs": [],
   "source": [
    "str1 = \"Hello\"\n",
    "str2 = \"Hello\""
   ]
  },
  {
   "cell_type": "code",
   "execution_count": 52,
   "id": "f85ea757",
   "metadata": {},
   "outputs": [
    {
     "name": "stdout",
     "output_type": "stream",
     "text": [
      "4576554416\n",
      "4576554416\n"
     ]
    }
   ],
   "source": [
    "print(id(str1))\n",
    "print(id(str1))"
   ]
  },
  {
   "cell_type": "code",
   "execution_count": 55,
   "id": "0cc4cb59",
   "metadata": {},
   "outputs": [],
   "source": [
    "str1 = \"Hello\"  # Garnbage Collector Remove\n",
    "str1 = \"Hello Python\"\n"
   ]
  },
  {
   "cell_type": "code",
   "execution_count": 54,
   "id": "5d39472c",
   "metadata": {},
   "outputs": [
    {
     "name": "stdout",
     "output_type": "stream",
     "text": [
      "Hello Python\n"
     ]
    }
   ],
   "source": [
    "print(str1)"
   ]
  },
  {
   "cell_type": "markdown",
   "id": "916c3973",
   "metadata": {},
   "source": [
    "## indexing and access"
   ]
  },
  {
   "cell_type": "code",
   "execution_count": 58,
   "id": "63d3bc4a",
   "metadata": {},
   "outputs": [
    {
     "name": "stdout",
     "output_type": "stream",
     "text": [
      "H\n",
      "H\n"
     ]
    }
   ],
   "source": [
    "str2 = \"Hello World\" # Ab Memory me every char ke liye ab block ban gya hoga and ham use block ko index number ek accesees krte h\n",
    "\n",
    "# One By one access ke liye ham eska use krte h\n",
    "print(str2[0])\n",
    "print(str2[-11])\n"
   ]
  },
  {
   "cell_type": "code",
   "execution_count": null,
   "id": "944a6385",
   "metadata": {},
   "outputs": [],
   "source": []
  }
 ],
 "metadata": {
  "kernelspec": {
   "display_name": "Python 3 (ipykernel)",
   "language": "python",
   "name": "python3"
  },
  "language_info": {
   "codemirror_mode": {
    "name": "ipython",
    "version": 3
   },
   "file_extension": ".py",
   "mimetype": "text/x-python",
   "name": "python",
   "nbconvert_exporter": "python",
   "pygments_lexer": "ipython3",
   "version": "3.9.13"
  }
 },
 "nbformat": 4,
 "nbformat_minor": 5
}
