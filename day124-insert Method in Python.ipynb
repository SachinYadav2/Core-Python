{
 "cells": [
  {
   "cell_type": "markdown",
   "id": "b218c0be",
   "metadata": {},
   "source": [
    "## insert(post_no,ele)\n",
    "# list alway work as dynamic array\n",
    "- yah hamara basicalyy kise index par kisi particular element ko insert krta h\n"
   ]
  },
  {
   "cell_type": "code",
   "execution_count": 1,
   "id": "3c25b689",
   "metadata": {},
   "outputs": [],
   "source": [
    "a = [12,13,13,14]\n",
    "a.insert(4,\"sachin Rao\")"
   ]
  },
  {
   "cell_type": "code",
   "execution_count": 2,
   "id": "dbcc6413",
   "metadata": {},
   "outputs": [
    {
     "data": {
      "text/plain": [
       "[12, 13, 13, 14, 'sachin Rao']"
      ]
     },
     "execution_count": 2,
     "metadata": {},
     "output_type": "execute_result"
    }
   ],
   "source": [
    "a"
   ]
  },
  {
   "cell_type": "code",
   "execution_count": 3,
   "id": "2ec1d08e",
   "metadata": {},
   "outputs": [],
   "source": [
    "a.insert(6,\"sandya\")"
   ]
  },
  {
   "cell_type": "code",
   "execution_count": 4,
   "id": "efe0dc00",
   "metadata": {},
   "outputs": [
    {
     "data": {
      "text/plain": [
       "[12, 13, 13, 14, 'sachin Rao', 'sandya']"
      ]
     },
     "execution_count": 4,
     "metadata": {},
     "output_type": "execute_result"
    }
   ],
   "source": [
    "a"
   ]
  },
  {
   "cell_type": "code",
   "execution_count": 5,
   "id": "97f4117b",
   "metadata": {},
   "outputs": [],
   "source": [
    "a.insert(2,\"yadav\")"
   ]
  },
  {
   "cell_type": "code",
   "execution_count": 6,
   "id": "0eb7f9a5",
   "metadata": {},
   "outputs": [
    {
     "data": {
      "text/plain": [
       "[12, 13, 'yadav', 13, 14, 'sachin Rao', 'sandya']"
      ]
     },
     "execution_count": 6,
     "metadata": {},
     "output_type": "execute_result"
    }
   ],
   "source": [
    "a"
   ]
  },
  {
   "cell_type": "code",
   "execution_count": null,
   "id": "77d05446",
   "metadata": {},
   "outputs": [],
   "source": []
  }
 ],
 "metadata": {
  "kernelspec": {
   "display_name": "Python 3 (ipykernel)",
   "language": "python",
   "name": "python3"
  },
  "language_info": {
   "codemirror_mode": {
    "name": "ipython",
    "version": 3
   },
   "file_extension": ".py",
   "mimetype": "text/x-python",
   "name": "python",
   "nbconvert_exporter": "python",
   "pygments_lexer": "ipython3",
   "version": "3.9.13"
  }
 },
 "nbformat": 4,
 "nbformat_minor": 5
}
