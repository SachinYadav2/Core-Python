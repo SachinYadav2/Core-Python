{
 "cells": [
  {
   "cell_type": "code",
   "execution_count": 1,
   "id": "e204c46d",
   "metadata": {},
   "outputs": [],
   "source": [
    "from numpy import*\n"
   ]
  },
  {
   "cell_type": "code",
   "execution_count": 2,
   "id": "42bf7beb",
   "metadata": {},
   "outputs": [
    {
     "name": "stdout",
     "output_type": "stream",
     "text": [
      "Enter the row: 4\n",
      "Entert the Number of column: 3\n"
     ]
    }
   ],
   "source": [
    "n = int(input(\"Enter the row: \"))\n",
    "m = int(input(\"Entert the Number of column: \"))\n",
    "\n",
    "\n",
    "a = zeros((n,m),dtype=int)\n"
   ]
  },
  {
   "cell_type": "code",
   "execution_count": 3,
   "id": "4b0cb45b",
   "metadata": {},
   "outputs": [
    {
     "data": {
      "text/plain": [
       "array([[0, 0, 0],\n",
       "       [0, 0, 0],\n",
       "       [0, 0, 0],\n",
       "       [0, 0, 0]])"
      ]
     },
     "execution_count": 3,
     "metadata": {},
     "output_type": "execute_result"
    }
   ],
   "source": [
    "a"
   ]
  },
  {
   "cell_type": "code",
   "execution_count": 4,
   "id": "775bbcae",
   "metadata": {},
   "outputs": [
    {
     "name": "stdout",
     "output_type": "stream",
     "text": [
      "Enter the Number: 2\n",
      "Enter the Number: 2\n",
      "Enter the Number: 23\n",
      "Enter the Number: 4\n",
      "Enter the Number: 3\n",
      "Enter the Number: 4\n",
      "Enter the Number: 5\n",
      "Enter the Number: 5\n",
      "Enter the Number: 533\n",
      "Enter the Number: 3\n",
      "Enter the Number: 322\n",
      "Enter the Number: 2\n"
     ]
    }
   ],
   "source": [
    "i = 0\n",
    "while i<len(a):\n",
    "    j = 0\n",
    "    while j<len(a[i]):\n",
    "        x = int(input(\"Enter the Number: \"))\n",
    "        a[i][j]=x\n",
    "        j+=1\n",
    "    i+=1\n"
   ]
  },
  {
   "cell_type": "code",
   "execution_count": 5,
   "id": "24bfb475",
   "metadata": {},
   "outputs": [
    {
     "data": {
      "text/plain": [
       "array([[  2,   2,  23],\n",
       "       [  4,   3,   4],\n",
       "       [  5,   5, 533],\n",
       "       [  3, 322,   2]])"
      ]
     },
     "execution_count": 5,
     "metadata": {},
     "output_type": "execute_result"
    }
   ],
   "source": [
    "a"
   ]
  },
  {
   "cell_type": "code",
   "execution_count": null,
   "id": "28a62ea9",
   "metadata": {},
   "outputs": [],
   "source": []
  }
 ],
 "metadata": {
  "kernelspec": {
   "display_name": "Python 3 (ipykernel)",
   "language": "python",
   "name": "python3"
  },
  "language_info": {
   "codemirror_mode": {
    "name": "ipython",
    "version": 3
   },
   "file_extension": ".py",
   "mimetype": "text/x-python",
   "name": "python",
   "nbconvert_exporter": "python",
   "pygments_lexer": "ipython3",
   "version": "3.9.13"
  }
 },
 "nbformat": 4,
 "nbformat_minor": 5
}
