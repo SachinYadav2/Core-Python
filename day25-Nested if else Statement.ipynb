{
 "cells": [
  {
   "cell_type": "markdown",
   "metadata": {},
   "source": [
    "## Esme ham Nestead IF else use karte h \n"
   ]
  },
  {
   "cell_type": "code",
   "execution_count": 1,
   "metadata": {},
   "outputs": [],
   "source": [
    "# Only tabhi hmara code Insite Bala run hota jab if ke condtions true ho \n",
    "# or esle tabhi run hota h jab hmara if ke cond False ho jae"
   ]
  },
  {
   "cell_type": "code",
   "execution_count": 2,
   "metadata": {},
   "outputs": [
    {
     "name": "stdout",
     "output_type": "stream",
     "text": [
      "Yes 4 is Big\n"
     ]
    }
   ],
   "source": [
    "if (3>1):\n",
    "    if(3<4):\n",
    "        print(\"Yes 4 is Big\")\n",
    "    else:\n",
    "        print(\"insite bala esle\")\n",
    "else:\n",
    "    print(\"Bahar bali if se Conect h\")"
   ]
  },
  {
   "cell_type": "code",
   "execution_count": 4,
   "metadata": {},
   "outputs": [
    {
     "name": "stdout",
     "output_type": "stream",
     "text": [
      "Else ka if State\n",
      "Bahar bali if se Conect h\n"
     ]
    }
   ],
   "source": [
    "# If ka insite bala code always Depandent Hota h\n",
    "if (3<1):\n",
    "    if(3<4):\n",
    "        print(\"Yes 4 is Big\")\n",
    "    else:\n",
    "        print(\"insite bala esle\")\n",
    "else:\n",
    "    if(3>1):\n",
    "        print(\"Else ka if State\")\n",
    "    print(\"Bahar bali if se Conect h\")"
   ]
  },
  {
   "cell_type": "code",
   "execution_count": null,
   "metadata": {},
   "outputs": [],
   "source": []
  }
 ],
 "metadata": {
  "kernelspec": {
   "display_name": "Python 3",
   "language": "python",
   "name": "python3"
  },
  "language_info": {
   "codemirror_mode": {
    "name": "ipython",
    "version": 3
   },
   "file_extension": ".py",
   "mimetype": "text/x-python",
   "name": "python",
   "nbconvert_exporter": "python",
   "pygments_lexer": "ipython3",
   "version": "3.8.5"
  }
 },
 "nbformat": 4,
 "nbformat_minor": 4
}
