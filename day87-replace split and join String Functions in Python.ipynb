{
 "cells": [
  {
   "cell_type": "markdown",
   "id": "b73fe164",
   "metadata": {},
   "source": [
    "## replace \n",
    "- eksa return str\n",
    "- syn main_str.replace(old,new)"
   ]
  },
  {
   "cell_type": "code",
   "execution_count": 7,
   "id": "a626a3ed",
   "metadata": {},
   "outputs": [
    {
     "name": "stdout",
     "output_type": "stream",
     "text": [
      "New Word\n"
     ]
    },
    {
     "data": {
      "text/plain": [
       "str"
      ]
     },
     "execution_count": 7,
     "metadata": {},
     "output_type": "execute_result"
    }
   ],
   "source": [
    "main = 'Hello Word'\n",
    "old = \"Hello\"\n",
    "new = \"New\"\n",
    "\n",
    "var = main.replace(old,new)\n",
    "# var = main.replace(\"Hello\" , \"New\")\n",
    "print(var)\n",
    "type(var)"
   ]
  },
  {
   "cell_type": "markdown",
   "id": "14bc71f3",
   "metadata": {},
   "source": [
    "# split()\n",
    "- fun use to split a string to smaller part\n",
    "- syn string.split(\"seprator\")"
   ]
  },
  {
   "cell_type": "code",
   "execution_count": 10,
   "id": "82e36907",
   "metadata": {},
   "outputs": [
    {
     "data": {
      "text/plain": [
       "['Hello', 'Word', 'Welcome', 'To', 'ML', 'Engi..']"
      ]
     },
     "execution_count": 10,
     "metadata": {},
     "output_type": "execute_result"
    }
   ],
   "source": [
    "st = \"Hello Word Welcome To ML Engi..\"\n",
    "st.split(\" \") # yha hmane space ke throw seprate h kiya h"
   ]
  },
  {
   "cell_type": "markdown",
   "id": "bf62a40c",
   "metadata": {},
   "source": [
    "# Join \n",
    "- eska use ham multiple string ko join kar skte h Tuple"
   ]
  },
  {
   "cell_type": "code",
   "execution_count": 16,
   "id": "3e0593a6",
   "metadata": {},
   "outputs": [
    {
     "data": {
      "text/plain": [
       "'Hello Word'"
      ]
     },
     "execution_count": 16,
     "metadata": {},
     "output_type": "execute_result"
    }
   ],
   "source": [
    "tuple1 = (\"Hello\",\"Word\")\n",
    "\" \".join(tuple1)\n",
    "\n",
    "# ans me ek he string a rhi h "
   ]
  },
  {
   "cell_type": "code",
   "execution_count": null,
   "id": "7f0e77d3",
   "metadata": {},
   "outputs": [],
   "source": []
  }
 ],
 "metadata": {
  "kernelspec": {
   "display_name": "Python 3 (ipykernel)",
   "language": "python",
   "name": "python3"
  },
  "language_info": {
   "codemirror_mode": {
    "name": "ipython",
    "version": 3
   },
   "file_extension": ".py",
   "mimetype": "text/x-python",
   "name": "python",
   "nbconvert_exporter": "python",
   "pygments_lexer": "ipython3",
   "version": "3.9.13"
  }
 },
 "nbformat": 4,
 "nbformat_minor": 5
}
