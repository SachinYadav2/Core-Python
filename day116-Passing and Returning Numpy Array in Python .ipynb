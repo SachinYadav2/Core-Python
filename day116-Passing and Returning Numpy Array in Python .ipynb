{
 "cells": [
  {
   "cell_type": "code",
   "execution_count": 3,
   "id": "14abfa6f",
   "metadata": {},
   "outputs": [
    {
     "name": "stdout",
     "output_type": "stream",
     "text": [
      " array this is :\n",
      "101\n",
      "102\n",
      "\n",
      "101\n",
      "102\n"
     ]
    }
   ],
   "source": [
    "from numpy import*\n",
    "def show(arr):\n",
    "    print(\" array this is :\")\n",
    "    for i in arr:\n",
    "        print(i)\n",
    "    return arr\n",
    "\n",
    "arr = array([101,102])\n",
    "store= show(arr)\n",
    "print()\n",
    "\n",
    "for i in store:\n",
    "    print(i)"
   ]
  },
  {
   "cell_type": "code",
   "execution_count": 4,
   "id": "32ff32f3",
   "metadata": {},
   "outputs": [
    {
     "name": "stdout",
     "output_type": "stream",
     "text": [
      " array this is :\n",
      "101\n",
      "102\n",
      "\n",
      "101\n",
      "102\n"
     ]
    }
   ],
   "source": [
    "from numpy import*\n",
    "def show():\n",
    "    print(\" array this is :\")\n",
    "    arr = array([101,102])\n",
    "\n",
    "    for i in arr:\n",
    "        print(i)\n",
    "    return arr\n",
    "\n",
    "store= show()\n",
    "print()\n",
    "\n",
    "for i in store:\n",
    "    print(i)"
   ]
  },
  {
   "cell_type": "code",
   "execution_count": null,
   "id": "616b4230",
   "metadata": {},
   "outputs": [],
   "source": []
  }
 ],
 "metadata": {
  "kernelspec": {
   "display_name": "Python 3 (ipykernel)",
   "language": "python",
   "name": "python3"
  },
  "language_info": {
   "codemirror_mode": {
    "name": "ipython",
    "version": 3
   },
   "file_extension": ".py",
   "mimetype": "text/x-python",
   "name": "python",
   "nbconvert_exporter": "python",
   "pygments_lexer": "ipython3",
   "version": "3.9.13"
  }
 },
 "nbformat": 4,
 "nbformat_minor": 5
}
