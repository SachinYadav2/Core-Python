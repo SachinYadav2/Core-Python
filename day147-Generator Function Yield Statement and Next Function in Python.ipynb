{
 "cells": [
  {
   "cell_type": "markdown",
   "id": "ce28d357",
   "metadata": {},
   "source": [
    "# Generator\n",
    "- yh hmara ek fun hota h jo basically reurn krta h value ko seqece ke form me\n"
   ]
  },
  {
   "cell_type": "markdown",
   "id": "d9113ff8",
   "metadata": {},
   "source": [
    "# yield()\n",
    "- yh hmara genrator function se value reurn krta h basicalyy  generator object me"
   ]
  },
  {
   "cell_type": "markdown",
   "id": "e66c392e",
   "metadata": {},
   "source": [
    "# next()\n",
    "- yh iterate krta h value ko genertor object se"
   ]
  },
  {
   "cell_type": "code",
   "execution_count": 2,
   "id": "23a9a1ab",
   "metadata": {},
   "outputs": [
    {
     "name": "stdout",
     "output_type": "stream",
     "text": [
      "10 120\n",
      "<class 'int'>\n"
     ]
    }
   ],
   "source": [
    "def disp(a,b):\n",
    "    yield a\n",
    "    yield b\n",
    "x, y = disp(10,120)\n",
    "print(x,y)\n",
    "print(type(x))"
   ]
  },
  {
   "cell_type": "code",
   "execution_count": 7,
   "id": "50f6bd20",
   "metadata": {},
   "outputs": [
    {
     "name": "stdout",
     "output_type": "stream",
     "text": [
      "<generator object disp at 0x1127f3d60>\n",
      "<class 'generator'>\n"
     ]
    }
   ],
   "source": [
    "def disp(a,b):\n",
    "    yield a\n",
    "    yield b\n",
    "result = disp(10,120)\n",
    "print(result)\n",
    "print(type(result))"
   ]
  },
  {
   "cell_type": "code",
   "execution_count": 6,
   "id": "01bf3b7b",
   "metadata": {},
   "outputs": [
    {
     "name": "stdout",
     "output_type": "stream",
     "text": [
      "[10, 120]\n",
      "<class 'list'>\n"
     ]
    }
   ],
   "source": [
    "def disp(a,b):\n",
    "    yield a\n",
    "    yield b\n",
    "result = list(disp(10,120))\n",
    "print(result)\n",
    "print(type(result))"
   ]
  },
  {
   "cell_type": "code",
   "execution_count": 8,
   "id": "d112ed76",
   "metadata": {},
   "outputs": [
    {
     "name": "stdout",
     "output_type": "stream",
     "text": [
      "<generator object show at 0x112110f20>\n",
      "<class 'generator'>\n",
      "1\n"
     ]
    }
   ],
   "source": [
    "def show(a,b):\n",
    "    while a<=b:\n",
    "        yield a\n",
    "        a+=1\n",
    "result = show(1,5)\n",
    "print(result)\n",
    "print(type(result))\n",
    "\n",
    "print(next(result))\n",
    "\n"
   ]
  },
  {
   "cell_type": "code",
   "execution_count": 10,
   "id": "8ac2671c",
   "metadata": {},
   "outputs": [
    {
     "name": "stdout",
     "output_type": "stream",
     "text": [
      "<generator object show at 0x1127f3890>\n",
      "<class 'generator'>\n",
      "1\n",
      "2\n",
      "3\n",
      "4\n",
      "5\n"
     ]
    }
   ],
   "source": [
    "def show(a,b):\n",
    "    while a<=b:\n",
    "        yield a\n",
    "        a+=1\n",
    "result = show(1,5)\n",
    "print(result)\n",
    "print(type(result))\n",
    "\n",
    "print(next(result))\n",
    "print(next(result))\n",
    "\n",
    "# Note ye upr bale dono ko count krke chal rha h loop hmara\n",
    "\n",
    "for i in result:\n",
    "    print(i)\n",
    "\n"
   ]
  },
  {
   "cell_type": "code",
   "execution_count": null,
   "id": "3c51908a",
   "metadata": {},
   "outputs": [],
   "source": []
  }
 ],
 "metadata": {
  "kernelspec": {
   "display_name": "Python 3 (ipykernel)",
   "language": "python",
   "name": "python3"
  },
  "language_info": {
   "codemirror_mode": {
    "name": "ipython",
    "version": 3
   },
   "file_extension": ".py",
   "mimetype": "text/x-python",
   "name": "python",
   "nbconvert_exporter": "python",
   "pygments_lexer": "ipython3",
   "version": "3.9.13"
  }
 },
 "nbformat": 4,
 "nbformat_minor": 5
}
