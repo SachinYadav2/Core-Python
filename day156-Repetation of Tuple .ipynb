{
 "cells": [
  {
   "cell_type": "markdown",
   "id": "2ea215f4",
   "metadata": {},
   "source": [
    "# Hm eske liye * star operator ka use krte h basically"
   ]
  },
  {
   "cell_type": "code",
   "execution_count": 1,
   "id": "4c78e45e",
   "metadata": {},
   "outputs": [
    {
     "name": "stdout",
     "output_type": "stream",
     "text": [
      "(1, 2, 3, 1, 2, 3, 1, 2, 3, 1, 2, 3, 1, 2, 3)\n"
     ]
    }
   ],
   "source": [
    "a = (1 , 2 ,3)\n",
    "print(a*5)"
   ]
  },
  {
   "cell_type": "code",
   "execution_count": null,
   "id": "a7ada1bb",
   "metadata": {},
   "outputs": [],
   "source": []
  }
 ],
 "metadata": {
  "kernelspec": {
   "display_name": "Python 3 (ipykernel)",
   "language": "python",
   "name": "python3"
  },
  "language_info": {
   "codemirror_mode": {
    "name": "ipython",
    "version": 3
   },
   "file_extension": ".py",
   "mimetype": "text/x-python",
   "name": "python",
   "nbconvert_exporter": "python",
   "pygments_lexer": "ipython3",
   "version": "3.9.13"
  }
 },
 "nbformat": 4,
 "nbformat_minor": 5
}
