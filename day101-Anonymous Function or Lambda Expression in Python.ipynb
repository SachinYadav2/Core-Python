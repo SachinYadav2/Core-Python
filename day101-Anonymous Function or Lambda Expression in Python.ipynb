{
 "cells": [
  {
   "cell_type": "markdown",
   "id": "392f0b39",
   "metadata": {},
   "source": [
    "## This is a specifial type of fun jiska koe bhi name nhi hota h but yah \n",
    "## Yah return krta h fun ko jise ham sore krke call krte h and \n",
    "## Ham yah apr actual argument ke all type ka use kar skte\n",
    "# syn\n",
    "- lambda list: exprestion"
   ]
  },
  {
   "cell_type": "code",
   "execution_count": 1,
   "id": "ad107f2b",
   "metadata": {},
   "outputs": [
    {
     "name": "stdout",
     "output_type": "stream",
     "text": [
      "3\n"
     ]
    }
   ],
   "source": [
    "def show(x):\n",
    "    print(x)\n",
    "show(3)"
   ]
  },
  {
   "cell_type": "code",
   "execution_count": 3,
   "id": "3ae228fa",
   "metadata": {},
   "outputs": [
    {
     "data": {
      "text/plain": [
       "3"
      ]
     },
     "execution_count": 3,
     "metadata": {},
     "output_type": "execute_result"
    }
   ],
   "source": [
    "show = lambda x:x\n",
    "show(3)"
   ]
  },
  {
   "cell_type": "code",
   "execution_count": 12,
   "id": "6c097de8",
   "metadata": {},
   "outputs": [
    {
     "name": "stdout",
     "output_type": "stream",
     "text": [
      "11\n",
      "-3\n"
     ]
    }
   ],
   "source": [
    "add = lambda x , y : (x+y , x-y)  #hmara yha name same hone chahiye\n",
    "s , a = add(4,7)\n",
    "print(s)\n",
    "print(a)"
   ]
  },
  {
   "cell_type": "code",
   "execution_count": null,
   "id": "3e943758",
   "metadata": {},
   "outputs": [],
   "source": []
  }
 ],
 "metadata": {
  "kernelspec": {
   "display_name": "Python 3 (ipykernel)",
   "language": "python",
   "name": "python3"
  },
  "language_info": {
   "codemirror_mode": {
    "name": "ipython",
    "version": 3
   },
   "file_extension": ".py",
   "mimetype": "text/x-python",
   "name": "python",
   "nbconvert_exporter": "python",
   "pygments_lexer": "ipython3",
   "version": "3.9.13"
  }
 },
 "nbformat": 4,
 "nbformat_minor": 5
}
